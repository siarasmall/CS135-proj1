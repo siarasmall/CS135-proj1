{
 "cells": [
  {
   "cell_type": "code",
   "execution_count": 93,
   "id": "827b0719",
   "metadata": {},
   "outputs": [],
   "source": [
    "import numpy as np\n",
    "import pandas as pd\n",
    "import sklearn.linear_model\n",
    "import sklearn.metrics\n",
    "import os\n",
    "from sklearn.metrics import roc_auc_score\n",
    "from sklearn.neural_network import MLPClassifier"
   ]
  },
  {
   "cell_type": "code",
   "execution_count": 94,
   "id": "fce9f294",
   "metadata": {},
   "outputs": [],
   "source": [
    "# import plotting libraries\n",
    "import matplotlib\n",
    "import matplotlib.pyplot as plt\n",
    "\n",
    "%matplotlib inline\n",
    "plt.style.use('seaborn-v0_8') # pretty matplotlib plots\n"
   ]
  },
  {
   "cell_type": "markdown",
   "id": "378b2437",
   "metadata": {},
   "source": [
    "## Load Data"
   ]
  },
  {
   "cell_type": "code",
   "execution_count": 95,
   "id": "2a734063",
   "metadata": {},
   "outputs": [],
   "source": [
    "data_dir = 'data_reviews'\n",
    "x_train_df = pd.read_csv(os.path.join(data_dir, 'x_train.csv'))\n",
    "y_train_df = pd.read_csv(os.path.join(data_dir, 'y_train.csv'))\n",
    "\n",
    "N, n_cols = x_train_df.shape\n",
    "# print(\"Shape of x_train_df: (%d, %d)\" % (N,n_cols))\n",
    "# print(\"Shape of y_train_df: %s\" % str(y_train_df.shape))\n",
    "# x_train_df"
   ]
  },
  {
   "cell_type": "code",
   "execution_count": 96,
   "id": "67a9b91f",
   "metadata": {},
   "outputs": [],
   "source": [
    "# df to list\n",
    "tr_text_list = x_train_df['text'].values.tolist()"
   ]
  },
  {
   "cell_type": "code",
   "execution_count": 97,
   "id": "5e193540",
   "metadata": {},
   "outputs": [],
   "source": [
    "y_train_list = y_train_df['is_positive_sentiment'].values.tolist()\n"
   ]
  },
  {
   "cell_type": "markdown",
   "id": "59b9b3b8",
   "metadata": {},
   "source": [
    "## Partition sentences into words"
   ]
  },
  {
   "cell_type": "code",
   "execution_count": 98,
   "id": "ef8944c2",
   "metadata": {},
   "outputs": [],
   "source": [
    "from sklearn.feature_extraction.text import CountVectorizer\n",
    "from sklearn.feature_extraction.text import TfidfVectorizer"
   ]
  },
  {
   "cell_type": "code",
   "execution_count": 99,
   "id": "87e5962c",
   "metadata": {},
   "outputs": [],
   "source": [
    "vectorizer = CountVectorizer()"
   ]
  },
  {
   "cell_type": "code",
   "execution_count": 100,
   "id": "6283f0fa",
   "metadata": {},
   "outputs": [],
   "source": [
    "adv_vectorizer = TfidfVectorizer(ngram_range = (1, 2), min_df = 0.001) # considering bigrams, ignore rare words"
   ]
  },
  {
   "cell_type": "markdown",
   "id": "b3c8eb6e",
   "metadata": {},
   "source": [
    "### How big is my vocabulary?"
   ]
  },
  {
   "cell_type": "code",
   "execution_count": 101,
   "id": "b78623d6",
   "metadata": {},
   "outputs": [
    {
     "data": {
      "text/plain": [
       "2368"
      ]
     },
     "execution_count": 101,
     "metadata": {},
     "output_type": "execute_result"
    }
   ],
   "source": [
    "x = adv_vectorizer.fit_transform(tr_text_list)\n",
    "vocab = adv_vectorizer.get_feature_names_out()\n",
    "vocab.size"
   ]
  },
  {
   "cell_type": "code",
   "execution_count": 102,
   "id": "8682b1ac",
   "metadata": {},
   "outputs": [
    {
     "data": {
      "text/plain": [
       "(2400, 2368)"
      ]
     },
     "execution_count": 102,
     "metadata": {},
     "output_type": "execute_result"
    }
   ],
   "source": [
    "x_train_NV = x.toarray()\n",
    "x_train_NV.shape\n",
    "# N is the number of sentences, and V is the number of vocabulary"
   ]
  },
  {
   "cell_type": "code",
   "execution_count": 103,
   "id": "47ec8774",
   "metadata": {},
   "outputs": [],
   "source": [
    "N = x_train_NV.shape[0]\n",
    "V = x_train_NV.shape[1]"
   ]
  },
  {
   "cell_type": "markdown",
   "id": "bd6d4a45",
   "metadata": {},
   "source": [
    "### Get the common and rare"
   ]
  },
  {
   "cell_type": "code",
   "execution_count": 104,
   "id": "6c0f0f60",
   "metadata": {},
   "outputs": [],
   "source": [
    "# x_common = []\n",
    "\n",
    "# x_col_sum = np.sum(x_train_NV, axis = 0)\n",
    "\n",
    "# np.max(x_col_sum)"
   ]
  },
  {
   "cell_type": "code",
   "execution_count": 105,
   "id": "39da2e7a",
   "metadata": {},
   "outputs": [],
   "source": [
    "# x_col_sum.shape, x_col_sum[2701]"
   ]
  },
  {
   "cell_type": "code",
   "execution_count": 106,
   "id": "d6e30036",
   "metadata": {},
   "outputs": [],
   "source": [
    "# x_common = x_col_sum > N/1.5 # happens half of the time \n",
    "# x_common_V = [int(x) for x in x_common]\n",
    "# x_common_V = np.array(x_common_V)"
   ]
  },
  {
   "cell_type": "code",
   "execution_count": 107,
   "id": "91d21ea5",
   "metadata": {},
   "outputs": [],
   "source": [
    "# x_rare = x_col_sum < 10\n",
    "# x_rare_V = [int(x) for x in x_rare]\n",
    "# x_rare_V = np.array(x_rare_V)"
   ]
  },
  {
   "cell_type": "code",
   "execution_count": 108,
   "id": "01a9ef81",
   "metadata": {},
   "outputs": [],
   "source": [
    "# x_common_V.reshape(V, 1)"
   ]
  },
  {
   "cell_type": "code",
   "execution_count": 109,
   "id": "33605ab8",
   "metadata": {},
   "outputs": [],
   "source": [
    "# x_common = x_train_NV * x_common_V \n",
    "# x_rare = x_train_NV * x_rare_V"
   ]
  },
  {
   "cell_type": "markdown",
   "id": "3b273273",
   "metadata": {},
   "source": [
    "### Get Normal Vocab"
   ]
  },
  {
   "cell_type": "code",
   "execution_count": 110,
   "id": "1721280f",
   "metadata": {},
   "outputs": [],
   "source": [
    "# x_normal = x_train_NV * (1 - x_common_V) * (1 - x_rare_V)\n",
    "x_normal = x_train_NV"
   ]
  },
  {
   "cell_type": "code",
   "execution_count": 111,
   "id": "81366d5b",
   "metadata": {},
   "outputs": [],
   "source": [
    "y_train_list = np.array(y_train_list)"
   ]
  },
  {
   "cell_type": "code",
   "execution_count": 112,
   "id": "668a7c72",
   "metadata": {},
   "outputs": [
    {
     "data": {
      "text/plain": [
       "<Figure size 800x550 with 0 Axes>"
      ]
     },
     "metadata": {},
     "output_type": "display_data"
    }
   ],
   "source": [
    "%run performance_metrics.py\n",
    "%run cross_validation.py"
   ]
  },
  {
   "cell_type": "code",
   "execution_count": 113,
   "id": "261ac303",
   "metadata": {},
   "outputs": [],
   "source": [
    "M = 2\n",
    "\n",
    "x_tr_M2 = np.random.randint(2, size=10).reshape(-1, 1)\n",
    "x_va_N2 = np.random.randint(2, size=10).reshape(-1, 1)\n",
    "y_tr_M = np.random.randint(2, size=10)\n",
    "y_va_N = np.random.randint(2, size=10)"
   ]
  },
  {
   "cell_type": "markdown",
   "id": "b67d8450",
   "metadata": {},
   "source": [
    "## Cross Validation"
   ]
  },
  {
   "cell_type": "code",
   "execution_count": 114,
   "id": "66fd228b",
   "metadata": {},
   "outputs": [],
   "source": [
    "%run binary_metrics.py\n",
    "%run proba_metrics.py"
   ]
  },
  {
   "cell_type": "code",
   "execution_count": 115,
   "id": "8b8ff466",
   "metadata": {},
   "outputs": [
    {
     "data": {
      "text/plain": [
       "(1919, 481)"
      ]
     },
     "execution_count": 115,
     "metadata": {},
     "output_type": "execute_result"
    }
   ],
   "source": [
    "K = 5 # num folds of CV\n",
    "random_state = 1234\n",
    "\n",
    "train_error_per_fold = np.zeros(K, dtype=np.float32)\n",
    "test_error_per_fold = np.zeros(K, dtype=np.float32)\n",
    "\n",
    "N = x_normal.shape[0]\n",
    "# TODO define the folds here by calling your function\n",
    "# e.g. ... = make_train_and_test_row_ids_for_n_fold_cv(...)\n",
    "train_ids, test_ids = make_train_and_test_row_ids_for_n_fold_cv(\n",
    "    N, K, random_state)\n",
    "\n",
    "len(train_ids[0]), len(test_ids[0])"
   ]
  },
  {
   "cell_type": "code",
   "execution_count": 116,
   "id": "2961eec4",
   "metadata": {},
   "outputs": [],
   "source": [
    "y_list = y_train_list"
   ]
  },
  {
   "cell_type": "markdown",
   "id": "9e6e3971",
   "metadata": {},
   "source": [
    "## normalize the data"
   ]
  },
  {
   "cell_type": "code",
   "execution_count": 117,
   "id": "52fc9c3f",
   "metadata": {},
   "outputs": [],
   "source": [
    "# partition the data into train and test\n",
    "\n",
    "x_tr, y_tr = list(), list()\n",
    "y_va, x_va = list(), list()\n",
    "\n",
    "\n",
    "for i in range(len(train_ids)):\n",
    "    x_tr.append(x_normal[train_ids[i]])\n",
    "    y_tr.append(y_list[train_ids[i]])\n",
    "\n",
    "for i in range(len(test_ids)):\n",
    "    x_va.append(x_normal[test_ids[i]])\n",
    "    y_va.append(y_list[test_ids[i]])\n"
   ]
  },
  {
   "cell_type": "code",
   "execution_count": 118,
   "id": "107fbf3e",
   "metadata": {},
   "outputs": [],
   "source": [
    "C_grid = np.logspace(-4, 5, 15)"
   ]
  },
  {
   "cell_type": "code",
   "execution_count": 119,
   "id": "f098c9ee",
   "metadata": {},
   "outputs": [],
   "source": [
    "cv_tr_bce_list = list()\n",
    "cv_va_bce_list = list()\n",
    "cv_te_bce_list = list()\n",
    "\n",
    "\n",
    "\n",
    "cv_va_auroc_list = list()\n",
    "cv_tr_auroc_list = list()\n",
    "va_mean_cv_auroc_list = list()\n",
    "tr_mean_cv_auroc_list = list()\n",
    "\n",
    "model_list = list()\n",
    "tr_bce_list_for_each_C = list()\n",
    "va_bce_list_for_each_C = list()\n",
    "# idx = 0\n",
    "for C in C_grid:\n",
    "\n",
    "    model_F3_list = list()\n",
    "\n",
    "    # Allocate lists for storing BCE metrics\n",
    "    tr_bce_list = list()\n",
    "    va_bce_list = list()\n",
    "    te_bce_list = list()\n",
    "    \n",
    "    tr_auroc_list = list()\n",
    "    va_auroc_list = list()\n",
    "\n",
    "    # idx = idx + 1\n",
    "    for i in range(K):\n",
    "        xtr = x_tr[i]\n",
    "        ytr = y_tr[i]\n",
    "        xva = x_va[i]\n",
    "        yva = y_va[i]\n",
    "\n",
    "        lr_F3 = sklearn.linear_model.LogisticRegression(C = C, penalty = 'l2', solver='lbfgs', max_iter=2000) # TODO fixme\n",
    "        lr_F3.fit(xtr, ytr) # TODO fixme\n",
    "\n",
    "        model_F3_list.append(lr_F3)\n",
    "\n",
    "        yproba1_tr_M = lr_F3.predict_proba(xtr)[:,1] # The probability of predicting class 1 on the training set\n",
    "        yproba1_va_N = lr_F3.predict_proba(xva)[:,1] # The probability of predicting class 1 on the validation set\n",
    "        \n",
    "        \n",
    "        # get auroc score \n",
    "        va_auroc = roc_auc_score(ytr, yproba1_tr_M)\n",
    "        va_auroc = roc_auc_score(yva, yproba1_va_N)\n",
    "        tr_auroc_list.append(va_auroc)\n",
    "        va_auroc_list.append(va_auroc)\n",
    "        \n",
    "        my_tr_bce = calc_mean_binary_cross_entropy_from_probas(ytr, yproba1_tr_M) # TODO fixme\n",
    "        my_va_bce = calc_mean_binary_cross_entropy_from_probas(yva, yproba1_va_N) # TODO fixme\n",
    "        # Save bce for future selection on Models.\n",
    "        tr_bce_list.append(my_tr_bce) \n",
    "        va_bce_list.append(my_va_bce)\n",
    "    \n",
    "    \n",
    "    va_mean_cv_auroc = sum(va_auroc_list) / len(va_auroc_list)\n",
    "    va_mean_cv_auroc_list.append(va_mean_cv_auroc)\n",
    "    \n",
    "    cv_va_auroc_list.append(va_auroc_list)\n",
    "    \n",
    "    tr_mean_cv_auroc = sum(tr_auroc_list) / len(tr_auroc_list)\n",
    "    tr_mean_cv_auroc_list.append(tr_mean_cv_auroc)\n",
    "    \n",
    "    cv_tr_auroc_list.append(tr_auroc_list)\n",
    "    \n",
    "    \n",
    "    tr_bce_list_for_each_C.append(tr_bce_list)\n",
    "    va_bce_list_for_each_C.append(va_bce_list)\n",
    "    \n",
    "    model_list.append(model_F3_list)\n",
    "    \n",
    "    \n",
    "    \n",
    "    \n",
    "    \n",
    "    cv_tr_bce_list.append((sum(tr_bce_list)/len(tr_bce_list)))\n",
    "    cv_va_bce_list.append((sum(va_bce_list)/len(va_bce_list)))"
   ]
  },
  {
   "cell_type": "code",
<<<<<<< HEAD
   "execution_count": 120,
   "id": "eccbc0c6",
   "metadata": {},
   "outputs": [],
   "source": [
    "# hl_size_grid = [[50,50], [100, 50], [100, 100]]"
   ]
  },
  {
   "cell_type": "code",
   "execution_count": 121,
=======
   "execution_count": 28,
>>>>>>> 611be6204757f790df5d26aaa1e09d9da08f028c
   "id": "78a7a836",
   "metadata": {},
   "outputs": [],
   "source": [
    "# cv_tr_bce_list = list()\n",
    "# cv_va_bce_list = list()\n",
    "# cv_te_bce_list = list()\n",
    "\n",
    "# model_list = list()\n",
    "# tr_bce_list_for_each_C = list()\n",
    "# va_bce_list_for_each_C = list()\n",
    "# # idx = 0\n",
    "# for hl in hl_size_grid:\n",
    "\n",
    "#     model_F3_list = list()\n",
    "\n",
    "#     # Allocate lists for storing BCE metrics\n",
    "#     tr_bce_list = list()\n",
    "#     va_bce_list = list()\n",
    "#     te_bce_list = list()\n",
    "\n",
    "#     # Allocate lists for storing ERROR RATE metrics\n",
    "#     tr_err_list = list()\n",
    "#     va_err_list = list()\n",
    "#     te_err_list = list()\n",
    "\n",
    "#     # idx = idx + 1\n",
    "#     for i in range(K):\n",
    "#         xtr = x_tr[i]\n",
    "#         ytr = y_tr[i]\n",
    "#         xva = x_va[i]\n",
    "#         yva = y_va[i]\n",
    "\n",
    "#         mlp = MLPClassifier(hidden_layer_sizes= hl, max_iter=1000, alpha=0.0001, solver='lbfgs',\n",
    "#                     random_state=1234, learning_rate_init=0.001)\n",
    "#         mlp.fit(xtr, ytr)\n",
    "        \n",
    "#         model_F3_list.append(mlp)\n",
    "\n",
    "#         yproba1_tr_M = mlp.predict_proba(xtr)[:,1]\n",
    "#         yproba1_va_N = mlp.predict_proba(xva)[:,1]\n",
    "\n",
    "\n",
    "#         # Compute error rate aka zero-one loss\n",
    "#         my_tr_err = sklearn.metrics.zero_one_loss(ytr, yproba1_tr_M >= 0.5)\n",
    "#         my_va_err = sklearn.metrics.zero_one_loss(yva, yproba1_va_N >= 0.5)\n",
    "#         tr_err_list.append(my_tr_err)\n",
    "#         va_err_list.append(my_va_err)\n",
    "\n",
    "#         # TODO: using the calc_mean_binary_cross_entropy_from_probas() function from above:\n",
    "#         # Part c: calculate the binary cross entropy (bce) on the training set\n",
    "#         # Part d: calculate the binary cross entropy (bce) on the validation set\n",
    "#         my_tr_bce = calc_mean_binary_cross_entropy_from_probas(ytr, yproba1_tr_M) # TODO fixme\n",
    "#         my_va_bce = calc_mean_binary_cross_entropy_from_probas(yva, yproba1_va_N) # TODO fixme\n",
    "#         # Save bce for future selection on Models.\n",
    "#         tr_bce_list.append(my_tr_bce) \n",
    "#         va_bce_list.append(my_va_bce)\n",
    "    \n",
    "#     tr_bce_list_for_each_C.append(tr_bce_list)\n",
    "#     va_bce_list_for_each_C.append(va_bce_list)\n",
    "    \n",
    "#     model_list.append(model_F3_list)\n",
    "    \n",
    "#     cv_tr_bce_list.append((sum(tr_bce_list)/len(tr_bce_list)))\n",
    "#     cv_va_bce_list.append((sum(va_bce_list)/len(va_bce_list)))\n",
    "    \n",
    "    \n"
   ]
  },
  {
   "cell_type": "code",
<<<<<<< HEAD
   "execution_count": 122,
=======
   "execution_count": 29,
>>>>>>> 611be6204757f790df5d26aaa1e09d9da08f028c
   "id": "c22145ff",
   "metadata": {},
   "outputs": [],
   "source": [
    "# tr_bce_list_for_each_C"
   ]
  },
  {
   "cell_type": "code",
<<<<<<< HEAD
   "execution_count": 123,
=======
   "execution_count": 30,
>>>>>>> 611be6204757f790df5d26aaa1e09d9da08f028c
   "id": "8a9f38c4",
   "metadata": {},
   "outputs": [
    {
     "data": {
      "text/plain": [
       "7"
      ]
     },
<<<<<<< HEAD
     "execution_count": 123,
=======
     "execution_count": 30,
>>>>>>> 611be6204757f790df5d26aaa1e09d9da08f028c
     "metadata": {},
     "output_type": "execute_result"
    }
   ],
   "source": [
    "best_C_index = np.argmax(va_mean_cv_auroc_list)\n",
    "best_C_index"
   ]
  },
  {
   "cell_type": "code",
<<<<<<< HEAD
   "execution_count": 124,
=======
   "execution_count": 33,
>>>>>>> 611be6204757f790df5d26aaa1e09d9da08f028c
   "id": "efaa50be",
   "metadata": {},
   "outputs": [],
   "source": [
    "best_fold_in_C = np.argmax(cv_va_auroc_list[best_C_index])"
   ]
  },
  {
   "cell_type": "code",
<<<<<<< HEAD
   "execution_count": 125,
=======
   "execution_count": 34,
>>>>>>> 611be6204757f790df5d26aaa1e09d9da08f028c
   "id": "588a0502",
   "metadata": {},
   "outputs": [],
   "source": [
    "best_C__lr = C_grid[best_C_index]\n",
    "best_lr = model_list[best_C_index][best_fold_in_C]"
   ]
  },
  {
   "cell_type": "code",
<<<<<<< HEAD
   "execution_count": 126,
=======
   "execution_count": 35,
>>>>>>> 611be6204757f790df5d26aaa1e09d9da08f028c
   "id": "b6df575e",
   "metadata": {},
   "outputs": [
    {
     "data": {
      "image/png": "iVBORw0KGgoAAAANSUhEUgAAA98AAAHuCAYAAACGSr+RAAAAOXRFWHRTb2Z0d2FyZQBNYXRwbG90bGliIHZlcnNpb24zLjcuMiwgaHR0cHM6Ly9tYXRwbG90bGliLm9yZy8pXeV/AAAACXBIWXMAAA9hAAAPYQGoP6dpAABlBElEQVR4nO3dd3wUdf7H8fdsyaZDCk3FQ5EiwkkkCoicigWxIFLPiiioIKgoiF1RUFCxgKJ4ig1/ZwFRRBDOQyyngliOruKpqEggCells7vz+yMksISSNjvJ7uv5eOSR3dnZmU/4sNm89zvzHcM0TVMAAAAAAMAyDrsLAAAAAAAg3BG+AQAAAACwGOEbAAAAAACLEb4BAAAAALAY4RsAAAAAAIsRvgEAAAAAsBjhGwAAAAAAixG+AQAAAACwGOEbAAAAAACL2Rq+v/jiCw0ZMkQnnHCCevXqpQceeEAlJSX7XXfkyJHq0qWL0tLSKr8++eSTEFcMAAAAAEDNGaZpmnbsODs7W6eddpruu+8+DRgwQJmZmbr66qt11lln6YYbbqiyfo8ePTRz5kyddNJJNlQLAAAAAEDtuezacXJysj7//HPFx8fLNE3l5OSotLRUycnJVdb97bfflJubq06dOtlQKQAAAAAAdWPrYefx8fGSpFNPPVUXXHCBmjVrpoEDB1ZZb926dYqLi9P48ePVo0cPnX/++Zo/f36oywUAAAAAoFYaxIRry5cv1yeffCKHw7HfQ869Xq+6du2q8ePH69NPP9Vtt92mqVOnaunSpTXaj01H2AMAAAAAIpxt53zvz9q1azVkyBCtXr1aTZo0Oei6kydPVlZWlmbOnFnt7WdlFcjhMOpaZrU4nQ4lJsYoL69Yfn8gJPuEveh55KHnkYm+Rx56HlpJSXF2lwAAlrDtnO9vvvlGd9xxhxYtWqSoqChJ5SPcbrdbMTExQevOnz9fcXFx6tevX+Uyr9crj8dTo30GAqYCgdB+1uD3B+Tz8UYdSeh55KHnkYm+Rx56DgCoC9sOO+/QoYNKSko0Y8YMeb1e/fHHH5o+fboGDx5cGcYrFBQU6IEHHtDGjRsVCAS0cuVKLV68WMOGDbOpegAAAAAAqs+2ke+4uDg9//zzevDBB9WrVy8lJCToggsu0PXXXy9JSktL0+TJk9W/f38NHz5cRUVFGjt2rLKystS6dWtNnz5d6enpdpUPAAAAAEC1Nahzvq22c2d+yPblcjmUlBSnXbsKOUQtQtDzyEPPIxN9jzz0PLSaNUuwuwQAsESDmO0cAAAAAIBwRvgGAAAAAMBihG8AAAAAACxG+AYAAAAAwGKEbwAAAAAALEb4BgAAAADAYoRvAAAAAAAsRvgGAAAAAMBihG8AAAAAACxG+AYAAAAAwGKEbwAAAAAALEb4BgAAAADAYoRvAAAAAAAsRvgGAAAAAMBihG8AAAAAACxG+AYAAAAAwGKEbwAAAAAALEb4BgAAAADAYoRvAAAAAAAsRvgGAAAAAMBihG8AAAAAACxG+AYAAAAAwGKEbwAAAAAALEb4BgAAAADAYoRvAAAAAAAsRvgGAAAAAMBihG8AAAAAACxG+AYAAAAAwGKEbwAAAAAALEb4BgAAAADAYoRvAAAAAAAsRvgGAAAAAMBihG8AAAAAACxG+AYAAAAAwGKEbwAAAAAALEb4BgAAAADAYoRvAAAAAAAsRvgGAAAAAMBihG8AAAAAACxG+AYAAAAAwGKEbwAAAAAALEb4BgAAAADAYoRvAAAAAAAsRvgGAAAAAMBihG8AAAAAACxG+AYAAAAAwGKEbwAAAAAALEb4BgAAAADAYoRvAAAAAAAsZmv4/uKLLzRkyBCdcMIJ6tWrlx544AGVlJTsd92PP/5YF1xwgbp27ap+/frpo48+CnG1AAAAAADUjm3hOzs7W9dee60uvvhirVmzRgsXLtTq1av13HPPVVn3l19+0bhx43TjjTdqzZo1GjdunG666SZlZGTYUDkAAAAAADVjW/hOTk7W559/roEDB8owDOXk5Ki0tFTJyclV1l24cKHS09N15plnyuVy6dxzz9WJJ56oN954w4bKAQAAAACoGZedO4+Pj5cknXrqqcrIyFB6eroGDhxYZb0tW7aoffv2QcuOOeYYbd68uUb7czgMORxG7QuuAafTEfQd4Y+eRx56Hpnoe+Sh5wCA+mBr+K6wfPly5ebmasKECbrhhhv0/PPPBz1eWFiomJiYoGXR0dEqKiqq0X6Sk+NkGKEJ3xUSE2MOvRLCCj2PPPQ8MtH3yEPPAQB10SDCd3R0tKKjozVx4kQNGTJEubm5atKkSeXjMTExVSZiKykpUVxcXI32k51dGNKR78TEGOXlFcvvD4Rkn7AXPY889Dwy0ffIQ89DKympZn/fAUBjYVv4/uabb3THHXdo0aJFioqKkiR5vV653e4qo9zt27fXhg0bgpZt2bJFnTt3rtE+AwFTgYBZt8JryO8PyOfjjTqS0PPIQ88jE32PPPQcAFAXtp281KFDB5WUlGjGjBnyer36448/NH36dA0ePLgyjFfo37+/Vq9erSVLlsjn82nJkiVavXq1LrzwQpuqBwAAAACg+mwL33FxcXr++ef1448/qlevXrr88st18skn64477pAkpaWladGiRZKktm3b6umnn9acOXN04oknavbs2Zo1a5aOOuoou8oHAAAAAKDaDNM0Q3scto127swP2b5cLoeSkuK0a1chh6hFCHoeeeh5ZKLvkYeeh1azZgl2lwAAluCaGQAAAAAAWIzwDQAAAACAxQjfAAAAAABYjPANAAAAAIDFCN8AAAAAAFiM8A0AAAAAgMUI3wAAAAAAWIzwDQAAAACAxQjfAAAAAABYjPANAAAAAIDFCN8AAAAAAFiM8A0AAAAAgMUI3wAAAAAAWIzwDQAAAACAxQjfAAAAAABYjPANAAAAAIDFCN8AAAAAAFiM8A0AAAAAgMUI3wAAAAAAWIzwDQAAAACAxQjfAAAAAABYjPANAAAAAIDFCN8AAAAAAFiM8A0AAAAAgMUI3wAAAAAAWIzwDQAAAACAxQjfAAAAAABYjPANAAAAAIDFCN8AAAAAAFiM8A0AAAAAgMUI3wAAAAAAWIzwDQAAAACAxQjfAAAAAABYjPANAAAAAIDFCN8AAAAAAFiM8A0AAAAAgMUI3wAAAAAAWIzwDQAAAACAxQjfAAAAAABYjPANAAAAAIDFCN8AAAAAAFiM8A0AAAAAgMUI3wAAAAAAWIzwDQAAAACAxQjfAAAAAABYjPANAAAAAIDFCN8AAAAAAFiM8A0AAAAAgMUI3wAAAAAAWMxl5843b96s6dOna8OGDXK73erVq5duu+02JScnV1l35MiRWrVqlVyuPSU/+eST+tvf/hbKkgEAAAAAqDHbRr5LSko0cuRIpaWl6bPPPtPixYuVk5OjO+64Y7/rr1+/Xi+88IK+/fbbyi+CNwAAAACgMbAtfG/btk0dO3bU9ddfr6ioKCUlJWnYsGH66quvqqz722+/KTc3V506dbKhUgAAAAAA6sa2w86PPvpoPf/880HLli1bpuOOO67KuuvWrVNcXJzGjx+vdevWKTU1VVdeeaUGDx5co306HIYcDqNOdVeX0+kI+o7wR88jDz2PTPQ98tBzAEB9sPWc7wqmaeqJJ57QRx99pHnz5lV53Ov1qmvXrho/frzatWunVatWady4cYqLi1O/fv2qvZ/k5DgZRmjCd4XExJiQ7g/2o+eRh55HJvoeeeg5AKAuDNM0TTsLKCgo0O23364NGzbomWeeUYcOHar1vMmTJysrK0szZ86s9r6ysgpCOvKdmBijvLxi+f2BkOwT9qLnkYeeRyb6HnnoeWglJcXZXQIAWMLWke+tW7dq1KhROuywwzR//vz9znIuSfPnz68yyu31euXxeGq0v0DAVCAQ2s8a/P6AfD7eqCMJPY889Dwy0ffIQ88BAHVh28lLubm5Gj58uE444QS98MILBwzeUvno+AMPPKCNGzcqEAho5cqVWrx4sYYNGxbCigEAAAAAqB3bRr7ffvttbdu2TUuXLtUHH3wQ9Ni3336rtLQ0TZ48Wf3799fw4cNVVFSksWPHKisrS61bt9b06dOVnp5uU/UAAAAAAFSf7ed8h9LOnfkh25fL5VBSUpx27SrkELUIQc8jDz2PTPQ98tDz0GrWLMHuEgDAElwzAwAAAAAAixG+AQAAUIWRmSn3JytlZGbaXQoAhAXCNwAAAIJEvzxXKV07qung/krp2lHRL8+1uyQAaPQI3wAAAKhkZGYq/s5bZXi95fe9XsXfNYkRcACoI8I3AAAAKrk2rq8M3hWM0lK5Nm2wqSIACA+EbwAAAFTydeosMyoqaJnp8cjXqbNNFQFAeCB8AwAAoJKZmqqCqQ9XBnAzKkoFU6bLTEmxuTIAaNwI3wAAAKjKNIO/AwDqhPANAACASpUTrpWVld8vK2PCNQCoB4RvAAAAVGLCNQCwBuEbAAAAlZhwDQCsQfgGAABApcoJ1zye8vseDxOuAUA9cNldAAAAABqWkuFXqfS8/nJt2iDfscfJTE21uyQAaPQI3wAAAKjCTE1VWe9T7S4DAMIGh50DAAAAAGAxwjcAAAAAABYjfAMAAAAAYDHCNwAAAAAAFiN8AwAAAABgMcI3AAAAAAAWI3wDAAAAAGAxwjcAAACqMDIz5f5kpYzMTLtLAYCwQPgGAABAkOiX5yqla0c1HdxfKV07KvrluXaXBACNHuEbAAAAlYzMTMXfeasMr7f8vter+LsmMQIOAHVE+AYAAEAl18b1lcG7glFaKtemDTZVBADhgfANAACASr5OnWVGRQUtMz0e+Tp1tqkiAAgPhG8AAABUMlNTVTD1YZkeT/l9j0cFU6bLTEmxuTIAaNxcdhcAAACAhqVk+FUqPa+/XJs2yHfscTJTU+0uCQAaPcI3AAAAqjBTU1XW+1S7ywCAsMFh5wAAAAAAWIzwDQAAAACAxTjsHAAAAGrWPLFa6+3ckWdxJQAQnhj5BgAAAADAYoRvAAAAAAAsRvgGAAAAAMBihG8AAAAAACxG+AYAAAAAwGKEbwAAAAAALEb4BgAAAADAYoRvAAAAAAAsRvgGAAAAAMBiLrsLAAAAgL0cGdvlb95Czh0ZCsQnKGf5SvmPaWd3WQAQVhj5BgAAiGRlZUocOVzOHRmSpPxZzxK8AcAChG8AAIAIFjf5LrlXfSFJKrrhZnnPu8DmigAgPBG+AQAAIpTn7bcU+9wzkiTv305X4e1321wRAIQvwjcAAEAEcm7coISbx0mS/IcfobxnX5CcTpurAoDwRfgGAACIMEZerhJHXCqjqEhmVJTy5r4qMzXV7rIAIKwRvgEAACJJIKCEsdfK9fP/JEkFDz0qX1o3m4sCgPBna/jevHmzRowYoZNOOkm9evXSrbfequzs7P2u+/HHH+uCCy5Q165d1a9fP3300UchrhYAAKDxi535mDwfLJEkFV96hUouv9LeggAgQtgWvktKSjRy5EilpaXps88+0+LFi5WTk6M77rijyrq//PKLxo0bpxtvvFFr1qzRuHHjdNNNNykjI8OGygEAABon90f/VuxDD0iSyo5PU8FDj9pcEQBEDtvC97Zt29SxY0ddf/31ioqKUlJSkoYNG6avvvqqyroLFy5Uenq6zjzzTLlcLp177rk68cQT9cYbb9hQOQAAQOPj+G2rEkdfLcM0FUhKUt4Lr0jR0XaXBQARw2XXjo8++mg9//zzQcuWLVum4447rsq6W7ZsUfv27YOWHXPMMdq8ebOlNQIAAISFkhIlXnW5HNnZMg1Dec/OVeDIv9hdFQBEFNvC995M09QTTzyhjz76SPPmzavyeGFhoWJiYoKWRUdHq6ioqEb7cTgMORxGnWqtLqfTEfQd4Y+eRx56Hpnoe+QJh57H3jFR7v9+K0kqueNumWed1TD+CASACGL7792CggLdfvvt2rBhg+bNm6cOHTpUWScmJkYlJSVBy0pKShQXF1ejfSUnx8kwQhO+KyQmxhx6JYQVeh556Hlkou+Rp9H2/PnnpXkvl9/u318x99+rGEfj/SABABorW8P31q1bNWrUKB122GGaP3++kpOT97te+/bttWHDhqBlW7ZsUefOnWu0v+zswpCOfCcmxigvr1h+fyAk+4S96HnkoeeRib5Hnsbcc+c3Xyvh+utlSPIf3Vb5T86WmVtsd1kHlZRUs8EVAGgsbAvfubm5Gj58uHr06KGpU6fKcZBPYPv3768XX3xRS5Ys0dlnn63ly5dr9erVuvPOO2u0z0DAVCBg1rX0GvH7A/L5GtcbNeqGnkceeh6Z6HvkaWw9N7KylDj8Uhler8zYWOXOnSd/XKLUiH4GAAgnth1z9Pbbb2vbtm1aunSpunXrprS0tMovSUpLS9OiRYskSW3bttXTTz+tOXPm6MQTT9Ts2bM1a9YsHXXUUXaVDwAA0HD5/Uq89io5//hdkpT/2Cz5O1Wd1BYAEDqGaZqhHQq20c6d+SHbl8vlUFJSnHbtKmxUn5Kj9uh55KHnkYm+R57G2PO4qZMV++QMSVLRNaNVOGW6zRVVX7NmCXaXAACWYLYNAACAMBK1ZHFl8C47qYcK751ic0UAAInwDQAAEDacP/2ohHHXSZL8zVso74VXJLe7VtsyMjPl/mSljMzM+iwRACIW4RsAACAcFBQoccRlcuTnyXS5lPf8Kwq0aFmrTUW/PFcpXTuq6eD+SunaUdEvz63nYgEg8hC+AQAAGjvTVMLNY+XavEmSVHjfFPl69KzVpozMTMXfeasMr7f8vter+LsmMQIOAHVE+AYAAGjkYp6breh33pYklQwcrOJRo2u9LdfG9ZXBu4JRWirXpg11qhEAIh3hGwAAoBFzf/Efxd13lyTJd2wn5c+YJRlGrbfn69RZZlRU0DLT45GvU+c61QkAkY7wDQAA0Eg5tv+pxJHDZfj9CiQkKu/FeVJcXJ22aaamqmDqwzI9nvL7Ho8KpkyXmZJSHyUDQMRy2V0AAABAJDIyM+XauL58pDk1teYb8HqVePUVcuzcIUnKf2qO/EcfUy+1lQy/SqXn9Zdr0wb5jj2udvUBAIIw8g0AABBi9TGbeNx9d8r91SpJUuFNE+Ttd1691mimpqqs96kEbwCoJ4RvAACAEKqP2cQ9b72u2OfnSJK8p56uokl3WlIrAKD+EL4BAABCqK6ziTs3rFfChBslSf4jWivv2bmS01nvdQIA6hfhGwAAIITqMpu4kZujJiMulVFcLNPjUd7cV5kIDQAaCcI3AABACNV6NvFAQAnXXyPnLz9LkgqmzZCv6wlWlwsAqCfMdg4AABBitZlNPPaJR+VZ/oEkqfjyK1Vy6RVWlwkAqEeEbwAAABtUzCZeHe4V/1Ls9KmSpLKuaSqY+rCVpQEALFCrw84XLVqk3Nzc+q4FAAAgYhiZmXJ/svKQs5w7fv1FidddLcM0FUhOVt7ceVJ0dIiqBADUl1qF7ylTpiizBpfDAAAAwB7Vvs53cbESr7pcjpwcmQ6H8ua8qMARrUNbLACgXtQqfLdp00bff/99fdcCAAAQ9qp9nW/TVMKkm+Ve919JUuHtd6vs1NNDXS4AoJ7U6pzvdu3aacKECXr++efVpk0beXbP1lnhoYceqpfiAAAAws3BrvO99zng0a+8qOjXX5MklfY7X8U33BzSOgEA9atW4Xvr1q3q1q2bJGnnzp31WhAAAEA4q7jO994BfN/rfLu+/krxd0wsX7/tMcqf9YxkGCGvFQBQf2oVvl999dX6rgMAACAiVFznO/6uSTJKS6tc59vIzFTi1VfIKCuTGRurvBdfk5nYxOaqAQB1VetLjRUVFWnRokX6/vvv5XK51K5dO5177rmKj4+vz/oAAADCzgGv8+3zKfHaEXJu+0OSlP/E0/J3PNbGSgEA9aVW4fvPP//UZZddpqysLB111FHy+/1688039eyzz+r//u//1LJly/quEwAAIPyYZtDduIceUNSnH0uSiq69XqUDBtlRFQDAArUK39OmTVOrVq301ltvKTk5WZKUmZmpG2+8UY888ohmzJhRr0UCAACEk+iX51bOeG5GRalg6sMKpKQqdtbjkiRvz14qvOd+m6sEANSnWoXv//znP3rxxRcrg7ckpaamatKkSRo1alS9FQcAABBu9nupsTtvlel2S5L8LVoq77mXpN337WJkZsq1cX35BHEVh8UDAGqtVuHb6XQqOjq6ynKPxyPvPpfOAAAAgNSseeIBHzO83sownvf8KzJbtAhVWfu1v5H5kuFX2VoTADR2jto86YQTTtDs2bNVVlZWuaysrEzPPPOM0tLS6q04AACASOPr3sPW/e93ZP6uSTIyM22tCwAau1qNfE+YMEF///vfddZZZ6lz584yDENr165VQUEBlyEDAABoxFwb1wddg1ySjNJSuTZtUFnvU22qCgAav1qNfLdt21bvvvuuzjvvPHm9XpWUlOj888/XO++8o06dOtV3jQAAAAgRX6fOMqOigpaZHo98nTrbVBEAhIdajXyPHj1aEyZM0MSJE+u7HgAAANjITE1VwdSHyw81Ly2V6fGoYMp0mSkpdpcGAI1arcL3mjVr5PF46rsWAAAANAAlw69S6Xn95dq0Qb5jj2O2cwCoB7U67Pyiiy7So48+qh9//JHZzQEAAMKQmZqqst6nErwBoJ7UauT7ww8/1LZt27Rs2bL9Pr5p06Y6FQUAAAAAQDipVfgeN25cfdcBAAAQtoxd2XaXAACwWa3C9/r16zV8+HAdeeSR9V0PAABAWDEK8tXk4kF2lwEAsFmtzvl+55135HDU6qkAAACRo6hIiZcNk/ubryVJxVdfo50Zudq5I++AXwCA8FSrBH3aaadp3rx5KigoqO96AAAAwoPXq8SrL1fU559Jkkr+fqkKpj4sGYYkycjMlPuTlTIyM+2sEgAQIrU67Hzbtm16//339fLLLyslJaXKZcf+/e9/10txAAAAjZLPp8Trrpbn3/+SJJX0v0j5jz8l7T5yMPrluYq/81YZXq/MqCgVTH1YJcOvsrNiAIDFahW+e/XqpV69etV3LQAAAI1fIKCEm66XZ/G7kqTSs/oqf/Y/JKdTUvmId0XwliTD61X8XZNUel5/LusFAGGsVoedjx07Vmeeeab++OMPffrppxoyZIiSkpKUnp6usWPH1neNAAAAjYNpKv62WxT95j8lSd5T/qa851+RoqIqV3FtXF8ZvCsYpaVybdoQ0lIBAKFVq/C9fv16DR06VL///rs2bNggr9erzZs36+qrr9ZHH31U3zUCAAA0fKapuPvvUcxLL0iSytJPUu4rr0sxMUGr+Tp1lrlXGJck0+ORr1PnkJUKAAi9WoXvRx55RCNGjNCrr74qt9stSXrggQd0xRVX6KmnnqrXAgEAABqD2MceVuzTT0qSyjr/Vbn/nC/Fx1dZz0xNVcHUh2XunjPH9HhUMGW6zJSUkNYLAAitWoXvDRs2aMCAAVWWX3zxxfrf//5X15oAAAAalZg5Tytu+lRJkq99B+W++Y7MJk0PuH7J8KuU9e0m5Sx4T1nfbmKyNQB1YhjV+7JCaWmptm/fbs3Gw0ytJlxzu937vczYtm3bFLPPoVUAAADhLPrVlxR/9+2SJP+RbZT71rvVmjjNTE1VWe9TrS4PACx1ySWX6NJLL9XAgQNr9fzzzjtP1157rfr371/j53bo0EEej0dOp1Omacrtdis9PV333HOPWrVqVblefn6+nnvuOS1fvlw7duxQXFycevTooRtuuEFHHnmkJGnWrFmaPXu2oqOjq+znggsu0P3331+rn29vtQrfZ555pmbMmKHHH3+8ctlPP/2kqVOn6rTTTqtzUQAAAI2BZ8Gbip9woyTJ3+ow5SxYpECrw2yuCgBCZ9euXXV6/vvvv1+n5//jH/9Q9+7dJUkFBQWaMGGCJk6cqHnz5kmSsrOzNWzYMB177LF69tln1aZNG+Xk5Oipp57SsGHDNH/+fB1++OGSpPT0dL366qt1qudgahW+J02apJEjR+rkk0+WaZoaOHCgCgoK1LFjR9166631XSMAAECDE7X0fSWMvVaGaSqQmqrc+YsU+Esbu8sCEEZyc6XNm+tve6tWHXqdjh2lJk2qt72rrrpK27Zt07333qv169erb9++uvXWW5Wenq6PP/5Y11xzjS655BJNmzZNq1ev1o4dO5SQkKBLL71U1113nSSpT58+Gjt2rAYOHKjLL79cXbt21TfffKONGzeqZcuWGjdunM4999xq1RMfH6+hQ4fq5ptvrlw2a9YsRUdH6/HHH5dz9yUfk5KSdPfdd6uoqEjff/99Zfi2Wq3Cd3x8vF5//XV98cUX2rhxowKBgNq3b6/evXvL4ajVaeQAAACNhnvlCiWOGi7D71egSVPlvPmu/O3a210WgDCSmyu1aSPl5NTfNnv0OPQ6TZtKv/xSvQA+d+7coPC8atUqbd++XUcffbSmTZum0tJSPfroo/r99981f/58JSQkaPny5brhhhvUr18//eUvf6myzTfffFMvvviijjnmGD399NO65557dMYZZ8ize5LKg8nNzdX777+vs88+u3LZihUrNHTo0MrgvbeHHnro0D9kPapV+K7Qs2dP9ezZs75qAQAAaPBcX36hJsMvluH1KhAXr9x/zpe/cxe7ywKABmPw4MFyu91yu90aN26cnE6n4uPjtX379soQvWPHjv2G7759+6pTp06SpIsuukjPPvussrKydNhh+z+l57rrrpPT6VQgEFBhYaESEhI0Z86cysezs7PVrFmzatX99ddfKz09vcryZ599dr/La6pO4RsAACCSuL77Rk0uHSKjuFhmdLTy5r0hX/pJdpcFIAw1aVI+Al2dw86rM6ItSV9+eeh1anLY+YE0b9688nZWVpamTp2qjRs36ogjjlDnzp0lSYFAYL/P3Tsou1yug64rlQfjinO+S0pK9Nprr2n48OF64403dNxxx6lZs2basWPHfp+bnZ2tJk2aVI6Kd+vWreGd813fKk6CnzJlSuU/3L5GjhypVatWVTZAkp588kn97W9/C1WZAAAggjk2blDCsIvkyM+T6XYrb+6rKuvV2+6yAISxJk2kA8SjWqnPbR2Msdd1zW688Ub16dNHL7zwglwul3bt2qU333zTkv1GR0fr6quv1nPPPafPP/9cxx13nPr06aPly5dr9OjRQYeem6apkSNHqnPnzvUyk3l12H6C9tdff61hw4Zp69atB11v/fr1euGFF/Ttt99WfhG8AQBASPz4oxIG9Zdj1y6ZDofynp0r75l97a4KAGwXFRWl/Pz8Az6en5+v6OhoOZ1OZWdna8qUKZKksrKyeq/F5/NpwYIFysvLU7du3SRJY8aMUW5urm6++Wb9+uuvkqSMjAzdcccd2r59u0aOHFnvdRyIrSPfCxcu1MyZMzVx4kSNHz/+gOv99ttvys3NrTz2HwAAIFSM33+Tzu8rR0aGJCn/iaflveBCm6sCgIZh8ODBevzxx7Vu3ToNGTKkyuMPPfSQHnzwQc2dO1dNmjTRueeeq06dOumHH37QKaecUuf9jxo1qnJE2zAMtWnTRo899phOOOEESVJycrLmz5+vWbNm6corr1ROTo7i4+PVo0cP/fOf/6y8zrckrVmzRmlpaVX20bp1ay1atKjOtRqmaZp13kot7dy5U0lJSXK5XOrQoYNeeeWV/R52vmTJEt1zzz1KS0vTunXrlJqaqiuvvFKDBw+u0f6ysgrkcBiHXrEeOJ0OJSbGKC+vWH7/gc9RQPig55GHnkcm+h5ZjIwMJZx3tpz/+0mSVPTIYyq9+hqbqwpvSUlxdpcAAJawdeS7urPOeb1ede3aVePHj1e7du20atUqjRs3TnFxcerXr1+195ecHBd0/kEoJCbGhHR/sB89jzz0PDLR9wiQlSUNuVDaHbw1fbpiJ4xXrL1VAQAaqQYx4dqhDBgwQAMGDKi8f8opp2jAgAFaunRpjcJ3dnYhI9+wDD2PPPQ8MtH3CJGXp4SLzpdr/fry+3ffrbzrxsm/q9DeuiIAI98AwlWjCN/z58+vMsrt9XqrdaH1vQUCpgKB0B5l7/cH5PPxx1kkoeeRh55HJvoexoqK1OTvg+X69htJUsl11yt68mT5c4rqtedGZqZcG9fL16mzzNTUetsuAKBhsn228+ooKCjQAw88oI0bNyoQCGjlypVavHixhg0bZndpAAAgnJSWqsmVlyjqy88lScWXDVfx1GlSPZ+2Fv3yXKV07aimg/srpWtHRb88t163DwBoeBrsyHdaWpomT56s/v37a/jw4SoqKtLYsWOVlZWl1q1ba/r06UpPT7e7TAAAEC7KypR4zQhFrVwhSSoZOEQFjzwhVz0HbyMzU/F33irD6y2/7/Uq/q5JKj2vPyPgABDGGkz4/v7774Puf/vtt5W3DcPQmDFjNGbMmFCXBQAAIkEgoIQbRsuzdLEkqfSc85Q/61lp9+Vr6pNr4/rK4F3BKC2Va9MGlfU+td73BwBoGBrFYecAAAA1ZWRmyv3JShmZmQdf0TQVP3G8ohe8KUnynnq68v7xkuR2W1KXr1NnmVFRwSV4PPJ16mzJ/gAADQPhGwAAhJ1qn1Ntmoq7907FvPqiJKmse0/lvvR/Ug0nda0JMzVVBVMflrl7H6bHo4Ip02WmpFi2TwCA/QzTNEM7/beNdu7MD9m+XC6HkpLitGtXIbPhRgh6HnnoeWSi7w2fkZmplK4dgw7tNj0eZX27qco51bEPP6i4R6dJksqOT1PugkUyE5sErWNVz43MTLk2bZDv2OM413svzZol2F0CAFiCkW8AABBWDnZO9d5inp5ZGbx9HY9V7htvVwneVjJTU1XW+1SCN4C6M4zqfcFWhG8AABBWqnNOdfRLLyh+8l3l6x91tHLfeldmMod9A0CovP322+rTp48kac2aNUpLSzvgurNmzdLll19+wO107NhRaWlpSktL0/HHH6/TTz9dM2fO1L4Hea9du1Y33HCDTj75ZJ1wwgnq16+f5syZI5/PV7lOnz591KVLl8rt7f21Zs2aOv3MDWa2cwAAgPpQcU51/F2TZJSWVjmn2vPmPxU/6WZJkv/wI5Q7f5ECLVraWTIARLT09PSgq13V1GGHHaYVK1ZU3l+/fr2uvvpqHX744Ro0aJAk6YMPPtBtt92mW265RQ8++KDi4uK0adMm3Xrrrdq4caOefPLJyudPnjxZAwcOrP0PdACEbwAAEHZKhl+l0vP6VzmnOmrxIiXcMFqGaSrQrLlyFyxSoPWRNlcLAAeQmytt3lx/21u16tDrdOwoNaneKTi33nqr/H6/ZsyYUbnspptuUlJSku69916tWLFCzz33nH799VcVFRWpS5cumjJlitq0abNPWat0xRVXVF5++ptvvtHUqVP1008/qWPHjvrLX/5S7R9Rkjp37qyTTjpJ69ev16BBg1RaWqp7771X119/fdAIeqdOnfToo49q9uzZysnJUdOmTWu0n5oifAMAgPC11yGH7hX/UuK1I2QEAgokJSln/iL5jz7GxuIA4CByc6U2baScnPrbZo8eh16naVPpl1+qFcCHDh2qq6++WgUFBYqPj1deXp5WrFihf/7zn9q+fbtuvPFGPfnkk+rTp4927dqlsWPH6umnn9YjjzxywG3u2rVL1157rUaNGqURI0Zo7dq1uuaaa9SpU6dq/5ibN2/Wd999p+nTp0sqD/M5OTk6//zzq6zbsWNHzZw5s9rbrgvCNwAACAvNmidWa71AfIJy31go/7HV/0MOAFBVenq6WrVqpaVLl2rIkCFavHixjj76aB133HHyer16//33deSRR6qgoEDbt29XUlKSMjIyDrrNlStXKiYmRqNGjZJhGOrWrZsGDRqkTZs2HfA527ZtU3p6uiSptLRUXq9XvXr1UufO5XN9ZGdnS5JSqznB5eTJk/Xggw8GLWvVqpXee++9aj3/QAjfAAAgouT931vydT3B7jIA4OCaNCkfga7OYefVGdGWpC+/PPQ6NTjsXJKGDBmid999V0OGDNHChQs1ZMgQSZLb7dbixYv1+uuvyzAMtW/fXgUFBXK5Dh5BMzIy1KpVKxl7zc5+5JFHHjR873vO9x9//KHbb79dI0aM0IIFC9SsWTNJ0s6dO3XYYYdVef7OnTsr15Gke++9l3O+AQAA6qqsx8l2lwAA1dOkidS9e/1trz63tdtFF12kJ554Qp9//rm+//77ykO7ly5dqnnz5umf//xn5TnbDzzwgH744YeDbq9ly5b6448/FAgE5HCUX5xr+/btNarp8MMP15VXXqnRo0crKytLXbt2VdOmTbVkyRKNHDkyaN3Nmzfrwgsv1Ouvv37QGdfrA5caAwAAAADUSnJysk4//XTdddddOvvss9Vk96h5fn6+HA6HoqOjZZqmPvnkE73zzjsqKys76Pb69Okj0zQ1a9Yseb1erV+/Xm+99VaNasrOztabb76ptm3bKikpSVFRUbrrrrv01FNP6bXXXlNhYaH8fr/WrFmjG2+8UX379rU8eEuMfAMAAAAA6mDo0KFatmxZ0HnSF110kb7++mudd955cjqdOvroozV8+HC99tpr8nq9B9xWYmKiXnjhBd1333168cUX9Ze//EV9+/bVzz//fMDnbNu2LSg8R0VFqXv37pozZ07l6PkFF1ygpKQkzZ07V7NmzVJpaalatWqlQYMGacSIEUHbu/fee/XAAw9U2c+YMWM0atSoav+77Msw973yeBjbuTM/ZPtyuRxKSorTrl2F8vkCIdsv7EPPIw89j0z0veGq7oRrO3fk1Wi79Dy0mjVLsLsEALAEh50DAAAAAGAxwjcAAGj0jF3ZdpcAAMBBEb4BAECj5ty4QUlnn2Z3GQAAHBThGwAANFpRixYq6dwz5Pz1F7tLAQDgoJjtHAAAND5+v+IeekCxMx+TJJlRUSp4+HGVXHK5zYUBALB/hG8AANCoGDm7lHjd1Ypa8aEkyd+ylfJenCdftxNtrgwAgAMjfAMAgEbDuWmjmgy/WM5fyq/3WnZSD+W+8KrMFi1srgwAgIPjnG8AANAoRL33rpL6nVEZvIuHX62ctxcTvAEAjQIj3wAAoGHz+xX78FTFPf6oJMl0u1UwbYZKLr/S3roAAKgBwjcAAGiwjNwcJYweKc+HyyVJ/hYtlTf3VflO7G5zZQAA1AzhGwAANEjO7zcrcfjFcv3vJ0lSWfpJypv7qgItW9lcGQAANcc53wAAoMGJWrJYTc/pUxm8iy8foZyF7xO8AQCNFuEbAAA0HIGAYqdNUZMrL5GjsECm2638R55QwYwnJY+nRpsyMjPl/mSljMxMi4oFAKD6CN8AAKBBMPJylXjF3xX32MOSJH/zFsp5+32VDL+qxtuKfnmuUrp2VNPB/ZXStaOiX55b3+UCAFAjhG8AAGA7548/qOk5feRZ/oEkqaxbunL+9bF83XvUeFtGZqbi77xVhtdbft/rVfxdkxgBBwDYivANAABsFfXBEjXte7pcW36UJBVfeoVy3lmqQKvDarU918b1lcG7glFaKtemDXWuFQCA2mK2cwAAYI9AQLEzpivukYckSabLpYKpD6vkyqslw6j1Zn2dOsuMigoK4KbHI1+nznUuGQCA2mLkGwAAhJyRn6fEKy+pDN6B1GbKfXuxSkaMrFPwliQzNVUFUx+WuXuCNtPjUcGU6TJTUupcNwAAtcXINwAACCnnlh/Lr9/94w+SpLK0E5T34msKHHZ4ve2jZPhVKj2vv1ybNsh37HEyU1PrbdsAANQGI98AACBkopYvLT+/e3fwLvn7pcp594N6Dd4VzNRUlfU+leANAGgQGPkGAADWCwQU+8Sjip0+VYZpynQ6VTBlmkquuqbOh5kDANAYEL4BAICljIJ8JYy9Tp4l70mSAqmpynv+FZWdfIrNlQEAEDocdg4AAGrFyMyU+5OVB71+tvN/W9S03xmVwbvs+DTt+tcnBG8AQMQhfAMAgBqLfnmuUrp2VNPB/ZXStaOiX55bZZ2oD5ep6dmny/X9ZklSydCLlbPoAwUOPyLU5QIAYDvCNwAAqBEjM1Pxd95aeR1tw+tV/F2T9oyAm6Zin3hUiZcOlSMvt/L87vxZz0oxMTZWDgCAfTjnGwAA1Ihr4/rK4F3BKC2Va9MGlaV1U+INo+VZ/K4kKZCSorx/vKyyU/5mR6kAADQYhG8AAFAjvk6dZUZFBQVw0+NRIC5OSeedKdemjZKksi7HK++l1xRofaRdpQIA0GAQvgEAQLU0a554wMeM0lIln9On8n7J4GHKnzGTw8wBANiN8A0AAOpVwf0Pqvja67l+NwAAeyF8AwCAelV83Vi7SwAAoMFhtnMAAAAAACxG+AYAAAAAwGKEbwAAAAAALMY53wAA4OCKihQ3fardVQAA0KgRvuvJgS6/krTP/Z078qwvZj8OdnmYvVEfAGBv7k8/VsLN4+T89Re7SwEAoFFrEIedZ2dn66yzztKqVasOuM7HH3+sCy64QF27dlW/fv300UcfhbBCoPwDgoN9JSXHc1kdAGHDyM1R/M3j1HTQBQRvAADqge3h++uvv9awYcO0devWA67zyy+/aNy4cbrxxhu1Zs0ajRs3TjfddJMyMjJCWGnNLFUfPatRWqo+dpeyXw29PgCAfaKWLFbSKScpZt7LkqRASorynnne5qoAAGjcbA3fCxcu1IQJEzR+/PhDrpeenq4zzzxTLpdL5557rk488US98cYbIaq0Zl7SFeqjz3Sd/qE++kwv6Qq7SwrS0OuTJHOf7wAA6xk7dihh5HA1ufISOTO2S5JKBg5R9qdfqXTQUO3ckVetLwAAUJWt53yfcsopuuCCC+RyuQ4awLds2aL27dsHLTvmmGO0efPmGu3P4TDkcFh7WPBS9dHFel0eeSVJHnn1d72hpeqjflqh6BaHV65rylBFNeY+hyubOvD9fR/T3veNg697qPr8h3eSaTh2P8/YXVf59wMvr7pMMhQwHOWHYRtG+fMqH3eUr7P7vgxDzfaq0S+HnApU/mQ+OeWSX5K0re8YGW635HbLiHJLbpccHrcU5ZYjqvy2w+OWI9ol5+7bzmiXXDHly9wxbjmjy58vt0um2y25yu+bbtdetyuW77XOPszd9VV8r+B02vOZVlJyfLXW25VdYHElkaOi13b1HPYIy76bpqJe/z/F3HmbHDm7JEmBww5X4WNPynf2OXLaXJ7dwrLnAICQszV8N2vW7NArSSosLFRMTEzQsujoaBUVFdVof8nJcTIsPif3V7WVRyuClkWrVL+oraQVSjDz9//EEA3xHqq+lmW/h6aQA/haf1U3rQ1a5pK/cvnx386zqbJgB/uAIPHJR6XU1PKvlJTg2x6PjVWXS0qKs7uEsJOYGHPolRB2wqbvv/wiXXuttHz5nmWjR8sxbZoSEg8xGebOndLatdJf/ypV8z29MQubngMAbNEoZjuPiYlRSUlJ0LKSkhLFxdUsRGRnF1o28l0xq/lf9JNKFVU5sixJJfLoKG2RJL2bft/upXvStmGaQdnbMPfcM03JkKmKRYaC19Ve62r3uns/r+L2heunVau+Re3GS6YpwwyUP3HvL5kyAoHyHQXK75c/JhlmYHfd5u7nm1W3I7Nyncr1d98/K/8dSdLLGqHOmlSlvpc0XN10i75VV7lVdsiviiBshQ3qoOP0fdAyl/xar47qrM3SPfcc8Lm+mHgFklNkNEuRkpMVSEmRmZwic5/bZkqqArtvVzew7zuz/oHs2lVYzTVxKE6nQ4mJMcrLK5bfH7C7HIRI2PTd75fnH88qZur9MgrLfy/4j2mnoidmyXfyKZJf0kF+X0S99IJib5sow+uVGRWlommPyHvl1SEqPrTCpueNBB8SAwhXjSJ8t2/fXhs2bAhatmXLFnXu3LlG2wkETAUC1g4x99MKvaQr9He9oWiVqkQeva5hulKvSJJOXnKzpfs/oObTqlVfz/9Mtqm+8tGVv+kj3aQn9LjGV9Y3Xo/pLC2VJB2e8Yl8Pqm0VCork4q8hkpLJa9X8noNeb1SaamhstKAfCU+lRX55C8pU1lRmfwl5bfLv5ffNr3l901vmQKlZTK95bfl9Uplu2+XlUllPt25dbQkaaru0IsaVeUDggd1u/5Pw1WgOMVr/3+wuooLpD8KpD9+rfY/TSAuXmZKigLJyTKTkhVITqkM6oGkPaG9unw+/nCsb35/gH/XCNSY++78frMSbrpe7q+/kiSZTqeKx96kwlsmSdHR0iF+LiMzszJ4S5Lh9Sr29ltVfM4FMlNTLa/fLo255wAA+zWK8N2/f3+9+OKLWrJkic4++2wtX75cq1ev1p133ml3aft1pV7RUvXRL2qrNvqpMtg2FA25vsFapMc0Ua21VV20XuvUWe30g57R9ZLKTxPffcr3bnt/mLLvByvO3V/1dKh38/LwfZ6W7PcDggu1SJJ0z/hs7dhaquLfs1W2PUvmzl2KKcpSqjKVqkylaP+3DxTYHYUFUmGBnFurH9gBYL+8XsXOfEyxTzxaGZzLuhyvgieekq/L8dXejGvj+srnVzBKS+XatEFlvU+t15IBAAgXhmma1g4FV1OHDh30yiuvqHv37pKktLQ0TZ48Wf3795ckffrpp3r00Ue1detWHX744Zo4caJOPbVmb/A7dx7gfOt60Kz5Ic6Lq6jBpllgG1t989VfCzREg/SWBu8OtZJ99UnBNaZopxwKVH5AEJBDWbunjduVXVBlZKSwUMrIMPTnnw5t327s/iq//eef5bdztpcq3pt90IC+7+0E1XzytOIRI1V2Ug+VndhdgdZHcm3yOnC5HEpKitOuXYWMhkWQxtp31zdrlDB+rFybNkqSTI9HhRPvUPHosXt/olktRmamUrp2DArgpsejrO82y0yp/pE4jUVj7Xlj1axZgt0lAIAlGkz4DgUrw/e+eKOumebNq/dGu2NH6Hq4r30/IHhNw/SUbtBYzdSl2nPZu/2F7+owTWnXLunPPx3KyDB2B3NHlaC+c6ch0ywPzB6VKEVZSlGW1qp81GqZTtdp+k+Vw+I/Vi/13WeyPX/LVvKd2F1lJ3VX2Yndy0e+avhHeCTjdR6ZGl3fCwsVN32qYp6bvXveDsnbs5cKHpspf9t2td5s9MtzFX/XJBmlpTI9HhVMma6S4VfVV9UNSqPreSNH+AYQrgjfFuGNOvxU9wOC7Gxre+7zSTt37hkx//NPQxkZhh5/IlqS1FOf6a9aryd1Y+Vh8TfqSa1TJ32uvynX00xNSnfud9tmTIzK0rrtCeTpJ8lMSrbsZ2nseJ1HpsbUd/enHyvh5nFy/vqLJCkQn6DCe+5XyRUjJEfdL5tlZGbKtWmDfMceF9bnejemnocDwjeAcEX4tghv1JHH7p5XjMy/pmG6TP9UqjLVReu0Tl2UqVS9riEapgUyFFBb/aTT3J9pYIv/qLv/c6X8ufGA2/W176CyE7ur7KQe8p3YXf62x3Co+m529xz2aAx9N3JzFHffXYp5bc+cHqVn9VXBI08ocNjhNlbWODWGnocTwjeAcEX4tghv1JHH7p7ve056tlJUfhVyU8nKqjwnvXkzv3buDB7xSnFka8Sxn2tA88/014IvFL9hjYyiov3uJ5CSUh7G03cH8q5p5bMjRyC7ew57NPS+R73/nuJvu0XOjO2Syl+zBVMfVulFg/ngrJYaes/DDeEbQLgifFuEN+rIY3fPq3tY/J9/5mvNGqeWLHFpyRKXfv216qGnJ3Yt0ZUnfKtzEj/TYT9/KffqL+X8c9t+t2e63fL9tWvl6HjZid1ltmhRZb2GPulfbdjdc9ijofbdyMhQwh0T5XnvncplJYOGqmDK9LCcBC2UGmrPwxXhG0C4InxbhDfqyGN3z2szaZ1pShs3OiqD+IYNzirrt2vn17nn+jQw/WcdX/iFor76Uq7Vq+TasK5y8qZ9+f/SpjKIl53UQ/4OHdWsVVK16iN8o6ELVd+NzEy5Nq6Xr1Png59PbZryvPF/ir/ndjlyciRJ/sOPUMEjj8t7Zl/L6oskvNZDi/ANIFwRvi3CG3XkCYee//KLURnEv/rKWTmreoXDDw+oXz+fzj3Xp55dchX93zVyf7VK7tVfyrXmKzny9x+cAwmJB3xsX4RvNHSh6Hv0y3MVf+etMrxemVFRKpj68H5nEnds/VUJt9ygqI8/qlxWPGKkCu+6T2ZC9Y42waHxWg8twjeAcEX4tghv1JEn3HqekWFo2bLyIP7pp06VlQUH8eTkgM4+269zzy3Tqaf6FRPll/P7zXKv/rIykFfMsFwThG80dFb3/YDX0P52054RcL9fMS/MUdyD91fOz+Bre4wKHn9KZT1OrveaIh2v9dAifAMIV4Rvi/BGHXnCued5edKHH5YH8Q8/dKmoKDiIx8aaOuOM8hHxs87yKXH3gJsjY7tcX62We/WXin32qWrti/CNhs7qvrs/Wammg/tXWZ6z4D2V9T5Vzs2blDD+erm/XiNJMp1OFY+9SYW3TIrYyQ+txms9tAjfAMIV4dsivFFHnkjpeXGx9MknTi1Z4tayZU5lZwdP2OZ2mzrllPLzxM85x6cWLcp/xVR3wrXiy4ar5LLh8qV1a/AzM0dKzxHMqr5X9zViut0yysokSWVdjlf+E0/L3+Wv9VYHquK1HlqEbwDhivBtEd6oI08k9tznk1at2jNz+h9/BAdxwzCVnh7QueeW6b7JMTXb9rHHqfjy4SodNFRmUnJ9ll1vIrHnsD98S5IZHa3CCbereMw4yeWqtxqwf7zWQ4vwDSBcEb4twht15In0npumtHbtnpnTv/8+eOZ0U3tGsTOUKocC+k1HqrW2KiCHWiizfL3Y2KBrjJsej0rPv1All1+psp69GtRoeKT3PFLZHb69PXup4LGZ8rdtV2/7xsHxWg8twjeAcEX4tghv1JGHngfbssXQkiVuLVni0jffOCvD906lqrkyJBm7v0xJpnaohZopU5k//S7P2/MVPe9luf/7bdA2fUe3Vcmlw1Uy7BKZzZuH+keqgp5HJrvD987tOZLDccj1UH94rYcW4RtAuOLdG4AljjnG1A03ePXBB0X67ruCyuXPaaTKf/VUjGAbkhx6TldLksyERJUMv0o5//pYu/79qYpHjFRg9yWTXP/7SfEP3KOUrh2VOOIyuVf8S/L7Q/pzAbYjeAMA0Cgx8m0RPiWPPPT84Jo3r95Ixo4d+3mdFhXJ8947ipn3styrvgh6yH9Ea5VcfJlKLrlcgcOPqI9Sq42eRyZL+u71qtkRqdVatTFdESBc8FoPLUa+AYQrPj4H0KBMnOjRrl37LIyNVemwS5Tz3jJlf/aVikaPUyAlRZLk/P03xT3ykJK7dVbiJYMV9f570u6ZoIEGr7hY0S/MUXL3rnZXAgAALMbIt0X4lDzy0PODq+7ItyQlJwd0111eXXJJ2YGPsC0tleeD9xU972VFffxR0EP+5i1U+vdLVXzJ5Qoc3bYOVR8cPY9M9dF3oyBf0S/NVewzs+TYuaNGz2XkO/R4rYcWI98AwhUj3wAanOxsh26+OVrnnhur7747wK8pj0elFw5U7lvvKuurtSocP0H+lq0kSc4dGYqd+ZhSeqSpycDz5Xn7LamkJIQ/AbB/Rs4uxT46TcndOiv+/rsrg3fZ8Wk2VwYAAKxG+AbQoCxcWKSOHcsnUfvmG6f69o3VhAkeZWcf+DmBv7RR0e33KPubDcp99Q2V9u0nc/eQedRnnyjxuquVcnwHxd01Sc7Nm0LxYwBBjJ07FTflPiWf0FlxDz8ox+5zK8pO6qGc1xcoZ/lKewsEAACW47Bzi3CIWuSh5/WnrEx6/nm3HnnEo4KC8lnRk5MDuvNOry699CCHou/F8ec2Rb/+mqJfe1XOrb8Eb7/biSq5/EqVXDhQiouTVIPLPO11yC89j0w16bvjz22KefpJxbz6kozi4srl3lNPV9H4iQe8dn30y3MVf+etMrxemVFRKpj6sEqGX1XvPwuqh9d6aHHYOYBwRfi2CG/UkYee17/t2w3dd59Hb7/trlx2wgl+TZtWoq5dq/lvHAjI/enHip73sjxL3pOx12RsgfgElV40WCWXD1fS2adVa3OEb1Sn745fflbsrCcU/cZrMrzeyuWl55yropsmyHdC+gG3b2RmKqVrx6DnmR6Psr7dJDO1ejOio37xWg8twjeAcMVh5wAarJYtTT37bIneeafmh6JXcjhUdurpyv/HS8r67/cqmPygfO3alz9UkK+YV1+sdvAGDsX5w/dKuP4aJfc8QTGvvlg+cm0YKhkwUNkffa68V14/aPCWJNfG9UHBW5KM0lK5Nm2wsnQAAGAxwjeABu/kk/3697+LdP/9JYqPN2Wahl55JUo9e8br1VfdClRzIMpMTVXx6LHa9dlX2rVomUqGXSIzJsba4hERnOvWKvHqK5TU+yRFv/W6DL9fptOpkr9fql3/WaP8516S/7jO1dqWr1NnmVFRQctMj0e+TtV7PgAAaJgI3wAaBbdbuu66Mn3xRaEGDSo/dHzXLkO33BKtfv1i9e23Nfh1Zhjy9eip/FnPKmvt98qfNsOiqhHuXF+tUuKlQ5R8xinyvPeODNOUGRWl4iuvVvaq75Q/8xn5j2lXo22aqakqmPqwTI+n/L7Ho4Ip02XuvrY9AABonDjn2yKcHxZ56Hloff65U7ff7tGmTU5JkmGYuuyyMt15Z6mSk2u+vepOuJa56efKEETPI5PLaSjpv1+p7L7Jcn/yceVyMzZWxVdcpeIx4xTYfdm7ujAyM+XatEG+Y4/jXG+b8VoPLc75BhCuGPkG0CidfLJfH35YpAce2HMo+quvlh+K/vLLbvn91uw3pUs7JV4yWJ4Fb0qFhdbsBA2TaSrqXx8o4ZwzpT59KoN3ICFRheMnKGvNehXe/2C9BG+pfAS8rPepBG8AAMIEI98W4VPyyEPP7ZORYWjyZI/mz98zK3rXruWzop9wQvV6Ud2R772ZcXEyBgxQfv+BKjnltPJj49FoGJmZcm1cX36O9cECbiCgqPcXKfaJGXKv+++excnJKr72ehVfNUpmk6bWFwzb8Ps9tBj5BhCuGPkG0Oi1aGFq9uwSvftukY49tnzI+7vvnOrXL1a33OJRVlbV6yjXVtGNt8jf+khJklFYKL32mhKGDVLKX9sr/rZb5Fq9SoqczzQbreiX5yqla0c1HdxfKV07KvrluVVX8vnkeet1Jf2tu5pcfUVl8A60aCHNmKHc7zaqaPxEgjcAAKgWRr4twqfkkYeeNww+nzR3rlvTp3uUn18eupOSTN1xR6kuu6xMTuf+n1fdke+dO/Ik05Rr9SrFLHxT0e8ulLKygtbxH9lGJYMGq3TgUPk7dKzTz4P6U+0e/7ZT0W/8n2JnPS7nr79ULvcf0VpF48bLd/kVSmqVwms9gvD7PbQY+QYQrgjfFuGNOvLQ84YlI8PQ/fd79NZbew4FP/54v6ZPr96h6NWZ7MrlcigpPkr5by+S+83X5flgiYyioqB1yjr/VaWDhqp04GAFWh1Wtx8KdVLd8O1vdZicf26rvO87uq2Kbpqg0kFDJbeb13oEouehRfgGEK4I3xbhjTry0POG6csvnZo0KXhW9EsvLdOdd3qVklK3X39Vel5QIM8H78uz4E1FrVwhY69Z30zDUNnJp5QH8fP7y2yaVKd9o+Zqel6/79jjVDR+gkovGKC9D5ngtR556HloEb4BhCvCt0V4o4489Lzh2t+h6E2blh+KfvnlBz4U/VAO1nNj5055Fi1U9II35V6zOugxMypK3jPOVsngofKedY4UHV27AlAj1Q3fZWknqGj8rfKefY7kqDo1Cq/1yEPPQ4vwDSBcEb4twht15KHnDV9GhqEHHvDozTeDD0WfNq1E3brVvGfV7bnjl58VvXC+PAvelOuH74MeCyQkqvT8/iodOERlp/xNtf4kAAdnmmrWokm1Vt2ZkSsZB56kj9d65KHnoUX4BhCuCN8W4Y068tDzxuPLL5267TaPNm6sedDdsWPP75Ea99w05Vq/Vp75b8qzcL6c2/8MetjfoqVKBwxS6aAh8h2fdtAAKNXgUlmRqKxMrvVr5V71hdyrvpR71RdyZO6s1lN37sg76OO81iMPPQ8twjeAcEX4tghv1JGHnjcuPp/00ktuPfTQnkPRq6NO4Xtvfr/cX/xHngVvyvPeu3Lk5QbXd0w7lQ4copKBQxQ4uq2kGs7IHmkKCuT++qs9Yfvrr2QUFdZqU4Rv7IuehxbhG0C4InxbhDfqyEPPG6cdO8oPRX/jDfehV1Y9hu+9lZYq6sPlil7wpqL+9YGM0tKgh8tO6KbSQUMVf+ekam0uEsK3kZEh9+ovKsO2a/3aoAnuKpiGIX/HTirr3kMxL71QrW0TvrEveh5ahG8A4YrwbRHeqCMPPW/cmjev3h97loTvvRh5uYp6/z1Fz39T7s8+llGLX9ENJXzX22HxpinnT1t2B+0v5Fr1hVw//2//q0ZFyZfWTWXde6qsR0+VpZ9UObN8fR05wGs98tDz0CJ8AwhXLrsLAADsYSY2UenFl6n04svk2P6nPO8skGfBW3L/99vqbyQQ2O8s3Vart8PivV651v238lxt9+ov5MjK2u+qgaZNVXZSD5Wd1FNl3XvKd3xXZo8HAAANEuEbABqoQMtWKr5urIqvGyvnlh+VfHK3aj0v9YhUBZo1V6B5CwWa7/u9hQLN9txXfLzFP8WhGfl5cq35qnJk2/3NGhnFxftd19/6yPJR7d1f/vYdqv1BQ0Xod3+yUk0H96/yeM6C91TW+9Ta/yAAAAAHQfgGgBpYv96hzp1Df9ip/5h21V7X8Pnk/HObnH9uO+S6ZmxccDA/0O3UZlJUVF1+hEqO7X9WHj7uXvWlXBvWyQhU/Tc1DUP+Tp1V1r1Hedg+qYcChx9R5/37OnWWGRUlw+vdsy+PR75Oneu8bQAAgAMhfANADZxzTqxuv71Uo0eX2V3KARXc84AcOzLKv3bu2HN7164q6xpFhXL+8rOcv/x8yO0GkpOrjJzvHdKrK+WvHfa73IyOVllat/Jztbv3lC/9JJmJ1bs2d02YqakqmPqw4u+aJKO0VKbHo4Ip02WmpNT7vgAAACow4ZpFmJwl8tDzxq26E65VOOUUn2bP9qpLl9iQ9bzO51SXlsqRuXN3GN+xT0Df6/6ODBlFRfVY+f4FkpJ2j2j3VFn3HvL9tavk8Vi+3wpGZqZcmzbId+xxNZoQjtd65KHnocWEawDCFSPfAFADxx/v13//69Rnn7l0yilOzZkj9e1rd1XV5PEocPgR1Tt0u6BgT0jfmbFXMN8R/H3nDhk+X43KyJ8xs/x87WPa2TIxXAUzNZVzvAEAQMgQvgFAwZcQOxivV5oxI0pPPhmlvDxDF18sDR7s0UMPFatJ/R8hbZ/4eAXi4xU4uu3B1wsEZOzaJceODCWf2qNamy65/Mq61wcAANDIEL4BoAaioqTbb/fq9NP9Gjs2Wlu3OjR/vktffBGnp54qUa9efsv23VCu3x3E4ZCZkiI/50sDAAAclH3H+wFAI9ajh1+ffFKs4cPL7//xh0MDB8bo/vujVFpqb20AAABoeAjfAFBLiYnSSy9JL75YoqZNTZmmoaee8qhfv1ht3syvVwAAAOzBX4cAUEcXXujXxx8X6m9/K594bP16p846K1b/+Idb+7l8ddjauSOv8iv/kSdk7r4uuBkVpfxHnqh8DAAAIBIRvgGgHrRqZerNN4s1ZUqJPB5TpaWG7rwzWn//e4y2bzfsLi/kSoZfpazvNitnwXvK+m6zSoZfZXdJAAAAtiJ8A0A9cTika64p0/LlRerUqXzitZUrXTr11DgtXhx581tWXMqrJtfQBgAACFe2hu+srCyNGTNG6enp6t69u6ZOnSrfAa4XO3LkSHXp0kVpaWmVX5988kmIKwaAQzv22ICWLSvSmDFeGYapXbsMXXVVjG64IVr51buiGQAAAMKMreH7pptuUmxsrD799FPNnz9fX3zxhV566aX9rrt+/Xq98MIL+vbbbyu//va3v4W2YACoJo9Huu++Ui1YUKzDDis/8fv11906/fQ4rVrltLk6AAAAhJpt4fvXX3/V6tWrNXHiRMXExKh169YaM2aMXnvttSrr/vbbb8rNzVWnTp1sqBQAau+UU/xaubJQF11UJknautWhCy+M0bRpUSors7k4AAAAhIxtJyH++OOPatq0qVq0aFG5rG3bttq2bZvy8vKUmJhYuXzdunWKi4vT+PHjtW7dOqWmpurKK6/U4MGDa7RPh8OQwxGaiY+cTkfQd4Q/eh55qtvz1FTphRe86tfPrwkTPMrLM/TYYx6tXOnSs8+W6phjzFCUi3rCaz3y0HMAQH2wLXwXFhYqJiYmaFnF/aKioqDw7fV61bVrV40fP17t2rXTqlWrNG7cOMXFxalfv37V3mdycpwMI7SzDicmxhx6JYQVeh55qtvzUaOks8+Whg+XPv5Y+uYbp047LVaPPSZdc40U4l9PqCNe65GHngMA6sK28B0bG6vi4uKgZRX34+LigpYPGDBAAwYMqLx/yimnaMCAAVq6dGmNwnd2dmFIR74TE2OUl1csvz+CLvQbweh55KlNzxMTpfnzpaefdmvqVLeKigxdd520cKFPTz5ZqubNLS4adcZrPfLQ89BKSoo79EoA0AjZFr7btWunnJwcZWZmKnX3ZWh++ukntWzZUgkJCUHrzp8/v8oot9frlcfjqdE+AwFTgUBoD+/0+wPy+XijjiT0PPLUpudjxpSqd+8yjRkTre+/d2rZMpdOOcWhxx8vUd++fosqRX3itR556DkAoC5sO3mpTZs26tatmx588EEVFBTot99+0+zZs/d7HndBQYEeeOABbdy4UYFAQCtXrtTixYs1bNgwGyoHgPrRpUtAy5cXadQoryQpM9Ohyy+P1YQJHhUW2lwcAAAA6pWtM4fMnDlTPp9PZ5xxhoYOHarevXtrzJgxkqS0tDQtWrRIkjR8+HBddtllGjt2rNLS0vToo49q+vTpSk9Pt7N8AKizmBhp6tRSvfFGkVq0KB9Re+WVKJ1xRpy+/ZbJnQAAAMKFYZpmxEyzu3Nnfsj25XI5lJQUp127CjlELULQ88hT3z3PzpZuuSVa77/vliQ5naYmTvTqhhu8ctl2khD2xWs98tDz0GrWLOHQKwFAI8SwCgA0EMnJ0ty5JXryyWLFxZny+w1Nm+ZR//6x+vlnpkIHAABozBhLAYAGxDCkiy/2qWfPQl1/fYy++sqpNWuc6tMnToWF1QvgO3aE7igfAAAAVA8j3wDQALVpY+rdd4t0222lcrnMagdvAAAANEyEbwBooFwu6eabvXr//SK1bct5pgAAAI0Z4RsAGri0tIA+/JBrjwEAADRmhG8AaATi4uyuAAAAAHVB+AYAAAAAwGKEbwAIM7m5dlcAAACAfRG+ASDM9OwZp3nz3PL77a4EAAAAFQjfABBmMjMduvnmaPXtG6tVq5x2lwMAAAARvgEg7HTsWD7kvXatUxdcEKvRo6P1559cJxwAAMBOLrsLAABUz44d+dVaz+eTXn7ZrWnTPMrNNbRggVtLl7p0001eXXedV9HRFhcKAACAKhj5BoAw43JJV19dpi+/LNTw4V4ZhqmiIkMPPuhR795xWrrUJdO0u0oAAIDIQvgGgDCVkmLqkUdK9eGHRerRwydJ+vVXh4YPj9GwYTH64QfeAgAAAEKFv7wAIMx16RLQu+8W67nninXYYQFJ0sqVLp12WqzuvtvDpckAAABCgPANABHAMKQBA3z6z38KdfPNpfJ4TPl8hubMieLSZAAAACFA+AaACBIXJ912m1f/+U+hzj+/TBKXJgMAAAgFwjcARKAjjzQ1d26JFiwo4tJkAAAAIUD4BoAI1ru3XytWFOmhh0rUpEn5FOgLFrjVs2ecnngiSiUlNhcIAAAQJgjfABDh9r00mcPBpckAAADqG+EbACBpz6XJ/vWvIvXsGXxpsqFDuTQZAABAXfCXFAAgSJcuAb3zTvmlyQ4/vPzSZB9/zKXJAAAA6oLwDQCoYu9Lk91yS6mio7k0GQAAQF0QvgEABxQbK02a5NVnn3FpMgAAgLogfAMADolLkwEAANSNy+4CAACNR8WlyV5+2a1p0zzKzTW0YIFbS5e6VFRUvQC+Y0e+xVUCAAA0PIx8AwBq5ECXJgMAAMCBEb4BALWyv0uTAQAAYP8I3wCAOqm4NBkAAAAOjPANAKgzowZHnZumdXUAAAA0VIRvAEBI9e4dqxkzovS//3GeOAAAiByEbwBASP3wg1PTp3vUo0e8zj47Vs884+ZSZQAAIOwRvgEAIdW7t0+GUX7s+XffOXXvvdHq2jVOF10Uo1decSs72+YCAQAALED4BgCE1IIFxVq7tlBTppSoWze/JMk0Df3nPy5NmBCtzp3jdemlMZo/36WCApuLBQAAqCeEbwBAyLVoYeqaa8q0dGmRVq0q0O23l6pjx/Ig7vMZ+te/XBozJkbHHRevUaOitWSJS6WlNhcNAABQB4ZpRs68szt35odsXy6XQ0lJcdq1q1A+XyBk+4V96Hnkoef1b+NGhxYudGnhQre2bg3+fDgx0dT555fpoot8OuUUv5xOe2qk75GHnodWs2YJdpcAAJYgfFuEN+rIQ88jDz23jmlKX3/t0Ntvu/Xuuy7t3BkcxJs1C+jCC3266KIypacHanSps7qi75GHnocW4RtAuCJ8W4Q36shDzyMPPQ8Nn0/6z3+cWrjQpcWL3crLC07aRx4Z0EUXlY+Id+pkfR/oe+Sh56FF+AYQrgjfFuGNOvLQ88hDz0OvtFRascKlhQtdWrbMpeLi4CDesaNfF11UPiLepo01b2/0PfLQ89AifAMIV4Rvi/BGHXnoeeSh5/YqKJCWLXPp7bfd+ugjp3y+4CB+wgl+XXRRmQYM8KlFC1PNm1fvD/odOw7+XkHfIw89Dy3CN4Bw5bK7AAAAaiM+Xho0yKdBg3zKzpYWL3Zr4UKXPv/cKdM09M03Tn3zjVP33GPqlFP8dpcLAAAiHJcaAwA0esnJ0hVXlGnhwmJ9912h7r+/RF277rmG+Kef8lkzAACwF+EbABBWWrUydd11ZVq+vEhfflmgSZNK1b49I98AAMBeDAUAAMLW0UebuuUWr26+2asWLap3HmmXLnFq2zagtm0DOuaY8q+2bQM68khTLt41AQBALfFnBAAg7NXkOuAZGQ5lZDj0+efBy91uU23aBNSunanOnaUjjnDpqKP8ats2oJQUM6TXGgcAAI0P4RsAgL1cc41XW7Y4tGWLQ7/9Zsg0y1N1WZmhH3906scfpSVLJMlT+ZymTc2gkfKjjy7/ftRRAUVHV2+/9TUbOwAAaJgI3wAA7GXKlNLK2yUl0i+/lAfxn37a8/2nn5zatWvPc3JyDH39tVNff+0M2pZhmGrd2qw8dH3vgN6qFaPlAABEEsI3AAAHEB0tdewYUMeOe67tXHHN5y1bCrV5s6GffjL2CuUO/fyzQ2Vl5anaNA1t3Wpo61aHVqwI3nZsrFkZyNu2bRzXjmZ0HgCA2iN8AwBQCykpUvfufnXvHrzc55O2bjX2GSkvv52RseciI0VFhtatc2rdOqdq4v33XUpIMPf6kuLjTcXG1uzc9nDU0D8coD4AiGy2hu+srCzdfffdWr16tZxOp/r3769JkybJtZ/pZD/++GM9+uij+u2339SqVSvdeuutOv30022oGgDQGIUqMLhc5bOsH320X2edFXyJs/x8BYXxiu//+59DRUXVS84jRsTsd7nDUR7EK0J5fLyCQnrF/fj4fder+jxnzT4PAAAA1WBr+L7pppvUokULffrpp8rMzNTo0aP10ksvaeTIkUHr/fLLLxo3bpwee+wxnXbaaVq+fLluuukmLV++XC1atLCpegAAaiYhQeraNaCuXYMPMw8EpJYtqzfqeCCBgKHcXCk3t+7D37GxVUfWExLMaj//X/9yyumU3O7yDyNcLnP394plwffL1w1e5nAcej8AADQmtoXvX3/9VatXr9Ynn3yimJgYtW7dWmPGjNEjjzxSJXwvXLhQ6enpOvPMMyVJ5557rt5++2298cYbuuGGG+woHwCAelOToPn11wXKzzeUn2+ooECVt/PztXvZvsurrlcxg/uBFBUZKioylJFRu5/n0ktja/fEvRiGuVd4Lw/nFYG+4vu+y6rruuuiZRjl/+7B38snwav4qljuchmKjpa83ihJ5j6Pm1W2s/9tV7++f/zDvfvfQEHf9/zbVL1d8+/mfrcNALCObeH7xx9/VNOmTYNGrtu2batt27YpLy9PiYmJlcu3bNmi9u3bBz3/mGOO0ebNm2u0T4fDkMMRmncZp9MR9B3hj55HHnoemezu+1FHVbyPmft8rx7TlAoLFRTY8/OlggKjyrJ9g/3nn4fueHTTNOT1Sl5vxZL6e/9++213LZ9Z2+fVzJ13VvP6dDZxufidBwC1YVv4LiwsVExM8HlrFfeLioqCwvf+1o2OjlZRUVGN9pmcHCcjxB/xJibu/9w8hC96HnnoeWSyq+9JSXF13kZycu2eV9230B9/LJ94rqxsz/e9b9fHsv099uab1avvxBPLD/U3zT3f975t1fca/tnSYNXH/0EAiES2he/Y2FgVFxcHLau4HxcX/Es9JiZGJSUlQctKSkqqrHco2dmFIR35TkyMUV5esfz+xnEJGdQNPY889DwyWdf36r2n7dpVWI/7rKnq1ZiSYk+Nb75ZvfqWLatZffXV8+Tk6tWXnV0oc/cBDQf6frDHavq94nabNg3j/yDhHkC4si18t2vXTjk5OcrMzFRqaqok6aefflLLli2VkBA86Uz79u21YcOGoGVbtmxR586da7TPQMBUIFCzw/Pqyu8PyOfjj/JIQs8jDz2PTPXd9+rOxu7z1dsuLdPQXw+1rS9Ur/Xq7uNA54RbraH3FwAaKttO2mnTpo26deumBx98UAUFBfrtt980e/ZsDR48uMq6/fv31+rVq7VkyRL5fD4tWbJEq1ev1oUXXmhD5QAAAAAA1IytM2bMnDlTPp9PZ5xxhoYOHarevXtrzJgxkqS0tDQtWrRIUvlEbE8//bTmzJmjE088UbNnz9asWbN01FFH2Vk+AAARZceO/Gp9AQCAqgzTNEN7HLaNdu4M3R8ELpdDSUlx2rWrkMOzIgQ9jzz0PDLR98hDz0OrWbO6XfMeABoqrhUBAAAAAIDFCN8AAAAAAFiM8A0AAAAAgMUI3wAAAAAAWIzwDQAAAACAxQjfAAAAAABYLKIuNQYAAAAAgB0Y+QYAAAAAwGKEbwAAAAAALEb4BgAAAADAYoRvAAAAAAAsRvgGAAAAAMBihG8AAAAAACxG+AYAAAAAwGKEbwAAAAAALEb4BgAAAADAYoTvEJo4caIuv/xyu8uAxX7//XeNHTtWPXr0UPfu3TVmzBj99ttvdpeFepaVlaUxY8YoPT1d3bt319SpU+Xz+ewuCxbavHmzRowYoZNOOkm9evXSrbfequzsbLvLQgj4/X5dfvnluu222+wuBQDQiBG+Q2T+/PlavHix3WUgBK6//no1adJEK1as0IoVK9S0aVONGTPG7rJQz2666SbFxsbq008/1fz58/XFF1/opZdesrssWKSkpEQjR45UWlqaPvvsMy1evFg5OTm644477C4NIfDUU09pzZo1dpcBAGjkCN8hsGXLFs2ePVtDhgyxuxRYLDc3V6mpqbrxxhsVGxuruLg4XXHFFfrhhx+Um5trd3moJ7/++qtWr16tiRMnKiYmRq1bt9aYMWP02muv2V0aLLJt2zZ17NhR119/vaKiopSUlKRhw4bpq6++srs0WOyLL77Q8uXLdfbZZ9tdCgCgkXPZXUBjV1JSooyMjP0+1qxZMzkcDo0fP1733nuv1q5dq59//jnEFaK+HarnL7zwQtCyZcuW6fDDD1eTJk1CUR5C4Mcff1TTpk3VokWLymVt27bVtm3blJeXp8TERBurgxWOPvpoPf/880HLli1bpuOOO86mihAKWVlZuvPOOzV79myObAEA1Bnhu47++9//6oorrtjvY08//bRWrFihXr166dRTT9XatWtDXB2scKien3nmmZX3//nPf2ru3Ll65plnQlUeQqCwsFAxMTFByyruFxUVEb7DnGmaeuKJJ/TRRx9p3rx5dpcDiwQCAU2cOFEjRoxQx44d7S4HABAGCN911L17d33//ff7fWzRokXavHmzXn/99RBXBSsdrOcVvF6vHnroIS1ZskRz5sxRjx49QlQdQiE2NlbFxcVByyrux8XF2VESQqSgoEC33367NmzYoHnz5qlDhw52lwSLzJkzR1FRUUyUCgCoN4RvC7377rv6+eefdfLJJ0uSSktL5ff7lZ6erkWLFumwww6zuUJYITs7W6NHj5bX69X8+fPVunVru0tCPWvXrp1ycnKUmZmp1NRUSdJPP/2kli1bKiEhwebqYJWtW7dq1KhROuywwzR//nwlJyfbXRIs9O6772rHjh1KT0+XVH7KkSR9+OGHTL4GAKgVwzRN0+4iIsWsWbO0evVqvfrqq3aXAouUlZVp2LBhSkpK0tNPP63o6Gi7S4JFLrnkErVs2VL333+/du3apdGjR6tv374aN26c3aXBArm5uRowYIB69OihqVOnyuFgvtJIU3GZsWnTptlcCQCgsWLkG6hHH330kTZs2CCPx6OePXsGPfb+++9ztEMYmTlzpu6//36dccYZcjgcGjBgAJeUC2Nvv/22tm3bpqVLl+qDDz4Ieuzbb7+1qSoAANCYMPINAAAAAIDFOG4OAAAAAACLEb4BAAAAALAY4RsAAAAAAIsRvgEAAAAAsBjhGwAAAAAAixG+AQAAAACwGOEbAAAAAACLEb4BAAAAALAY4RsAAAAAAIsRvgHAIrNmzVJaWprdZRyU3+/X66+/rosvvlgnnXSSOnfurH79+unxxx9Xbm6u3eUBAACEDZfdBQAA7FFYWKhrrrlGGzZs0LBhw3TNNdfI4/FozZo1evXVV2Wapm6++Wa7ywQAAAgLhG8AiFDjx4/XDz/8oFdffVVdunSpXH7yySdr6NCh2rZtm43VAQAAhBcOOweAEPrwww81YMAAdenSRb169dLkyZNVWFgYtM7rr7+u008/Xccff7yGDx+u//73v+rQoYPefvvteqtj8eLF+vjjj3X77bcHBe8KLVu21AknnFBv+wMAAIh0jHwDQIj8+9//1tixY3XOOedo/Pjx+v333zVjxgz9/PPPeumllyrXuffeezVkyBD17dtXmzZt0i233FLvtcydO1etWrXSgAED6n3bAAAAqIrwDQAh8tRTT6lLly564oknKpc1adJEt9xyi1atWqXu3bvrmWeeUY8ePTRlyhRJUu/evVVaWqqnnnqq3urIyMjQhg0bdM0118jh4AAoAACAUOCvLgAIgcLCQm3atEn9+vULWn7OOefI5XJpzZo18vv92rRpk/r06RO0zhlnnFFle3fccYd69+6tDh06yOfzBT32008/adCgQerbt6+uuOIK7dixI+jx77//XpLUrl27+vjRAAAAUA2EbwAIgfz8fJmmqdTU1KDlLpdLTZs2VW5urrKzs+Xz+ZScnBy0TkpKSpXtDRgwQAsXLtzvvu69915dc801WrZsmU477TTNmDEj6PGCggJJqlILAAAArEP4BoAQSEhIkGEYysrKClru8/mUk5OjJk2aKDk5WS6XS9nZ2UHr7PscSTrppJP2G54zMzP1008/6eyzz5YkDR06VMuXLw9apyLcZ2Rk1OlnAgAAQPURvgEgBOLi4nTsscdq6dKlQcuXL18un8+n9PR0OZ1OHXvssfr3v/8dtM6HH35Y7f1s375drVq1kmEYkqT4+Hi53W7t2rWrcp3jjz9eTZo00YIFC/a7jU2bNlWZgR0AAAB1w4RrABAiY8eO1fXXX6+bb75ZAwYM0G+//abHHntMPXv2VPfu3SVJo0eP1pgxY3TXXXfpnHPO0caNG/Xuu+9KUrUmRzNNc7/LK8K4JMXExGjSpEm64447NGLECA0ePFjNmzfXn3/+qRUrVujLL7/Ul19+WQ8/MQAAACoQvgEgRM444wzNmjVLTz/9tMaMGaPExET1799fEyZMCFrnvvvu05w5c7Ro0SIdf/zxuvfeezVq1CjFx8cfch+tWrXS9u3bZZqmDMNQQUGBysrK1LRp06D1Bg0apNTUVD3//PO6++675ff71aJFC/31r3/Vww8/XN8/OgAAQMQzzAMNkwAAGoS33npLd911l/7973/riCOOCHqsQ4cO2rBhg1yuPZ+lXnrppbryyit11lln6aWXXtLGjRsJ1AAAADYjfANAA5KTk6OnnnpKPXr0UFxcnNatW6dnn31WPXr00OzZsyvXmzhxolatWqWMjAy1aNFC6enpeuyxxyRJP/74oyZNmqTCwkI1b95cjz76qFq0aGHXjwQAAAARvgGgQSkoKNAtt9yitWvXKi8vT0lJSTrrrLM0YcIExcXF2V0eAAAAaonwDQAAAACAxbjUGAAAAAAAFiN8AwAAAABgMcI3AAAAAAAWI3wDAAAAAGAxwjcAAAAAABYjfAMAAAAAYDHCNwAAAAAAFiN8AwAAAABgMcI3AAAAAAAWI3wDAAAAAGAxwjcAAAAAABb7f8LLyho5vixEAAAAAElFTkSuQmCC",
      "text/plain": [
       "<Figure size 800x550 with 1 Axes>"
      ]
     },
     "metadata": {},
     "output_type": "display_data"
    }
   ],
   "source": [
    "plt.plot(np.log10(C_grid), cv_tr_bce_list, 'bs-', label='train BCE')\n",
    "plt.plot(np.log10(C_grid), cv_va_bce_list, 'rs-', label='valid BCE')\n",
    "\n",
    "# for j in range(len(hl_size_grid)):\n",
    "#     plt.plot(hl_size_grid[j][0] *hl_size_grid[j][1] , cv_tr_bce_list[j], 'bs-', label='train BCE')\n",
    "#     plt.plot(hl_size_grid[j][0] *hl_size_grid[j][1], cv_va_bce_list[j], 'rs-', label='valid BCE')\n",
    "\n",
    "\n",
    "for i in range(len(tr_bce_list_for_each_C)):\n",
    "    for j in range(len(tr_bce_list_for_each_C[0])):\n",
    "        plt.plot(np.log10(C_grid[i]), tr_bce_list_for_each_C[i][j], marker='o', color='blue', markersize = 4)\n",
    "        plt.plot(np.log10(C_grid[i]), va_bce_list_for_each_C[i][j], marker='o', color='red', markersize = 4)\n",
    "        \n",
    "plt.ylabel('error')\n",
    "plt.xlabel(\"$\\log_{10} C$\");\n",
    "plt.legend(bbox_to_anchor=(1.5, 0.5)) # make legend outside plot\n",
    "plt.ylim([-0.1, 3.5]);"
   ]
  },
  {
   "cell_type": "code",
<<<<<<< HEAD
   "execution_count": 127,
=======
   "execution_count": 36,
>>>>>>> 611be6204757f790df5d26aaa1e09d9da08f028c
   "id": "009b94b9",
   "metadata": {},
   "outputs": [],
   "source": [
    "# print(\"Best model has coefficient values:\")\n",
    "# print(best_lr.coef_)"
   ]
  },
  {
   "cell_type": "code",
<<<<<<< HEAD
   "execution_count": 128,
=======
   "execution_count": 37,
>>>>>>> 611be6204757f790df5d26aaa1e09d9da08f028c
   "id": "cbb537b6",
   "metadata": {},
   "outputs": [],
   "source": [
    "prng = np.random.RandomState(101)\n",
    "\n",
    "bestlr_yproba1_tr = best_lr.predict_proba(x_tr[best_fold_in_C])[:,1] # TODO fixme\n",
    "bestlr_yproba1_va = best_lr.predict_proba(x_va[best_fold_in_C])[:,1] # TODO fixme"
   ]
  },
  {
   "cell_type": "code",
<<<<<<< HEAD
   "execution_count": 129,
=======
   "execution_count": 38,
>>>>>>> 611be6204757f790df5d26aaa1e09d9da08f028c
   "id": "dd8eb6f4",
   "metadata": {},
   "outputs": [],
   "source": [
    "# bestlr_yproba1_va.shape\n",
    "# y_va[best_fold_in_C].shape"
   ]
  },
  {
   "cell_type": "code",
<<<<<<< HEAD
   "execution_count": 130,
=======
   "execution_count": 39,
>>>>>>> 611be6204757f790df5d26aaa1e09d9da08f028c
   "id": "f6477368",
   "metadata": {
    "scrolled": false
   },
   "outputs": [
    {
     "data": {
      "image/png": "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",
      "text/plain": [
       "<Figure size 500x500 with 1 Axes>"
      ]
     },
     "metadata": {},
     "output_type": "display_data"
    }
   ],
   "source": [
    "# Follow the instruction of HW2 and produce Figure 1 for your report:\n",
    "plt.subplots(nrows=1, ncols=1, figsize=(5,5));\n",
    "\n",
    "# TODO Use provided data and predictions on the Validation set\n",
    "# Produce the ROC Curve utilizing `sklearn.metrics.roc_curve' within plt defined above.\n",
    "# To start, read the official Document and examples of 'sklearn.metrics.roc_curve'. \n",
    "va_fpr, va_tpr, va_thresholds = sklearn.metrics.roc_curve(y_va[best_fold_in_C], bestlr_yproba1_va)\n",
    "tr_fpr, tr_tpr, tr_thresholds = sklearn.metrics.roc_curve(y_tr[best_fold_in_C], bestlr_yproba1_tr)\n",
    "\n",
    "# Read HW2 instructions carefully for plot style (line type, line color, etc.)\n",
    "\n",
    "plt.plot(tr_fpr, tr_tpr, 'b.-', label = \"Training Set\" )\n",
    "plt.plot(va_fpr, va_tpr, 'r.-', label = \"Validation Set\" )\n",
    "plt.title(\"ROC on Validation Set and Training Set\");\n",
    "plt.xlabel('false positive rate');\n",
    "plt.ylabel('true positive rate');\n",
    "plt.legend(loc='lower right');\n",
    "B = 0.01\n",
    "plt.xlim([0 - B, 1 + B]);\n",
    "plt.ylim([0 - B, 1 + B]);"
   ]
  },
  {
   "cell_type": "markdown",
   "id": "ae5420fd",
   "metadata": {},
   "source": [
    "## Confusion Matrix on the best C/fold"
   ]
  },
  {
   "cell_type": "code",
<<<<<<< HEAD
   "execution_count": 131,
=======
   "execution_count": 40,
>>>>>>> 611be6204757f790df5d26aaa1e09d9da08f028c
   "id": "d3419d0d",
   "metadata": {},
   "outputs": [],
   "source": [
    "import threshold_selection\n",
    "from confusion_matrix import calc_confusion_matrix_for_probas_and_threshold"
   ]
  },
  {
   "cell_type": "code",
<<<<<<< HEAD
   "execution_count": 132,
=======
   "execution_count": 41,
>>>>>>> 611be6204757f790df5d26aaa1e09d9da08f028c
   "id": "74b8cc5a",
   "metadata": {},
   "outputs": [
    {
     "name": "stdout",
     "output_type": "stream",
     "text": [
      "[[214  33]\n",
      " [ 54 180]]\n",
      "chosen thr = 0.5000, tpr = 0.7692, ppv = 0.8451,\n"
     ]
    }
   ],
   "source": [
    "best_thr_default = 0.5\n",
    "\n",
    "print(sklearn.metrics.confusion_matrix(y_va[best_fold_in_C], bestlr_yproba1_va >= best_thr_default))\n",
    "\n",
    "thresh_grid, perf_dict = threshold_selection.compute_perf_metrics_across_thresholds(y_va[best_fold_in_C], bestlr_yproba1_va, [best_thr_default])\n",
    "\n",
    "tpr = perf_dict['tpr'][0]# TODO fixme\n",
    "ppv = perf_dict['ppv'][0] # TODO fixme\n",
    "\n",
    "print(f\"chosen thr = {best_thr_default :.4f}, tpr = {tpr :.4f}, ppv = {ppv :.4f},\")"
   ]
  },
  {
   "cell_type": "markdown",
   "id": "722a94dd",
   "metadata": {},
   "source": [
    "## Area Under ROC Curve"
   ]
  },
  {
   "cell_type": "code",
<<<<<<< HEAD
   "execution_count": 133,
=======
   "execution_count": 42,
>>>>>>> 611be6204757f790df5d26aaa1e09d9da08f028c
   "id": "3288995a",
   "metadata": {},
   "outputs": [
    {
     "data": {
      "text/plain": [
       "0.9067787812727084"
      ]
     },
<<<<<<< HEAD
     "execution_count": 133,
=======
     "execution_count": 42,
>>>>>>> 611be6204757f790df5d26aaa1e09d9da08f028c
     "metadata": {},
     "output_type": "execute_result"
    }
   ],
   "source": [
    "roc_auc_score(y_va[best_fold_in_C],bestlr_yproba1_va)"
   ]
  },
  {
   "cell_type": "code",
   "execution_count": null,
   "id": "cc494659",
   "metadata": {},
   "outputs": [],
   "source": []
  },
  {
   "cell_type": "code",
   "execution_count": null,
   "id": "3813671a",
   "metadata": {},
   "outputs": [],
   "source": []
  },
  {
   "cell_type": "code",
   "execution_count": null,
   "id": "e8a30fb2",
   "metadata": {},
   "outputs": [],
   "source": []
  },
  {
   "cell_type": "code",
   "execution_count": null,
   "id": "91230608",
   "metadata": {},
   "outputs": [],
   "source": []
  },
  {
   "cell_type": "markdown",
   "id": "42697dd7",
   "metadata": {},
   "source": [
    "## read the test file into vocab matrix"
   ]
  },
  {
   "cell_type": "code",
   "execution_count": 134,
   "id": "d0efecda",
   "metadata": {},
   "outputs": [
    {
     "data": {
      "text/plain": [
       "(600, 2)"
      ]
     },
     "execution_count": 134,
     "metadata": {},
     "output_type": "execute_result"
    }
   ],
   "source": [
    "x_test_df = pd.read_csv(os.path.join(data_dir, 'x_test.csv'))\n",
    "x_test_df.shape"
   ]
  },
  {
   "cell_type": "code",
   "execution_count": 135,
   "id": "62bcdb1b",
   "metadata": {},
   "outputs": [
    {
     "data": {
      "text/plain": [
       "600"
      ]
     },
     "execution_count": 135,
     "metadata": {},
     "output_type": "execute_result"
    }
   ],
   "source": [
    "te_text_list = x_test_df['text'].values.tolist()\n",
    "len(te_text_list)"
   ]
  },
  {
   "cell_type": "code",
   "execution_count": 136,
   "id": "a2880b43",
   "metadata": {},
   "outputs": [
    {
     "data": {
      "text/plain": [
       "<600x2368 sparse matrix of type '<class 'numpy.int64'>'\n",
       "\twith 4994 stored elements in Compressed Sparse Row format>"
      ]
     },
     "execution_count": 136,
     "metadata": {},
     "output_type": "execute_result"
    }
   ],
   "source": [
    "vec = CountVectorizer(vocabulary = vocab)\n",
    "t = vec.fit_transform(te_text_list)\n",
    "t"
   ]
  },
  {
   "cell_type": "code",
   "execution_count": 137,
   "id": "63bf130a",
   "metadata": {},
   "outputs": [
    {
     "data": {
      "text/plain": [
       "(600, 2368)"
      ]
     },
     "execution_count": 137,
     "metadata": {},
     "output_type": "execute_result"
    }
   ],
   "source": [
    "te_array = t.toarray()\n",
    "te_array.shape"
   ]
  },
  {
   "cell_type": "code",
   "execution_count": 138,
   "id": "e92838f9",
   "metadata": {},
   "outputs": [
    {
     "data": {
      "text/plain": [
       "array([2.65546554e-01, 8.33953220e-01, 2.73460630e-07, 9.60516498e-05,\n",
       "       2.13197900e-03, 4.09534948e-06, 7.90253770e-05, 8.41977764e-04,\n",
       "       1.88699627e-02, 6.33438916e-02, 5.67175653e-02, 2.14330529e-01,\n",
       "       1.47232229e-04, 2.25315446e-03, 1.58119351e-01, 2.91949010e-06,\n",
       "       5.49601383e-08, 7.77829588e-02, 1.85308175e-01, 8.19063850e-01,\n",
       "       1.24550913e-02, 8.79208937e-01, 1.69781229e-02, 5.81686765e-02,\n",
       "       3.65799325e-01, 2.34584303e-03, 2.74154166e-01, 4.53848626e-01,\n",
       "       2.79938415e-02, 3.09728649e-05, 9.33571989e-01, 1.09462433e-01,\n",
       "       3.29054975e-01, 3.73784172e-09, 6.88266011e-01, 6.41118197e-01,\n",
       "       1.82938109e-01, 2.66785914e-03, 1.92485113e-01, 2.17379253e-01,\n",
       "       3.84274290e-03, 9.58029021e-04, 6.50160874e-01, 1.40824520e-03,\n",
       "       7.58388747e-05, 2.11972482e-04, 8.91350792e-02, 1.31349102e-03,\n",
       "       1.37208319e-05, 2.79938415e-02, 5.12400220e-04, 1.17222703e-02,\n",
       "       9.97236557e-01, 2.09764038e-01, 9.41212836e-03, 4.76738705e-02,\n",
       "       2.01605037e-02, 6.05608133e-04, 2.63272251e-01, 3.16310969e-03,\n",
       "       3.36270890e-01, 4.13790045e-03, 3.78237456e-03, 4.53587418e-03,\n",
       "       1.35775233e-04, 1.16420228e-03, 3.71745844e-05, 9.34220862e-01,\n",
       "       8.14712672e-04, 8.04813407e-01, 8.02519842e-05, 4.59205778e-01,\n",
       "       3.85025074e-03, 2.71055330e-07, 4.99168987e-01, 2.95829591e-01,\n",
       "       6.11250373e-01, 1.00548129e-04, 9.61983636e-02, 5.45675484e-05,\n",
       "       1.12146166e-02, 1.62337583e-07, 1.31157486e-02, 2.74768626e-01,\n",
       "       6.94843707e-07, 4.04533689e-01, 7.62534520e-04, 5.49334013e-04,\n",
       "       1.28840724e-01, 4.38399629e-04, 1.09810593e-01, 2.73072662e-02,\n",
       "       1.08658489e-02, 5.65199377e-02, 2.48160824e-02, 2.99305930e-01,\n",
       "       3.51772266e-02, 1.90549877e-02, 1.16836412e-01, 8.84884969e-03,\n",
       "       9.99999824e-01, 9.78849047e-01, 4.13317970e-01, 9.92303717e-01,\n",
       "       1.82171167e-01, 9.81686042e-01, 9.99964770e-01, 9.99991802e-01,\n",
       "       5.68517544e-12, 2.29510115e-06, 8.85255995e-01, 5.47374220e-03,\n",
       "       9.93420222e-01, 1.15356998e-01, 9.94446953e-01, 1.58180951e-01,\n",
       "       9.78037850e-01, 9.99886879e-01, 9.94062065e-01, 6.25109309e-02,\n",
       "       2.89943726e-05, 9.96968719e-01, 9.86411467e-01, 9.99831224e-01,\n",
       "       9.99982515e-01, 9.99981459e-01, 9.77368303e-01, 9.82986364e-01,\n",
       "       9.99999941e-01, 7.47080012e-01, 9.99999982e-01, 9.98081746e-01,\n",
       "       9.99975114e-01, 9.99999851e-01, 9.99986749e-01, 9.93236047e-01,\n",
       "       2.28340021e-07, 9.99985258e-01, 9.67822149e-01, 9.93910766e-01,\n",
       "       9.99855336e-01, 3.01426231e-02, 9.73400190e-01, 9.99645464e-01,\n",
       "       9.82101938e-01, 9.99708266e-01, 6.84463290e-06, 1.50965068e-07,\n",
       "       9.99999847e-01, 9.62694905e-01, 1.00000000e+00, 9.98972045e-01,\n",
       "       9.51573581e-02, 9.99996866e-01, 3.45684687e-01, 6.74458070e-01,\n",
       "       9.99353397e-01, 7.53920971e-01, 9.73134142e-01, 9.99815027e-01,\n",
       "       7.34627563e-03, 9.29026711e-01, 8.12825397e-01, 9.99999701e-01,\n",
       "       9.98831758e-01, 9.92870750e-01, 9.99677825e-01, 9.28146153e-01,\n",
       "       7.03581524e-01, 5.38309138e-02, 4.08879242e-02, 2.01302271e-01,\n",
       "       7.96048108e-01, 1.76039986e-01, 8.18895188e-01, 9.99998522e-01,\n",
       "       9.85355950e-01, 6.54026510e-01, 9.99999603e-01, 7.00277928e-01,\n",
       "       9.98037612e-01, 1.27217528e-05, 9.98119307e-01, 9.96668753e-01,\n",
       "       9.99365266e-01, 9.99855482e-01, 9.41649764e-01, 9.99980779e-01,\n",
       "       8.90857866e-01, 9.90848443e-01, 9.99855779e-01, 3.41662039e-01,\n",
       "       7.08800571e-01, 9.99999587e-01, 3.95493960e-01, 9.99949494e-01,\n",
       "       1.29806771e-01, 2.75063045e-01, 5.21896008e-01, 9.99090508e-01,\n",
       "       3.01339220e-04, 8.96595310e-01, 2.21703062e-03, 8.03309651e-02,\n",
       "       3.95044514e-05, 1.83000077e-01, 1.44769534e-01, 6.01114046e-08,\n",
       "       1.55507599e-04, 8.75640687e-01, 2.02581091e-04, 2.46073665e-04,\n",
       "       6.71322028e-03, 2.46819837e-01, 2.32765310e-01, 1.50581814e-02,\n",
       "       1.03977290e-01, 4.35609380e-02, 2.87797583e-01, 2.32208212e-06,\n",
       "       1.80036939e-04, 4.30691205e-03, 7.74855662e-01, 1.66021071e-01,\n",
       "       1.34827320e-06, 5.58800946e-05, 3.33231638e-03, 6.95840213e-01,\n",
       "       2.32318250e-02, 3.26726633e-01, 3.21630814e-07, 6.03549847e-04,\n",
       "       9.08820159e-01, 6.13469986e-03, 1.21575586e-02, 1.72338398e-02,\n",
       "       1.73425270e-05, 9.62017888e-01, 8.89397503e-01, 1.07867042e-03,\n",
       "       2.01312782e-03, 1.87555512e-04, 1.18101000e-01, 6.83005168e-14,\n",
       "       9.88624246e-01, 1.93619859e-08, 1.20577617e-02, 2.02205542e-13,\n",
       "       1.33134463e-03, 3.03143687e-01, 7.63890928e-01, 9.86630758e-01,\n",
       "       9.59130486e-01, 1.08803766e-03, 9.39980159e-01, 1.07669371e-04,\n",
       "       1.82369711e-01, 4.38678122e-02, 7.02664951e-01, 3.01990920e-02,\n",
       "       1.98194205e-02, 5.93106043e-04, 2.07126181e-03, 1.00409068e-06,\n",
       "       9.86428579e-04, 2.51169107e-02, 4.06503731e-01, 2.49003632e-03,\n",
       "       1.40556308e-03, 4.87334460e-05, 9.92480067e-05, 6.88249111e-05,\n",
       "       7.45120051e-01, 3.54814224e-01, 1.10283185e-01, 2.13306726e-05,\n",
       "       2.43705546e-02, 6.78148904e-02, 5.53821933e-01, 1.58326086e-04,\n",
       "       5.30406094e-05, 3.40785714e-02, 1.18323363e-01, 1.45732311e-04,\n",
       "       2.30933430e-08, 2.11048998e-04, 3.53614459e-01, 3.28825216e-04,\n",
       "       6.71759199e-02, 5.81553709e-02, 7.68676066e-01, 5.11923797e-02,\n",
       "       4.04527988e-03, 1.33584312e-09, 4.19124698e-02, 1.46536704e-05,\n",
       "       9.71748462e-01, 3.17015288e-01, 1.10206545e-04, 4.31860237e-02,\n",
       "       5.75172763e-02, 1.16464252e-01, 7.62500667e-01, 9.98724195e-01,\n",
       "       3.02638049e-01, 9.99923106e-01, 2.82966371e-01, 3.87807097e-02,\n",
       "       2.77498348e-01, 7.98907014e-01, 1.06635973e-01, 2.99953291e-01,\n",
       "       6.05061975e-03, 3.36282321e-05, 7.20583564e-01, 5.76611286e-01,\n",
       "       1.27002719e-02, 9.98474944e-01, 1.65200736e-01, 9.99929685e-01,\n",
       "       9.98910114e-01, 9.99999998e-01, 9.99356687e-01, 2.55790774e-01,\n",
       "       3.84907548e-02, 6.24907427e-01, 1.00000000e+00, 1.03535879e-01,\n",
       "       9.99955859e-01, 1.40079482e-01, 9.99990307e-01, 4.94340788e-01,\n",
       "       4.58760882e-01, 1.00607967e-04, 3.71688019e-01, 8.76385756e-01,\n",
       "       9.99986803e-01, 9.99573689e-01, 7.60060418e-01, 5.79346004e-01,\n",
       "       1.33196017e-01, 5.41486719e-01, 5.61808603e-03, 3.01086879e-03,\n",
       "       9.99138647e-01, 6.10978997e-01, 9.84591412e-01, 9.78631938e-01,\n",
       "       8.94617892e-03, 6.70788916e-02, 6.59453807e-01, 9.74792084e-01,\n",
       "       9.98420117e-01, 9.30927199e-01, 5.43298004e-01, 2.67047943e-01,\n",
       "       9.99974626e-01, 9.99981125e-01, 9.99822517e-01, 1.00000000e+00,\n",
       "       9.08566228e-02, 9.87792222e-01, 3.66228228e-02, 1.07851816e-01,\n",
       "       7.55164498e-01, 1.77856784e-03, 9.89636966e-01, 9.99986774e-01,\n",
       "       8.51153387e-01, 9.99967724e-01, 2.39689352e-05, 9.32384445e-01,\n",
       "       3.03315833e-01, 9.99676381e-01, 5.86946769e-01, 9.99980591e-01,\n",
       "       9.99840759e-01, 9.99755669e-01, 6.77689587e-02, 5.91231953e-01,\n",
       "       9.97104085e-01, 9.97174289e-01, 2.08848775e-01, 9.99999982e-01,\n",
       "       3.02739768e-01, 9.75660547e-01, 8.60573629e-01, 1.68360751e-01,\n",
       "       9.99021669e-01, 9.94864742e-01, 6.96975355e-02, 3.81440205e-01,\n",
       "       9.99999772e-01, 6.57247074e-03, 6.28024443e-01, 9.99986068e-01,\n",
       "       1.01794317e-01, 3.22317636e-01, 9.11766579e-01, 2.67903840e-01,\n",
       "       4.35238530e-03, 2.30231106e-01, 2.48035164e-09, 4.01884546e-01,\n",
       "       8.20481246e-03, 1.06194456e-01, 2.03726777e-04, 1.12100871e-04,\n",
       "       3.23968701e-05, 7.09656776e-03, 9.38318346e-01, 1.99073974e-05,\n",
       "       1.42300945e-03, 1.42515647e-01, 6.16980705e-01, 2.58180544e-03,\n",
       "       2.96230621e-02, 1.49345348e-02, 5.70749568e-02, 3.66149259e-01,\n",
       "       1.83763264e-03, 3.26350826e-02, 2.87777927e-04, 1.53794396e-08,\n",
       "       8.72143430e-01, 9.74330427e-01, 3.75051721e-03, 6.84606336e-01,\n",
       "       5.38624472e-02, 3.03797999e-02, 8.68317395e-04, 5.78965559e-02,\n",
       "       7.77433711e-07, 3.32936707e-03, 4.68160974e-01, 3.30839027e-04,\n",
       "       6.55785815e-01, 1.10788084e-06, 3.57810700e-05, 2.24915444e-03,\n",
       "       9.98686616e-01, 4.31303055e-01, 3.55197997e-04, 2.87338598e-03,\n",
       "       5.63137286e-05, 5.39357410e-04, 5.51989329e-01, 4.29406829e-07,\n",
       "       9.82700335e-01, 1.87314513e-01, 7.32700942e-03, 7.28469000e-04,\n",
       "       9.23395737e-01, 1.14369111e-02, 1.06151600e-03, 4.99909825e-01,\n",
       "       5.62463672e-02, 4.46347046e-01, 8.16648805e-01, 1.68425696e-01,\n",
       "       8.27182669e-05, 2.53752374e-02, 7.14932578e-01, 3.58196601e-02,\n",
       "       5.17804219e-03, 2.14513947e-02, 1.61845290e-01, 2.19134377e-01,\n",
       "       4.57218068e-01, 9.15884975e-01, 2.51076976e-02, 8.77250792e-01,\n",
       "       3.62101545e-02, 6.85524946e-04, 9.59908639e-05, 5.16996954e-03,\n",
       "       9.79222904e-02, 2.55057389e-02, 1.14772296e-02, 8.54607900e-01,\n",
       "       2.65901455e-05, 1.97101809e-01, 3.14974676e-05, 2.37988035e-02,\n",
       "       6.83596774e-02, 3.38253681e-03, 2.67429371e-10, 2.80507066e-02,\n",
       "       7.64758338e-02, 6.84095170e-03, 1.27990072e-02, 1.68631945e-01,\n",
       "       4.09571829e-06, 5.40276394e-01, 1.19533262e-02, 6.75368212e-01,\n",
       "       1.70078791e-04, 6.65543342e-03, 3.01365499e-02, 1.04491742e-03,\n",
       "       9.99998739e-01, 9.15965255e-01, 9.98539784e-01, 5.80135709e-02,\n",
       "       9.18235634e-01, 9.17726195e-01, 9.99766263e-01, 6.64397510e-01,\n",
       "       9.99704438e-01, 8.85889114e-01, 9.67074158e-01, 9.89944593e-01,\n",
       "       1.28249570e-01, 9.67791017e-01, 1.44255627e-01, 7.28616415e-01,\n",
       "       9.96772881e-01, 5.89072106e-01, 8.85794973e-01, 9.93602152e-01,\n",
       "       9.97717559e-01, 9.71355634e-01, 1.41433687e-01, 2.11980382e-05,\n",
       "       6.21641568e-01, 9.97814418e-01, 7.35691173e-03, 9.41280465e-01,\n",
       "       9.94182810e-01, 1.00000000e+00, 9.08644166e-01, 9.99925637e-01,\n",
       "       8.39317825e-02, 9.87268168e-01, 1.63161073e-02, 4.36393965e-03,\n",
       "       1.88122289e-01, 1.82703950e-01, 9.93492537e-01, 9.99956906e-01,\n",
       "       3.61539947e-03, 9.56300083e-02, 9.99995129e-01, 9.97051805e-01,\n",
       "       9.99756406e-01, 9.95853569e-01, 9.99556893e-01, 7.52293558e-01,\n",
       "       9.99997741e-01, 9.99999974e-01, 8.30600835e-01, 9.21615984e-06,\n",
       "       1.48981423e-01, 9.90550568e-01, 8.77326452e-01, 9.99991181e-01,\n",
       "       3.80038646e-01, 8.47522439e-01, 8.53528067e-01, 6.85824758e-01,\n",
       "       1.49663540e-01, 9.76315196e-01, 9.99999853e-01, 1.00000000e+00,\n",
       "       6.52632203e-05, 8.04910927e-01, 5.25316056e-02, 9.99936727e-01,\n",
       "       9.99714877e-01, 6.00687550e-01, 9.99316326e-01, 1.43975980e-01,\n",
       "       2.27365554e-01, 5.36433408e-02, 9.23035954e-01, 6.79543483e-02,\n",
       "       4.29521237e-01, 9.98206608e-01, 6.28731235e-01, 9.66538188e-01,\n",
       "       9.99031400e-01, 8.84480804e-02, 9.98765548e-01, 2.87924195e-01,\n",
       "       8.14392356e-01, 9.99605641e-01, 9.97160083e-01, 9.99953206e-01,\n",
       "       9.99620971e-01, 1.36592407e-01, 7.88173579e-02, 9.82757965e-01,\n",
       "       9.76607574e-01, 6.66971190e-01, 9.68483586e-01, 9.99975084e-01,\n",
       "       8.97974804e-01, 9.98686180e-01, 9.99999675e-01, 4.45506653e-01])"
      ]
     },
     "execution_count": 138,
     "metadata": {},
     "output_type": "execute_result"
    }
   ],
   "source": [
    "y_te_proba = best_lr.predict_proba(te_array)[:,1]\n",
    "y_te_proba"
   ]
<<<<<<< HEAD
  },
  {
   "cell_type": "code",
   "execution_count": 139,
   "id": "964c55ac",
   "metadata": {},
   "outputs": [
    {
     "data": {
      "text/plain": [
       "((600,), 4.0953494835988316e-06)"
      ]
     },
     "execution_count": 139,
     "metadata": {},
     "output_type": "execute_result"
    }
   ],
   "source": [
    "y_te_proba.shape, y_te_proba[5]"
   ]
  },
  {
   "cell_type": "code",
   "execution_count": 140,
   "id": "4a2b6315",
   "metadata": {},
   "outputs": [],
   "source": [
    "for i in range(y_te_proba.shape[0]):\n",
    "    if y_te_proba[i] >= 0.5: \n",
    "        y_te_proba[i] = 1\n",
    "    else:\n",
    "        y_te_proba[i] = 0"
   ]
=======
>>>>>>> 611be6204757f790df5d26aaa1e09d9da08f028c
  }
 ],
 "metadata": {
  "interpreter": {
   "hash": "d5603cc4667a52057224efdf5ddcc7de73a3282f447f21696056843efd22823e"
  },
  "kernelspec": {
   "display_name": "Python 3 (ipykernel)",
   "language": "python",
   "name": "python3"
  },
  "language_info": {
   "codemirror_mode": {
    "name": "ipython",
    "version": 3
   },
   "file_extension": ".py",
   "mimetype": "text/x-python",
   "name": "python",
   "nbconvert_exporter": "python",
   "pygments_lexer": "ipython3",
   "version": "3.10.12"
  }
 },
 "nbformat": 4,
 "nbformat_minor": 5
}
