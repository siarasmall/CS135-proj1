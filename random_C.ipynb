{
 "cells": [
  {
   "cell_type": "code",
   "execution_count": 1,
   "id": "827b0719",
   "metadata": {},
   "outputs": [],
   "source": [
    "import numpy as np\n",
    "import pandas as pd\n",
    "import sklearn.linear_model\n",
    "import sklearn.metrics\n",
    "import os\n",
    "from sklearn.metrics import roc_auc_score"
   ]
  },
  {
   "cell_type": "code",
   "execution_count": 2,
   "id": "fce9f294",
   "metadata": {},
   "outputs": [],
   "source": [
    "# import plotting libraries\n",
    "import matplotlib\n",
    "import matplotlib.pyplot as plt\n",
    "\n",
    "%matplotlib inline\n",
    "plt.style.use('seaborn-v0_8') # pretty matplotlib plots\n"
   ]
  },
  {
   "cell_type": "markdown",
   "id": "378b2437",
   "metadata": {},
   "source": [
    "## Load Data"
   ]
  },
  {
   "cell_type": "code",
   "execution_count": 3,
   "id": "2a734063",
   "metadata": {},
   "outputs": [],
   "source": [
    "data_dir = 'data_reviews'\n",
    "x_train_df = pd.read_csv(os.path.join(data_dir, 'x_train.csv'))\n",
    "y_train_df = pd.read_csv(os.path.join(data_dir, 'y_train.csv'))\n",
    "\n",
    "N, n_cols = x_train_df.shape\n",
    "# print(\"Shape of x_train_df: (%d, %d)\" % (N,n_cols))\n",
    "# print(\"Shape of y_train_df: %s\" % str(y_train_df.shape))\n",
    "# x_train_df"
   ]
  },
  {
   "cell_type": "code",
   "execution_count": 4,
   "id": "67a9b91f",
   "metadata": {},
   "outputs": [],
   "source": [
    "# df to list\n",
    "tr_text_list = x_train_df['text'].values.tolist()"
   ]
  },
  {
   "cell_type": "code",
   "execution_count": 5,
   "id": "5e193540",
   "metadata": {},
   "outputs": [],
   "source": [
    "y_train_list = y_train_df['is_positive_sentiment'].values.tolist()\n"
   ]
  },
  {
   "cell_type": "markdown",
   "id": "59b9b3b8",
   "metadata": {},
   "source": [
    "## Partition sentences into words"
   ]
  },
  {
   "cell_type": "code",
   "execution_count": 6,
   "id": "ef8944c2",
   "metadata": {},
   "outputs": [],
   "source": [
    "from sklearn.feature_extraction.text import CountVectorizer"
   ]
  },
  {
   "cell_type": "code",
   "execution_count": 7,
   "id": "87e5962c",
   "metadata": {},
   "outputs": [],
   "source": [
    "vectorizer = CountVectorizer()"
   ]
  },
  {
   "cell_type": "markdown",
   "id": "b3c8eb6e",
   "metadata": {},
   "source": [
    "### How big is my vocabulary?"
   ]
  },
  {
   "cell_type": "code",
   "execution_count": 8,
   "id": "b78623d6",
   "metadata": {},
   "outputs": [],
   "source": [
    "x = vectorizer.fit_transform(tr_text_list)\n",
    "vocab = vectorizer.get_feature_names_out()\n"
   ]
  },
  {
   "cell_type": "code",
   "execution_count": 9,
   "id": "8682b1ac",
   "metadata": {},
   "outputs": [],
   "source": [
    "x_train_NV = x.toarray()\n",
    "# N is the number of sentences, and V is the number of vocabulary"
   ]
  },
  {
   "cell_type": "code",
   "execution_count": 10,
   "id": "47ec8774",
   "metadata": {},
   "outputs": [],
   "source": [
    "N = x_train_NV.shape[0]\n",
    "V = x_train_NV.shape[1]"
   ]
  },
  {
   "cell_type": "markdown",
   "id": "bd6d4a45",
   "metadata": {},
   "source": [
    "### Get the common and rare"
   ]
  },
  {
   "cell_type": "code",
   "execution_count": 11,
   "id": "6c0f0f60",
   "metadata": {},
   "outputs": [
    {
     "data": {
      "text/plain": [
       "1572"
      ]
     },
     "execution_count": 11,
     "metadata": {},
     "output_type": "execute_result"
    }
   ],
   "source": [
    "x_common = []\n",
    "\n",
    "x_col_sum = np.sum(x_train_NV, axis = 0)\n",
    "\n",
    "np.max(x_col_sum)"
   ]
  },
  {
   "cell_type": "code",
   "execution_count": 12,
   "id": "39da2e7a",
   "metadata": {},
   "outputs": [],
   "source": [
    "# x_col_sum.shape, x_col_sum[2701]"
   ]
  },
  {
   "cell_type": "code",
   "execution_count": 13,
   "id": "d6e30036",
   "metadata": {},
   "outputs": [],
   "source": [
    "x_common = x_col_sum > N/2 # happens half of the time \n",
    "x_common_V = [int(x) for x in x_common]\n",
    "x_common_V = np.array(x_common_V)"
   ]
  },
  {
   "cell_type": "code",
   "execution_count": 14,
   "id": "91d21ea5",
   "metadata": {},
   "outputs": [],
   "source": [
    "x_rare = x_col_sum < 10\n",
    "x_rare_V = [int(x) for x in x_rare]\n",
    "x_rare_V = np.array(x_rare_V)"
   ]
  },
  {
   "cell_type": "code",
   "execution_count": 15,
   "id": "01a9ef81",
   "metadata": {},
   "outputs": [],
   "source": [
    "# x_common_V.reshape(V, 1)"
   ]
  },
  {
   "cell_type": "code",
   "execution_count": 16,
   "id": "33605ab8",
   "metadata": {},
   "outputs": [],
   "source": [
    "x_common = x_train_NV * x_common_V \n",
    "x_rare = x_train_NV * x_rare_V"
   ]
  },
  {
   "cell_type": "markdown",
   "id": "3b273273",
   "metadata": {},
   "source": [
    "### Get Normal Vocab"
   ]
  },
  {
   "cell_type": "code",
   "execution_count": 17,
   "id": "1721280f",
   "metadata": {},
   "outputs": [],
   "source": [
    "x_normal = x_train_NV * (1 - x_common_V) * (1 - x_rare_V)"
   ]
  },
  {
   "cell_type": "code",
   "execution_count": 18,
   "id": "81366d5b",
   "metadata": {},
   "outputs": [],
   "source": [
    "y_train_list = np.array(y_train_list)"
   ]
  },
  {
   "cell_type": "code",
   "execution_count": 19,
   "id": "668a7c72",
   "metadata": {},
   "outputs": [],
   "source": [
    "%run performance_metrics.py\n",
    "%run cross_validation.py"
   ]
  },
  {
   "cell_type": "code",
   "execution_count": 20,
   "id": "261ac303",
   "metadata": {},
   "outputs": [],
   "source": [
    "M = 2\n",
    "\n",
    "x_tr_M2 = np.random.randint(2, size=10).reshape(-1, 1)\n",
    "x_va_N2 = np.random.randint(2, size=10).reshape(-1, 1)\n",
    "y_tr_M = np.random.randint(2, size=10)\n",
    "y_va_N = np.random.randint(2, size=10)"
   ]
  },
  {
   "cell_type": "markdown",
   "id": "b67d8450",
   "metadata": {},
   "source": [
    "## Cross Validation"
   ]
  },
  {
   "cell_type": "code",
   "execution_count": 21,
   "id": "66fd228b",
   "metadata": {},
   "outputs": [],
   "source": [
    "%run binary_metrics.py\n",
    "%run proba_metrics.py"
   ]
  },
  {
   "cell_type": "code",
   "execution_count": 22,
   "id": "8b8ff466",
   "metadata": {},
   "outputs": [
    {
     "data": {
      "text/plain": [
       "(1599, 801)"
      ]
     },
     "execution_count": 22,
     "metadata": {},
     "output_type": "execute_result"
    }
   ],
   "source": [
    "K = 3 # num folds of CV\n",
    "random_state = 1234\n",
    "\n",
    "train_error_per_fold = np.zeros(K, dtype=np.float32)\n",
    "test_error_per_fold = np.zeros(K, dtype=np.float32)\n",
    "\n",
    "N = x_normal.shape[0]\n",
    "# TODO define the folds here by calling your function\n",
    "# e.g. ... = make_train_and_test_row_ids_for_n_fold_cv(...)\n",
    "train_ids, test_ids = make_train_and_test_row_ids_for_n_fold_cv(\n",
    "    N, K, random_state)\n",
    "\n",
    "len(train_ids[0]), len(test_ids[0])"
   ]
  },
  {
   "cell_type": "code",
   "execution_count": 23,
   "id": "2961eec4",
   "metadata": {},
   "outputs": [],
   "source": [
    "y_list = y_train_list"
   ]
  },
  {
   "cell_type": "markdown",
   "id": "9e6e3971",
   "metadata": {},
   "source": [
    "## normalize the data"
   ]
  },
  {
   "cell_type": "code",
   "execution_count": 24,
   "id": "52fc9c3f",
   "metadata": {},
   "outputs": [],
   "source": [
    "# partition the data into train and test\n",
    "\n",
    "x_tr, y_tr = list(), list()\n",
    "y_va, x_va = list(), list()\n",
    "\n",
    "\n",
    "for i in range(len(train_ids)):\n",
    "    x_tr.append(x_normal[train_ids[i]])\n",
    "    y_tr.append(y_list[train_ids[i]])\n",
    "\n",
    "for i in range(len(test_ids)):\n",
    "    x_va.append(x_normal[test_ids[i]])\n",
    "    y_va.append(y_list[test_ids[i]])\n"
   ]
  },
  {
   "cell_type": "code",
   "execution_count": 25,
   "id": "107fbf3e",
   "metadata": {},
   "outputs": [],
   "source": [
    "np.random.seed(1234)\n",
    "\n",
    "C_grid = np.sort(10**np.random.uniform(-9, 6, 31))"
   ]
  },
  {
   "cell_type": "code",
   "execution_count": 26,
   "id": "f098c9ee",
   "metadata": {},
   "outputs": [],
   "source": [
    "cv_tr_bce_list = list()\n",
    "cv_va_bce_list = list()\n",
    "cv_te_bce_list = list()\n",
    "\n",
    "model_list = list()\n",
    "tr_bce_list_for_each_C = list()\n",
    "va_bce_list_for_each_C = list()\n",
    "# idx = 0\n",
    "for C in C_grid:\n",
    "\n",
    "    model_F3_list = list()\n",
    "\n",
    "    # Allocate lists for storing BCE metrics\n",
    "    tr_bce_list = list()\n",
    "    va_bce_list = list()\n",
    "    te_bce_list = list()\n",
    "\n",
    "    # Allocate lists for storing ERROR RATE metrics\n",
    "    tr_err_list = list()\n",
    "    va_err_list = list()\n",
    "    te_err_list = list()\n",
    "\n",
    "    # idx = idx + 1\n",
    "    for i in range(K):\n",
    "        xtr = x_tr[i]\n",
    "        ytr = y_tr[i]\n",
    "        xva = x_va[i]\n",
    "        yva = y_va[i]\n",
    "\n",
    "        lr_F3 = sklearn.linear_model.LogisticRegression(C = C, penalty = 'l2', solver='lbfgs', max_iter=2000) # TODO fixme\n",
    "        lr_F3.fit(xtr, ytr) # TODO fixme\n",
    "\n",
    "        model_F3_list.append(lr_F3)\n",
    "\n",
    "        yproba1_tr_M = lr_F3.predict_proba(xtr)[:,1] # The probability of predicting class 1 on the training set\n",
    "        yproba1_va_N = lr_F3.predict_proba(xva)[:,1] # The probability of predicting class 1 on the validation set\n",
    "\n",
    "        # Compute error rate aka zero-one loss\n",
    "        my_tr_err = sklearn.metrics.zero_one_loss(ytr, yproba1_tr_M >= 0.5)\n",
    "        my_va_err = sklearn.metrics.zero_one_loss(yva, yproba1_va_N >= 0.5)\n",
    "        tr_err_list.append(my_tr_err)\n",
    "        va_err_list.append(my_va_err)\n",
    "\n",
    "        # TODO: using the calc_mean_binary_cross_entropy_from_probas() function from above:\n",
    "        # Part c: calculate the binary cross entropy (bce) on the training set\n",
    "        # Part d: calculate the binary cross entropy (bce) on the validation set\n",
    "        my_tr_bce = calc_mean_binary_cross_entropy_from_probas(ytr, yproba1_tr_M) # TODO fixme\n",
    "        my_va_bce = calc_mean_binary_cross_entropy_from_probas(yva, yproba1_va_N) # TODO fixme\n",
    "        # Save bce for future selection on Models.\n",
    "        tr_bce_list.append(my_tr_bce) \n",
    "        va_bce_list.append(my_va_bce)\n",
    "    \n",
    "    tr_bce_list_for_each_C.append(tr_bce_list)\n",
    "    va_bce_list_for_each_C.append(va_bce_list)\n",
    "    \n",
    "    model_list.append(model_F3_list)\n",
    "    \n",
    "    # best_C_idx = np.argmin(va_bce_list)\n",
    "    # best_C__lrF3 = C_grid[best_C_idx]\n",
    "    \n",
    "    cv_tr_bce_list.append((sum(tr_bce_list)/len(tr_bce_list)))\n",
    "    cv_va_bce_list.append((sum(va_bce_list)/len(va_bce_list)))\n",
    "    \n"
   ]
  },
  {
   "cell_type": "code",
   "execution_count": 27,
   "id": "8a9f38c4",
   "metadata": {},
   "outputs": [],
   "source": [
    "best_C_index = np.argmin(cv_va_bce_list)"
   ]
  },
  {
   "cell_type": "code",
   "execution_count": 28,
   "id": "efaa50be",
   "metadata": {},
   "outputs": [],
   "source": [
    "best_fold_in_C = np.argmin(va_bce_list_for_each_C[best_C_index])"
   ]
  },
  {
   "cell_type": "code",
   "execution_count": 29,
   "id": "588a0502",
   "metadata": {},
   "outputs": [],
   "source": [
    "best_C__lr = C_grid[best_C_index]\n",
    "best_lr = model_list[best_C_index][best_fold_in_C]"
   ]
  },
  {
   "cell_type": "code",
   "execution_count": 30,
   "id": "b6df575e",
   "metadata": {},
   "outputs": [
    {
     "data": {
      "image/png": "[encoded data removed]",
      "text/plain": [
       "<Figure size 800x550 with 1 Axes>"
      ]
     },
     "metadata": {},
     "output_type": "display_data"
    }
   ],
   "source": [
    "plt.plot(np.log10(C_grid), cv_tr_bce_list, 'bs-', label='train BCE')\n",
    "plt.plot(np.log10(C_grid), cv_va_bce_list, 'rs-', label='valid BCE')\n",
    "\n",
    "# plt.plot(np.log10(C_grid), tr_err_list, 'b:', label='train err')\n",
    "# plt.plot(np.log10(C_grid), va_err_list, 'r:', label='valid err')\n",
    "\n",
    "plt.ylabel('error')\n",
    "plt.xlabel(\"$\\log_{10} C$\");\n",
    "plt.legend(bbox_to_anchor=(1.5, 0.5)) # make legend outside plot\n",
    "plt.ylim([0, 2]);"
   ]
  },
  {
   "cell_type": "code",
   "execution_count": 31,
   "id": "009b94b9",
   "metadata": {},
   "outputs": [
    {
     "name": "stdout",
     "output_type": "stream",
     "text": [
      "Best model has coefficient values:\n",
      "[[0.         0.62689897 0.         ... 0.         0.         0.        ]]\n"
     ]
    }
   ],
   "source": [
    "print(\"Best model has coefficient values:\")\n",
    "print(best_lr.coef_)"
   ]
  },
  {
   "cell_type": "code",
   "execution_count": 32,
   "id": "cbb537b6",
   "metadata": {},
   "outputs": [],
   "source": [
    "prng = np.random.RandomState(101)\n",
    "\n",
    "bestlr_yproba1_tr = best_lr.predict_proba(x_tr[best_fold_in_C])[:,1] # TODO fixme\n",
    "bestlr_yproba1_va = best_lr.predict_proba(x_va[best_fold_in_C])[:,1] # TODO fixme"
   ]
  },
  {
   "cell_type": "code",
   "execution_count": 33,
   "id": "dd8eb6f4",
   "metadata": {},
   "outputs": [],
   "source": [
    "# bestlr_yproba1_va.shape\n",
    "# y_va[best_fold_in_C].shape"
   ]
  },
  {
   "cell_type": "code",
   "execution_count": 34,
   "id": "f6477368",
   "metadata": {
    "scrolled": false
   },
   "outputs": [
    {
     "data": {
      "image/png": "[encoded data removed]",
      "text/plain": [
       "<Figure size 500x500 with 1 Axes>"
      ]
     },
     "metadata": {},
     "output_type": "display_data"
    }
   ],
   "source": [
    "# Follow the instruction of HW2 and produce Figure 1 for your report:\n",
    "plt.subplots(nrows=1, ncols=1, figsize=(5,5));\n",
    "\n",
    "# TODO Use provided data and predictions on the Validation set\n",
    "# Produce the ROC Curve utilizing `sklearn.metrics.roc_curve' within plt defined above.\n",
    "# To start, read the official Document and examples of 'sklearn.metrics.roc_curve'. \n",
    "va_fpr, va_tpr, va_thresholds = sklearn.metrics.roc_curve(y_va[best_fold_in_C], bestlr_yproba1_va)\n",
    "tr_fpr, tr_tpr, tr_thresholds = sklearn.metrics.roc_curve(y_tr[best_fold_in_C], bestlr_yproba1_tr)\n",
    "\n",
    "# Read HW2 instructions carefully for plot style (line type, line color, etc.)\n",
    "\n",
    "plt.plot(tr_fpr, tr_tpr, 'b.-', label = \"Training Set\" )\n",
    "plt.plot(va_fpr, va_tpr, 'r.-', label = \"Validation Set\" )\n",
    "plt.title(\"ROC on Validation Set and Training Set\");\n",
    "plt.xlabel('false positive rate');\n",
    "plt.ylabel('true positive rate');\n",
    "plt.legend(loc='lower right');\n",
    "B = 0.01\n",
    "plt.xlim([0 - B, 1 + B]);\n",
    "plt.ylim([0 - B, 1 + B]);"
   ]
  },
  {
   "cell_type": "markdown",
   "id": "ae5420fd",
   "metadata": {},
   "source": [
    "## Confusion Matrix on the best C/fold"
   ]
  },
  {
   "cell_type": "code",
   "execution_count": 35,
   "id": "d3419d0d",
   "metadata": {},
   "outputs": [],
   "source": [
    "import threshold_selection\n",
    "from confusion_matrix import calc_confusion_matrix_for_probas_and_threshold"
   ]
  },
  {
   "cell_type": "code",
   "execution_count": 36,
   "id": "74b8cc5a",
   "metadata": {},
   "outputs": [
    {
     "name": "stdout",
     "output_type": "stream",
     "text": [
      "[[325  71]\n",
      " [108 294]]\n",
      "chosen thr = 0.5000, tpr = 0.7313, ppv = 0.8055,\n"
     ]
    }
   ],
   "source": [
    "best_thr_default = 0.5\n",
    "\n",
    "print(sklearn.metrics.confusion_matrix(y_va[best_fold_in_C], bestlr_yproba1_va >= best_thr_default))\n",
    "\n",
    "thresh_grid, perf_dict = threshold_selection.compute_perf_metrics_across_thresholds(y_va[best_fold_in_C], bestlr_yproba1_va, [best_thr_default])\n",
    "\n",
    "tpr = perf_dict['tpr'][0]# TODO fixme\n",
    "ppv = perf_dict['ppv'][0] # TODO fixme\n",
    "\n",
    "print(f\"chosen thr = {best_thr_default :.4f}, tpr = {tpr :.4f}, ppv = {ppv :.4f},\")"
   ]
  },
  {
   "cell_type": "markdown",
   "id": "722a94dd",
   "metadata": {},
   "source": [
    "## Area Under ROC Curve"
   ]
  },
  {
   "cell_type": "code",
   "execution_count": 37,
   "id": "3288995a",
   "metadata": {},
   "outputs": [
    {
     "data": {
      "text/plain": [
       "0.8531243242560607"
      ]
     },
     "execution_count": 37,
     "metadata": {},
     "output_type": "execute_result"
    }
   ],
   "source": [
    "roc_auc_score(y_va[best_fold_in_C],bestlr_yproba1_va, max_fpr = 0.98)"
   ]
  },
  {
   "cell_type": "markdown",
   "id": "42697dd7",
   "metadata": {},
   "source": [
    "## read the test file into vocab matrix"
   ]
  },
  {
   "cell_type": "code",
   "execution_count": null,
   "id": "d0efecda",
   "metadata": {},
   "outputs": [],
   "source": [
    "x_test_df = pd.read_csv(os.path.join(data_dir, 'x_test.csv'))\n",
    "x_test_df.shape"
   ]
  },
  {
   "cell_type": "code",
   "execution_count": null,
   "id": "62bcdb1b",
   "metadata": {},
   "outputs": [],
   "source": [
    "te_text_list = x_test_df['text'].values.tolist()\n",
    "len(te_text_list)"
   ]
  },
  {
   "cell_type": "code",
   "execution_count": null,
   "id": "a2880b43",
   "metadata": {},
   "outputs": [],
   "source": [
    "vec = CountVectorizer(vocabulary = vocab)\n",
    "t = vec.fit_transform(te_text_list)\n",
    "t"
   ]
  },
  {
   "cell_type": "code",
   "execution_count": null,
   "id": "63bf130a",
   "metadata": {},
   "outputs": [],
   "source": [
    "te_array = t.toarray()\n",
    "te_array.shape"
   ]
  },
  {
   "cell_type": "code",
   "execution_count": null,
   "id": "e92838f9",
   "metadata": {},
   "outputs": [],
   "source": [
    "y_te_proba = best_lr.predict_proba(te_array)[:,1]\n",
    "y_te_proba"
   ]
  },
  {
   "cell_type": "code",
   "execution_count": null,
   "id": "964c55ac",
   "metadata": {},
   "outputs": [],
   "source": [
    "y_te_proba.shape, y_te_proba[5]"
   ]
  },
  {
   "cell_type": "code",
   "execution_count": null,
   "id": "4a2b6315",
   "metadata": {},
   "outputs": [],
   "source": [
    "for i in range(y_te_proba.shape[0]):\n",
    "    if y_te_proba[i] >= 0.5: \n",
    "        y_te_proba[i] = 1\n",
    "    else:\n",
    "        y_te_proba[i] = 0"
   ]
  },
  {
   "cell_type": "code",
   "execution_count": null,
   "id": "9f5f27c5",
   "metadata": {},
   "outputs": [],
   "source": [
    "np.savetxt('out4.txt', y_te_proba, delimiter=' ', fmt='% 3d')\n"
   ]
  },
  {
   "cell_type": "code",
   "execution_count": null,
   "id": "ca1ecd93",
   "metadata": {},
   "outputs": [],
   "source": []
  },
  {
   "cell_type": "code",
   "execution_count": null,
   "id": "4497a929",
   "metadata": {},
   "outputs": [],
   "source": []
  },
  {
   "cell_type": "code",
   "execution_count": null,
   "id": "3911152e",
   "metadata": {},
   "outputs": [],
   "source": []
  },
  {
   "cell_type": "code",
   "execution_count": null,
   "id": "9e1a60bf",
   "metadata": {},
   "outputs": [],
   "source": []
  },
  {
   "cell_type": "code",
   "execution_count": null,
   "id": "5028f54a",
   "metadata": {},
   "outputs": [],
   "source": [
    "# # remove punctuation in the text\n",
    "# def rm_punc(text_list):\n",
    "#     puncs = '!@#$%^&*()_+-={}[]:;|<>,.?/\"\\''\n",
    "#     clean_text_list = []\n",
    "#     for text in text_list:\n",
    "#         clean_text = \"\"\n",
    "#         for char in text:\n",
    "#             if char not in puncs:\n",
    "#                 clean_text += char.lower()\n",
    "#         clean_text_list.append(clean_text)\n",
    "#     return clean_text_list\n",
    "\n",
    "# clean_tr_text = rm_punc(tr_text_list)\n",
    "# clean_tr_text[0]"
   ]
  },
  {
   "cell_type": "code",
   "execution_count": null,
   "id": "e6806af7",
   "metadata": {},
   "outputs": [],
   "source": [
    "# # partition the data\n",
    "# words_list = []\n",
    "# for text in clean_tr_text:\n",
    "#     words_list.append(text.split())\n",
    "    \n",
    "# words_list[0]"
   ]
  },
  {
   "cell_type": "code",
   "execution_count": null,
   "id": "10a7ce66",
   "metadata": {},
   "outputs": [],
   "source": []
  },
  {
   "cell_type": "code",
   "execution_count": null,
   "id": "d269ccb6",
   "metadata": {},
   "outputs": [],
   "source": []
  }
 ],
 "metadata": {
  "interpreter": {
   "hash": "d5603cc4667a52057224efdf5ddcc7de73a3282f447f21696056843efd22823e"
  },
  "kernelspec": {
   "display_name": "Python 3 (ipykernel)",
   "language": "python",
   "name": "python3"
  },
  "language_info": {
   "codemirror_mode": {
    "name": "ipython",
    "version": 3
   },
   "file_extension": ".py",
   "mimetype": "text/x-python",
   "name": "python",
   "nbconvert_exporter": "python",
   "pygments_lexer": "ipython3",
   "version": "3.10.12"
  }
 },
 "nbformat": 4,
 "nbformat_minor": 5
}
