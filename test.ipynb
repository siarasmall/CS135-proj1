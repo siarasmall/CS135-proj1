{
 "cells": [
  {
   "cell_type": "code",
   "execution_count": 129,
   "id": "827b0719",
   "metadata": {},
   "outputs": [],
   "source": [
    "import numpy as np\n",
    "import pandas as pd\n",
    "import sklearn.linear_model\n",
    "import sklearn.metrics\n",
    "import os\n"
   ]
  },
  {
   "cell_type": "code",
   "execution_count": 130,
   "id": "fce9f294",
   "metadata": {},
   "outputs": [],
   "source": [
    "# import plotting libraries\n",
    "import matplotlib\n",
    "import matplotlib.pyplot as plt\n",
    "\n",
    "%matplotlib inline\n",
    "plt.style.use('seaborn-v0_8') # pretty matplotlib plots\n"
   ]
  },
  {
   "cell_type": "markdown",
   "id": "378b2437",
   "metadata": {},
   "source": [
    "## Load Data"
   ]
  },
  {
   "cell_type": "code",
   "execution_count": 131,
   "id": "2a734063",
   "metadata": {},
   "outputs": [
    {
     "name": "stdout",
     "output_type": "stream",
     "text": [
      "Shape of x_train_df: (2400, 2)\n",
      "Shape of y_train_df: (2400, 1)\n"
     ]
    },
    {
     "data": {
      "text/html": [
       "<div>\n",
       "<style scoped>\n",
       "    .dataframe tbody tr th:only-of-type {\n",
       "        vertical-align: middle;\n",
       "    }\n",
       "\n",
       "    .dataframe tbody tr th {\n",
       "        vertical-align: top;\n",
       "    }\n",
       "\n",
       "    .dataframe thead th {\n",
       "        text-align: right;\n",
       "    }\n",
       "</style>\n",
       "<table border=\"1\" class=\"dataframe\">\n",
       "  <thead>\n",
       "    <tr style=\"text-align: right;\">\n",
       "      <th></th>\n",
       "      <th>website_name</th>\n",
       "      <th>text</th>\n",
       "    </tr>\n",
       "  </thead>\n",
       "  <tbody>\n",
       "    <tr>\n",
       "      <th>0</th>\n",
       "      <td>amazon</td>\n",
       "      <td>Oh and I forgot to also mention the weird colo...</td>\n",
       "    </tr>\n",
       "    <tr>\n",
       "      <th>1</th>\n",
       "      <td>amazon</td>\n",
       "      <td>THAT one didn't work either.</td>\n",
       "    </tr>\n",
       "    <tr>\n",
       "      <th>2</th>\n",
       "      <td>amazon</td>\n",
       "      <td>Waste of 13 bucks.</td>\n",
       "    </tr>\n",
       "    <tr>\n",
       "      <th>3</th>\n",
       "      <td>amazon</td>\n",
       "      <td>Product is useless, since it does not have eno...</td>\n",
       "    </tr>\n",
       "    <tr>\n",
       "      <th>4</th>\n",
       "      <td>amazon</td>\n",
       "      <td>None of the three sizes they sent with the hea...</td>\n",
       "    </tr>\n",
       "    <tr>\n",
       "      <th>...</th>\n",
       "      <td>...</td>\n",
       "      <td>...</td>\n",
       "    </tr>\n",
       "    <tr>\n",
       "      <th>2395</th>\n",
       "      <td>yelp</td>\n",
       "      <td>The sweet potato fries were very good and seas...</td>\n",
       "    </tr>\n",
       "    <tr>\n",
       "      <th>2396</th>\n",
       "      <td>yelp</td>\n",
       "      <td>I could eat their bruschetta all day it is dev...</td>\n",
       "    </tr>\n",
       "    <tr>\n",
       "      <th>2397</th>\n",
       "      <td>yelp</td>\n",
       "      <td>Ambience is perfect.</td>\n",
       "    </tr>\n",
       "    <tr>\n",
       "      <th>2398</th>\n",
       "      <td>yelp</td>\n",
       "      <td>We ordered the duck rare and it was pink and t...</td>\n",
       "    </tr>\n",
       "    <tr>\n",
       "      <th>2399</th>\n",
       "      <td>yelp</td>\n",
       "      <td>Service was good and the company was better!</td>\n",
       "    </tr>\n",
       "  </tbody>\n",
       "</table>\n",
       "<p>2400 rows × 2 columns</p>\n",
       "</div>"
      ],
      "text/plain": [
       "     website_name                                               text\n",
       "0          amazon  Oh and I forgot to also mention the weird colo...\n",
       "1          amazon                       THAT one didn't work either.\n",
       "2          amazon                                 Waste of 13 bucks.\n",
       "3          amazon  Product is useless, since it does not have eno...\n",
       "4          amazon  None of the three sizes they sent with the hea...\n",
       "...           ...                                                ...\n",
       "2395         yelp  The sweet potato fries were very good and seas...\n",
       "2396         yelp  I could eat their bruschetta all day it is dev...\n",
       "2397         yelp                               Ambience is perfect.\n",
       "2398         yelp  We ordered the duck rare and it was pink and t...\n",
       "2399         yelp       Service was good and the company was better!\n",
       "\n",
       "[2400 rows x 2 columns]"
      ]
     },
     "execution_count": 131,
     "metadata": {},
     "output_type": "execute_result"
    }
   ],
   "source": [
    "data_dir = 'data_reviews'\n",
    "x_train_df = pd.read_csv(os.path.join(data_dir, 'x_train.csv'))\n",
    "y_train_df = pd.read_csv(os.path.join(data_dir, 'y_train.csv'))\n",
    "\n",
    "N, n_cols = x_train_df.shape\n",
    "print(\"Shape of x_train_df: (%d, %d)\" % (N,n_cols))\n",
    "print(\"Shape of y_train_df: %s\" % str(y_train_df.shape))\n",
    "x_train_df"
   ]
  },
  {
   "cell_type": "code",
   "execution_count": 132,
   "id": "67a9b91f",
   "metadata": {},
   "outputs": [],
   "source": [
    "# df to list\n",
    "tr_text_list = x_train_df['text'].values.tolist()"
   ]
  },
  {
   "cell_type": "code",
   "execution_count": 133,
   "id": "5e193540",
   "metadata": {},
   "outputs": [
    {
     "data": {
      "text/plain": [
       "2400"
      ]
     },
     "execution_count": 133,
     "metadata": {},
     "output_type": "execute_result"
    }
   ],
   "source": [
    "y_train_list = y_train_df['is_positive_sentiment'].values.tolist()\n",
    "len(y_train_list)"
   ]
  },
  {
   "cell_type": "code",
   "execution_count": 134,
   "id": "a651849b",
   "metadata": {},
   "outputs": [
    {
     "data": {
      "text/plain": [
       "[0,\n",
       " 0,\n",
       " 0,\n",
       " 0,\n",
       " 0,\n",
       " 0,\n",
       " 0,\n",
       " 0,\n",
       " 0,\n",
       " 0,\n",
       " 0,\n",
       " 0,\n",
       " 0,\n",
       " 0,\n",
       " 0,\n",
       " 0,\n",
       " 0,\n",
       " 0,\n",
       " 0,\n",
       " 0,\n",
       " 0,\n",
       " 0,\n",
       " 0,\n",
       " 0,\n",
       " 0,\n",
       " 0,\n",
       " 0,\n",
       " 0,\n",
       " 0,\n",
       " 0,\n",
       " 0,\n",
       " 0,\n",
       " 0,\n",
       " 0,\n",
       " 0,\n",
       " 0,\n",
       " 0,\n",
       " 0,\n",
       " 0,\n",
       " 0,\n",
       " 0,\n",
       " 0,\n",
       " 0,\n",
       " 0,\n",
       " 0,\n",
       " 0,\n",
       " 0,\n",
       " 0,\n",
       " 0,\n",
       " 0,\n",
       " 0,\n",
       " 0,\n",
       " 0,\n",
       " 0,\n",
       " 0,\n",
       " 0,\n",
       " 0,\n",
       " 0,\n",
       " 0,\n",
       " 0,\n",
       " 0,\n",
       " 0,\n",
       " 0,\n",
       " 0,\n",
       " 0,\n",
       " 0,\n",
       " 0,\n",
       " 0,\n",
       " 0,\n",
       " 0,\n",
       " 0,\n",
       " 0,\n",
       " 0,\n",
       " 0,\n",
       " 0,\n",
       " 0,\n",
       " 0,\n",
       " 0,\n",
       " 0,\n",
       " 0,\n",
       " 0,\n",
       " 0,\n",
       " 0,\n",
       " 0,\n",
       " 0,\n",
       " 0,\n",
       " 0,\n",
       " 0,\n",
       " 0,\n",
       " 0,\n",
       " 0,\n",
       " 0,\n",
       " 0,\n",
       " 0,\n",
       " 0,\n",
       " 0,\n",
       " 0,\n",
       " 0,\n",
       " 0,\n",
       " 0,\n",
       " 0,\n",
       " 0,\n",
       " 0,\n",
       " 0,\n",
       " 0,\n",
       " 0,\n",
       " 0,\n",
       " 0,\n",
       " 0,\n",
       " 0,\n",
       " 0,\n",
       " 0,\n",
       " 0,\n",
       " 0,\n",
       " 0,\n",
       " 0,\n",
       " 0,\n",
       " 0,\n",
       " 0,\n",
       " 0,\n",
       " 0,\n",
       " 0,\n",
       " 0,\n",
       " 0,\n",
       " 0,\n",
       " 0,\n",
       " 0,\n",
       " 0,\n",
       " 0,\n",
       " 0,\n",
       " 0,\n",
       " 0,\n",
       " 0,\n",
       " 0,\n",
       " 0,\n",
       " 0,\n",
       " 0,\n",
       " 0,\n",
       " 0,\n",
       " 0,\n",
       " 0,\n",
       " 0,\n",
       " 0,\n",
       " 0,\n",
       " 0,\n",
       " 0,\n",
       " 0,\n",
       " 0,\n",
       " 0,\n",
       " 0,\n",
       " 0,\n",
       " 0,\n",
       " 0,\n",
       " 0,\n",
       " 0,\n",
       " 0,\n",
       " 0,\n",
       " 0,\n",
       " 0,\n",
       " 0,\n",
       " 0,\n",
       " 0,\n",
       " 0,\n",
       " 0,\n",
       " 0,\n",
       " 0,\n",
       " 0,\n",
       " 0,\n",
       " 0,\n",
       " 0,\n",
       " 0,\n",
       " 0,\n",
       " 0,\n",
       " 0,\n",
       " 0,\n",
       " 0,\n",
       " 0,\n",
       " 0,\n",
       " 0,\n",
       " 0,\n",
       " 0,\n",
       " 0,\n",
       " 0,\n",
       " 0,\n",
       " 0,\n",
       " 0,\n",
       " 0,\n",
       " 0,\n",
       " 0,\n",
       " 0,\n",
       " 0,\n",
       " 0,\n",
       " 0,\n",
       " 0,\n",
       " 0,\n",
       " 0,\n",
       " 0,\n",
       " 0,\n",
       " 0,\n",
       " 0,\n",
       " 0,\n",
       " 0,\n",
       " 0,\n",
       " 0,\n",
       " 0,\n",
       " 0,\n",
       " 0,\n",
       " 0,\n",
       " 0,\n",
       " 0,\n",
       " 0,\n",
       " 0,\n",
       " 0,\n",
       " 0,\n",
       " 0,\n",
       " 0,\n",
       " 0,\n",
       " 0,\n",
       " 0,\n",
       " 0,\n",
       " 0,\n",
       " 0,\n",
       " 0,\n",
       " 0,\n",
       " 0,\n",
       " 0,\n",
       " 0,\n",
       " 0,\n",
       " 0,\n",
       " 0,\n",
       " 0,\n",
       " 0,\n",
       " 0,\n",
       " 0,\n",
       " 0,\n",
       " 0,\n",
       " 0,\n",
       " 0,\n",
       " 0,\n",
       " 0,\n",
       " 0,\n",
       " 0,\n",
       " 0,\n",
       " 0,\n",
       " 0,\n",
       " 0,\n",
       " 0,\n",
       " 0,\n",
       " 0,\n",
       " 0,\n",
       " 0,\n",
       " 0,\n",
       " 0,\n",
       " 0,\n",
       " 0,\n",
       " 0,\n",
       " 0,\n",
       " 0,\n",
       " 0,\n",
       " 0,\n",
       " 0,\n",
       " 0,\n",
       " 0,\n",
       " 0,\n",
       " 0,\n",
       " 0,\n",
       " 0,\n",
       " 0,\n",
       " 0,\n",
       " 0,\n",
       " 0,\n",
       " 0,\n",
       " 0,\n",
       " 0,\n",
       " 0,\n",
       " 0,\n",
       " 0,\n",
       " 0,\n",
       " 0,\n",
       " 0,\n",
       " 0,\n",
       " 0,\n",
       " 0,\n",
       " 0,\n",
       " 0,\n",
       " 0,\n",
       " 0,\n",
       " 0,\n",
       " 0,\n",
       " 0,\n",
       " 0,\n",
       " 0,\n",
       " 0,\n",
       " 0,\n",
       " 0,\n",
       " 0,\n",
       " 0,\n",
       " 0,\n",
       " 0,\n",
       " 0,\n",
       " 0,\n",
       " 0,\n",
       " 0,\n",
       " 0,\n",
       " 0,\n",
       " 0,\n",
       " 0,\n",
       " 0,\n",
       " 0,\n",
       " 0,\n",
       " 0,\n",
       " 0,\n",
       " 0,\n",
       " 0,\n",
       " 0,\n",
       " 0,\n",
       " 0,\n",
       " 0,\n",
       " 0,\n",
       " 0,\n",
       " 0,\n",
       " 0,\n",
       " 0,\n",
       " 0,\n",
       " 0,\n",
       " 0,\n",
       " 0,\n",
       " 0,\n",
       " 0,\n",
       " 0,\n",
       " 0,\n",
       " 0,\n",
       " 0,\n",
       " 0,\n",
       " 0,\n",
       " 0,\n",
       " 0,\n",
       " 0,\n",
       " 0,\n",
       " 0,\n",
       " 0,\n",
       " 0,\n",
       " 0,\n",
       " 0,\n",
       " 0,\n",
       " 0,\n",
       " 0,\n",
       " 0,\n",
       " 0,\n",
       " 0,\n",
       " 0,\n",
       " 0,\n",
       " 0,\n",
       " 0,\n",
       " 0,\n",
       " 0,\n",
       " 0,\n",
       " 0,\n",
       " 0,\n",
       " 0,\n",
       " 0,\n",
       " 0,\n",
       " 0,\n",
       " 0,\n",
       " 0,\n",
       " 0,\n",
       " 0,\n",
       " 0,\n",
       " 0,\n",
       " 0,\n",
       " 0,\n",
       " 0,\n",
       " 0,\n",
       " 0,\n",
       " 0,\n",
       " 0,\n",
       " 0,\n",
       " 0,\n",
       " 0,\n",
       " 0,\n",
       " 0,\n",
       " 0,\n",
       " 0,\n",
       " 0,\n",
       " 0,\n",
       " 0,\n",
       " 0,\n",
       " 0,\n",
       " 0,\n",
       " 0,\n",
       " 0,\n",
       " 0,\n",
       " 0,\n",
       " 0,\n",
       " 0,\n",
       " 0,\n",
       " 0,\n",
       " 0,\n",
       " 0,\n",
       " 0,\n",
       " 1,\n",
       " 1,\n",
       " 1,\n",
       " 1,\n",
       " 1,\n",
       " 1,\n",
       " 1,\n",
       " 1,\n",
       " 1,\n",
       " 1,\n",
       " 1,\n",
       " 1,\n",
       " 1,\n",
       " 1,\n",
       " 1,\n",
       " 1,\n",
       " 1,\n",
       " 1,\n",
       " 1,\n",
       " 1,\n",
       " 1,\n",
       " 1,\n",
       " 1,\n",
       " 1,\n",
       " 1,\n",
       " 1,\n",
       " 1,\n",
       " 1,\n",
       " 1,\n",
       " 1,\n",
       " 1,\n",
       " 1,\n",
       " 1,\n",
       " 1,\n",
       " 1,\n",
       " 1,\n",
       " 1,\n",
       " 1,\n",
       " 1,\n",
       " 1,\n",
       " 1,\n",
       " 1,\n",
       " 1,\n",
       " 1,\n",
       " 1,\n",
       " 1,\n",
       " 1,\n",
       " 1,\n",
       " 1,\n",
       " 1,\n",
       " 1,\n",
       " 1,\n",
       " 1,\n",
       " 1,\n",
       " 1,\n",
       " 1,\n",
       " 1,\n",
       " 1,\n",
       " 1,\n",
       " 1,\n",
       " 1,\n",
       " 1,\n",
       " 1,\n",
       " 1,\n",
       " 1,\n",
       " 1,\n",
       " 1,\n",
       " 1,\n",
       " 1,\n",
       " 1,\n",
       " 1,\n",
       " 1,\n",
       " 1,\n",
       " 1,\n",
       " 1,\n",
       " 1,\n",
       " 1,\n",
       " 1,\n",
       " 1,\n",
       " 1,\n",
       " 1,\n",
       " 1,\n",
       " 1,\n",
       " 1,\n",
       " 1,\n",
       " 1,\n",
       " 1,\n",
       " 1,\n",
       " 1,\n",
       " 1,\n",
       " 1,\n",
       " 1,\n",
       " 1,\n",
       " 1,\n",
       " 1,\n",
       " 1,\n",
       " 1,\n",
       " 1,\n",
       " 1,\n",
       " 1,\n",
       " 1,\n",
       " 1,\n",
       " 1,\n",
       " 1,\n",
       " 1,\n",
       " 1,\n",
       " 1,\n",
       " 1,\n",
       " 1,\n",
       " 1,\n",
       " 1,\n",
       " 1,\n",
       " 1,\n",
       " 1,\n",
       " 1,\n",
       " 1,\n",
       " 1,\n",
       " 1,\n",
       " 1,\n",
       " 1,\n",
       " 1,\n",
       " 1,\n",
       " 1,\n",
       " 1,\n",
       " 1,\n",
       " 1,\n",
       " 1,\n",
       " 1,\n",
       " 1,\n",
       " 1,\n",
       " 1,\n",
       " 1,\n",
       " 1,\n",
       " 1,\n",
       " 1,\n",
       " 1,\n",
       " 1,\n",
       " 1,\n",
       " 1,\n",
       " 1,\n",
       " 1,\n",
       " 1,\n",
       " 1,\n",
       " 1,\n",
       " 1,\n",
       " 1,\n",
       " 1,\n",
       " 1,\n",
       " 1,\n",
       " 1,\n",
       " 1,\n",
       " 1,\n",
       " 1,\n",
       " 1,\n",
       " 1,\n",
       " 1,\n",
       " 1,\n",
       " 1,\n",
       " 1,\n",
       " 1,\n",
       " 1,\n",
       " 1,\n",
       " 1,\n",
       " 1,\n",
       " 1,\n",
       " 1,\n",
       " 1,\n",
       " 1,\n",
       " 1,\n",
       " 1,\n",
       " 1,\n",
       " 1,\n",
       " 1,\n",
       " 1,\n",
       " 1,\n",
       " 1,\n",
       " 1,\n",
       " 1,\n",
       " 1,\n",
       " 1,\n",
       " 1,\n",
       " 1,\n",
       " 1,\n",
       " 1,\n",
       " 1,\n",
       " 1,\n",
       " 1,\n",
       " 1,\n",
       " 1,\n",
       " 1,\n",
       " 1,\n",
       " 1,\n",
       " 1,\n",
       " 1,\n",
       " 1,\n",
       " 1,\n",
       " 1,\n",
       " 1,\n",
       " 1,\n",
       " 1,\n",
       " 1,\n",
       " 1,\n",
       " 1,\n",
       " 1,\n",
       " 1,\n",
       " 1,\n",
       " 1,\n",
       " 1,\n",
       " 1,\n",
       " 1,\n",
       " 1,\n",
       " 1,\n",
       " 1,\n",
       " 1,\n",
       " 1,\n",
       " 1,\n",
       " 1,\n",
       " 1,\n",
       " 1,\n",
       " 1,\n",
       " 1,\n",
       " 1,\n",
       " 1,\n",
       " 1,\n",
       " 1,\n",
       " 1,\n",
       " 1,\n",
       " 1,\n",
       " 1,\n",
       " 1,\n",
       " 1,\n",
       " 1,\n",
       " 1,\n",
       " 1,\n",
       " 1,\n",
       " 1,\n",
       " 1,\n",
       " 1,\n",
       " 1,\n",
       " 1,\n",
       " 1,\n",
       " 1,\n",
       " 1,\n",
       " 1,\n",
       " 1,\n",
       " 1,\n",
       " 1,\n",
       " 1,\n",
       " 1,\n",
       " 1,\n",
       " 1,\n",
       " 1,\n",
       " 1,\n",
       " 1,\n",
       " 1,\n",
       " 1,\n",
       " 1,\n",
       " 1,\n",
       " 1,\n",
       " 1,\n",
       " 1,\n",
       " 1,\n",
       " 1,\n",
       " 1,\n",
       " 1,\n",
       " 1,\n",
       " 1,\n",
       " 1,\n",
       " 1,\n",
       " 1,\n",
       " 1,\n",
       " 1,\n",
       " 1,\n",
       " 1,\n",
       " 1,\n",
       " 1,\n",
       " 1,\n",
       " 1,\n",
       " 1,\n",
       " 1,\n",
       " 1,\n",
       " 1,\n",
       " 1,\n",
       " 1,\n",
       " 1,\n",
       " 1,\n",
       " 1,\n",
       " 1,\n",
       " 1,\n",
       " 1,\n",
       " 1,\n",
       " 1,\n",
       " 1,\n",
       " 1,\n",
       " 1,\n",
       " 1,\n",
       " 1,\n",
       " 1,\n",
       " 1,\n",
       " 1,\n",
       " 1,\n",
       " 1,\n",
       " 1,\n",
       " 1,\n",
       " 1,\n",
       " 1,\n",
       " 1,\n",
       " 1,\n",
       " 1,\n",
       " 1,\n",
       " 1,\n",
       " 1,\n",
       " 1,\n",
       " 1,\n",
       " 1,\n",
       " 1,\n",
       " 1,\n",
       " 1,\n",
       " 1,\n",
       " 1,\n",
       " 1,\n",
       " 1,\n",
       " 1,\n",
       " 1,\n",
       " 1,\n",
       " 1,\n",
       " 1,\n",
       " 1,\n",
       " 1,\n",
       " 1,\n",
       " 1,\n",
       " 1,\n",
       " 1,\n",
       " 1,\n",
       " 1,\n",
       " 1,\n",
       " 1,\n",
       " 1,\n",
       " 1,\n",
       " 1,\n",
       " 1,\n",
       " 1,\n",
       " 1,\n",
       " 1,\n",
       " 1,\n",
       " 1,\n",
       " 1,\n",
       " 1,\n",
       " 1,\n",
       " 1,\n",
       " 1,\n",
       " 1,\n",
       " 1,\n",
       " 1,\n",
       " 1,\n",
       " 1,\n",
       " 1,\n",
       " 1,\n",
       " 1,\n",
       " 1,\n",
       " 1,\n",
       " 1,\n",
       " 1,\n",
       " 1,\n",
       " 1,\n",
       " 1,\n",
       " 1,\n",
       " 1,\n",
       " 1,\n",
       " 1,\n",
       " 1,\n",
       " 1,\n",
       " 1,\n",
       " 1,\n",
       " 1,\n",
       " 1,\n",
       " 1,\n",
       " 1,\n",
       " 1,\n",
       " 1,\n",
       " 1,\n",
       " 1,\n",
       " 1,\n",
       " 1,\n",
       " 1,\n",
       " 1,\n",
       " 1,\n",
       " 1,\n",
       " 1,\n",
       " 1,\n",
       " 1,\n",
       " 1,\n",
       " 1,\n",
       " 1,\n",
       " 1,\n",
       " 1,\n",
       " 1,\n",
       " 1,\n",
       " 1,\n",
       " 1,\n",
       " 0,\n",
       " 0,\n",
       " 0,\n",
       " 0,\n",
       " 0,\n",
       " 0,\n",
       " 0,\n",
       " 0,\n",
       " 0,\n",
       " 0,\n",
       " 0,\n",
       " 0,\n",
       " 0,\n",
       " 0,\n",
       " 0,\n",
       " 0,\n",
       " 0,\n",
       " 0,\n",
       " 0,\n",
       " 0,\n",
       " 0,\n",
       " 0,\n",
       " 0,\n",
       " 0,\n",
       " 0,\n",
       " 0,\n",
       " 0,\n",
       " 0,\n",
       " 0,\n",
       " 0,\n",
       " 0,\n",
       " 0,\n",
       " 0,\n",
       " 0,\n",
       " 0,\n",
       " 0,\n",
       " 0,\n",
       " 0,\n",
       " 0,\n",
       " 0,\n",
       " 0,\n",
       " 0,\n",
       " 0,\n",
       " 0,\n",
       " 0,\n",
       " 0,\n",
       " 0,\n",
       " 0,\n",
       " 0,\n",
       " 0,\n",
       " 0,\n",
       " 0,\n",
       " 0,\n",
       " 0,\n",
       " 0,\n",
       " 0,\n",
       " 0,\n",
       " 0,\n",
       " 0,\n",
       " 0,\n",
       " 0,\n",
       " 0,\n",
       " 0,\n",
       " 0,\n",
       " 0,\n",
       " 0,\n",
       " 0,\n",
       " 0,\n",
       " 0,\n",
       " 0,\n",
       " 0,\n",
       " 0,\n",
       " 0,\n",
       " 0,\n",
       " 0,\n",
       " 0,\n",
       " 0,\n",
       " 0,\n",
       " 0,\n",
       " 0,\n",
       " 0,\n",
       " 0,\n",
       " 0,\n",
       " 0,\n",
       " 0,\n",
       " 0,\n",
       " 0,\n",
       " 0,\n",
       " 0,\n",
       " 0,\n",
       " 0,\n",
       " 0,\n",
       " 0,\n",
       " 0,\n",
       " 0,\n",
       " 0,\n",
       " 0,\n",
       " 0,\n",
       " 0,\n",
       " 0,\n",
       " 0,\n",
       " 0,\n",
       " 0,\n",
       " 0,\n",
       " 0,\n",
       " 0,\n",
       " 0,\n",
       " 0,\n",
       " 0,\n",
       " 0,\n",
       " 0,\n",
       " 0,\n",
       " 0,\n",
       " 0,\n",
       " 0,\n",
       " 0,\n",
       " 0,\n",
       " 0,\n",
       " 0,\n",
       " 0,\n",
       " 0,\n",
       " 0,\n",
       " 0,\n",
       " 0,\n",
       " 0,\n",
       " 0,\n",
       " 0,\n",
       " 0,\n",
       " 0,\n",
       " 0,\n",
       " 0,\n",
       " 0,\n",
       " 0,\n",
       " 0,\n",
       " 0,\n",
       " 0,\n",
       " 0,\n",
       " 0,\n",
       " 0,\n",
       " 0,\n",
       " 0,\n",
       " 0,\n",
       " 0,\n",
       " 0,\n",
       " 0,\n",
       " 0,\n",
       " 0,\n",
       " 0,\n",
       " 0,\n",
       " 0,\n",
       " 0,\n",
       " 0,\n",
       " 0,\n",
       " 0,\n",
       " 0,\n",
       " 0,\n",
       " 0,\n",
       " 0,\n",
       " 0,\n",
       " 0,\n",
       " 0,\n",
       " 0,\n",
       " 0,\n",
       " 0,\n",
       " 0,\n",
       " 0,\n",
       " 0,\n",
       " 0,\n",
       " 0,\n",
       " 0,\n",
       " 0,\n",
       " 0,\n",
       " 0,\n",
       " 0,\n",
       " 0,\n",
       " 0,\n",
       " 0,\n",
       " 0,\n",
       " 0,\n",
       " 0,\n",
       " 0,\n",
       " 0,\n",
       " 0,\n",
       " 0,\n",
       " 0,\n",
       " 0,\n",
       " 0,\n",
       " 0,\n",
       " 0,\n",
       " 0,\n",
       " 0,\n",
       " 0,\n",
       " 0,\n",
       " 0,\n",
       " 0,\n",
       " 0,\n",
       " 0,\n",
       " 0,\n",
       " 0,\n",
       " 0,\n",
       " ...]"
      ]
     },
     "execution_count": 134,
     "metadata": {},
     "output_type": "execute_result"
    }
   ],
   "source": [
    "y_train_list"
   ]
  },
  {
   "cell_type": "markdown",
   "id": "59b9b3b8",
   "metadata": {},
   "source": [
    "## Partition sentences into words"
   ]
  },
  {
   "cell_type": "code",
   "execution_count": 135,
   "id": "ef8944c2",
   "metadata": {},
   "outputs": [],
   "source": [
    "from sklearn.feature_extraction.text import CountVectorizer"
   ]
  },
  {
   "cell_type": "code",
   "execution_count": 136,
   "id": "87e5962c",
   "metadata": {},
   "outputs": [],
   "source": [
    "vectorizer = CountVectorizer()"
   ]
  },
  {
   "cell_type": "markdown",
   "id": "b3c8eb6e",
   "metadata": {},
   "source": [
    "### How big is my vocabulary?"
   ]
  },
  {
   "cell_type": "code",
   "execution_count": 137,
   "id": "b78623d6",
   "metadata": {},
   "outputs": [
    {
     "data": {
      "text/plain": [
       "4510"
      ]
     },
     "execution_count": 137,
     "metadata": {},
     "output_type": "execute_result"
    }
   ],
   "source": [
    "x = vectorizer.fit_transform(tr_text_list)\n",
    "vocab = vectorizer.get_feature_names_out()\n",
    "vocab.shape[0]"
   ]
  },
  {
   "cell_type": "code",
   "execution_count": 138,
   "id": "8682b1ac",
   "metadata": {},
   "outputs": [
    {
     "data": {
      "text/plain": [
       "(2400, 4510)"
      ]
     },
     "execution_count": 138,
     "metadata": {},
     "output_type": "execute_result"
    }
   ],
   "source": [
    "x_train_NV = x.toarray()\n",
    "x_train_NV.shape # N is the number of sentences, and V is the number of vocabulary"
   ]
  },
  {
   "cell_type": "code",
   "execution_count": 139,
   "id": "47ec8774",
   "metadata": {},
   "outputs": [
    {
     "data": {
      "text/plain": [
       "(2400, 4510)"
      ]
     },
     "execution_count": 139,
     "metadata": {},
     "output_type": "execute_result"
    }
   ],
   "source": [
    "N = x_train_NV.shape[0]\n",
    "V = x_train_NV.shape[1]\n",
    "N,V"
   ]
  },
  {
   "cell_type": "code",
   "execution_count": 140,
   "id": "b80eec05",
   "metadata": {},
   "outputs": [
    {
     "data": {
      "text/plain": [
       "3941"
      ]
     },
     "execution_count": 140,
     "metadata": {},
     "output_type": "execute_result"
    }
   ],
   "source": [
    "vectorizer.vocabulary_.get('the')"
   ]
  },
  {
   "cell_type": "markdown",
   "id": "bd6d4a45",
   "metadata": {},
   "source": [
    "### Get the common and rare"
   ]
  },
  {
   "cell_type": "code",
   "execution_count": 141,
   "id": "6c590bc2",
   "metadata": {},
   "outputs": [
    {
     "data": {
      "text/plain": [
       "1"
      ]
     },
     "execution_count": 141,
     "metadata": {},
     "output_type": "execute_result"
    }
   ],
   "source": [
    "x_train_NV[0][2701] # search the first sentence for 'oh'"
   ]
  },
  {
   "cell_type": "code",
   "execution_count": 142,
   "id": "6c0f0f60",
   "metadata": {},
   "outputs": [
    {
     "data": {
      "text/plain": [
       "1572"
      ]
     },
     "execution_count": 142,
     "metadata": {},
     "output_type": "execute_result"
    }
   ],
   "source": [
    "x_common = []\n",
    "\n",
    "x_col_sum = np.sum(x_train_NV, axis = 0)\n",
    "\n",
    "np.max(x_col_sum)"
   ]
  },
  {
   "cell_type": "code",
   "execution_count": 143,
   "id": "39da2e7a",
   "metadata": {},
   "outputs": [
    {
     "data": {
      "text/plain": [
       "((4510,), 9)"
      ]
     },
     "execution_count": 143,
     "metadata": {},
     "output_type": "execute_result"
    }
   ],
   "source": [
    "x_col_sum.shape, x_col_sum[2701]"
   ]
  },
  {
   "cell_type": "code",
   "execution_count": 144,
   "id": "d6e30036",
   "metadata": {},
   "outputs": [],
   "source": [
    "x_common = x_col_sum > N/2 # happens half of the time \n",
    "x_common_V = [int(x) for x in x_common]\n",
    "x_common_V = np.array(x_common_V)"
   ]
  },
  {
   "cell_type": "code",
   "execution_count": 145,
   "id": "91d21ea5",
   "metadata": {},
   "outputs": [],
   "source": [
    "x_rare = x_col_sum < 10\n",
    "x_rare_V = [int(x) for x in x_rare]\n",
    "x_rare_V = np.array(x_rare_V)"
   ]
  },
  {
   "cell_type": "code",
   "execution_count": 146,
   "id": "0488878d",
   "metadata": {},
   "outputs": [
    {
     "data": {
      "text/plain": [
       "((4510,), (4510,))"
      ]
     },
     "execution_count": 146,
     "metadata": {},
     "output_type": "execute_result"
    }
   ],
   "source": [
    "x_common_V.shape, x_rare_V.shape"
   ]
  },
  {
   "cell_type": "code",
   "execution_count": 147,
   "id": "01a9ef81",
   "metadata": {},
   "outputs": [],
   "source": [
    "# x_common_V.reshape(V, 1)"
   ]
  },
  {
   "cell_type": "code",
   "execution_count": 148,
   "id": "33605ab8",
   "metadata": {},
   "outputs": [
    {
     "data": {
      "text/plain": [
       "1752"
      ]
     },
     "execution_count": 148,
     "metadata": {},
     "output_type": "execute_result"
    }
   ],
   "source": [
    "x_common = x_train_NV * x_common_V \n",
    "x_rare = x_train_NV * x_rare_V\n",
    "\n",
    "idx = vectorizer.vocabulary_.get('good')\n",
    "idx"
   ]
  },
  {
   "cell_type": "code",
   "execution_count": 149,
   "id": "65865692",
   "metadata": {},
   "outputs": [
    {
     "data": {
      "text/plain": [
       "185"
      ]
     },
     "execution_count": 149,
     "metadata": {},
     "output_type": "execute_result"
    }
   ],
   "source": [
    "np.sum(x_train_NV[:, idx])"
   ]
  },
  {
   "cell_type": "code",
   "execution_count": 150,
   "id": "1a7b1710",
   "metadata": {},
   "outputs": [
    {
     "data": {
      "text/plain": [
       "((2400, 4510), (2400, 4510))"
      ]
     },
     "execution_count": 150,
     "metadata": {},
     "output_type": "execute_result"
    }
   ],
   "source": [
    "x_rare.shape, x_common.shape"
   ]
  },
  {
   "cell_type": "code",
   "execution_count": null,
   "id": "a7b3fba1",
   "metadata": {},
   "outputs": [],
   "source": []
  },
  {
   "cell_type": "code",
   "execution_count": null,
   "id": "4bfa343a",
   "metadata": {},
   "outputs": [],
   "source": []
  },
  {
   "cell_type": "code",
   "execution_count": null,
   "id": "4853c484",
   "metadata": {},
   "outputs": [],
   "source": []
  },
  {
   "cell_type": "markdown",
   "id": "3b273273",
   "metadata": {},
   "source": [
    "### Get Normal"
   ]
  },
  {
   "cell_type": "code",
   "execution_count": 151,
   "id": "1721280f",
   "metadata": {},
   "outputs": [],
   "source": [
    "x_normal = x_train_NV * (1 - x_common_V) * (1 - x_rare_V)"
   ]
  },
  {
   "cell_type": "code",
   "execution_count": 152,
   "id": "f72061b7",
   "metadata": {},
   "outputs": [
    {
     "data": {
      "text/plain": [
       "array([0, 0, 0, ..., 0, 0, 1])"
      ]
     },
     "execution_count": 152,
     "metadata": {},
     "output_type": "execute_result"
    }
   ],
   "source": [
    "x_normal[:, idx]"
   ]
  },
  {
   "cell_type": "code",
   "execution_count": 153,
   "id": "81366d5b",
   "metadata": {},
   "outputs": [
    {
     "data": {
      "text/plain": [
       "array([0, 0, 0, ..., 1, 1, 1])"
      ]
     },
     "execution_count": 153,
     "metadata": {},
     "output_type": "execute_result"
    }
   ],
   "source": [
    "y_train_list = np.array(y_train_list)\n",
    "y_train_list"
   ]
  },
  {
   "cell_type": "code",
   "execution_count": 154,
   "id": "758b41c9",
   "metadata": {},
   "outputs": [],
   "source": [
    "# x_normal_copy = np.copy(x_normal)\n",
    "# x_normal_copy[0].shape, x_common_V.shape"
   ]
  },
  {
   "cell_type": "code",
   "execution_count": 155,
   "id": "9536c8a3",
   "metadata": {},
   "outputs": [],
   "source": [
    "# x = []"
   ]
  },
  {
   "cell_type": "code",
   "execution_count": 156,
   "id": "58c2d041",
   "metadata": {},
   "outputs": [],
   "source": [
    "# y_train_list.shape, x_common_V.shape[0]"
   ]
  },
  {
   "cell_type": "code",
   "execution_count": 157,
   "id": "c11bf629",
   "metadata": {},
   "outputs": [],
   "source": [
    "# for i in range(x_common_V.shape[0]):\n",
    "#     if x_common_V[i] == 1:\n",
    "#         x_normal_copy = np.delete(x_normal_copy, i, axis=1)\n",
    "    \n",
    "    "
   ]
  },
  {
   "cell_type": "code",
   "execution_count": 158,
   "id": "4ed6e6c5",
   "metadata": {},
   "outputs": [],
   "source": [
    "# x_normal_copy.shape"
   ]
  },
  {
   "cell_type": "code",
   "execution_count": 159,
   "id": "16e90169",
   "metadata": {},
   "outputs": [],
   "source": [
    "# t = {[0,0,0,0],[0,1,0,1]}"
   ]
  },
  {
   "cell_type": "code",
   "execution_count": 160,
   "id": "668a7c72",
   "metadata": {},
   "outputs": [
    {
     "data": {
      "text/plain": [
       "<Figure size 800x550 with 0 Axes>"
      ]
     },
     "metadata": {},
     "output_type": "display_data"
    }
   ],
   "source": [
    "%run performance_metrics.py\n",
    "%run cross_validation.py"
   ]
  },
  {
   "cell_type": "code",
   "execution_count": 161,
   "id": "f423ed58",
   "metadata": {},
   "outputs": [],
   "source": [
    "# calc_root_mean_squared_error()\n",
    "# train_models_and_calc_scores_for_n_fold_cv\n",
    "# make_train_and_test_row_ids_for_n_fold_cv"
   ]
  },
  {
   "cell_type": "code",
   "execution_count": 162,
   "id": "261ac303",
   "metadata": {},
   "outputs": [
    {
     "data": {
      "text/plain": [
       "(array([[1],\n",
       "        [1],\n",
       "        [0],\n",
       "        [0],\n",
       "        [1],\n",
       "        [1],\n",
       "        [0],\n",
       "        [0],\n",
       "        [0],\n",
       "        [1]]),\n",
       " array([[1],\n",
       "        [1],\n",
       "        [0],\n",
       "        [1],\n",
       "        [0],\n",
       "        [0],\n",
       "        [0],\n",
       "        [0],\n",
       "        [1],\n",
       "        [1]]),\n",
       " array([1, 1, 1, 0, 0, 1, 1, 1, 0, 0]),\n",
       " array([0, 0, 1, 0, 1, 1, 0, 1, 1, 1]))"
      ]
     },
     "execution_count": 162,
     "metadata": {},
     "output_type": "execute_result"
    }
   ],
   "source": [
    "M = 2\n",
    "\n",
    "x_tr_M2 = np.random.randint(2, size=10).reshape(-1, 1)\n",
    "x_va_N2 = np.random.randint(2, size=10).reshape(-1, 1)\n",
    "y_tr_M = np.random.randint(2, size=10)\n",
    "y_va_N = np.random.randint(2, size=10)\n",
    "x_tr_M2, x_va_N2, y_tr_M, y_va_N"
   ]
  },
  {
   "cell_type": "code",
   "execution_count": null,
   "id": "c2b0af64",
   "metadata": {},
   "outputs": [],
   "source": []
  },
  {
   "cell_type": "markdown",
   "id": "b67d8450",
   "metadata": {},
   "source": [
    "## Cross Validation"
   ]
  },
  {
   "cell_type": "code",
   "execution_count": 163,
   "id": "66fd228b",
   "metadata": {},
   "outputs": [],
   "source": [
    "%run binary_metrics.py\n",
    "%run proba_metrics.py"
   ]
  },
  {
   "cell_type": "code",
   "execution_count": null,
   "id": "937c25f4",
   "metadata": {},
   "outputs": [],
   "source": []
  },
  {
   "cell_type": "code",
   "execution_count": 164,
   "id": "8b8ff466",
   "metadata": {},
   "outputs": [
    {
     "data": {
      "text/plain": [
       "(1599, 801)"
      ]
     },
     "execution_count": 164,
     "metadata": {},
     "output_type": "execute_result"
    }
   ],
   "source": [
    "K = 3 # num folds of CV\n",
    "random_state = 1234\n",
    "\n",
    "train_error_per_fold = np.zeros(K, dtype=np.float32)\n",
    "test_error_per_fold = np.zeros(K, dtype=np.float32)\n",
    "\n",
    "N = x_normal.shape[0]\n",
    "# TODO define the folds here by calling your function\n",
    "# e.g. ... = make_train_and_test_row_ids_for_n_fold_cv(...)\n",
    "train_ids, test_ids = make_train_and_test_row_ids_for_n_fold_cv(\n",
    "    N, K, random_state)\n",
    "\n",
    "len(train_ids[0]), len(test_ids[0])"
   ]
  },
  {
   "cell_type": "code",
   "execution_count": 165,
   "id": "2961eec4",
   "metadata": {},
   "outputs": [],
   "source": [
    "y_list = y_train_list"
   ]
  },
  {
   "cell_type": "code",
   "execution_count": 166,
   "id": "c5e39bb5",
   "metadata": {},
   "outputs": [
    {
     "data": {
      "text/plain": [
       "array([0, 0, 0, ..., 1, 1, 1])"
      ]
     },
     "execution_count": 166,
     "metadata": {},
     "output_type": "execute_result"
    }
   ],
   "source": [
    "y_list"
   ]
  },
  {
   "cell_type": "markdown",
   "id": "9e6e3971",
   "metadata": {},
   "source": [
    "## normalize the data"
   ]
  },
  {
   "cell_type": "code",
   "execution_count": 167,
   "id": "52fc9c3f",
   "metadata": {},
   "outputs": [
    {
     "data": {
      "text/plain": [
       "1599"
      ]
     },
     "execution_count": 167,
     "metadata": {},
     "output_type": "execute_result"
    }
   ],
   "source": [
    "# partition the data into train and test\n",
    "\n",
    "x_tr, y_tr = list(), list()\n",
    "y_va, x_va = list(), list()\n",
    "\n",
    "\n",
    "for i in range(len(train_ids)):\n",
    "    x_tr.append(x_normal[train_ids[i]])\n",
    "    y_tr.append(y_list[train_ids[i]])\n",
    "\n",
    "for i in range(len(test_ids)):\n",
    "    x_va.append(x_normal[test_ids[i]])\n",
    "    y_va.append(y_list[test_ids[i]])\n",
    "\n",
    "\n",
    "len(x_tr[0])"
   ]
  },
  {
   "cell_type": "code",
   "execution_count": 217,
   "id": "107fbf3e",
   "metadata": {},
   "outputs": [],
   "source": [
    "C_grid = np.logspace(-9, 6, 31)"
   ]
  },
  {
   "cell_type": "code",
   "execution_count": 218,
   "id": "b3035b65",
   "metadata": {},
   "outputs": [
    {
     "data": {
      "text/plain": [
       "(1599, 4510)"
      ]
     },
     "execution_count": 218,
     "metadata": {},
     "output_type": "execute_result"
    }
   ],
   "source": [
    "x_tr[0].shape"
   ]
  },
  {
   "cell_type": "code",
   "execution_count": 219,
   "id": "6abd8fc6",
   "metadata": {},
   "outputs": [
    {
     "data": {
      "text/plain": [
       "3"
      ]
     },
     "execution_count": 219,
     "metadata": {},
     "output_type": "execute_result"
    }
   ],
   "source": [
    "K"
   ]
  },
  {
   "cell_type": "code",
   "execution_count": 220,
   "id": "f098c9ee",
   "metadata": {},
   "outputs": [],
   "source": [
    "cv_tr_bce_list = list()\n",
    "cv_va_bce_list = list()\n",
    "cv_te_bce_list = list()\n",
    "\n",
    "model_list = list()\n",
    "tr_bce_list_for_each_C = list()\n",
    "va_bce_list_for_each_C = list()\n",
    "# idx = 0\n",
    "for C in C_grid:\n",
    "\n",
    "    model_F3_list = list()\n",
    "\n",
    "    # Allocate lists for storing BCE metrics\n",
    "    tr_bce_list = list()\n",
    "    va_bce_list = list()\n",
    "    te_bce_list = list()\n",
    "\n",
    "    # Allocate lists for storing ERROR RATE metrics\n",
    "    tr_err_list = list()\n",
    "    va_err_list = list()\n",
    "    te_err_list = list()\n",
    "\n",
    "    # idx = idx + 1\n",
    "    for i in range(K):\n",
    "        xtr = x_tr[i]\n",
    "        ytr = y_tr[i]\n",
    "        xva = x_va[i]\n",
    "        yva = y_va[i]\n",
    "\n",
    "        lr_F3 = sklearn.linear_model.LogisticRegression(C = C, penalty = 'l2', solver='lbfgs', max_iter=2000) # TODO fixme\n",
    "        lr_F3.fit(xtr, ytr) # TODO fixme\n",
    "\n",
    "        model_F3_list.append(lr_F3)\n",
    "\n",
    "        yproba1_tr_M = lr_F3.predict_proba(xtr)[:,1] # The probability of predicting class 1 on the training set\n",
    "        yproba1_va_N = lr_F3.predict_proba(xva)[:,1] # The probability of predicting class 1 on the validation set\n",
    "\n",
    "        # Compute error rate aka zero-one loss\n",
    "        my_tr_err = sklearn.metrics.zero_one_loss(ytr, yproba1_tr_M >= 0.5)\n",
    "        my_va_err = sklearn.metrics.zero_one_loss(yva, yproba1_va_N >= 0.5)\n",
    "        tr_err_list.append(my_tr_err)\n",
    "        va_err_list.append(my_va_err)\n",
    "\n",
    "        # TODO: using the calc_mean_binary_cross_entropy_from_probas() function from above:\n",
    "        # Part c: calculate the binary cross entropy (bce) on the training set\n",
    "        # Part d: calculate the binary cross entropy (bce) on the validation set\n",
    "        my_tr_bce = calc_mean_binary_cross_entropy_from_probas(ytr, yproba1_tr_M) # TODO fixme\n",
    "        my_va_bce = calc_mean_binary_cross_entropy_from_probas(yva, yproba1_va_N) # TODO fixme\n",
    "        # Save bce for future selection on Models.\n",
    "        tr_bce_list.append(my_tr_bce) \n",
    "        va_bce_list.append(my_va_bce)\n",
    "    \n",
    "    tr_bce_list_for_each_C.append(tr_bce_list)\n",
    "    va_bce_list_for_each_C.append(va_bce_list)\n",
    "    \n",
    "    model_list.append(model_F3_list)\n",
    "    \n",
    "    # best_C_idx = np.argmin(va_bce_list)\n",
    "    # best_C__lrF3 = C_grid[best_C_idx]\n",
    "    \n",
    "    cv_tr_bce_list.append((sum(tr_bce_list)/len(tr_bce_list)))\n",
    "    cv_va_bce_list.append((sum(va_bce_list)/len(va_bce_list)))\n",
    "    \n"
   ]
  },
  {
   "cell_type": "code",
   "execution_count": 224,
   "id": "8a9f38c4",
   "metadata": {},
   "outputs": [
    {
     "data": {
      "text/plain": [
       "18"
      ]
     },
     "execution_count": 224,
     "metadata": {},
     "output_type": "execute_result"
    }
   ],
   "source": [
    "best_C_index = np.argmin(cv_va_bce_list)\n",
    "best_C_index"
   ]
  },
  {
   "cell_type": "code",
   "execution_count": 226,
   "id": "17c18240",
   "metadata": {},
   "outputs": [
    {
     "data": {
      "text/plain": [
       "2"
      ]
     },
     "execution_count": 226,
     "metadata": {},
     "output_type": "execute_result"
    }
   ],
   "source": [
    "best_fold_in_C = np.argmin(va_bce_list_for_each_C[best_C_index])\n",
    "best_fold_in_C"
   ]
  },
  {
   "cell_type": "code",
   "execution_count": 227,
   "id": "efc59568",
   "metadata": {},
   "outputs": [],
   "source": [
    "best_C__lr = C_grid[best_C_index]\n",
    "best_lr = model_list[best_C_index][best_fold_in_C]"
   ]
  },
  {
   "cell_type": "code",
   "execution_count": 228,
   "id": "b6df575e",
   "metadata": {},
   "outputs": [
    {
     "data": {
      "image/png": "[encoded data removed]",
      "text/plain": [
       "<Figure size 800x550 with 1 Axes>"
      ]
     },
     "metadata": {},
     "output_type": "display_data"
    }
   ],
   "source": [
    "plt.plot(np.log10(C_grid), cv_tr_bce_list, 'bs-', label='train BCE')\n",
    "plt.plot(np.log10(C_grid), cv_va_bce_list, 'rs-', label='valid BCE')\n",
    "\n",
    "# plt.plot(np.log10(C_grid), tr_err_list, 'b:', label='train err')\n",
    "# plt.plot(np.log10(C_grid), va_err_list, 'r:', label='valid err')\n",
    "\n",
    "plt.ylabel('error')\n",
    "plt.xlabel(\"$\\log_{10} C$\");\n",
    "plt.legend(bbox_to_anchor=(1.5, 0.5)) # make legend outside plot\n",
    "plt.ylim([0, 2]);"
   ]
  },
  {
   "cell_type": "code",
   "execution_count": 229,
   "id": "009b94b9",
   "metadata": {},
   "outputs": [
    {
     "name": "stdout",
     "output_type": "stream",
     "text": [
      "Best model has coefficient values:\n",
      "[[0.         0.52926522 0.         ... 0.         0.         0.        ]]\n"
     ]
    }
   ],
   "source": [
    "print(\"Best model has coefficient values:\")\n",
    "print(best_lr.coef_)"
   ]
  },
  {
   "cell_type": "code",
   "execution_count": 230,
   "id": "cbb537b6",
   "metadata": {},
   "outputs": [],
   "source": [
    "prng = np.random.RandomState(101)\n",
    "\n",
    "bestlr_yproba1_tr = best_lrF3.predict_proba(x_tr[best_fold_in_C])[:,1] # TODO fixme\n",
    "bestlr_yproba1_va = best_lrF3.predict_proba(x_va[best_fold_in_C])[:,1] # TODO fixme"
   ]
  },
  {
   "cell_type": "code",
   "execution_count": 234,
   "id": "dd8eb6f4",
   "metadata": {},
   "outputs": [
    {
     "data": {
      "text/plain": [
       "(798,)"
      ]
     },
     "execution_count": 234,
     "metadata": {},
     "output_type": "execute_result"
    }
   ],
   "source": [
    "bestlr_yproba1_va.shape\n",
    "y_va[best_fold_in_C].shape"
   ]
  },
  {
   "cell_type": "code",
   "execution_count": 235,
   "id": "f6477368",
   "metadata": {},
   "outputs": [
    {
     "data": {
      "image/png": "[encoded data removed]",
      "text/plain": [
       "<Figure size 500x500 with 1 Axes>"
      ]
     },
     "metadata": {},
     "output_type": "display_data"
    }
   ],
   "source": [
    "# Follow the instruction of HW2 and produce Figure 1 for your report:\n",
    "plt.subplots(nrows=1, ncols=1, figsize=(5,5));\n",
    "\n",
    "# TODO Use provided data and predictions on the Validation set\n",
    "# Produce the ROC Curve utilizing `sklearn.metrics.roc_curve' within plt defined above.\n",
    "# To start, read the official Document and examples of 'sklearn.metrics.roc_curve'. \n",
    "va_fpr, va_tpr, va_thresholds = sklearn.metrics.roc_curve(y_va[best_fold_in_C], bestlr_yproba1_va)\n",
    "tr_fpr, tr_tpr, tr_thresholds = sklearn.metrics.roc_curve(y_tr[best_fold_in_C], bestlr_yproba1_tr)\n",
    "\n",
    "# Read HW2 instructions carefully for plot style (line type, line color, etc.)\n",
    "\n",
    "plt.plot(tr_fpr, tr_tpr, 'b.-', label = \"Training Set\" )\n",
    "plt.plot(va_fpr, va_tpr, 'r.-', label = \"Validation Set\" )\n",
    "plt.title(\"ROC on Validation Set and Training Set\");\n",
    "plt.xlabel('false positive rate');\n",
    "plt.ylabel('true positive rate');\n",
    "plt.legend(loc='lower right');\n",
    "B = 0.01\n",
    "plt.xlim([0 - B, 1 + B]);\n",
    "plt.ylim([0 - B, 1 + B]);"
   ]
  },
  {
   "cell_type": "code",
   "execution_count": null,
   "id": "a90883c0",
   "metadata": {},
   "outputs": [],
   "source": [
    "sklearn.metrics.confusion_matrix(y_te_N, bestlrF3_yproba1_te_N >= best_thr_default)"
   ]
  },
  {
   "cell_type": "code",
   "execution_count": null,
   "id": "416dce09",
   "metadata": {},
   "outputs": [],
   "source": []
  },
  {
   "cell_type": "code",
   "execution_count": null,
   "id": "cc10524c",
   "metadata": {},
   "outputs": [],
   "source": []
  },
  {
   "cell_type": "code",
   "execution_count": null,
   "id": "4fa9ac0c",
   "metadata": {},
   "outputs": [],
   "source": []
  },
  {
   "cell_type": "code",
   "execution_count": null,
   "id": "14e09640",
   "metadata": {},
   "outputs": [],
   "source": []
  },
  {
   "cell_type": "code",
   "execution_count": null,
   "id": "5028f54a",
   "metadata": {},
   "outputs": [],
   "source": [
    "# remove punctuation in the text\n",
    "def rm_punc(text_list):\n",
    "    puncs = '!@#$%^&*()_+-={}[]:;|<>,.?/\"\\''\n",
    "    clean_text_list = []\n",
    "    for text in text_list:\n",
    "        clean_text = \"\"\n",
    "        for char in text:\n",
    "            if char not in puncs:\n",
    "                clean_text += char.lower()\n",
    "        clean_text_list.append(clean_text)\n",
    "    return clean_text_list\n",
    "\n",
    "clean_tr_text = rm_punc(tr_text_list)\n",
    "clean_tr_text[0]"
   ]
  },
  {
   "cell_type": "code",
   "execution_count": null,
   "id": "e6806af7",
   "metadata": {},
   "outputs": [],
   "source": [
    "# partition the data\n",
    "words_list = []\n",
    "for text in clean_tr_text:\n",
    "    words_list.append(text.split())\n",
    "    \n",
    "words_list[0]"
   ]
  },
  {
   "cell_type": "code",
   "execution_count": null,
   "id": "10a7ce66",
   "metadata": {},
   "outputs": [],
   "source": []
  },
  {
   "cell_type": "code",
   "execution_count": null,
   "id": "d269ccb6",
   "metadata": {},
   "outputs": [],
   "source": []
  }
 ],
 "metadata": {
  "interpreter": {
   "hash": "d5603cc4667a52057224efdf5ddcc7de73a3282f447f21696056843efd22823e"
  },
  "kernelspec": {
   "display_name": "Python 3 (ipykernel)",
   "language": "python",
   "name": "python3"
  },
  "language_info": {
   "codemirror_mode": {
    "name": "ipython",
    "version": 3
   },
   "file_extension": ".py",
   "mimetype": "text/x-python",
   "name": "python",
   "nbconvert_exporter": "python",
   "pygments_lexer": "ipython3",
   "version": "3.10.12"
  }
 },
 "nbformat": 4,
 "nbformat_minor": 5
}
