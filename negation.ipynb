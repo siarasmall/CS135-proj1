{
 "cells": [
  {
   "cell_type": "code",
   "execution_count": 2,
   "id": "827b0719",
   "metadata": {},
   "outputs": [],
   "source": [
    "import numpy as np\n",
    "import pandas as pd\n",
    "import sklearn.linear_model\n",
    "import sklearn.metrics\n",
    "import os\n",
    "from sklearn.metrics import roc_auc_score"
   ]
  },
  {
   "cell_type": "code",
   "execution_count": 3,
   "id": "fce9f294",
   "metadata": {},
   "outputs": [],
   "source": [
    "# import plotting libraries\n",
    "import matplotlib\n",
    "import matplotlib.pyplot as plt\n",
    "\n",
    "%matplotlib inline\n",
    "plt.style.use('seaborn-v0_8') # pretty matplotlib plots\n"
   ]
  },
  {
   "cell_type": "markdown",
   "id": "378b2437",
   "metadata": {},
   "source": [
    "## Load Data"
   ]
  },
  {
   "cell_type": "code",
   "execution_count": 4,
   "id": "2a734063",
   "metadata": {},
   "outputs": [
    {
     "name": "stdout",
     "output_type": "stream",
     "text": [
      "Shape of x_train_df: (2400, 2)\n",
      "Shape of y_train_df: (2400, 1)\n"
     ]
    },
    {
     "data": {
      "text/html": [
       "<div>\n",
       "<style scoped>\n",
       "    .dataframe tbody tr th:only-of-type {\n",
       "        vertical-align: middle;\n",
       "    }\n",
       "\n",
       "    .dataframe tbody tr th {\n",
       "        vertical-align: top;\n",
       "    }\n",
       "\n",
       "    .dataframe thead th {\n",
       "        text-align: right;\n",
       "    }\n",
       "</style>\n",
       "<table border=\"1\" class=\"dataframe\">\n",
       "  <thead>\n",
       "    <tr style=\"text-align: right;\">\n",
       "      <th></th>\n",
       "      <th>website_name</th>\n",
       "      <th>text</th>\n",
       "    </tr>\n",
       "  </thead>\n",
       "  <tbody>\n",
       "    <tr>\n",
       "      <th>0</th>\n",
       "      <td>amazon</td>\n",
       "      <td>Oh and I forgot to also mention the weird colo...</td>\n",
       "    </tr>\n",
       "    <tr>\n",
       "      <th>1</th>\n",
       "      <td>amazon</td>\n",
       "      <td>THAT one didn't work either.</td>\n",
       "    </tr>\n",
       "    <tr>\n",
       "      <th>2</th>\n",
       "      <td>amazon</td>\n",
       "      <td>Waste of 13 bucks.</td>\n",
       "    </tr>\n",
       "    <tr>\n",
       "      <th>3</th>\n",
       "      <td>amazon</td>\n",
       "      <td>Product is useless, since it does not have eno...</td>\n",
       "    </tr>\n",
       "    <tr>\n",
       "      <th>4</th>\n",
       "      <td>amazon</td>\n",
       "      <td>None of the three sizes they sent with the hea...</td>\n",
       "    </tr>\n",
       "    <tr>\n",
       "      <th>...</th>\n",
       "      <td>...</td>\n",
       "      <td>...</td>\n",
       "    </tr>\n",
       "    <tr>\n",
       "      <th>2395</th>\n",
       "      <td>yelp</td>\n",
       "      <td>The sweet potato fries were very good and seas...</td>\n",
       "    </tr>\n",
       "    <tr>\n",
       "      <th>2396</th>\n",
       "      <td>yelp</td>\n",
       "      <td>I could eat their bruschetta all day it is dev...</td>\n",
       "    </tr>\n",
       "    <tr>\n",
       "      <th>2397</th>\n",
       "      <td>yelp</td>\n",
       "      <td>Ambience is perfect.</td>\n",
       "    </tr>\n",
       "    <tr>\n",
       "      <th>2398</th>\n",
       "      <td>yelp</td>\n",
       "      <td>We ordered the duck rare and it was pink and t...</td>\n",
       "    </tr>\n",
       "    <tr>\n",
       "      <th>2399</th>\n",
       "      <td>yelp</td>\n",
       "      <td>Service was good and the company was better!</td>\n",
       "    </tr>\n",
       "  </tbody>\n",
       "</table>\n",
       "<p>2400 rows × 2 columns</p>\n",
       "</div>"
      ],
      "text/plain": [
       "     website_name                                               text\n",
       "0          amazon  Oh and I forgot to also mention the weird colo...\n",
       "1          amazon                       THAT one didn't work either.\n",
       "2          amazon                                 Waste of 13 bucks.\n",
       "3          amazon  Product is useless, since it does not have eno...\n",
       "4          amazon  None of the three sizes they sent with the hea...\n",
       "...           ...                                                ...\n",
       "2395         yelp  The sweet potato fries were very good and seas...\n",
       "2396         yelp  I could eat their bruschetta all day it is dev...\n",
       "2397         yelp                               Ambience is perfect.\n",
       "2398         yelp  We ordered the duck rare and it was pink and t...\n",
       "2399         yelp       Service was good and the company was better!\n",
       "\n",
       "[2400 rows x 2 columns]"
      ]
     },
     "execution_count": 4,
     "metadata": {},
     "output_type": "execute_result"
    }
   ],
   "source": [
    "data_dir = 'data_reviews'\n",
    "x_train_df = pd.read_csv(os.path.join(data_dir, 'x_train.csv'))\n",
    "y_train_df = pd.read_csv(os.path.join(data_dir, 'y_train.csv'))\n",
    "\n",
    "N, n_cols = x_train_df.shape\n",
    "print(\"Shape of x_train_df: (%d, %d)\" % (N,n_cols))\n",
    "print(\"Shape of y_train_df: %s\" % str(y_train_df.shape))\n",
    "x_train_df"
   ]
  },
  {
   "cell_type": "code",
   "execution_count": 5,
   "id": "67a9b91f",
   "metadata": {},
   "outputs": [],
   "source": [
    "# df to list\n",
    "tr_text_list = x_train_df['text'].values.tolist()"
   ]
  },
  {
   "cell_type": "code",
   "execution_count": 6,
   "id": "5e193540",
   "metadata": {},
   "outputs": [
    {
     "data": {
      "text/plain": [
       "2400"
      ]
     },
     "execution_count": 6,
     "metadata": {},
     "output_type": "execute_result"
    }
   ],
   "source": [
    "y_train_list = y_train_df['is_positive_sentiment'].values.tolist()\n",
    "len(y_train_list)"
   ]
  },
  {
   "cell_type": "code",
   "execution_count": 7,
   "id": "a651849b",
   "metadata": {},
   "outputs": [
    {
     "data": {
      "text/plain": [
       "2400"
      ]
     },
     "execution_count": 7,
     "metadata": {},
     "output_type": "execute_result"
    }
   ],
   "source": [
    "len(y_train_list)"
   ]
  },
  {
   "cell_type": "markdown",
   "id": "59b9b3b8",
   "metadata": {},
   "source": [
    "## Partition sentences into words"
   ]
  },
  {
   "cell_type": "code",
   "execution_count": 8,
   "id": "ef8944c2",
   "metadata": {},
   "outputs": [],
   "source": [
    "from sklearn.feature_extraction.text import CountVectorizer"
   ]
  },
  {
   "cell_type": "code",
   "execution_count": 9,
   "id": "87e5962c",
   "metadata": {},
   "outputs": [],
   "source": [
    "vectorizer = CountVectorizer(max_features = 3000, stop_words = [\"no\", \"not\", \"didn't\", \"shouldn't\", \"couldn't\"])"
   ]
  },
  {
   "cell_type": "markdown",
   "id": "b3c8eb6e",
   "metadata": {},
   "source": [
    "### How big is my vocabulary?"
   ]
  },
  {
   "cell_type": "code",
   "execution_count": 10,
   "id": "b78623d6",
   "metadata": {},
   "outputs": [
    {
     "name": "stderr",
     "output_type": "stream",
     "text": [
      "/Users/siarasmall/opt/anaconda3/envs/cs135_env/lib/python3.10/site-packages/sklearn/feature_extraction/text.py:409: UserWarning: Your stop_words may be inconsistent with your preprocessing. Tokenizing the stop words generated tokens ['couldn', 'didn', 'shouldn'] not in stop_words.\n",
      "  warnings.warn(\n"
     ]
    },
    {
     "data": {
      "text/plain": [
       "3000"
      ]
     },
     "execution_count": 10,
     "metadata": {},
     "output_type": "execute_result"
    }
   ],
   "source": [
    "x = vectorizer.fit_transform(tr_text_list)\n",
    "vocab = vectorizer.get_feature_names_out()\n",
    "vocab.shape[0]"
   ]
  },
  {
   "cell_type": "code",
   "execution_count": 11,
   "id": "8682b1ac",
   "metadata": {},
   "outputs": [
    {
     "data": {
      "text/plain": [
       "(2400, 3000)"
      ]
     },
     "execution_count": 11,
     "metadata": {},
     "output_type": "execute_result"
    }
   ],
   "source": [
    "x_train_NV = x.toarray()\n",
    "x_train_NV.shape # N is the number of sentences, and V is the number of vocabulary"
   ]
  },
  {
   "cell_type": "code",
   "execution_count": 12,
   "id": "47ec8774",
   "metadata": {},
   "outputs": [
    {
     "data": {
      "text/plain": [
       "(2400, 3000)"
      ]
     },
     "execution_count": 12,
     "metadata": {},
     "output_type": "execute_result"
    }
   ],
   "source": [
    "N = x_train_NV.shape[0]\n",
    "V = x_train_NV.shape[1]\n",
    "N,V"
   ]
  },
  {
   "cell_type": "code",
   "execution_count": 13,
   "id": "b80eec05",
   "metadata": {},
   "outputs": [
    {
     "data": {
      "text/plain": [
       "2433"
      ]
     },
     "execution_count": 13,
     "metadata": {},
     "output_type": "execute_result"
    }
   ],
   "source": [
    "vectorizer.vocabulary_.get('the')"
   ]
  },
  {
   "cell_type": "markdown",
   "id": "bd6d4a45",
   "metadata": {},
   "source": [
    "### Get the common and rare"
   ]
  },
  {
   "cell_type": "code",
   "execution_count": 14,
   "id": "6c590bc2",
   "metadata": {},
   "outputs": [
    {
     "data": {
      "text/plain": [
       "0"
      ]
     },
     "execution_count": 14,
     "metadata": {},
     "output_type": "execute_result"
    }
   ],
   "source": [
    "x_train_NV[0][2701] # search the first sentence for 'oh'"
   ]
  },
  {
   "cell_type": "code",
   "execution_count": 15,
   "id": "6c0f0f60",
   "metadata": {},
   "outputs": [
    {
     "data": {
      "text/plain": [
       "1572"
      ]
     },
     "execution_count": 15,
     "metadata": {},
     "output_type": "execute_result"
    }
   ],
   "source": [
    "x_common = []\n",
    "\n",
    "x_col_sum = np.sum(x_train_NV, axis = 0)\n",
    "\n",
    "np.max(x_col_sum)"
   ]
  },
  {
   "cell_type": "code",
   "execution_count": 16,
   "id": "39da2e7a",
   "metadata": {},
   "outputs": [
    {
     "data": {
      "text/plain": [
       "((3000,), 1)"
      ]
     },
     "execution_count": 16,
     "metadata": {},
     "output_type": "execute_result"
    }
   ],
   "source": [
    "x_col_sum.shape, x_col_sum[2701]"
   ]
  },
  {
   "cell_type": "code",
   "execution_count": 17,
   "id": "d6e30036",
   "metadata": {},
   "outputs": [],
   "source": [
    "x_common = x_col_sum > N/2 # happens half of the time \n",
    "x_common_V = [int(x) for x in x_common]\n",
    "x_common_V = np.array(x_common_V)"
   ]
  },
  {
   "cell_type": "code",
   "execution_count": 18,
   "id": "91d21ea5",
   "metadata": {},
   "outputs": [],
   "source": [
    "x_rare = x_col_sum < 10\n",
    "x_rare_V = [int(x) for x in x_rare]\n",
    "x_rare_V = np.array(x_rare_V)"
   ]
  },
  {
   "cell_type": "code",
   "execution_count": 19,
   "id": "0488878d",
   "metadata": {},
   "outputs": [
    {
     "data": {
      "text/plain": [
       "((3000,), (3000,))"
      ]
     },
     "execution_count": 19,
     "metadata": {},
     "output_type": "execute_result"
    }
   ],
   "source": [
    "x_common_V.shape, x_rare_V.shape"
   ]
  },
  {
   "cell_type": "code",
   "execution_count": 20,
   "id": "01a9ef81",
   "metadata": {},
   "outputs": [],
   "source": [
    "# x_common_V.reshape(V, 1)"
   ]
  },
  {
   "cell_type": "code",
   "execution_count": 21,
   "id": "33605ab8",
   "metadata": {},
   "outputs": [
    {
     "data": {
      "text/plain": [
       "891"
      ]
     },
     "execution_count": 21,
     "metadata": {},
     "output_type": "execute_result"
    }
   ],
   "source": [
    "x_common = x_train_NV * x_common_V \n",
    "x_rare = x_train_NV * x_rare_V\n",
    "\n",
    "idx = vectorizer.vocabulary_.get('good')\n",
    "idx"
   ]
  },
  {
   "cell_type": "code",
   "execution_count": 22,
   "id": "65865692",
   "metadata": {},
   "outputs": [
    {
     "data": {
      "text/plain": [
       "185"
      ]
     },
     "execution_count": 22,
     "metadata": {},
     "output_type": "execute_result"
    }
   ],
   "source": [
    "np.sum(x_train_NV[:, idx])"
   ]
  },
  {
   "cell_type": "code",
   "execution_count": 23,
   "id": "1a7b1710",
   "metadata": {},
   "outputs": [
    {
     "data": {
      "text/plain": [
       "((2400, 3000), (2400, 3000))"
      ]
     },
     "execution_count": 23,
     "metadata": {},
     "output_type": "execute_result"
    }
   ],
   "source": [
    "x_rare.shape, x_common.shape"
   ]
  },
  {
   "cell_type": "code",
   "execution_count": null,
   "id": "a7b3fba1",
   "metadata": {},
   "outputs": [],
   "source": []
  },
  {
   "cell_type": "code",
   "execution_count": null,
   "id": "4bfa343a",
   "metadata": {},
   "outputs": [],
   "source": []
  },
  {
   "cell_type": "code",
   "execution_count": null,
   "id": "4853c484",
   "metadata": {},
   "outputs": [],
   "source": []
  },
  {
   "cell_type": "markdown",
   "id": "3b273273",
   "metadata": {},
   "source": [
    "### Get Normal"
   ]
  },
  {
   "cell_type": "code",
   "execution_count": 24,
   "id": "1721280f",
   "metadata": {},
   "outputs": [],
   "source": [
    "x_normal = x_train_NV * (1 - x_common_V) * (1 - x_rare_V)"
   ]
  },
  {
   "cell_type": "code",
   "execution_count": 25,
   "id": "f72061b7",
   "metadata": {},
   "outputs": [
    {
     "data": {
      "text/plain": [
       "array([0, 0, 0, ..., 0, 0, 1])"
      ]
     },
     "execution_count": 25,
     "metadata": {},
     "output_type": "execute_result"
    }
   ],
   "source": [
    "x_normal[:, idx]"
   ]
  },
  {
   "cell_type": "code",
   "execution_count": 26,
   "id": "81366d5b",
   "metadata": {},
   "outputs": [
    {
     "data": {
      "text/plain": [
       "array([0, 0, 0, ..., 1, 1, 1])"
      ]
     },
     "execution_count": 26,
     "metadata": {},
     "output_type": "execute_result"
    }
   ],
   "source": [
    "y_train_list = np.array(y_train_list)\n",
    "y_train_list"
   ]
  },
  {
   "cell_type": "code",
   "execution_count": 27,
   "id": "758b41c9",
   "metadata": {},
   "outputs": [],
   "source": [
    "# x_normal_copy = np.copy(x_normal)\n",
    "# x_normal_copy[0].shape, x_common_V.shape"
   ]
  },
  {
   "cell_type": "code",
   "execution_count": 28,
   "id": "9536c8a3",
   "metadata": {},
   "outputs": [],
   "source": [
    "# x = []"
   ]
  },
  {
   "cell_type": "code",
   "execution_count": 29,
   "id": "58c2d041",
   "metadata": {},
   "outputs": [],
   "source": [
    "# y_train_list.shape, x_common_V.shape[0]"
   ]
  },
  {
   "cell_type": "code",
   "execution_count": 30,
   "id": "c11bf629",
   "metadata": {},
   "outputs": [],
   "source": [
    "# for i in range(x_common_V.shape[0]):\n",
    "#     if x_common_V[i] == 1:\n",
    "#         x_normal_copy = np.delete(x_normal_copy, i, axis=1)\n",
    "    \n",
    "    "
   ]
  },
  {
   "cell_type": "code",
   "execution_count": 31,
   "id": "4ed6e6c5",
   "metadata": {},
   "outputs": [],
   "source": [
    "# x_normal_copy.shape"
   ]
  },
  {
   "cell_type": "code",
   "execution_count": 32,
   "id": "16e90169",
   "metadata": {},
   "outputs": [],
   "source": [
    "# t = {[0,0,0,0],[0,1,0,1]}"
   ]
  },
  {
   "cell_type": "code",
   "execution_count": 33,
   "id": "668a7c72",
   "metadata": {},
   "outputs": [],
   "source": [
    "%run performance_metrics.py\n",
    "%run cross_validation.py"
   ]
  },
  {
   "cell_type": "code",
   "execution_count": 34,
   "id": "f423ed58",
   "metadata": {},
   "outputs": [],
   "source": [
    "# calc_root_mean_squared_error()\n",
    "# train_models_and_calc_scores_for_n_fold_cv\n",
    "# make_train_and_test_row_ids_for_n_fold_cv"
   ]
  },
  {
   "cell_type": "code",
   "execution_count": 35,
   "id": "261ac303",
   "metadata": {},
   "outputs": [
    {
     "data": {
      "text/plain": [
       "(array([[0],\n",
       "        [0],\n",
       "        [1],\n",
       "        [1],\n",
       "        [1],\n",
       "        [1],\n",
       "        [0],\n",
       "        [1],\n",
       "        [0],\n",
       "        [0]]),\n",
       " array([[0],\n",
       "        [1],\n",
       "        [1],\n",
       "        [0],\n",
       "        [1],\n",
       "        [1],\n",
       "        [1],\n",
       "        [0],\n",
       "        [0],\n",
       "        [1]]),\n",
       " array([1, 1, 0, 0, 0, 1, 0, 0, 0, 1]),\n",
       " array([0, 0, 1, 0, 1, 1, 0, 1, 1, 1]))"
      ]
     },
     "execution_count": 35,
     "metadata": {},
     "output_type": "execute_result"
    }
   ],
   "source": [
    "M = 2\n",
    "\n",
    "x_tr_M2 = np.random.randint(2, size=10).reshape(-1, 1)\n",
    "x_va_N2 = np.random.randint(2, size=10).reshape(-1, 1)\n",
    "y_tr_M = np.random.randint(2, size=10)\n",
    "y_va_N = np.random.randint(2, size=10)\n",
    "x_tr_M2, x_va_N2, y_tr_M, y_va_N"
   ]
  },
  {
   "cell_type": "code",
   "execution_count": null,
   "id": "c2b0af64",
   "metadata": {},
   "outputs": [],
   "source": []
  },
  {
   "cell_type": "markdown",
   "id": "b67d8450",
   "metadata": {},
   "source": [
    "## Cross Validation"
   ]
  },
  {
   "cell_type": "code",
   "execution_count": 36,
   "id": "66fd228b",
   "metadata": {},
   "outputs": [],
   "source": [
    "%run binary_metrics.py\n",
    "%run proba_metrics.py"
   ]
  },
  {
   "cell_type": "code",
   "execution_count": null,
   "id": "937c25f4",
   "metadata": {},
   "outputs": [],
   "source": []
  },
  {
   "cell_type": "code",
   "execution_count": 37,
   "id": "8b8ff466",
   "metadata": {},
   "outputs": [
    {
     "data": {
      "text/plain": [
       "(1599, 801)"
      ]
     },
     "execution_count": 37,
     "metadata": {},
     "output_type": "execute_result"
    }
   ],
   "source": [
    "K = 3 # num folds of CV\n",
    "random_state = 1234\n",
    "\n",
    "train_error_per_fold = np.zeros(K, dtype=np.float32)\n",
    "test_error_per_fold = np.zeros(K, dtype=np.float32)\n",
    "\n",
    "N = x_normal.shape[0]\n",
    "# TODO define the folds here by calling your function\n",
    "# e.g. ... = make_train_and_test_row_ids_for_n_fold_cv(...)\n",
    "train_ids, test_ids = make_train_and_test_row_ids_for_n_fold_cv(\n",
    "    N, K, random_state)\n",
    "\n",
    "len(train_ids[0]), len(test_ids[0])"
   ]
  },
  {
   "cell_type": "code",
   "execution_count": 38,
   "id": "2961eec4",
   "metadata": {},
   "outputs": [],
   "source": [
    "y_list = y_train_list"
   ]
  },
  {
   "cell_type": "code",
   "execution_count": 39,
   "id": "c5e39bb5",
   "metadata": {},
   "outputs": [
    {
     "data": {
      "text/plain": [
       "array([0, 0, 0, ..., 1, 1, 1])"
      ]
     },
     "execution_count": 39,
     "metadata": {},
     "output_type": "execute_result"
    }
   ],
   "source": [
    "y_list"
   ]
  },
  {
   "cell_type": "markdown",
   "id": "9e6e3971",
   "metadata": {},
   "source": [
    "## normalize the data"
   ]
  },
  {
   "cell_type": "code",
   "execution_count": 40,
   "id": "52fc9c3f",
   "metadata": {},
   "outputs": [
    {
     "data": {
      "text/plain": [
       "1599"
      ]
     },
     "execution_count": 40,
     "metadata": {},
     "output_type": "execute_result"
    }
   ],
   "source": [
    "# partition the data into train and test\n",
    "\n",
    "x_tr, y_tr = list(), list()\n",
    "y_va, x_va = list(), list()\n",
    "\n",
    "\n",
    "for i in range(len(train_ids)):\n",
    "    x_tr.append(x_normal[train_ids[i]])\n",
    "    y_tr.append(y_list[train_ids[i]])\n",
    "\n",
    "for i in range(len(test_ids)):\n",
    "    x_va.append(x_normal[test_ids[i]])\n",
    "    y_va.append(y_list[test_ids[i]])\n",
    "\n",
    "\n",
    "len(x_tr[0])"
   ]
  },
  {
   "cell_type": "code",
   "execution_count": 41,
   "id": "107fbf3e",
   "metadata": {},
   "outputs": [],
   "source": [
    "C_grid = np.logspace(-9, 6, 31)"
   ]
  },
  {
   "cell_type": "code",
   "execution_count": 42,
   "id": "b3035b65",
   "metadata": {},
   "outputs": [
    {
     "data": {
      "text/plain": [
       "(1599, 3000)"
      ]
     },
     "execution_count": 42,
     "metadata": {},
     "output_type": "execute_result"
    }
   ],
   "source": [
    "x_tr[0].shape"
   ]
  },
  {
   "cell_type": "code",
   "execution_count": 43,
   "id": "6abd8fc6",
   "metadata": {},
   "outputs": [
    {
     "data": {
      "text/plain": [
       "3"
      ]
     },
     "execution_count": 43,
     "metadata": {},
     "output_type": "execute_result"
    }
   ],
   "source": [
    "K"
   ]
  },
  {
   "cell_type": "code",
   "execution_count": 44,
   "id": "f098c9ee",
   "metadata": {},
   "outputs": [],
   "source": [
    "cv_tr_bce_list = list()\n",
    "cv_va_bce_list = list()\n",
    "cv_te_bce_list = list()\n",
    "\n",
    "model_list = list()\n",
    "tr_bce_list_for_each_C = list()\n",
    "va_bce_list_for_each_C = list()\n",
    "# idx = 0\n",
    "for C in C_grid:\n",
    "\n",
    "    model_F3_list = list()\n",
    "\n",
    "    # Allocate lists for storing BCE metrics\n",
    "    tr_bce_list = list()\n",
    "    va_bce_list = list()\n",
    "    te_bce_list = list()\n",
    "\n",
    "    # Allocate lists for storing ERROR RATE metrics\n",
    "    tr_err_list = list()\n",
    "    va_err_list = list()\n",
    "    te_err_list = list()\n",
    "\n",
    "    # idx = idx + 1\n",
    "    for i in range(K):\n",
    "        xtr = x_tr[i]\n",
    "        ytr = y_tr[i]\n",
    "        xva = x_va[i]\n",
    "        yva = y_va[i]\n",
    "\n",
    "        lr_F3 = sklearn.linear_model.LogisticRegression(C = C, penalty = 'l2', solver='lbfgs', max_iter=2000) # TODO fixme\n",
    "        lr_F3.fit(xtr, ytr) # TODO fixme\n",
    "\n",
    "        model_F3_list.append(lr_F3)\n",
    "\n",
    "        yproba1_tr_M = lr_F3.predict_proba(xtr)[:,1] # The probability of predicting class 1 on the training set\n",
    "        yproba1_va_N = lr_F3.predict_proba(xva)[:,1] # The probability of predicting class 1 on the validation set\n",
    "\n",
    "        # Compute error rate aka zero-one loss\n",
    "        my_tr_err = sklearn.metrics.zero_one_loss(ytr, yproba1_tr_M >= 0.5)\n",
    "        my_va_err = sklearn.metrics.zero_one_loss(yva, yproba1_va_N >= 0.5)\n",
    "        tr_err_list.append(my_tr_err)\n",
    "        va_err_list.append(my_va_err)\n",
    "\n",
    "        # TODO: using the calc_mean_binary_cross_entropy_from_probas() function from above:\n",
    "        # Part c: calculate the binary cross entropy (bce) on the training set\n",
    "        # Part d: calculate the binary cross entropy (bce) on the validation set\n",
    "        my_tr_bce = calc_mean_binary_cross_entropy_from_probas(ytr, yproba1_tr_M) # TODO fixme\n",
    "        my_va_bce = calc_mean_binary_cross_entropy_from_probas(yva, yproba1_va_N) # TODO fixme\n",
    "        # Save bce for future selection on Models.\n",
    "        tr_bce_list.append(my_tr_bce) \n",
    "        va_bce_list.append(my_va_bce)\n",
    "    \n",
    "    tr_bce_list_for_each_C.append(tr_bce_list)\n",
    "    va_bce_list_for_each_C.append(va_bce_list)\n",
    "    \n",
    "    model_list.append(model_F3_list)\n",
    "    \n",
    "    # best_C_idx = np.argmin(va_bce_list)\n",
    "    # best_C__lrF3 = C_grid[best_C_idx]\n",
    "    \n",
    "    cv_tr_bce_list.append((sum(tr_bce_list)/len(tr_bce_list)))\n",
    "    cv_va_bce_list.append((sum(va_bce_list)/len(va_bce_list)))\n",
    "    \n"
   ]
  },
  {
   "cell_type": "code",
   "execution_count": 45,
   "id": "8a9f38c4",
   "metadata": {},
   "outputs": [
    {
     "data": {
      "text/plain": [
       "18"
      ]
     },
     "execution_count": 45,
     "metadata": {},
     "output_type": "execute_result"
    }
   ],
   "source": [
    "best_C_index = np.argmin(cv_va_bce_list)\n",
    "best_C_index"
   ]
  },
  {
   "cell_type": "code",
   "execution_count": 46,
   "id": "efaa50be",
   "metadata": {},
   "outputs": [
    {
     "data": {
      "text/plain": [
       "2"
      ]
     },
     "execution_count": 46,
     "metadata": {},
     "output_type": "execute_result"
    }
   ],
   "source": [
    "best_fold_in_C = np.argmin(va_bce_list_for_each_C[best_C_index])\n",
    "best_fold_in_C"
   ]
  },
  {
   "cell_type": "code",
   "execution_count": 47,
   "id": "588a0502",
   "metadata": {},
   "outputs": [],
   "source": [
    "best_C__lr = C_grid[best_C_index]\n",
    "best_lr = model_list[best_C_index][best_fold_in_C]"
   ]
  },
  {
   "cell_type": "code",
   "execution_count": 48,
   "id": "b6df575e",
   "metadata": {},
   "outputs": [
    {
     "data": {
      "image/png": "[encoded data removed]",
      "text/plain": [
       "<Figure size 800x550 with 1 Axes>"
      ]
     },
     "metadata": {},
     "output_type": "display_data"
    }
   ],
   "source": [
    "plt.plot(np.log10(C_grid), cv_tr_bce_list, 'bs-', label='train BCE')\n",
    "plt.plot(np.log10(C_grid), cv_va_bce_list, 'rs-', label='valid BCE')\n",
    "\n",
    "# plt.plot(np.log10(C_grid), tr_err_list, 'b:', label='train err')\n",
    "# plt.plot(np.log10(C_grid), va_err_list, 'r:', label='valid err')\n",
    "\n",
    "plt.ylabel('error')\n",
    "plt.xlabel(\"$\\log_{10} C$\");\n",
    "plt.legend(bbox_to_anchor=(1.5, 0.5)) # make legend outside plot\n",
    "plt.ylim([0, 2]);"
   ]
  },
  {
   "cell_type": "code",
   "execution_count": 49,
   "id": "009b94b9",
   "metadata": {},
   "outputs": [
    {
     "name": "stdout",
     "output_type": "stream",
     "text": [
      "Best model has coefficient values:\n",
      "[[0.         0.50440625 0.         ... 0.         0.         0.        ]]\n"
     ]
    }
   ],
   "source": [
    "print(\"Best model has coefficient values:\")\n",
    "print(best_lr.coef_)"
   ]
  },
  {
   "cell_type": "code",
   "execution_count": 50,
   "id": "cbb537b6",
   "metadata": {},
   "outputs": [],
   "source": [
    "prng = np.random.RandomState(101)\n",
    "\n",
    "bestlr_yproba1_tr = best_lr.predict_proba(x_tr[best_fold_in_C])[:,1] # TODO fixme\n",
    "bestlr_yproba1_va = best_lr.predict_proba(x_va[best_fold_in_C])[:,1] # TODO fixme"
   ]
  },
  {
   "cell_type": "code",
   "execution_count": 51,
   "id": "dd8eb6f4",
   "metadata": {},
   "outputs": [
    {
     "data": {
      "text/plain": [
       "(798,)"
      ]
     },
     "execution_count": 51,
     "metadata": {},
     "output_type": "execute_result"
    }
   ],
   "source": [
    "bestlr_yproba1_va.shape\n",
    "y_va[best_fold_in_C].shape"
   ]
  },
  {
   "cell_type": "code",
   "execution_count": 52,
   "id": "f6477368",
   "metadata": {
    "scrolled": false
   },
   "outputs": [
    {
     "data": {
      "image/png": "[encoded data removed]",
      "text/plain": [
       "<Figure size 500x500 with 1 Axes>"
      ]
     },
     "metadata": {},
     "output_type": "display_data"
    }
   ],
   "source": [
    "# Follow the instruction of HW2 and produce Figure 1 for your report:\n",
    "plt.subplots(nrows=1, ncols=1, figsize=(5,5));\n",
    "\n",
    "# TODO Use provided data and predictions on the Validation set\n",
    "# Produce the ROC Curve utilizing `sklearn.metrics.roc_curve' within plt defined above.\n",
    "# To start, read the official Document and examples of 'sklearn.metrics.roc_curve'. \n",
    "va_fpr, va_tpr, va_thresholds = sklearn.metrics.roc_curve(y_va[best_fold_in_C], bestlr_yproba1_va)\n",
    "tr_fpr, tr_tpr, tr_thresholds = sklearn.metrics.roc_curve(y_tr[best_fold_in_C], bestlr_yproba1_tr)\n",
    "\n",
    "# Read HW2 instructions carefully for plot style (line type, line color, etc.)\n",
    "\n",
    "plt.plot(tr_fpr, tr_tpr, 'b.-', label = \"Training Set\" )\n",
    "plt.plot(va_fpr, va_tpr, 'r.-', label = \"Validation Set\" )\n",
    "plt.title(\"ROC on Validation Set and Training Set\");\n",
    "plt.xlabel('false positive rate');\n",
    "plt.ylabel('true positive rate');\n",
    "plt.legend(loc='lower right');\n",
    "B = 0.01\n",
    "plt.xlim([0 - B, 1 + B]);\n",
    "plt.ylim([0 - B, 1 + B]);"
   ]
  },
  {
   "cell_type": "markdown",
   "id": "ae5420fd",
   "metadata": {},
   "source": [
    "## Confusion Matrix on the best C/fold"
   ]
  },
  {
   "cell_type": "code",
   "execution_count": 53,
   "id": "d3419d0d",
   "metadata": {},
   "outputs": [],
   "source": [
    "import threshold_selection\n",
    "from confusion_matrix import calc_confusion_matrix_for_probas_and_threshold"
   ]
  },
  {
   "cell_type": "code",
   "execution_count": 54,
   "id": "74b8cc5a",
   "metadata": {},
   "outputs": [
    {
     "name": "stdout",
     "output_type": "stream",
     "text": [
      "[[325  71]\n",
      " [117 285]]\n",
      "chosen thr = 0.5000, tpr = 0.7090, ppv = 0.8006,\n"
     ]
    }
   ],
   "source": [
    "best_thr_default = 0.5\n",
    "\n",
    "print(sklearn.metrics.confusion_matrix(y_va[best_fold_in_C], bestlr_yproba1_va >= best_thr_default))\n",
    "\n",
    "thresh_grid, perf_dict = threshold_selection.compute_perf_metrics_across_thresholds(y_va[best_fold_in_C], bestlr_yproba1_va, [best_thr_default])\n",
    "\n",
    "tpr = perf_dict['tpr'][0]# TODO fixme\n",
    "ppv = perf_dict['ppv'][0] # TODO fixme\n",
    "\n",
    "print(f\"chosen thr = {best_thr_default :.4f}, tpr = {tpr :.4f}, ppv = {ppv :.4f},\")"
   ]
  },
  {
   "cell_type": "markdown",
   "id": "722a94dd",
   "metadata": {},
   "source": [
    "## Area Under ROC Curve"
   ]
  },
  {
   "cell_type": "code",
   "execution_count": 55,
   "id": "3288995a",
   "metadata": {},
   "outputs": [
    {
     "data": {
      "text/plain": [
       "0.8360877593914092"
      ]
     },
     "execution_count": 55,
     "metadata": {},
     "output_type": "execute_result"
    }
   ],
   "source": [
    "roc_auc_score(y_va[best_fold_in_C],bestlr_yproba1_va, max_fpr = 0.98)\n",
    "# 0.8555683894744892"
   ]
  },
  {
   "cell_type": "markdown",
   "id": "42697dd7",
   "metadata": {},
   "source": [
    "## read the test file into vocab matrix"
   ]
  },
  {
   "cell_type": "code",
   "execution_count": 56,
   "id": "d0efecda",
   "metadata": {},
   "outputs": [
    {
     "data": {
      "text/plain": [
       "(600, 2)"
      ]
     },
     "execution_count": 56,
     "metadata": {},
     "output_type": "execute_result"
    }
   ],
   "source": [
    "x_test_df = pd.read_csv(os.path.join(data_dir, 'x_test.csv'))\n",
    "x_test_df.shape"
   ]
  },
  {
   "cell_type": "code",
   "execution_count": 57,
   "id": "62bcdb1b",
   "metadata": {},
   "outputs": [
    {
     "data": {
      "text/plain": [
       "600"
      ]
     },
     "execution_count": 57,
     "metadata": {},
     "output_type": "execute_result"
    }
   ],
   "source": [
    "te_text_list = x_test_df['text'].values.tolist()\n",
    "len(te_text_list)"
   ]
  },
  {
   "cell_type": "code",
   "execution_count": 58,
   "id": "a2880b43",
   "metadata": {},
   "outputs": [
    {
     "data": {
      "text/plain": [
       "<600x3000 sparse matrix of type '<class 'numpy.int64'>'\n",
       "\twith 5287 stored elements in Compressed Sparse Row format>"
      ]
     },
     "execution_count": 58,
     "metadata": {},
     "output_type": "execute_result"
    }
   ],
   "source": [
    "vec = CountVectorizer(vocabulary = vocab)\n",
    "t = vec.fit_transform(te_text_list)\n",
    "t"
   ]
  },
  {
   "cell_type": "code",
   "execution_count": 59,
   "id": "63bf130a",
   "metadata": {},
   "outputs": [
    {
     "data": {
      "text/plain": [
       "(600, 3000)"
      ]
     },
     "execution_count": 59,
     "metadata": {},
     "output_type": "execute_result"
    }
   ],
   "source": [
    "te_array = t.toarray()\n",
    "te_array.shape"
   ]
  },
  {
   "cell_type": "code",
   "execution_count": 60,
   "id": "e92838f9",
   "metadata": {},
   "outputs": [
    {
     "data": {
      "text/plain": [
       "array([0.48743438, 0.41059648, 0.3973458 , 0.24532871, 0.26768096,\n",
       "       0.46155597, 0.45311022, 0.23943595, 0.50594612, 0.55182985,\n",
       "       0.40501187, 0.30055107, 0.11828952, 0.32207368, 0.2770942 ,\n",
       "       0.15559165, 0.02101317, 0.10568668, 0.38087886, 0.26650402,\n",
       "       0.3001699 , 0.83531674, 0.14253686, 0.18189671, 0.3978524 ,\n",
       "       0.35454832, 0.33303328, 0.43630969, 0.2229897 , 0.54051499,\n",
       "       0.53674726, 0.30783192, 0.41911867, 0.17056493, 0.35609949,\n",
       "       0.52776086, 0.37935753, 0.32665512, 0.72741517, 0.52587983,\n",
       "       0.12279911, 0.25695087, 0.51997118, 0.30033345, 0.2827151 ,\n",
       "       0.11605034, 0.50486605, 0.09401569, 0.12251399, 0.2229897 ,\n",
       "       0.49875153, 0.17867483, 0.82204407, 0.73478452, 0.32811684,\n",
       "       0.39112079, 0.15052394, 0.06638219, 0.57914911, 0.07881315,\n",
       "       0.29562459, 0.48983473, 0.39112079, 0.13285622, 0.55587477,\n",
       "       0.06130109, 0.29491545, 0.82475438, 0.37193021, 0.58667303,\n",
       "       0.24745229, 0.39112079, 0.11115173, 0.12704994, 0.23024055,\n",
       "       0.45356235, 0.3953251 , 0.0568581 , 0.57251527, 0.2700181 ,\n",
       "       0.21958022, 0.15493662, 0.13063004, 0.39684471, 0.01821461,\n",
       "       0.33644666, 0.09298296, 0.15729473, 0.18057815, 0.23331152,\n",
       "       0.39112079, 0.14744039, 0.25360491, 0.13135697, 0.75266847,\n",
       "       0.24442943, 0.27250104, 0.38268109, 0.56835006, 0.6197959 ,\n",
       "       0.95866044, 0.33953863, 0.4051381 , 0.9215059 , 0.19997638,\n",
       "       0.96100319, 0.78787139, 0.91110227, 0.15915151, 0.20106395,\n",
       "       0.79543463, 0.34710774, 0.87045668, 0.33527376, 0.6765219 ,\n",
       "       0.43190746, 0.81716084, 0.90802273, 0.53065932, 0.38745433,\n",
       "       0.083636  , 0.540478  , 0.87881585, 0.92453865, 0.91174112,\n",
       "       0.9574355 , 0.75716035, 0.70801757, 0.94915994, 0.52620836,\n",
       "       0.99319123, 0.78174717, 0.81118056, 0.98586484, 0.99244896,\n",
       "       0.41961202, 0.40144606, 0.87978501, 0.77604119, 0.97286973,\n",
       "       0.90907214, 0.07471805, 0.6876897 , 0.92442652, 0.71246841,\n",
       "       0.71993209, 0.19329142, 0.1182274 , 0.98365236, 0.83739241,\n",
       "       0.9999266 , 0.98682629, 0.78184244, 0.65690244, 0.40724244,\n",
       "       0.69596497, 0.67025398, 0.44615719, 0.84172771, 0.68182996,\n",
       "       0.19612425, 0.37648892, 0.61219889, 0.95111088, 0.92188978,\n",
       "       0.33642938, 0.80792663, 0.16582083, 0.63879445, 0.2229755 ,\n",
       "       0.32465936, 0.37799685, 0.39954646, 0.54166198, 0.85426791,\n",
       "       0.99709571, 0.62723719, 0.44344799, 0.94918786, 0.85701592,\n",
       "       0.92295628, 0.46262951, 0.52726515, 0.86892288, 0.73426169,\n",
       "       0.94217827, 0.8962978 , 0.95285936, 0.06718244, 0.88221708,\n",
       "       0.88636148, 0.64054772, 0.47574183, 0.97165047, 0.86314351,\n",
       "       0.81598353, 0.37965706, 0.49614441, 0.17063065, 0.82703882,\n",
       "       0.08188218, 0.49198939, 0.43294074, 0.39554799, 0.03728502,\n",
       "       0.19241003, 0.03568355, 0.00404496, 0.19816467, 0.5728819 ,\n",
       "       0.41185684, 0.04203521, 0.158904  , 0.5218628 , 0.31400116,\n",
       "       0.47429512, 0.77161205, 0.46871919, 0.26008071, 0.07751363,\n",
       "       0.01405007, 0.20458676, 0.4857499 , 0.24024192, 0.0473362 ,\n",
       "       0.08121862, 0.2730478 , 0.47062542, 0.38745433, 0.43437534,\n",
       "       0.08680585, 0.36626038, 0.8240702 , 0.24595101, 0.3920624 ,\n",
       "       0.13984551, 0.096329  , 0.54667794, 0.54715357, 0.21303281,\n",
       "       0.13458627, 0.1178342 , 0.43012857, 0.74955956, 0.89149877,\n",
       "       0.05449677, 0.16809369, 0.07029245, 0.07590752, 0.43603317,\n",
       "       0.45647442, 0.69280682, 0.70833366, 0.17563196, 0.64555955,\n",
       "       0.12796746, 0.36847341, 0.15124064, 0.13091559, 0.46133033,\n",
       "       0.35896235, 0.2733508 , 0.63774299, 0.16072252, 0.1595022 ,\n",
       "       0.18333708, 0.26339317, 0.11169665, 0.03473585, 0.40700019,\n",
       "       0.07737811, 0.23836764, 0.61635229, 0.58595936, 0.17833549,\n",
       "       0.47121968, 0.54715357, 0.40437572, 0.53356031, 0.357723  ,\n",
       "       0.72574764, 0.45456853, 0.41001788, 0.41990038, 0.05689342,\n",
       "       0.04431417, 0.66315603, 0.0457051 , 0.21123574, 0.5952003 ,\n",
       "       0.25073574, 0.45456853, 0.18276567, 0.01307952, 0.35229887,\n",
       "       0.03845141, 0.69978841, 0.45456853, 0.26134409, 0.24766382,\n",
       "       0.56504945, 0.2441285 , 0.92188233, 0.62650881, 0.44755343,\n",
       "       0.94875034, 0.49354519, 0.63946608, 0.14954386, 0.33051444,\n",
       "       0.67730508, 0.38745433, 0.13442364, 0.14686793, 0.39404836,\n",
       "       0.74984756, 0.38810962, 0.88657311, 0.51067398, 0.61122961,\n",
       "       0.92573385, 0.98622218, 0.61597159, 0.35982813, 0.50892117,\n",
       "       0.53710849, 0.99939477, 0.31304498, 0.85342948, 0.40222406,\n",
       "       0.99587841, 0.30812571, 0.54100191, 0.02282278, 0.43936639,\n",
       "       0.8340741 , 0.89649131, 0.86406021, 0.63872294, 0.43085578,\n",
       "       0.30894926, 0.21524875, 0.70399023, 0.49689183, 0.91759039,\n",
       "       0.63283428, 0.37222349, 0.80446186, 0.11486782, 0.65928835,\n",
       "       0.47808674, 0.12535081, 0.76322764, 0.71701456, 0.90077124,\n",
       "       0.31699759, 0.84120414, 0.90731397, 0.96196298, 0.94602457,\n",
       "       0.3505296 , 0.87560785, 0.51753453, 0.58836193, 0.81170977,\n",
       "       0.73448199, 0.74101854, 0.88408472, 0.32047219, 0.57215645,\n",
       "       0.25118335, 0.67524714, 0.38692199, 0.90441064, 0.43771637,\n",
       "       0.91262859, 0.85553557, 0.71260786, 0.14306823, 0.49372831,\n",
       "       0.46971367, 0.83780005, 0.57049539, 0.97433055, 0.65931652,\n",
       "       0.69939756, 0.54340602, 0.35426782, 0.86931842, 0.76248266,\n",
       "       0.32818421, 0.24698968, 0.78882313, 0.02515753, 0.15882362,\n",
       "       0.99043166, 0.35914723, 0.71374499, 0.25216917, 0.90781309,\n",
       "       0.12185277, 0.15834275, 0.00411035, 0.15225403, 0.19554941,\n",
       "       0.08546468, 0.13350688, 0.13243974, 0.05207926, 0.42419161,\n",
       "       0.64895467, 0.04538199, 0.11020513, 0.32215632, 0.30799438,\n",
       "       0.12188619, 0.49875153, 0.19829079, 0.09572918, 0.2517618 ,\n",
       "       0.27056392, 0.14601482, 0.38907141, 0.12168695, 0.70389214,\n",
       "       0.29044941, 0.64105039, 0.30887426, 0.46982062, 0.30584271,\n",
       "       0.31074559, 0.41664953, 0.19025047, 0.32125448, 0.17345269,\n",
       "       0.21074413, 0.50426601, 0.19423302, 0.10611513, 0.42581679,\n",
       "       0.91513741, 0.22804148, 0.06786354, 0.09686034, 0.10186312,\n",
       "       0.14033153, 0.42103733, 0.0351338 , 0.78278772, 0.63248728,\n",
       "       0.47988548, 0.29644121, 0.43048053, 0.53502003, 0.3546616 ,\n",
       "       0.53868368, 0.22478075, 0.30943897, 0.2681795 , 0.26850067,\n",
       "       0.15279563, 0.13334107, 0.68852851, 0.3591792 , 0.25368086,\n",
       "       0.77021596, 0.1578565 , 0.33898452, 0.39112079, 0.70386816,\n",
       "       0.51448002, 0.20572785, 0.41656674, 0.30585651, 0.45471813,\n",
       "       0.23221558, 0.29922485, 0.18844743, 0.15600532, 0.40964509,\n",
       "       0.11934112, 0.40617189, 0.60986097, 0.07212198, 0.51969715,\n",
       "       0.21826312, 0.01582277, 0.34747935, 0.63987674, 0.1114313 ,\n",
       "       0.82459776, 0.25818531, 0.37450374, 0.82251419, 0.6026888 ,\n",
       "       0.36310217, 0.2505094 , 0.191173  , 0.1761366 , 0.25454867,\n",
       "       0.96669215, 0.72328717, 0.71657562, 0.09691519, 0.57488856,\n",
       "       0.61626768, 0.90622485, 0.54995969, 0.81994491, 0.39040603,\n",
       "       0.38205563, 0.95178019, 0.84949644, 0.47142963, 0.39824214,\n",
       "       0.78486953, 0.7768586 , 0.86135612, 0.59574509, 0.53351598,\n",
       "       0.64932893, 0.66779772, 0.56209374, 0.26468957, 0.82467205,\n",
       "       0.97662799, 0.22231494, 0.68097789, 0.71131162, 0.99892127,\n",
       "       0.30805079, 0.90802273, 0.45414886, 0.80899676, 0.42895989,\n",
       "       0.31915813, 0.41523102, 0.23063026, 0.77005108, 0.92498587,\n",
       "       0.59849613, 0.54402234, 0.9462966 , 0.82760154, 0.68425592,\n",
       "       0.73486545, 0.93186848, 0.52194199, 0.9774218 , 0.98947957,\n",
       "       0.43270889, 0.06923827, 0.35126864, 0.89751636, 0.91476701,\n",
       "       0.90802273, 0.54603446, 0.77243782, 0.41094506, 0.64323501,\n",
       "       0.63713034, 0.85172596, 0.99747992, 0.95433564, 0.60737848,\n",
       "       0.25590079, 0.17708859, 0.93533875, 0.78124737, 0.33038978,\n",
       "       0.93862063, 0.35428778, 0.38188197, 0.35082118, 0.38892652,\n",
       "       0.39112079, 0.68747495, 0.76207469, 0.73217493, 0.60446171,\n",
       "       0.78903903, 0.3612116 , 0.87278893, 0.47217013, 0.4452849 ,\n",
       "       0.94161893, 0.74720576, 0.8166383 , 0.89792021, 0.48697441,\n",
       "       0.07824244, 0.33252267, 0.83356166, 0.36916068, 0.76856303,\n",
       "       0.95240208, 0.8906474 , 0.75840852, 0.99638114, 0.72104271])"
      ]
     },
     "execution_count": 60,
     "metadata": {},
     "output_type": "execute_result"
    }
   ],
   "source": [
    "y_te_proba = best_lr.predict_proba(te_array)[:,1]\n",
    "y_te_proba"
   ]
  },
  {
   "cell_type": "code",
   "execution_count": 61,
   "id": "964c55ac",
   "metadata": {},
   "outputs": [
    {
     "data": {
      "text/plain": [
       "((600,), 0.4615559740542006)"
      ]
     },
     "execution_count": 61,
     "metadata": {},
     "output_type": "execute_result"
    }
   ],
   "source": [
    "y_te_proba.shape, y_te_proba[5]"
   ]
  },
  {
   "cell_type": "code",
   "execution_count": 62,
   "id": "4a2b6315",
   "metadata": {},
   "outputs": [],
   "source": [
    "# for i in range(y_te_proba.shape[0]):\n",
    "#     if y_te_proba[i] >= 0.5: \n",
    "#         y_te_proba[i] = 1\n",
    "#     else:\n",
    "#         y_te_proba[i] = 0"
   ]
  },
  {
   "cell_type": "code",
   "execution_count": 63,
   "id": "9f5f27c5",
   "metadata": {},
   "outputs": [],
   "source": [
    "np.savetxt('out4.txt', y_te_proba, delimiter=' ')\n"
   ]
  },
  {
   "cell_type": "code",
   "execution_count": null,
   "id": "ca1ecd93",
   "metadata": {},
   "outputs": [],
   "source": []
  },
  {
   "cell_type": "code",
   "execution_count": null,
   "id": "4497a929",
   "metadata": {},
   "outputs": [],
   "source": []
  },
  {
   "cell_type": "code",
   "execution_count": null,
   "id": "3911152e",
   "metadata": {},
   "outputs": [],
   "source": []
  },
  {
   "cell_type": "code",
   "execution_count": null,
   "id": "9e1a60bf",
   "metadata": {},
   "outputs": [],
   "source": []
  },
  {
   "cell_type": "code",
   "execution_count": 64,
   "id": "5028f54a",
   "metadata": {},
   "outputs": [
    {
     "data": {
      "text/plain": [
       "'oh and i forgot to also mention the weird color effect it has on your phone'"
      ]
     },
     "execution_count": 64,
     "metadata": {},
     "output_type": "execute_result"
    }
   ],
   "source": [
    "# remove punctuation in the text\n",
    "def rm_punc(text_list):\n",
    "    puncs = '!@#$%^&*()_+-={}[]:;|<>,.?/\"\\''\n",
    "    clean_text_list = []\n",
    "    for text in text_list:\n",
    "        clean_text = \"\"\n",
    "        for char in text:\n",
    "            if char not in puncs:\n",
    "                clean_text += char.lower()\n",
    "        clean_text_list.append(clean_text)\n",
    "    return clean_text_list\n",
    "\n",
    "clean_tr_text = rm_punc(tr_text_list)\n",
    "clean_tr_text[0]"
   ]
  },
  {
   "cell_type": "code",
   "execution_count": 65,
   "id": "e6806af7",
   "metadata": {},
   "outputs": [
    {
     "data": {
      "text/plain": [
       "['oh',\n",
       " 'and',\n",
       " 'i',\n",
       " 'forgot',\n",
       " 'to',\n",
       " 'also',\n",
       " 'mention',\n",
       " 'the',\n",
       " 'weird',\n",
       " 'color',\n",
       " 'effect',\n",
       " 'it',\n",
       " 'has',\n",
       " 'on',\n",
       " 'your',\n",
       " 'phone']"
      ]
     },
     "execution_count": 65,
     "metadata": {},
     "output_type": "execute_result"
    }
   ],
   "source": [
    "# partition the data\n",
    "words_list = []\n",
    "for text in clean_tr_text:\n",
    "    words_list.append(text.split())\n",
    "    \n",
    "words_list[0]"
   ]
  },
  {
   "cell_type": "code",
   "execution_count": null,
   "id": "10a7ce66",
   "metadata": {},
   "outputs": [],
   "source": []
  },
  {
   "cell_type": "code",
   "execution_count": null,
   "id": "d269ccb6",
   "metadata": {},
   "outputs": [],
   "source": []
  }
 ],
 "metadata": {
  "interpreter": {
   "hash": "d5603cc4667a52057224efdf5ddcc7de73a3282f447f21696056843efd22823e"
  },
  "kernelspec": {
   "display_name": "Python 3 (ipykernel)",
   "language": "python",
   "name": "python3"
  },
  "language_info": {
   "codemirror_mode": {
    "name": "ipython",
    "version": 3
   },
   "file_extension": ".py",
   "mimetype": "text/x-python",
   "name": "python",
   "nbconvert_exporter": "python",
   "pygments_lexer": "ipython3",
   "version": "3.10.12"
  }
 },
 "nbformat": 4,
 "nbformat_minor": 5
}
