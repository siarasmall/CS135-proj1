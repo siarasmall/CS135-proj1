{
 "cells": [
  {
   "cell_type": "code",
   "execution_count": 168,
   "id": "827b0719",
   "metadata": {},
   "outputs": [],
   "source": [
    "import numpy as np\n",
    "import pandas as pd\n",
    "import sklearn.linear_model\n",
    "import sklearn.metrics\n",
    "import os\n",
    "from sklearn.metrics import roc_auc_score"
   ]
  },
  {
   "cell_type": "code",
   "execution_count": 169,
   "id": "fce9f294",
   "metadata": {},
   "outputs": [],
   "source": [
    "# import plotting libraries\n",
    "import matplotlib\n",
    "import matplotlib.pyplot as plt\n",
    "\n",
    "%matplotlib inline\n",
    "plt.style.use('seaborn-v0_8') # pretty matplotlib plots\n"
   ]
  },
  {
   "cell_type": "markdown",
   "id": "378b2437",
   "metadata": {},
   "source": [
    "## Load Data"
   ]
  },
  {
   "cell_type": "code",
   "execution_count": 170,
   "id": "2a734063",
   "metadata": {},
   "outputs": [],
   "source": [
    "data_dir = 'data_reviews'\n",
    "x_train_df = pd.read_csv(os.path.join(data_dir, 'x_train.csv'))\n",
    "y_train_df = pd.read_csv(os.path.join(data_dir, 'y_train.csv'))\n",
    "\n",
    "N, n_cols = x_train_df.shape\n",
    "# print(\"Shape of x_train_df: (%d, %d)\" % (N,n_cols))\n",
    "# print(\"Shape of y_train_df: %s\" % str(y_train_df.shape))\n",
    "# x_train_df"
   ]
  },
  {
   "cell_type": "code",
   "execution_count": 171,
   "id": "67a9b91f",
   "metadata": {},
   "outputs": [],
   "source": [
    "# df to list\n",
    "tr_text_list = x_train_df['text'].values.tolist()"
   ]
  },
  {
   "cell_type": "code",
   "execution_count": 172,
   "id": "5e193540",
   "metadata": {},
   "outputs": [],
   "source": [
    "y_train_list = y_train_df['is_positive_sentiment'].values.tolist()\n"
   ]
  },
  {
   "cell_type": "markdown",
   "id": "59b9b3b8",
   "metadata": {},
   "source": [
    "## Partition sentences into words"
   ]
  },
  {
   "cell_type": "code",
   "execution_count": 173,
   "id": "ef8944c2",
   "metadata": {},
   "outputs": [],
   "source": [
    "from sklearn.feature_extraction.text import CountVectorizer"
   ]
  },
  {
   "cell_type": "code",
   "execution_count": 174,
   "id": "87e5962c",
   "metadata": {},
   "outputs": [],
   "source": [
    "vectorizer = CountVectorizer(max_features=1000)"
   ]
  },
  {
   "cell_type": "markdown",
   "id": "b3c8eb6e",
   "metadata": {},
   "source": [
    "### How big is my vocabulary?"
   ]
  },
  {
   "cell_type": "code",
   "execution_count": 175,
   "id": "b78623d6",
   "metadata": {},
   "outputs": [],
   "source": [
    "x = vectorizer.fit_transform(tr_text_list)\n",
    "vocab = vectorizer.get_feature_names_out()\n"
   ]
  },
  {
   "cell_type": "code",
   "execution_count": 176,
   "id": "8682b1ac",
   "metadata": {},
   "outputs": [],
   "source": [
    "x_train_NV = x.toarray()\n",
    "# N is the number of sentences, and V is the number of vocabulary"
   ]
  },
  {
   "cell_type": "code",
   "execution_count": 177,
   "id": "47ec8774",
   "metadata": {},
   "outputs": [],
   "source": [
    "N = x_train_NV.shape[0]\n",
    "V = x_train_NV.shape[1]"
   ]
  },
  {
   "cell_type": "markdown",
   "id": "bd6d4a45",
   "metadata": {},
   "source": [
    "### Get the common and rare"
   ]
  },
  {
   "cell_type": "code",
   "execution_count": 178,
   "id": "6c0f0f60",
   "metadata": {},
   "outputs": [
    {
     "data": {
      "text/plain": [
       "1572"
      ]
     },
     "execution_count": 178,
     "metadata": {},
     "output_type": "execute_result"
    }
   ],
   "source": [
    "x_common = []\n",
    "\n",
    "x_col_sum = np.sum(x_train_NV, axis = 0)\n",
    "\n",
    "np.max(x_col_sum)"
   ]
  },
  {
   "cell_type": "code",
   "execution_count": 179,
   "id": "39da2e7a",
   "metadata": {},
   "outputs": [],
   "source": [
    "# x_col_sum.shape, x_col_sum[2701]"
   ]
  },
  {
   "cell_type": "code",
   "execution_count": 180,
   "id": "d6e30036",
   "metadata": {},
   "outputs": [],
   "source": [
    "x_common = x_col_sum > N/2 # happens half of the time \n",
    "x_common_V = [int(x) for x in x_common]\n",
    "x_common_V = np.array(x_common_V)"
   ]
  },
  {
   "cell_type": "code",
   "execution_count": 181,
   "id": "91d21ea5",
   "metadata": {},
   "outputs": [],
   "source": [
    "x_rare = x_col_sum < 10\n",
    "x_rare_V = [int(x) for x in x_rare]\n",
    "x_rare_V = np.array(x_rare_V)"
   ]
  },
  {
   "cell_type": "code",
   "execution_count": 182,
   "id": "01a9ef81",
   "metadata": {},
   "outputs": [],
   "source": [
    "# x_common_V.reshape(V, 1)"
   ]
  },
  {
   "cell_type": "code",
   "execution_count": 183,
   "id": "33605ab8",
   "metadata": {},
   "outputs": [],
   "source": [
    "x_common = x_train_NV * x_common_V \n",
    "x_rare = x_train_NV * x_rare_V"
   ]
  },
  {
   "cell_type": "markdown",
   "id": "3b273273",
   "metadata": {},
   "source": [
    "### Get Normal Vocab"
   ]
  },
  {
   "cell_type": "code",
   "execution_count": 184,
   "id": "1721280f",
   "metadata": {},
   "outputs": [],
   "source": [
    "x_normal = x_train_NV * (1 - x_common_V) * (1 - x_rare_V)"
   ]
  },
  {
   "cell_type": "code",
   "execution_count": 185,
   "id": "81366d5b",
   "metadata": {},
   "outputs": [],
   "source": [
    "y_train_list = np.array(y_train_list)"
   ]
  },
  {
   "cell_type": "code",
   "execution_count": 186,
   "id": "668a7c72",
   "metadata": {},
   "outputs": [
    {
     "data": {
      "text/plain": [
       "<Figure size 800x550 with 0 Axes>"
      ]
     },
     "metadata": {},
     "output_type": "display_data"
    }
   ],
   "source": [
    "%run performance_metrics.py\n",
    "%run cross_validation.py"
   ]
  },
  {
   "cell_type": "code",
   "execution_count": 187,
   "id": "261ac303",
   "metadata": {},
   "outputs": [],
   "source": [
    "M = 2\n",
    "\n",
    "x_tr_M2 = np.random.randint(2, size=10).reshape(-1, 1)\n",
    "x_va_N2 = np.random.randint(2, size=10).reshape(-1, 1)\n",
    "y_tr_M = np.random.randint(2, size=10)\n",
    "y_va_N = np.random.randint(2, size=10)"
   ]
  },
  {
   "cell_type": "markdown",
   "id": "b67d8450",
   "metadata": {},
   "source": [
    "## Cross Validation"
   ]
  },
  {
   "cell_type": "code",
   "execution_count": 188,
   "id": "66fd228b",
   "metadata": {},
   "outputs": [],
   "source": [
    "%run binary_metrics.py\n",
    "%run proba_metrics.py"
   ]
  },
  {
   "cell_type": "code",
   "execution_count": 189,
   "id": "8b8ff466",
   "metadata": {},
   "outputs": [
    {
     "data": {
      "text/plain": [
       "(1919, 481)"
      ]
     },
     "execution_count": 189,
     "metadata": {},
     "output_type": "execute_result"
    }
   ],
   "source": [
    "K = 5 # num folds of CV\n",
    "random_state = 1234\n",
    "\n",
    "train_error_per_fold = np.zeros(K, dtype=np.float32)\n",
    "test_error_per_fold = np.zeros(K, dtype=np.float32)\n",
    "\n",
    "N = x_normal.shape[0]\n",
    "# TODO define the folds here by calling your function\n",
    "# e.g. ... = make_train_and_test_row_ids_for_n_fold_cv(...)\n",
    "train_ids, test_ids = make_train_and_test_row_ids_for_n_fold_cv(\n",
    "    N, K, random_state)\n",
    "\n",
    "len(train_ids[0]), len(test_ids[0])"
   ]
  },
  {
   "cell_type": "code",
   "execution_count": 190,
   "id": "2961eec4",
   "metadata": {},
   "outputs": [],
   "source": [
    "y_list = y_train_list"
   ]
  },
  {
   "cell_type": "markdown",
   "id": "9e6e3971",
   "metadata": {},
   "source": [
    "## normalize the data"
   ]
  },
  {
   "cell_type": "code",
   "execution_count": 191,
   "id": "52fc9c3f",
   "metadata": {},
   "outputs": [],
   "source": [
    "# partition the data into train and test\n",
    "\n",
    "x_tr, y_tr = list(), list()\n",
    "y_va, x_va = list(), list()\n",
    "\n",
    "\n",
    "for i in range(len(train_ids)):\n",
    "    x_tr.append(x_normal[train_ids[i]])\n",
    "    y_tr.append(y_list[train_ids[i]])\n",
    "\n",
    "for i in range(len(test_ids)):\n",
    "    x_va.append(x_normal[test_ids[i]])\n",
    "    y_va.append(y_list[test_ids[i]])\n"
   ]
  },
  {
   "cell_type": "code",
   "execution_count": 192,
   "id": "107fbf3e",
   "metadata": {},
   "outputs": [],
   "source": [
    "C_grid = np.logspace(-9, 6, 31)"
   ]
  },
  {
   "cell_type": "code",
   "execution_count": 193,
   "id": "f098c9ee",
   "metadata": {},
   "outputs": [],
   "source": [
    "cv_tr_bce_list = list()\n",
    "cv_va_bce_list = list()\n",
    "cv_te_bce_list = list()\n",
    "\n",
    "model_list = list()\n",
    "tr_bce_list_for_each_C = list()\n",
    "va_bce_list_for_each_C = list()\n",
    "# idx = 0\n",
    "for C in C_grid:\n",
    "\n",
    "    model_F3_list = list()\n",
    "\n",
    "    # Allocate lists for storing BCE metrics\n",
    "    tr_bce_list = list()\n",
    "    va_bce_list = list()\n",
    "    te_bce_list = list()\n",
    "\n",
    "    # Allocate lists for storing ERROR RATE metrics\n",
    "    tr_err_list = list()\n",
    "    va_err_list = list()\n",
    "    te_err_list = list()\n",
    "\n",
    "    # idx = idx + 1\n",
    "    for i in range(K):\n",
    "        xtr = x_tr[i]\n",
    "        ytr = y_tr[i]\n",
    "        xva = x_va[i]\n",
    "        yva = y_va[i]\n",
    "\n",
    "        lr_F3 = sklearn.linear_model.LogisticRegression(C = C, penalty = 'l2', solver='lbfgs', max_iter=2000) # TODO fixme\n",
    "        lr_F3.fit(xtr, ytr) # TODO fixme\n",
    "\n",
    "        model_F3_list.append(lr_F3)\n",
    "\n",
    "        yproba1_tr_M = lr_F3.predict_proba(xtr)[:,1] # The probability of predicting class 1 on the training set\n",
    "        yproba1_va_N = lr_F3.predict_proba(xva)[:,1] # The probability of predicting class 1 on the validation set\n",
    "\n",
    "        # Compute error rate aka zero-one loss\n",
    "        my_tr_err = sklearn.metrics.zero_one_loss(ytr, yproba1_tr_M >= 0.5)\n",
    "        my_va_err = sklearn.metrics.zero_one_loss(yva, yproba1_va_N >= 0.5)\n",
    "        tr_err_list.append(my_tr_err)\n",
    "        va_err_list.append(my_va_err)\n",
    "\n",
    "        # TODO: using the calc_mean_binary_cross_entropy_from_probas() function from above:\n",
    "        # Part c: calculate the binary cross entropy (bce) on the training set\n",
    "        # Part d: calculate the binary cross entropy (bce) on the validation set\n",
    "        my_tr_bce = calc_mean_binary_cross_entropy_from_probas(ytr, yproba1_tr_M) # TODO fixme\n",
    "        my_va_bce = calc_mean_binary_cross_entropy_from_probas(yva, yproba1_va_N) # TODO fixme\n",
    "        # Save bce for future selection on Models.\n",
    "        tr_bce_list.append(my_tr_bce) \n",
    "        va_bce_list.append(my_va_bce)\n",
    "    \n",
    "    tr_bce_list_for_each_C.append(tr_bce_list)\n",
    "    va_bce_list_for_each_C.append(va_bce_list)\n",
    "    \n",
    "    model_list.append(model_F3_list)\n",
    "    \n",
    "    # best_C_idx = np.argmin(va_bce_list)\n",
    "    # best_C__lrF3 = C_grid[best_C_idx]\n",
    "    \n",
    "    cv_tr_bce_list.append((sum(tr_bce_list)/len(tr_bce_list)))\n",
    "    cv_va_bce_list.append((sum(va_bce_list)/len(va_bce_list)))\n",
    "    \n"
   ]
  },
  {
   "cell_type": "code",
   "execution_count": 194,
   "id": "8a9f38c4",
   "metadata": {},
   "outputs": [],
   "source": [
    "best_C_index = np.argmin(cv_va_bce_list)"
   ]
  },
  {
   "cell_type": "code",
   "execution_count": 195,
   "id": "efaa50be",
   "metadata": {},
   "outputs": [],
   "source": [
    "best_fold_in_C = np.argmin(va_bce_list_for_each_C[best_C_index])"
   ]
  },
  {
   "cell_type": "code",
   "execution_count": 196,
   "id": "588a0502",
   "metadata": {},
   "outputs": [],
   "source": [
    "best_C__lr = C_grid[best_C_index]\n",
    "best_lr = model_list[best_C_index][best_fold_in_C]"
   ]
  },
  {
   "cell_type": "code",
   "execution_count": 197,
   "id": "b6df575e",
   "metadata": {},
   "outputs": [
    {
     "data": {
      "image/png": "[encoded data removed]",
      "text/plain": [
       "<Figure size 800x550 with 1 Axes>"
      ]
     },
     "metadata": {},
     "output_type": "display_data"
    }
   ],
   "source": [
    "plt.plot(np.log10(C_grid), cv_tr_bce_list, 'bs-', label='train BCE')\n",
    "plt.plot(np.log10(C_grid), cv_va_bce_list, 'rs-', label='valid BCE')\n",
    "\n",
    "# plt.plot(np.log10(C_grid), tr_err_list, 'b:', label='train err')\n",
    "# plt.plot(np.log10(C_grid), va_err_list, 'r:', label='valid err')\n",
    "\n",
    "plt.ylabel('error')\n",
    "plt.xlabel(\"$\\log_{10} C$\");\n",
    "plt.legend(bbox_to_anchor=(1.5, 0.5)) # make legend outside plot\n",
    "plt.ylim([0, 2]);"
   ]
  },
  {
   "cell_type": "code",
   "execution_count": 198,
   "id": "009b94b9",
   "metadata": {},
   "outputs": [
    {
     "name": "stdout",
     "output_type": "stream",
     "text": [
      "Best model has coefficient values:\n",
      "[[ 1.01607743  0.          0.          0.          0.          0.\n",
      "   0.          0.          0.          0.29788446  0.          0.29088939\n",
      "   0.01412875  0.          0.         -0.41196174  0.90811425  0.\n",
      "   0.         -0.46589144  0.63537576  0.          0.          0.30829288\n",
      "   0.06612263  0.          0.36165046  0.          0.50973445 -0.54911822\n",
      "   1.74461135  0.          0.          0.          0.16644863  0.33070274\n",
      "   0.         -0.64249755 -0.35626549 -0.37468951  0.29639965  0.\n",
      "   0.          0.         -0.23694592  0.          0.          0.25679042\n",
      "   0.          0.78293747 -0.07339707  0.          0.         -0.82816908\n",
      "   0.60358035  0.          0.          0.          0.          0.\n",
      "   0.         -1.22620925 -0.43739594  1.74866828 -1.35111694 -0.11611798\n",
      "   0.         -2.07913076  0.          0.         -0.50111253  0.\n",
      "   0.          0.          0.         -0.66489637 -0.37143291  0.\n",
      "   0.          1.66541949  0.         -0.23232392  0.          0.\n",
      "  -0.08552372  0.          0.         -0.62197986  0.          0.\n",
      "   0.20839023  0.          0.          0.          0.          0.\n",
      "   1.59273815  0.11869094 -0.78018513  0.         -0.36687533  0.\n",
      "  -0.37261865 -0.19949786 -1.42854105  0.          0.55153195  0.\n",
      "   0.          0.          0.          0.98337635  0.          0.\n",
      "  -0.95152419  0.          0.          0.          0.          0.\n",
      "   0.          0.          0.          0.          0.          0.82661485\n",
      "   0.         -0.56265723  0.          0.04554737  0.          0.0967785\n",
      "   0.          0.07251715  0.         -0.63472066 -0.38179883  0.06418636\n",
      "   0.16808405  0.22416035  0.          0.          0.54786204  0.\n",
      "   0.24627338  0.          0.17515943  0.          1.01602021  0.\n",
      "   0.05528176  0.39671366 -0.40430906  0.          0.31941222  0.\n",
      "   0.         -1.15102689  0.          0.          0.          0.\n",
      "  -0.30955284  0.          0.          0.          0.          0.\n",
      "   0.          0.53151176  0.          0.          0.          0.\n",
      "   0.          0.         -0.7433743   0.          1.65429328  0.28905061\n",
      "   0.          0.          0.          0.          0.          0.\n",
      "   0.          0.          0.          1.12476094  0.         -0.17695688\n",
      "  -1.1817396   0.          0.          0.          0.          0.\n",
      "  -0.818774    0.          0.         -0.04685277  0.          0.\n",
      "  -0.70279972  0.          0.70310375  2.02307781  0.          0.\n",
      "   0.          0.          0.          0.         -0.52518563  0.69971036\n",
      "  -1.04907104  0.23669366  0.          0.          0.          0.\n",
      "   0.          0.         -0.03081254  0.         -1.41458259 -1.43458989\n",
      "   0.          0.          0.          0.          0.         -0.72736816\n",
      "   0.          0.06841773 -0.42699822  0.         -0.86755778 -0.12845618\n",
      "   0.          0.          0.         -0.76126834  0.          0.\n",
      "   0.          0.          0.          0.          0.          0.\n",
      "   0.          0.          0.          0.42371244 -0.41552131  0.\n",
      "   0.          0.          0.          0.          0.          0.\n",
      "   0.          1.00111781 -0.73934583  0.          0.          0.\n",
      "   0.          0.          0.          0.          0.          0.46902463\n",
      "   0.          0.          0.          0.71391035  0.          0.05415559\n",
      "   0.65023861  0.          1.56696143  0.12120014  0.         -0.44207414\n",
      "   0.          0.         -0.34099555 -0.09797067  0.65637626  0.35331782\n",
      "   0.57494487  0.          2.15223029 -0.30194128  0.          0.59616761\n",
      "   0.          0.          0.          0.          0.          0.81979341\n",
      "   0.          0.          0.          0.          0.          0.79302067\n",
      "   0.          0.          1.57257268  0.69389491  0.70277496  0.\n",
      "   0.          0.          0.57374411  0.          0.         -0.86096591\n",
      "   0.23311844  0.76887679  0.09679265  0.          0.10255616  1.19883623\n",
      "  -0.61269003  0.          0.50776796  0.          0.         -0.42650413\n",
      "   0.          0.         -0.37634522 -0.09684878  0.          0.\n",
      "   0.59111529  0.          0.78036522  0.          0.          1.28421389\n",
      "   0.          0.         -0.05480993  0.         -0.64638294  0.\n",
      "   1.19940924  0.          0.          0.63091725  0.          0.16216546\n",
      "   0.25199974 -0.57878766  0.         -0.12799872  0.          0.\n",
      "   0.          0.16918275  0.         -1.15829331  1.75239559  0.01139844\n",
      "   0.          0.          2.52227905  0.          0.          0.\n",
      "   0.          0.         -0.06493204  0.          0.          0.\n",
      "   0.          0.          0.          1.49036042  0.11946129  0.37023869\n",
      "   0.         -0.01683444 -0.06062454 -0.07131531  0.          0.\n",
      "   0.05538639  0.          0.         -0.05709022  0.          0.\n",
      "   0.          0.          0.          0.49804311  0.01653721  0.\n",
      "   0.66181625  0.          0.          0.          0.67201913  0.\n",
      "   0.          0.          0.          0.          0.          0.\n",
      "   0.         -1.40501628  0.          0.         -0.57751911  0.\n",
      "   0.         -0.49091178 -0.45960855  0.29557291  0.          0.\n",
      "   0.          0.         -0.38085306  0.          0.         -0.28605603\n",
      "   0.         -0.00664378  0.          1.49519554  0.          0.\n",
      "   0.          0.          1.42763313  0.         -0.45164947  0.11528862\n",
      "   0.          0.02940392  0.01574958  0.05147815  0.          0.\n",
      "   0.4667968   0.          0.          0.          0.          0.15035224\n",
      "   0.          0.          0.          0.          0.14707678  0.81853705\n",
      "   0.          0.          0.          0.          0.         -0.14621243\n",
      "   0.          0.          0.          0.43682505  0.          0.\n",
      "  -0.67227117  0.          0.          0.          0.25540289  0.\n",
      "   0.          0.33828503  1.28548167  0.         -0.13195251  0.\n",
      "   0.          0.         -0.21844063  0.          0.         -0.47394003\n",
      "   0.          0.34402288 -0.17611179  0.          0.         -0.3688095\n",
      "   0.         -0.40134196  0.          0.          2.19080416  1.99618445\n",
      "   0.         -0.75784898  0.          0.17053082 -0.97340972  0.0613944\n",
      "   0.         -0.03151816  0.         -0.14519157  0.          0.\n",
      "   0.10772068 -0.35122933  0.          0.          0.          0.\n",
      "   0.          0.          0.          0.04846763  0.          0.\n",
      "   0.          0.          0.          0.         -0.27118762  0.\n",
      "   0.          0.          0.         -0.52381022  0.         -0.30167331\n",
      "   0.37690986  0.          0.          0.30211739  0.         -0.16773139\n",
      "  -0.03092493  0.         -0.65608941  0.          0.52558127  1.06620383\n",
      "   0.2323903   0.          0.          0.          0.          0.\n",
      "   0.          0.          0.         -0.76126679  0.3267516  -0.48314045\n",
      "   1.91995989 -0.14569335 -1.15489872  0.          0.          0.\n",
      "   0.         -1.6249304   0.         -1.15954326 -0.17592453  0.\n",
      "   0.08077009 -0.29286962  0.          0.          0.          0.\n",
      "  -1.0509284  -0.15003455 -0.1447852  -0.10923599 -0.48894591 -0.58792383\n",
      "   0.84147789 -0.74146603  0.         -0.13576291  0.          0.01931215\n",
      "  -0.12803046  0.         -0.47295267  0.19962082  0.          0.\n",
      "   0.          0.          0.          0.          0.27183013  0.\n",
      "   0.          0.          0.          0.         -0.15259059  1.95101991\n",
      "   1.24670014  0.67137253  0.          0.          0.          0.\n",
      "   0.01090002  0.          0.          0.         -0.77144403  0.\n",
      "  -0.20484011  0.         -0.12065932  0.          0.          0.\n",
      "   0.          0.          0.         -0.07991837  0.          0.\n",
      "   0.          0.          0.         -1.27363039 -1.15000607  0.\n",
      "   0.         -2.23136874  0.          0.          0.          0.\n",
      "   0.          0.          0.          0.          0.         -0.03660644\n",
      "   0.          0.51528877  0.          0.          0.         -1.25657457\n",
      "   0.12908483  0.14627735  0.12945016  0.          0.          0.\n",
      "   0.          0.          0.          0.         -0.29221259  0.\n",
      "  -0.47384809  0.          0.          0.71278579  0.          0.\n",
      "   0.          0.         -0.13552722  0.          0.         -0.43296751\n",
      "   0.         -0.28716122 -0.02835124  0.          0.         -0.3532058\n",
      "   0.          0.32282478  1.10189204  0.          0.          0.\n",
      "   0.          0.          0.49557537 -0.85949731  0.          0.\n",
      "   0.          0.99383475  0.          0.          0.          0.\n",
      "   0.          0.          0.         -0.17020473  0.08021609  0.\n",
      "  -0.36143723  0.          0.          0.          0.22703999  0.36217961\n",
      "   0.         -0.38670197 -0.00993284  0.4812452  -0.40493361  0.\n",
      "   0.          0.          0.          0.36772563  0.          0.\n",
      "   0.          0.         -0.16777925  0.          0.          0.\n",
      "   0.          0.          0.          0.          0.48838876  0.\n",
      "  -0.27455091  0.         -0.01340576  0.          0.          0.\n",
      "   0.          0.          0.          0.         -0.03914302  0.\n",
      "   0.          0.          0.         -0.80804307 -0.63321928  0.\n",
      "   0.          0.          0.          0.          0.          0.\n",
      "  -0.05897102  0.26457881  0.         -1.5615689   0.19432852  0.43657149\n",
      "   0.          0.          0.63830862  0.          0.          0.\n",
      "   0.         -0.17106998  0.55212227  0.          0.          0.\n",
      "   0.          0.          0.60848715  0.          0.          0.48355367\n",
      "  -0.29118957  0.43826505 -0.74723001  0.          0.13844151  0.\n",
      "   0.29530989  0.          0.          0.          0.         -0.24266554\n",
      "   0.          0.          0.          0.         -1.7919121   0.\n",
      "   0.          0.          0.          0.          0.04432468 -1.18078654\n",
      "   0.          0.          0.45529636  0.          0.          0.\n",
      "  -0.2154793   0.          0.31283107  0.          0.          0.\n",
      "   0.          0.         -0.13431551 -0.85278456  0.          0.\n",
      "   0.          0.         -0.31142663  0.          0.         -1.65124706\n",
      "   0.          0.1639429  -0.25863035  0.          0.          0.87070081\n",
      "  -0.37289337 -1.50863087 -0.21497589  0.15614027  0.0353285   0.\n",
      "  -0.53919803 -0.26327452  0.28599029  0.          0.05608142  0.10164656\n",
      "   0.58823596  0.70227442  0.01140058  0.49847115  0.          0.\n",
      "  -0.48786394 -0.16069456 -0.0860257   0.          0.          0.\n",
      "  -0.71929427  0.          0.          0.          0.         -0.86698616\n",
      "   0.          0.          0.          0.         -0.60212739  0.\n",
      "   0.21165403  0.          0.          0.          0.78675667  0.\n",
      "   0.19924754  0.          0.          0.         -0.36963222  0.\n",
      "   0.          0.          0.          0.         -0.11737335  0.\n",
      "   0.13764153  0.         -0.0245778  -0.16625162  0.         -0.08788809\n",
      "   0.          0.          0.          0.         -0.48333801  0.55910735\n",
      "   0.          0.          0.38089667  0.          0.          0.\n",
      "   0.          0.          0.          0.66524026  0.          0.\n",
      "   0.          0.          0.          0.          0.48339893  0.\n",
      "   0.          0.          0.         -0.13704523 -1.12135457 -1.38916304\n",
      "   0.          0.8006036   0.          0.10013633 -0.13859785 -0.05202293\n",
      "   0.          0.          0.          0.          1.27232144  0.12364813\n",
      "  -0.26659019 -0.023421    0.          0.          0.17197317  0.32636304\n",
      "   0.         -0.47601591  0.0225007   0.95730627  0.64775242 -0.1666872\n",
      "  -0.71419234  0.          0.68657857  0.          0.          0.41026091\n",
      "   0.          0.75680928  0.13313682  0.          1.63210894  0.\n",
      "   0.          0.         -0.94547054 -0.13878887  0.31227738  1.21603856\n",
      "   0.         -0.68612445 -1.78654763  0.95981961 -0.40406404  0.\n",
      "   0.         -0.28586046  0.          0.         -0.05142598  1.35075007\n",
      "   0.          0.23437692 -0.28991152  0.        ]]\n"
     ]
    }
   ],
   "source": [
    "print(\"Best model has coefficient values:\")\n",
    "print(best_lr.coef_)"
   ]
  },
  {
   "cell_type": "code",
   "execution_count": 199,
   "id": "cbb537b6",
   "metadata": {},
   "outputs": [],
   "source": [
    "prng = np.random.RandomState(101)\n",
    "\n",
    "bestlr_yproba1_tr = best_lr.predict_proba(x_tr[best_fold_in_C])[:,1] # TODO fixme\n",
    "bestlr_yproba1_va = best_lr.predict_proba(x_va[best_fold_in_C])[:,1] # TODO fixme"
   ]
  },
  {
   "cell_type": "code",
   "execution_count": 200,
   "id": "dd8eb6f4",
   "metadata": {},
   "outputs": [],
   "source": [
    "# bestlr_yproba1_va.shape\n",
    "# y_va[best_fold_in_C].shape"
   ]
  },
  {
   "cell_type": "code",
   "execution_count": 201,
   "id": "f6477368",
   "metadata": {
    "scrolled": false
   },
   "outputs": [
    {
     "data": {
      "image/png": "[encoded data removed]",
      "text/plain": [
       "<Figure size 500x500 with 1 Axes>"
      ]
     },
     "metadata": {},
     "output_type": "display_data"
    }
   ],
   "source": [
    "# Follow the instruction of HW2 and produce Figure 1 for your report:\n",
    "plt.subplots(nrows=1, ncols=1, figsize=(5,5));\n",
    "\n",
    "# TODO Use provided data and predictions on the Validation set\n",
    "# Produce the ROC Curve utilizing `sklearn.metrics.roc_curve' within plt defined above.\n",
    "# To start, read the official Document and examples of 'sklearn.metrics.roc_curve'. \n",
    "va_fpr, va_tpr, va_thresholds = sklearn.metrics.roc_curve(y_va[best_fold_in_C], bestlr_yproba1_va)\n",
    "tr_fpr, tr_tpr, tr_thresholds = sklearn.metrics.roc_curve(y_tr[best_fold_in_C], bestlr_yproba1_tr)\n",
    "\n",
    "# Read HW2 instructions carefully for plot style (line type, line color, etc.)\n",
    "\n",
    "plt.plot(tr_fpr, tr_tpr, 'b.-', label = \"Training Set\" )\n",
    "plt.plot(va_fpr, va_tpr, 'r.-', label = \"Validation Set\" )\n",
    "plt.title(\"ROC on Validation Set and Training Set\");\n",
    "plt.xlabel('false positive rate');\n",
    "plt.ylabel('true positive rate');\n",
    "plt.legend(loc='lower right');\n",
    "B = 0.01\n",
    "plt.xlim([0 - B, 1 + B]);\n",
    "plt.ylim([0 - B, 1 + B]);"
   ]
  },
  {
   "cell_type": "markdown",
   "id": "ae5420fd",
   "metadata": {},
   "source": [
    "## Confusion Matrix on the best C/fold"
   ]
  },
  {
   "cell_type": "code",
   "execution_count": 202,
   "id": "d3419d0d",
   "metadata": {},
   "outputs": [],
   "source": [
    "import threshold_selection\n",
    "from confusion_matrix import calc_confusion_matrix_for_probas_and_threshold"
   ]
  },
  {
   "cell_type": "code",
   "execution_count": 203,
   "id": "74b8cc5a",
   "metadata": {},
   "outputs": [
    {
     "name": "stdout",
     "output_type": "stream",
     "text": [
      "[[187  60]\n",
      " [ 50 184]]\n",
      "chosen thr = 0.5000, tpr = 0.7863, ppv = 0.7541,\n"
     ]
    }
   ],
   "source": [
    "best_thr_default = 0.5\n",
    "\n",
    "print(sklearn.metrics.confusion_matrix(y_va[best_fold_in_C], bestlr_yproba1_va >= best_thr_default))\n",
    "\n",
    "thresh_grid, perf_dict = threshold_selection.compute_perf_metrics_across_thresholds(y_va[best_fold_in_C], bestlr_yproba1_va, [best_thr_default])\n",
    "\n",
    "tpr = perf_dict['tpr'][0]# TODO fixme\n",
    "ppv = perf_dict['ppv'][0] # TODO fixme\n",
    "\n",
    "print(f\"chosen thr = {best_thr_default :.4f}, tpr = {tpr :.4f}, ppv = {ppv :.4f},\")"
   ]
  },
  {
   "cell_type": "markdown",
   "id": "722a94dd",
   "metadata": {},
   "source": [
    "## Area Under ROC Curve"
   ]
  },
  {
   "cell_type": "code",
   "execution_count": 204,
   "id": "3288995a",
   "metadata": {},
   "outputs": [
    {
     "data": {
      "text/plain": [
       "0.859688157071888"
      ]
     },
     "execution_count": 204,
     "metadata": {},
     "output_type": "execute_result"
    }
   ],
   "source": [
    "roc_auc_score(y_va[best_fold_in_C],bestlr_yproba1_va, max_fpr = 0.98)\n",
    "# 0.859688157071888"
   ]
  },
  {
   "cell_type": "markdown",
   "id": "42697dd7",
   "metadata": {},
   "source": [
    "## read the test file into vocab matrix"
   ]
  },
  {
   "cell_type": "code",
   "execution_count": 205,
   "id": "d0efecda",
   "metadata": {},
   "outputs": [
    {
     "data": {
      "text/plain": [
       "(600, 2)"
      ]
     },
     "execution_count": 205,
     "metadata": {},
     "output_type": "execute_result"
    }
   ],
   "source": [
    "x_test_df = pd.read_csv(os.path.join(data_dir, 'x_test.csv'))\n",
    "x_test_df.shape"
   ]
  },
  {
   "cell_type": "code",
   "execution_count": 206,
   "id": "62bcdb1b",
   "metadata": {},
   "outputs": [
    {
     "data": {
      "text/plain": [
       "600"
      ]
     },
     "execution_count": 206,
     "metadata": {},
     "output_type": "execute_result"
    }
   ],
   "source": [
    "te_text_list = x_test_df['text'].values.tolist()\n",
    "len(te_text_list)"
   ]
  },
  {
   "cell_type": "code",
   "execution_count": 207,
   "id": "a2880b43",
   "metadata": {},
   "outputs": [
    {
     "data": {
      "text/plain": [
       "<600x1000 sparse matrix of type '<class 'numpy.int64'>'\n",
       "\twith 4868 stored elements in Compressed Sparse Row format>"
      ]
     },
     "execution_count": 207,
     "metadata": {},
     "output_type": "execute_result"
    }
   ],
   "source": [
    "vec = CountVectorizer(vocabulary = vocab)\n",
    "t = vec.fit_transform(te_text_list)\n",
    "t"
   ]
  },
  {
   "cell_type": "code",
   "execution_count": 208,
   "id": "63bf130a",
   "metadata": {},
   "outputs": [
    {
     "data": {
      "text/plain": [
       "(600, 1000)"
      ]
     },
     "execution_count": 208,
     "metadata": {},
     "output_type": "execute_result"
    }
   ],
   "source": [
    "te_array = t.toarray()\n",
    "te_array.shape"
   ]
  },
  {
   "cell_type": "code",
   "execution_count": 214,
   "id": "e92838f9",
   "metadata": {},
   "outputs": [
    {
     "data": {
      "text/plain": [
       "array([3.18945138e-01, 4.93733553e-01, 2.64981724e-01, 9.43469077e-02,\n",
       "       3.51239417e-01, 1.63677859e-01, 1.54174868e-01, 5.03294461e-01,\n",
       "       2.99109623e-01, 5.31207092e-01, 2.60348297e-01, 5.56444654e-01,\n",
       "       3.95928949e-02, 1.67502421e-01, 1.54332124e-01, 1.17780395e-01,\n",
       "       2.08669065e-02, 1.23761616e-01, 4.24743913e-01, 6.21023780e-01,\n",
       "       3.81503435e-01, 4.07979617e-01, 3.91576238e-01, 2.73759260e-01,\n",
       "       3.27505175e-01, 2.35315754e-01, 2.19591806e-01, 4.35693398e-01,\n",
       "       2.94565907e-01, 2.42546780e-01, 5.42515686e-01, 3.04993616e-01,\n",
       "       4.91581948e-01, 1.73960691e-02, 1.81203276e-01, 6.09955836e-01,\n",
       "       3.14739837e-01, 2.08035542e-01, 3.59727205e-01, 6.40756858e-01,\n",
       "       7.45071294e-02, 3.00712636e-01, 5.74965671e-01, 4.17855967e-01,\n",
       "       6.67387903e-02, 5.79213283e-02, 2.43498976e-01, 1.32320740e-01,\n",
       "       9.86847766e-02, 2.94565907e-01, 4.22752585e-01, 1.54380793e-01,\n",
       "       8.62060520e-01, 3.59553817e-01, 3.93790978e-01, 4.28478175e-01,\n",
       "       8.00875989e-02, 7.64952246e-02, 6.05641894e-01, 2.24577575e-01,\n",
       "       6.68270481e-01, 1.45952714e-01, 4.28478175e-01, 7.66387535e-02,\n",
       "       4.03620556e-02, 4.72112535e-02, 7.73808438e-02, 4.59936651e-01,\n",
       "       1.14931576e-01, 3.22285378e-01, 8.97200998e-02, 4.28478175e-01,\n",
       "       2.75597986e-01, 2.11120652e-02, 2.67268161e-01, 3.32889196e-01,\n",
       "       3.51929447e-01, 3.66633716e-02, 5.70222748e-01, 9.29491297e-02,\n",
       "       3.14261969e-01, 3.28290810e-02, 1.66294130e-01, 4.07607641e-01,\n",
       "       3.60833267e-02, 3.91275314e-01, 1.68027724e-01, 5.78644433e-02,\n",
       "       1.80717211e-01, 7.08714129e-02, 4.28478175e-01, 2.05424246e-01,\n",
       "       2.93928326e-01, 1.75841440e-01, 2.76218374e-01, 3.28774401e-01,\n",
       "       2.96108782e-01, 5.71308660e-01, 9.78456303e-02, 3.63621949e-01,\n",
       "       9.65577325e-01, 8.17724652e-01, 4.94394735e-01, 8.70498260e-01,\n",
       "       2.91028723e-01, 9.62911502e-01, 9.09816631e-01, 9.41900803e-01,\n",
       "       3.45643826e-04, 6.00449158e-02, 8.07544285e-01, 2.56735310e-01,\n",
       "       8.76405486e-01, 5.58352678e-01, 7.22596853e-01, 5.59389111e-01,\n",
       "       6.69484052e-01, 9.03280332e-01, 6.61131987e-01, 4.56913566e-01,\n",
       "       5.42419960e-02, 7.94400886e-01, 8.76589003e-01, 9.14014389e-01,\n",
       "       9.17030164e-01, 9.55487061e-01, 8.51590077e-01, 7.83216468e-01,\n",
       "       9.57562810e-01, 5.78660607e-01, 9.98869694e-01, 7.81228437e-01,\n",
       "       9.50564772e-01, 9.78941049e-01, 9.98457704e-01, 4.02680192e-01,\n",
       "       7.21527464e-02, 8.97507210e-01, 8.27228103e-01, 9.32119037e-01,\n",
       "       9.16746624e-01, 1.28987726e-02, 7.74365588e-01, 8.94492539e-01,\n",
       "       7.52360478e-01, 9.51418007e-01, 5.44414052e-02, 1.08358915e-01,\n",
       "       9.81892876e-01, 8.58029471e-01, 9.99707445e-01, 9.70055313e-01,\n",
       "       7.05916173e-01, 8.55921598e-01, 3.08364371e-01, 5.91508696e-01,\n",
       "       6.96590310e-01, 5.00413468e-01, 9.07132077e-01, 8.45940427e-01,\n",
       "       1.59989418e-01, 3.89478076e-01, 6.46216956e-01, 9.58489302e-01,\n",
       "       8.45547201e-01, 2.90788696e-01, 8.15890833e-01, 4.42499641e-01,\n",
       "       7.15498718e-01, 4.94949709e-01, 5.55418572e-01, 4.11359961e-01,\n",
       "       4.42263332e-01, 8.24799572e-01, 9.57336912e-01, 9.64899856e-01,\n",
       "       4.69951699e-01, 4.31149477e-01, 9.69018198e-01, 5.47636174e-01,\n",
       "       8.94939273e-01, 3.29080231e-02, 6.69722823e-01, 8.45898318e-01,\n",
       "       7.08465753e-01, 9.08845709e-01, 8.80125335e-01, 9.53826628e-01,\n",
       "       3.45824065e-01, 8.77136924e-01, 9.27816896e-01, 7.90221947e-01,\n",
       "       6.55959741e-01, 9.71174232e-01, 8.99340986e-01, 8.84246447e-01,\n",
       "       6.92250902e-01, 6.52555428e-01, 3.63088897e-01, 9.10623857e-01,\n",
       "       1.48279805e-01, 6.28906357e-01, 4.03580241e-01, 2.47983415e-01,\n",
       "       1.85840876e-02, 6.07779894e-01, 8.33662365e-02, 2.40793351e-03,\n",
       "       3.31600110e-01, 6.86129476e-01, 1.45437475e-01, 1.78741318e-01,\n",
       "       2.10934267e-01, 5.55724883e-01, 5.20546749e-01, 4.60421602e-01,\n",
       "       3.54700218e-01, 3.13169235e-01, 2.34272168e-01, 6.71492791e-02,\n",
       "       1.13301220e-01, 1.58753632e-01, 3.50235688e-01, 4.92299884e-01,\n",
       "       2.71943948e-02, 1.44288273e-02, 5.87660223e-02, 5.00219415e-01,\n",
       "       4.56913566e-01, 4.83755360e-01, 2.91509876e-02, 3.17433110e-01,\n",
       "       7.74114561e-01, 2.34179571e-01, 4.14073851e-01, 1.62576697e-01,\n",
       "       7.65544130e-02, 6.83574134e-01, 5.99209063e-01, 1.87932920e-01,\n",
       "       9.95820270e-02, 1.91976944e-01, 6.02806160e-01, 5.85052778e-01,\n",
       "       9.19414934e-01, 4.85279158e-02, 2.73241734e-01, 1.73403217e-02,\n",
       "       1.15663931e-01, 4.37053694e-01, 3.71414812e-01, 7.14155744e-01,\n",
       "       8.51859032e-01, 6.20013719e-02, 6.53112528e-01, 4.95391693e-01,\n",
       "       3.38625747e-01, 2.44387914e-01, 4.74138800e-01, 5.72632867e-01,\n",
       "       3.71681760e-01, 1.89276115e-01, 2.54458735e-01, 8.19453609e-02,\n",
       "       1.08798171e-01, 2.40262671e-01, 2.96576591e-01, 1.20267389e-01,\n",
       "       2.37817651e-02, 1.49569112e-01, 6.93691757e-02, 8.41272594e-02,\n",
       "       4.38373762e-01, 6.80603579e-01, 3.42645792e-01, 2.32420639e-01,\n",
       "       5.99209063e-01, 7.17032385e-01, 4.39859335e-01, 1.58750427e-01,\n",
       "       2.70737852e-01, 4.72949762e-01, 5.77346709e-01, 4.84835038e-01,\n",
       "       7.68158274e-02, 3.60789425e-02, 6.63573102e-01, 1.02236416e-01,\n",
       "       5.17934261e-01, 6.14424604e-01, 3.52923529e-01, 4.72949762e-01,\n",
       "       9.51562602e-02, 1.04365740e-02, 3.36935949e-01, 8.10368298e-03,\n",
       "       7.90099031e-01, 4.72949762e-01, 6.08722989e-02, 9.28597504e-01,\n",
       "       6.16378359e-01, 1.77775892e-01, 8.33334982e-01, 7.40185993e-01,\n",
       "       5.51039293e-01, 9.90972538e-01, 6.69597839e-01, 5.45880306e-01,\n",
       "       3.82198547e-01, 4.19116422e-01, 5.16591611e-01, 4.56913566e-01,\n",
       "       5.75373971e-01, 4.17681093e-01, 4.32070222e-01, 8.82786097e-01,\n",
       "       6.84791441e-02, 8.73486672e-01, 6.25692558e-01, 7.57356993e-01,\n",
       "       8.44563429e-01, 9.97781964e-01, 8.06390005e-01, 4.63534157e-01,\n",
       "       6.26134897e-01, 6.90107604e-01, 9.98787211e-01, 5.29494504e-01,\n",
       "       8.15147257e-01, 4.29369456e-01, 9.96746129e-01, 4.21422460e-01,\n",
       "       4.24914690e-01, 8.52920404e-02, 4.77903889e-01, 9.60440997e-01,\n",
       "       8.69596824e-01, 7.94189502e-01, 6.70650227e-01, 5.39400267e-01,\n",
       "       5.56276278e-01, 7.59260904e-02, 1.53044832e-01, 5.64790895e-01,\n",
       "       9.15923603e-01, 5.92365615e-01, 7.14924991e-01, 7.36299451e-01,\n",
       "       5.56988534e-01, 6.04039825e-01, 5.94823018e-01, 3.15673821e-01,\n",
       "       7.38848859e-01, 7.84526606e-01, 8.32232528e-01, 4.27647482e-01,\n",
       "       9.74081174e-01, 9.46797095e-01, 9.06559380e-01, 9.98488944e-01,\n",
       "       7.58789704e-01, 9.38012100e-01, 4.76962543e-01, 3.36936562e-01,\n",
       "       7.62353893e-01, 7.21661089e-01, 9.68759524e-01, 9.72334551e-01,\n",
       "       3.66207474e-01, 8.34126384e-01, 3.52542599e-01, 7.01161671e-01,\n",
       "       4.14756108e-01, 8.15528715e-01, 5.27239673e-01, 9.39705778e-01,\n",
       "       8.63158778e-01, 8.72011485e-01, 3.60105778e-01, 8.79011185e-01,\n",
       "       7.98786714e-01, 8.86630864e-01, 1.44111279e-01, 9.88858327e-01,\n",
       "       6.99493369e-01, 8.53328936e-01, 5.12385527e-01, 3.37430736e-01,\n",
       "       8.76855386e-01, 6.71919998e-01, 4.66065792e-01, 4.26832658e-01,\n",
       "       8.76773992e-01, 1.48681278e-01, 9.70065803e-02, 9.91211879e-01,\n",
       "       5.08639073e-01, 6.85116068e-01, 1.62765643e-01, 8.75159863e-01,\n",
       "       1.02239873e-01, 2.06848422e-01, 5.20491605e-03, 5.45411484e-01,\n",
       "       3.96651180e-01, 2.71409944e-01, 6.30571100e-02, 8.06852540e-02,\n",
       "       6.97498031e-02, 4.92315191e-01, 6.05308327e-01, 7.78375637e-02,\n",
       "       1.55105551e-01, 3.42766230e-01, 6.37017752e-01, 1.80169594e-01,\n",
       "       4.22752585e-01, 9.46138660e-02, 3.45692750e-01, 3.22482975e-01,\n",
       "       3.37350015e-01, 3.52856948e-01, 3.30226802e-01, 2.68143070e-02,\n",
       "       4.91659005e-01, 5.06435138e-01, 8.80712881e-01, 3.59062067e-01,\n",
       "       5.83500956e-01, 2.10254308e-01, 5.60640527e-02, 3.44686839e-01,\n",
       "       1.36754172e-02, 2.85053362e-01, 1.87552727e-01, 2.64913002e-01,\n",
       "       5.37389265e-01, 4.65164489e-02, 1.19194233e-01, 3.03686396e-01,\n",
       "       9.10083164e-01, 4.28095679e-01, 1.22036654e-01, 9.75131243e-02,\n",
       "       9.87086729e-02, 1.38273576e-01, 4.71515470e-01, 3.78118915e-02,\n",
       "       7.03675123e-01, 4.18347283e-01, 3.13029244e-01, 2.69659763e-01,\n",
       "       6.48361576e-01, 6.69329892e-01, 1.89106669e-01, 6.84574288e-01,\n",
       "       5.58976234e-01, 2.12530121e-01, 5.49203228e-01, 2.30145240e-01,\n",
       "       7.92412998e-02, 1.60759809e-01, 4.23775649e-01, 4.14971118e-01,\n",
       "       4.12301223e-01, 4.34329145e-01, 2.70605001e-01, 4.47507987e-01,\n",
       "       4.28478175e-01, 8.73136996e-01, 4.37495038e-01, 4.06933062e-01,\n",
       "       3.74860694e-01, 2.42959304e-01, 2.45801544e-01, 3.71666908e-01,\n",
       "       2.48863821e-01, 2.83478553e-01, 1.99387109e-01, 2.39153106e-01,\n",
       "       7.58959323e-02, 2.55459971e-01, 2.60109557e-01, 3.66887633e-01,\n",
       "       3.59305004e-01, 4.58731407e-01, 6.10265170e-03, 3.95295075e-01,\n",
       "       7.09224926e-01, 3.32863657e-02, 4.33339471e-01, 4.13745433e-01,\n",
       "       4.49808985e-02, 4.88674673e-01, 4.90779982e-01, 4.60303600e-01,\n",
       "       4.80114764e-02, 1.04549110e-01, 3.24390819e-01, 1.59239598e-01,\n",
       "       9.81642092e-01, 7.57698325e-01, 7.76246307e-01, 1.92728207e-01,\n",
       "       7.16209139e-01, 7.24508134e-01, 8.60124984e-01, 8.03470302e-01,\n",
       "       9.11273712e-01, 4.14083146e-01, 5.18388600e-01, 8.68302786e-01,\n",
       "       4.35542331e-01, 6.73366354e-01, 4.14475949e-01, 7.95908481e-01,\n",
       "       8.23664593e-01, 8.84275478e-01, 6.48868336e-01, 8.17287593e-01,\n",
       "       7.09723214e-01, 7.59047507e-01, 4.33800053e-01, 1.92071035e-01,\n",
       "       3.33106631e-01, 9.87173282e-01, 4.46477644e-01, 7.12624434e-01,\n",
       "       6.87751019e-01, 9.97804483e-01, 3.63394936e-01, 9.03280332e-01,\n",
       "       4.93955008e-01, 7.28914162e-01, 3.69254537e-01, 3.09714725e-01,\n",
       "       4.46189977e-01, 3.95382215e-01, 7.84418704e-01, 9.58640723e-01,\n",
       "       2.34083433e-01, 5.97511948e-01, 9.66114159e-01, 8.36949363e-01,\n",
       "       7.45944214e-01, 8.71878405e-01, 9.44936136e-01, 5.01971537e-01,\n",
       "       9.61490974e-01, 9.95718265e-01, 5.58800997e-01, 2.16897362e-02,\n",
       "       7.09089151e-01, 8.88250349e-01, 8.08874514e-01, 9.03280332e-01,\n",
       "       6.95583009e-01, 7.89099049e-01, 4.00006932e-01, 4.70136202e-01,\n",
       "       6.74570405e-01, 8.50372486e-01, 9.90651096e-01, 9.76888716e-01,\n",
       "       2.94927514e-01, 8.04918305e-02, 2.90814085e-01, 8.35857942e-01,\n",
       "       6.70054600e-01, 4.60186853e-01, 9.01214742e-01, 5.82745502e-01,\n",
       "       3.95939264e-01, 5.49914661e-01, 6.52927518e-01, 4.28478175e-01,\n",
       "       8.37478815e-01, 8.36429347e-01, 8.12454831e-01, 7.73271269e-01,\n",
       "       8.06576647e-01, 3.39750092e-01, 9.38124495e-01, 4.77975276e-01,\n",
       "       7.73590588e-01, 9.07932455e-01, 7.35468368e-01, 8.10141053e-01,\n",
       "       9.07620974e-01, 2.31835448e-01, 1.78170218e-01, 5.76592183e-01,\n",
       "       8.67071981e-01, 1.33735705e-01, 8.17286301e-01, 9.63875211e-01,\n",
       "       7.73478704e-01, 7.86396504e-01, 9.94049972e-01, 8.33422750e-01])"
      ]
     },
     "execution_count": 214,
     "metadata": {},
     "output_type": "execute_result"
    }
   ],
   "source": [
    "y_te_proba = best_lr.predict_proba(te_array)[:,1]\n",
    "y_te_proba"
   ]
  },
  {
   "cell_type": "code",
   "execution_count": 210,
   "id": "964c55ac",
   "metadata": {},
   "outputs": [
    {
     "data": {
      "text/plain": [
       "((600,), 0.16367785919781133)"
      ]
     },
     "execution_count": 210,
     "metadata": {},
     "output_type": "execute_result"
    }
   ],
   "source": [
    "y_te_proba.shape, y_te_proba[5]"
   ]
  },
  {
   "cell_type": "code",
   "execution_count": 211,
   "id": "4a2b6315",
   "metadata": {},
   "outputs": [],
   "source": [
    "for i in range(y_te_proba.shape[0]):\n",
    "    if y_te_proba[i] >= 0.5: \n",
    "        y_te_proba[i] = 1\n",
    "    else:\n",
    "        y_te_proba[i] = 0"
   ]
  },
  {
   "cell_type": "code",
   "execution_count": 215,
   "id": "4cd4a664",
   "metadata": {},
   "outputs": [
    {
     "data": {
      "text/plain": [
       "array([3.18945138e-01, 4.93733553e-01, 2.64981724e-01, 9.43469077e-02,\n",
       "       3.51239417e-01, 1.63677859e-01, 1.54174868e-01, 5.03294461e-01,\n",
       "       2.99109623e-01, 5.31207092e-01, 2.60348297e-01, 5.56444654e-01,\n",
       "       3.95928949e-02, 1.67502421e-01, 1.54332124e-01, 1.17780395e-01,\n",
       "       2.08669065e-02, 1.23761616e-01, 4.24743913e-01, 6.21023780e-01,\n",
       "       3.81503435e-01, 4.07979617e-01, 3.91576238e-01, 2.73759260e-01,\n",
       "       3.27505175e-01, 2.35315754e-01, 2.19591806e-01, 4.35693398e-01,\n",
       "       2.94565907e-01, 2.42546780e-01, 5.42515686e-01, 3.04993616e-01,\n",
       "       4.91581948e-01, 1.73960691e-02, 1.81203276e-01, 6.09955836e-01,\n",
       "       3.14739837e-01, 2.08035542e-01, 3.59727205e-01, 6.40756858e-01,\n",
       "       7.45071294e-02, 3.00712636e-01, 5.74965671e-01, 4.17855967e-01,\n",
       "       6.67387903e-02, 5.79213283e-02, 2.43498976e-01, 1.32320740e-01,\n",
       "       9.86847766e-02, 2.94565907e-01, 4.22752585e-01, 1.54380793e-01,\n",
       "       8.62060520e-01, 3.59553817e-01, 3.93790978e-01, 4.28478175e-01,\n",
       "       8.00875989e-02, 7.64952246e-02, 6.05641894e-01, 2.24577575e-01,\n",
       "       6.68270481e-01, 1.45952714e-01, 4.28478175e-01, 7.66387535e-02,\n",
       "       4.03620556e-02, 4.72112535e-02, 7.73808438e-02, 4.59936651e-01,\n",
       "       1.14931576e-01, 3.22285378e-01, 8.97200998e-02, 4.28478175e-01,\n",
       "       2.75597986e-01, 2.11120652e-02, 2.67268161e-01, 3.32889196e-01,\n",
       "       3.51929447e-01, 3.66633716e-02, 5.70222748e-01, 9.29491297e-02,\n",
       "       3.14261969e-01, 3.28290810e-02, 1.66294130e-01, 4.07607641e-01,\n",
       "       3.60833267e-02, 3.91275314e-01, 1.68027724e-01, 5.78644433e-02,\n",
       "       1.80717211e-01, 7.08714129e-02, 4.28478175e-01, 2.05424246e-01,\n",
       "       2.93928326e-01, 1.75841440e-01, 2.76218374e-01, 3.28774401e-01,\n",
       "       2.96108782e-01, 5.71308660e-01, 9.78456303e-02, 3.63621949e-01,\n",
       "       9.65577325e-01, 8.17724652e-01, 4.94394735e-01, 8.70498260e-01,\n",
       "       2.91028723e-01, 9.62911502e-01, 9.09816631e-01, 9.41900803e-01,\n",
       "       3.45643826e-04, 6.00449158e-02, 8.07544285e-01, 2.56735310e-01,\n",
       "       8.76405486e-01, 5.58352678e-01, 7.22596853e-01, 5.59389111e-01,\n",
       "       6.69484052e-01, 9.03280332e-01, 6.61131987e-01, 4.56913566e-01,\n",
       "       5.42419960e-02, 7.94400886e-01, 8.76589003e-01, 9.14014389e-01,\n",
       "       9.17030164e-01, 9.55487061e-01, 8.51590077e-01, 7.83216468e-01,\n",
       "       9.57562810e-01, 5.78660607e-01, 9.98869694e-01, 7.81228437e-01,\n",
       "       9.50564772e-01, 9.78941049e-01, 9.98457704e-01, 4.02680192e-01,\n",
       "       7.21527464e-02, 8.97507210e-01, 8.27228103e-01, 9.32119037e-01,\n",
       "       9.16746624e-01, 1.28987726e-02, 7.74365588e-01, 8.94492539e-01,\n",
       "       7.52360478e-01, 9.51418007e-01, 5.44414052e-02, 1.08358915e-01,\n",
       "       9.81892876e-01, 8.58029471e-01, 9.99707445e-01, 9.70055313e-01,\n",
       "       7.05916173e-01, 8.55921598e-01, 3.08364371e-01, 5.91508696e-01,\n",
       "       6.96590310e-01, 5.00413468e-01, 9.07132077e-01, 8.45940427e-01,\n",
       "       1.59989418e-01, 3.89478076e-01, 6.46216956e-01, 9.58489302e-01,\n",
       "       8.45547201e-01, 2.90788696e-01, 8.15890833e-01, 4.42499641e-01,\n",
       "       7.15498718e-01, 4.94949709e-01, 5.55418572e-01, 4.11359961e-01,\n",
       "       4.42263332e-01, 8.24799572e-01, 9.57336912e-01, 9.64899856e-01,\n",
       "       4.69951699e-01, 4.31149477e-01, 9.69018198e-01, 5.47636174e-01,\n",
       "       8.94939273e-01, 3.29080231e-02, 6.69722823e-01, 8.45898318e-01,\n",
       "       7.08465753e-01, 9.08845709e-01, 8.80125335e-01, 9.53826628e-01,\n",
       "       3.45824065e-01, 8.77136924e-01, 9.27816896e-01, 7.90221947e-01,\n",
       "       6.55959741e-01, 9.71174232e-01, 8.99340986e-01, 8.84246447e-01,\n",
       "       6.92250902e-01, 6.52555428e-01, 3.63088897e-01, 9.10623857e-01,\n",
       "       1.48279805e-01, 6.28906357e-01, 4.03580241e-01, 2.47983415e-01,\n",
       "       1.85840876e-02, 6.07779894e-01, 8.33662365e-02, 2.40793351e-03,\n",
       "       3.31600110e-01, 6.86129476e-01, 1.45437475e-01, 1.78741318e-01,\n",
       "       2.10934267e-01, 5.55724883e-01, 5.20546749e-01, 4.60421602e-01,\n",
       "       3.54700218e-01, 3.13169235e-01, 2.34272168e-01, 6.71492791e-02,\n",
       "       1.13301220e-01, 1.58753632e-01, 3.50235688e-01, 4.92299884e-01,\n",
       "       2.71943948e-02, 1.44288273e-02, 5.87660223e-02, 5.00219415e-01,\n",
       "       4.56913566e-01, 4.83755360e-01, 2.91509876e-02, 3.17433110e-01,\n",
       "       7.74114561e-01, 2.34179571e-01, 4.14073851e-01, 1.62576697e-01,\n",
       "       7.65544130e-02, 6.83574134e-01, 5.99209063e-01, 1.87932920e-01,\n",
       "       9.95820270e-02, 1.91976944e-01, 6.02806160e-01, 5.85052778e-01,\n",
       "       9.19414934e-01, 4.85279158e-02, 2.73241734e-01, 1.73403217e-02,\n",
       "       1.15663931e-01, 4.37053694e-01, 3.71414812e-01, 7.14155744e-01,\n",
       "       8.51859032e-01, 6.20013719e-02, 6.53112528e-01, 4.95391693e-01,\n",
       "       3.38625747e-01, 2.44387914e-01, 4.74138800e-01, 5.72632867e-01,\n",
       "       3.71681760e-01, 1.89276115e-01, 2.54458735e-01, 8.19453609e-02,\n",
       "       1.08798171e-01, 2.40262671e-01, 2.96576591e-01, 1.20267389e-01,\n",
       "       2.37817651e-02, 1.49569112e-01, 6.93691757e-02, 8.41272594e-02,\n",
       "       4.38373762e-01, 6.80603579e-01, 3.42645792e-01, 2.32420639e-01,\n",
       "       5.99209063e-01, 7.17032385e-01, 4.39859335e-01, 1.58750427e-01,\n",
       "       2.70737852e-01, 4.72949762e-01, 5.77346709e-01, 4.84835038e-01,\n",
       "       7.68158274e-02, 3.60789425e-02, 6.63573102e-01, 1.02236416e-01,\n",
       "       5.17934261e-01, 6.14424604e-01, 3.52923529e-01, 4.72949762e-01,\n",
       "       9.51562602e-02, 1.04365740e-02, 3.36935949e-01, 8.10368298e-03,\n",
       "       7.90099031e-01, 4.72949762e-01, 6.08722989e-02, 9.28597504e-01,\n",
       "       6.16378359e-01, 1.77775892e-01, 8.33334982e-01, 7.40185993e-01,\n",
       "       5.51039293e-01, 9.90972538e-01, 6.69597839e-01, 5.45880306e-01,\n",
       "       3.82198547e-01, 4.19116422e-01, 5.16591611e-01, 4.56913566e-01,\n",
       "       5.75373971e-01, 4.17681093e-01, 4.32070222e-01, 8.82786097e-01,\n",
       "       6.84791441e-02, 8.73486672e-01, 6.25692558e-01, 7.57356993e-01,\n",
       "       8.44563429e-01, 9.97781964e-01, 8.06390005e-01, 4.63534157e-01,\n",
       "       6.26134897e-01, 6.90107604e-01, 9.98787211e-01, 5.29494504e-01,\n",
       "       8.15147257e-01, 4.29369456e-01, 9.96746129e-01, 4.21422460e-01,\n",
       "       4.24914690e-01, 8.52920404e-02, 4.77903889e-01, 9.60440997e-01,\n",
       "       8.69596824e-01, 7.94189502e-01, 6.70650227e-01, 5.39400267e-01,\n",
       "       5.56276278e-01, 7.59260904e-02, 1.53044832e-01, 5.64790895e-01,\n",
       "       9.15923603e-01, 5.92365615e-01, 7.14924991e-01, 7.36299451e-01,\n",
       "       5.56988534e-01, 6.04039825e-01, 5.94823018e-01, 3.15673821e-01,\n",
       "       7.38848859e-01, 7.84526606e-01, 8.32232528e-01, 4.27647482e-01,\n",
       "       9.74081174e-01, 9.46797095e-01, 9.06559380e-01, 9.98488944e-01,\n",
       "       7.58789704e-01, 9.38012100e-01, 4.76962543e-01, 3.36936562e-01,\n",
       "       7.62353893e-01, 7.21661089e-01, 9.68759524e-01, 9.72334551e-01,\n",
       "       3.66207474e-01, 8.34126384e-01, 3.52542599e-01, 7.01161671e-01,\n",
       "       4.14756108e-01, 8.15528715e-01, 5.27239673e-01, 9.39705778e-01,\n",
       "       8.63158778e-01, 8.72011485e-01, 3.60105778e-01, 8.79011185e-01,\n",
       "       7.98786714e-01, 8.86630864e-01, 1.44111279e-01, 9.88858327e-01,\n",
       "       6.99493369e-01, 8.53328936e-01, 5.12385527e-01, 3.37430736e-01,\n",
       "       8.76855386e-01, 6.71919998e-01, 4.66065792e-01, 4.26832658e-01,\n",
       "       8.76773992e-01, 1.48681278e-01, 9.70065803e-02, 9.91211879e-01,\n",
       "       5.08639073e-01, 6.85116068e-01, 1.62765643e-01, 8.75159863e-01,\n",
       "       1.02239873e-01, 2.06848422e-01, 5.20491605e-03, 5.45411484e-01,\n",
       "       3.96651180e-01, 2.71409944e-01, 6.30571100e-02, 8.06852540e-02,\n",
       "       6.97498031e-02, 4.92315191e-01, 6.05308327e-01, 7.78375637e-02,\n",
       "       1.55105551e-01, 3.42766230e-01, 6.37017752e-01, 1.80169594e-01,\n",
       "       4.22752585e-01, 9.46138660e-02, 3.45692750e-01, 3.22482975e-01,\n",
       "       3.37350015e-01, 3.52856948e-01, 3.30226802e-01, 2.68143070e-02,\n",
       "       4.91659005e-01, 5.06435138e-01, 8.80712881e-01, 3.59062067e-01,\n",
       "       5.83500956e-01, 2.10254308e-01, 5.60640527e-02, 3.44686839e-01,\n",
       "       1.36754172e-02, 2.85053362e-01, 1.87552727e-01, 2.64913002e-01,\n",
       "       5.37389265e-01, 4.65164489e-02, 1.19194233e-01, 3.03686396e-01,\n",
       "       9.10083164e-01, 4.28095679e-01, 1.22036654e-01, 9.75131243e-02,\n",
       "       9.87086729e-02, 1.38273576e-01, 4.71515470e-01, 3.78118915e-02,\n",
       "       7.03675123e-01, 4.18347283e-01, 3.13029244e-01, 2.69659763e-01,\n",
       "       6.48361576e-01, 6.69329892e-01, 1.89106669e-01, 6.84574288e-01,\n",
       "       5.58976234e-01, 2.12530121e-01, 5.49203228e-01, 2.30145240e-01,\n",
       "       7.92412998e-02, 1.60759809e-01, 4.23775649e-01, 4.14971118e-01,\n",
       "       4.12301223e-01, 4.34329145e-01, 2.70605001e-01, 4.47507987e-01,\n",
       "       4.28478175e-01, 8.73136996e-01, 4.37495038e-01, 4.06933062e-01,\n",
       "       3.74860694e-01, 2.42959304e-01, 2.45801544e-01, 3.71666908e-01,\n",
       "       2.48863821e-01, 2.83478553e-01, 1.99387109e-01, 2.39153106e-01,\n",
       "       7.58959323e-02, 2.55459971e-01, 2.60109557e-01, 3.66887633e-01,\n",
       "       3.59305004e-01, 4.58731407e-01, 6.10265170e-03, 3.95295075e-01,\n",
       "       7.09224926e-01, 3.32863657e-02, 4.33339471e-01, 4.13745433e-01,\n",
       "       4.49808985e-02, 4.88674673e-01, 4.90779982e-01, 4.60303600e-01,\n",
       "       4.80114764e-02, 1.04549110e-01, 3.24390819e-01, 1.59239598e-01,\n",
       "       9.81642092e-01, 7.57698325e-01, 7.76246307e-01, 1.92728207e-01,\n",
       "       7.16209139e-01, 7.24508134e-01, 8.60124984e-01, 8.03470302e-01,\n",
       "       9.11273712e-01, 4.14083146e-01, 5.18388600e-01, 8.68302786e-01,\n",
       "       4.35542331e-01, 6.73366354e-01, 4.14475949e-01, 7.95908481e-01,\n",
       "       8.23664593e-01, 8.84275478e-01, 6.48868336e-01, 8.17287593e-01,\n",
       "       7.09723214e-01, 7.59047507e-01, 4.33800053e-01, 1.92071035e-01,\n",
       "       3.33106631e-01, 9.87173282e-01, 4.46477644e-01, 7.12624434e-01,\n",
       "       6.87751019e-01, 9.97804483e-01, 3.63394936e-01, 9.03280332e-01,\n",
       "       4.93955008e-01, 7.28914162e-01, 3.69254537e-01, 3.09714725e-01,\n",
       "       4.46189977e-01, 3.95382215e-01, 7.84418704e-01, 9.58640723e-01,\n",
       "       2.34083433e-01, 5.97511948e-01, 9.66114159e-01, 8.36949363e-01,\n",
       "       7.45944214e-01, 8.71878405e-01, 9.44936136e-01, 5.01971537e-01,\n",
       "       9.61490974e-01, 9.95718265e-01, 5.58800997e-01, 2.16897362e-02,\n",
       "       7.09089151e-01, 8.88250349e-01, 8.08874514e-01, 9.03280332e-01,\n",
       "       6.95583009e-01, 7.89099049e-01, 4.00006932e-01, 4.70136202e-01,\n",
       "       6.74570405e-01, 8.50372486e-01, 9.90651096e-01, 9.76888716e-01,\n",
       "       2.94927514e-01, 8.04918305e-02, 2.90814085e-01, 8.35857942e-01,\n",
       "       6.70054600e-01, 4.60186853e-01, 9.01214742e-01, 5.82745502e-01,\n",
       "       3.95939264e-01, 5.49914661e-01, 6.52927518e-01, 4.28478175e-01,\n",
       "       8.37478815e-01, 8.36429347e-01, 8.12454831e-01, 7.73271269e-01,\n",
       "       8.06576647e-01, 3.39750092e-01, 9.38124495e-01, 4.77975276e-01,\n",
       "       7.73590588e-01, 9.07932455e-01, 7.35468368e-01, 8.10141053e-01,\n",
       "       9.07620974e-01, 2.31835448e-01, 1.78170218e-01, 5.76592183e-01,\n",
       "       8.67071981e-01, 1.33735705e-01, 8.17286301e-01, 9.63875211e-01,\n",
       "       7.73478704e-01, 7.86396504e-01, 9.94049972e-01, 8.33422750e-01])"
      ]
     },
     "execution_count": 215,
     "metadata": {},
     "output_type": "execute_result"
    }
   ],
   "source": [
    "y_te_proba"
   ]
  },
  {
   "cell_type": "code",
   "execution_count": 216,
   "id": "9f5f27c5",
   "metadata": {},
   "outputs": [],
   "source": [
    "np.savetxt('out4.txt', y_te_proba, delimiter=' ', fmt='% 3d')\n"
   ]
  },
  {
   "cell_type": "code",
   "execution_count": null,
   "id": "ca1ecd93",
   "metadata": {},
   "outputs": [],
   "source": []
  },
  {
   "cell_type": "code",
   "execution_count": null,
   "id": "4497a929",
   "metadata": {},
   "outputs": [],
   "source": []
  },
  {
   "cell_type": "code",
   "execution_count": null,
   "id": "3911152e",
   "metadata": {},
   "outputs": [],
   "source": []
  },
  {
   "cell_type": "code",
   "execution_count": null,
   "id": "9e1a60bf",
   "metadata": {},
   "outputs": [],
   "source": []
  },
  {
   "cell_type": "code",
   "execution_count": 94,
   "id": "5028f54a",
   "metadata": {},
   "outputs": [],
   "source": [
    "# # remove punctuation in the text\n",
    "# def rm_punc(text_list):\n",
    "#     puncs = '!@#$%^&*()_+-={}[]:;|<>,.?/\"\\''\n",
    "#     clean_text_list = []\n",
    "#     for text in text_list:\n",
    "#         clean_text = \"\"\n",
    "#         for char in text:\n",
    "#             if char not in puncs:\n",
    "#                 clean_text += char.lower()\n",
    "#         clean_text_list.append(clean_text)\n",
    "#     return clean_text_list\n",
    "\n",
    "# clean_tr_text = rm_punc(tr_text_list)\n",
    "# clean_tr_text[0]"
   ]
  },
  {
   "cell_type": "code",
   "execution_count": 95,
   "id": "e6806af7",
   "metadata": {},
   "outputs": [],
   "source": [
    "# # partition the data\n",
    "# words_list = []\n",
    "# for text in clean_tr_text:\n",
    "#     words_list.append(text.split())\n",
    "    \n",
    "# words_list[0]"
   ]
  },
  {
   "cell_type": "code",
   "execution_count": null,
   "id": "10a7ce66",
   "metadata": {},
   "outputs": [],
   "source": []
  },
  {
   "cell_type": "code",
   "execution_count": null,
   "id": "d269ccb6",
   "metadata": {},
   "outputs": [],
   "source": []
  }
 ],
 "metadata": {
  "interpreter": {
   "hash": "d5603cc4667a52057224efdf5ddcc7de73a3282f447f21696056843efd22823e"
  },
  "kernelspec": {
   "display_name": "Python 3 (ipykernel)",
   "language": "python",
   "name": "python3"
  },
  "language_info": {
   "codemirror_mode": {
    "name": "ipython",
    "version": 3
   },
   "file_extension": ".py",
   "mimetype": "text/x-python",
   "name": "python",
   "nbconvert_exporter": "python",
   "pygments_lexer": "ipython3",
   "version": "3.10.12"
  }
 },
 "nbformat": 4,
 "nbformat_minor": 5
}
