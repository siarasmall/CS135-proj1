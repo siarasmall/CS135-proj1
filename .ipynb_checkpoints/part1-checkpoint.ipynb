{
 "cells": [
  {
   "cell_type": "code",
   "execution_count": 1,
   "id": "827b0719",
   "metadata": {},
   "outputs": [],
   "source": [
    "import numpy as np\n",
    "import pandas as pd\n",
    "import sklearn.linear_model\n",
    "import sklearn.metrics\n",
    "import os\n",
    "from sklearn.metrics import roc_auc_score"
   ]
  },
  {
   "cell_type": "code",
   "execution_count": 2,
   "id": "fce9f294",
   "metadata": {},
   "outputs": [],
   "source": [
    "# import plotting libraries\n",
    "import matplotlib\n",
    "import matplotlib.pyplot as plt\n",
    "\n",
    "%matplotlib inline\n",
    "plt.style.use('seaborn-v0_8') # pretty matplotlib plots\n"
   ]
  },
  {
   "cell_type": "markdown",
   "id": "378b2437",
   "metadata": {},
   "source": [
    "## Load Data"
   ]
  },
  {
   "cell_type": "code",
   "execution_count": 3,
   "id": "2a734063",
   "metadata": {},
   "outputs": [
    {
     "name": "stdout",
     "output_type": "stream",
     "text": [
      "Shape of x_train_df: (2400, 2)\n",
      "Shape of y_train_df: (2400, 1)\n"
     ]
    },
    {
     "data": {
      "text/html": [
       "<div>\n",
       "<style scoped>\n",
       "    .dataframe tbody tr th:only-of-type {\n",
       "        vertical-align: middle;\n",
       "    }\n",
       "\n",
       "    .dataframe tbody tr th {\n",
       "        vertical-align: top;\n",
       "    }\n",
       "\n",
       "    .dataframe thead th {\n",
       "        text-align: right;\n",
       "    }\n",
       "</style>\n",
       "<table border=\"1\" class=\"dataframe\">\n",
       "  <thead>\n",
       "    <tr style=\"text-align: right;\">\n",
       "      <th></th>\n",
       "      <th>website_name</th>\n",
       "      <th>text</th>\n",
       "    </tr>\n",
       "  </thead>\n",
       "  <tbody>\n",
       "    <tr>\n",
       "      <th>0</th>\n",
       "      <td>amazon</td>\n",
       "      <td>Oh and I forgot to also mention the weird colo...</td>\n",
       "    </tr>\n",
       "    <tr>\n",
       "      <th>1</th>\n",
       "      <td>amazon</td>\n",
       "      <td>THAT one didn't work either.</td>\n",
       "    </tr>\n",
       "    <tr>\n",
       "      <th>2</th>\n",
       "      <td>amazon</td>\n",
       "      <td>Waste of 13 bucks.</td>\n",
       "    </tr>\n",
       "    <tr>\n",
       "      <th>3</th>\n",
       "      <td>amazon</td>\n",
       "      <td>Product is useless, since it does not have eno...</td>\n",
       "    </tr>\n",
       "    <tr>\n",
       "      <th>4</th>\n",
       "      <td>amazon</td>\n",
       "      <td>None of the three sizes they sent with the hea...</td>\n",
       "    </tr>\n",
       "    <tr>\n",
       "      <th>...</th>\n",
       "      <td>...</td>\n",
       "      <td>...</td>\n",
       "    </tr>\n",
       "    <tr>\n",
       "      <th>2395</th>\n",
       "      <td>yelp</td>\n",
       "      <td>The sweet potato fries were very good and seas...</td>\n",
       "    </tr>\n",
       "    <tr>\n",
       "      <th>2396</th>\n",
       "      <td>yelp</td>\n",
       "      <td>I could eat their bruschetta all day it is dev...</td>\n",
       "    </tr>\n",
       "    <tr>\n",
       "      <th>2397</th>\n",
       "      <td>yelp</td>\n",
       "      <td>Ambience is perfect.</td>\n",
       "    </tr>\n",
       "    <tr>\n",
       "      <th>2398</th>\n",
       "      <td>yelp</td>\n",
       "      <td>We ordered the duck rare and it was pink and t...</td>\n",
       "    </tr>\n",
       "    <tr>\n",
       "      <th>2399</th>\n",
       "      <td>yelp</td>\n",
       "      <td>Service was good and the company was better!</td>\n",
       "    </tr>\n",
       "  </tbody>\n",
       "</table>\n",
       "<p>2400 rows × 2 columns</p>\n",
       "</div>"
      ],
      "text/plain": [
       "     website_name                                               text\n",
       "0          amazon  Oh and I forgot to also mention the weird colo...\n",
       "1          amazon                       THAT one didn't work either.\n",
       "2          amazon                                 Waste of 13 bucks.\n",
       "3          amazon  Product is useless, since it does not have eno...\n",
       "4          amazon  None of the three sizes they sent with the hea...\n",
       "...           ...                                                ...\n",
       "2395         yelp  The sweet potato fries were very good and seas...\n",
       "2396         yelp  I could eat their bruschetta all day it is dev...\n",
       "2397         yelp                               Ambience is perfect.\n",
       "2398         yelp  We ordered the duck rare and it was pink and t...\n",
       "2399         yelp       Service was good and the company was better!\n",
       "\n",
       "[2400 rows x 2 columns]"
      ]
     },
     "execution_count": 3,
     "metadata": {},
     "output_type": "execute_result"
    }
   ],
   "source": [
    "data_dir = 'data_reviews'\n",
    "x_train_df = pd.read_csv(os.path.join(data_dir, 'x_train.csv'))\n",
    "y_train_df = pd.read_csv(os.path.join(data_dir, 'y_train.csv'))\n",
    "\n",
    "N, n_cols = x_train_df.shape\n",
    "print(\"Shape of x_train_df: (%d, %d)\" % (N,n_cols))\n",
    "print(\"Shape of y_train_df: %s\" % str(y_train_df.shape))\n",
    "x_train_df"
   ]
  },
  {
   "cell_type": "code",
   "execution_count": 4,
   "id": "67a9b91f",
   "metadata": {},
   "outputs": [],
   "source": [
    "# df to list\n",
    "tr_text_list = x_train_df['text'].values.tolist()"
   ]
  },
  {
   "cell_type": "code",
   "execution_count": 5,
   "id": "5e193540",
   "metadata": {},
   "outputs": [
    {
     "data": {
      "text/plain": [
       "2400"
      ]
     },
     "execution_count": 5,
     "metadata": {},
     "output_type": "execute_result"
    }
   ],
   "source": [
    "y_train_list = y_train_df['is_positive_sentiment'].values.tolist()\n",
    "len(y_train_list)"
   ]
  },
  {
   "cell_type": "code",
   "execution_count": 6,
   "id": "a651849b",
   "metadata": {},
   "outputs": [
    {
     "data": {
      "text/plain": [
       "2400"
      ]
     },
     "execution_count": 6,
     "metadata": {},
     "output_type": "execute_result"
    }
   ],
   "source": [
    "len(y_train_list)"
   ]
  },
  {
   "cell_type": "markdown",
   "id": "59b9b3b8",
   "metadata": {},
   "source": [
    "## Partition sentences into words"
   ]
  },
  {
   "cell_type": "code",
   "execution_count": 7,
   "id": "ef8944c2",
   "metadata": {},
   "outputs": [],
   "source": [
    "from sklearn.feature_extraction.text import CountVectorizer"
   ]
  },
  {
   "cell_type": "code",
   "execution_count": 8,
   "id": "87e5962c",
   "metadata": {},
   "outputs": [],
   "source": [
    "vectorizer = CountVectorizer( max_df= 0.5, min_df=10)"
   ]
  },
  {
   "cell_type": "markdown",
   "id": "b3c8eb6e",
   "metadata": {},
   "source": [
    "### How big is my vocabulary?"
   ]
  },
  {
   "cell_type": "code",
   "execution_count": 9,
   "id": "b78623d6",
   "metadata": {},
   "outputs": [
    {
     "data": {
      "text/plain": [
       "383"
      ]
     },
     "execution_count": 9,
     "metadata": {},
     "output_type": "execute_result"
    }
   ],
   "source": [
    "x = vectorizer.fit_transform(tr_text_list)\n",
    "vocab = vectorizer.get_feature_names_out()\n",
    "vocab.shape[0]"
   ]
  },
  {
   "cell_type": "code",
   "execution_count": 10,
   "id": "8682b1ac",
   "metadata": {},
   "outputs": [
    {
     "data": {
      "text/plain": [
       "(2400, 383)"
      ]
     },
     "execution_count": 10,
     "metadata": {},
     "output_type": "execute_result"
    }
   ],
   "source": [
    "x_train_NV = x.toarray()\n",
    "x_train_NV.shape # N is the number of sentences, and V is the number of vocabulary"
   ]
  },
  {
   "cell_type": "code",
   "execution_count": 11,
   "id": "47ec8774",
   "metadata": {
    "scrolled": true
   },
   "outputs": [
    {
     "data": {
      "text/plain": [
       "(2400, 383)"
      ]
     },
     "execution_count": 11,
     "metadata": {},
     "output_type": "execute_result"
    }
   ],
   "source": [
    "N = x_train_NV.shape[0]\n",
    "V = x_train_NV.shape[1]\n",
    "N,V"
   ]
  },
  {
   "cell_type": "markdown",
   "id": "3b273273",
   "metadata": {},
   "source": [
    "### Get Normal"
   ]
  },
  {
   "cell_type": "code",
   "execution_count": 12,
   "id": "1721280f",
   "metadata": {},
   "outputs": [],
   "source": [
    "x_normal = x_train_NV"
   ]
  },
  {
   "cell_type": "code",
   "execution_count": 13,
   "id": "81366d5b",
   "metadata": {},
   "outputs": [],
   "source": [
    "y_train_list = np.array(y_train_list)"
   ]
  },
  {
   "cell_type": "code",
   "execution_count": 14,
   "id": "668a7c72",
   "metadata": {},
   "outputs": [],
   "source": [
    "%run performance_metrics.py\n",
    "%run cross_validation.py"
   ]
  },
  {
   "cell_type": "code",
   "execution_count": 15,
   "id": "261ac303",
   "metadata": {},
   "outputs": [],
   "source": [
    "M = 2\n",
    "\n",
    "x_tr_M2 = np.random.randint(2, size=10).reshape(-1, 1)\n",
    "x_va_N2 = np.random.randint(2, size=10).reshape(-1, 1)\n",
    "y_tr_M = np.random.randint(2, size=10)\n",
    "y_va_N = np.random.randint(2, size=10)"
   ]
  },
  {
   "cell_type": "markdown",
   "id": "b67d8450",
   "metadata": {},
   "source": [
    "## Cross Validation"
   ]
  },
  {
   "cell_type": "code",
   "execution_count": 16,
   "id": "66fd228b",
   "metadata": {},
   "outputs": [],
   "source": [
    "%run binary_metrics.py\n",
    "%run proba_metrics.py"
   ]
  },
  {
   "cell_type": "code",
   "execution_count": 17,
   "id": "8b8ff466",
   "metadata": {},
   "outputs": [
    {
     "data": {
      "text/plain": [
       "(2159, 241)"
      ]
     },
     "execution_count": 17,
     "metadata": {},
     "output_type": "execute_result"
    }
   ],
   "source": [
    "K = 10 # num folds of CV\n",
    "random_state = 1234\n",
    "\n",
    "train_error_per_fold = np.zeros(K, dtype=np.float32)\n",
    "test_error_per_fold = np.zeros(K, dtype=np.float32)\n",
    "\n",
    "N = x_normal.shape[0]\n",
    "# TODO define the folds here by calling your function\n",
    "# e.g. ... = make_train_and_test_row_ids_for_n_fold_cv(...)\n",
    "train_ids, test_ids = make_train_and_test_row_ids_for_n_fold_cv(\n",
    "    N, K, random_state)\n",
    "\n",
    "len(train_ids[0]), len(test_ids[0])"
   ]
  },
  {
   "cell_type": "code",
   "execution_count": 18,
   "id": "2961eec4",
   "metadata": {},
   "outputs": [],
   "source": [
    "y_list = y_train_list"
   ]
  },
  {
   "cell_type": "markdown",
   "id": "9e6e3971",
   "metadata": {},
   "source": [
    "## normalize the data"
   ]
  },
  {
   "cell_type": "code",
   "execution_count": 19,
   "id": "52fc9c3f",
   "metadata": {},
   "outputs": [],
   "source": [
    "# partition the data into train and test\n",
    "\n",
    "x_tr, y_tr = list(), list()\n",
    "y_va, x_va = list(), list()\n",
    "\n",
    "\n",
    "for i in range(len(train_ids)):\n",
    "    x_tr.append(x_normal[train_ids[i]])\n",
    "    y_tr.append(y_list[train_ids[i]])\n",
    "\n",
    "for i in range(len(test_ids)):\n",
    "    x_va.append(x_normal[test_ids[i]])\n",
    "    y_va.append(y_list[test_ids[i]])\n",
    "\n",
    "\n",
    "# len(x_tr[0])"
   ]
  },
  {
   "cell_type": "code",
   "execution_count": 20,
   "id": "107fbf3e",
   "metadata": {},
   "outputs": [],
   "source": [
    "C_grid = np.logspace(-4, 4, 30)"
   ]
  },
  {
   "cell_type": "code",
   "execution_count": 21,
   "id": "6abd8fc6",
   "metadata": {},
   "outputs": [
    {
     "data": {
      "text/plain": [
       "10"
      ]
     },
     "execution_count": 21,
     "metadata": {},
     "output_type": "execute_result"
    }
   ],
   "source": [
    "K"
   ]
  },
  {
   "cell_type": "code",
   "execution_count": 22,
   "id": "f098c9ee",
   "metadata": {},
   "outputs": [],
   "source": [
    "cv_tr_bce_list = list()\n",
    "cv_va_bce_list = list()\n",
    "cv_te_bce_list = list()\n",
    "\n",
    "\n",
    "\n",
    "cv_va_auroc_list = list()\n",
    "cv_tr_auroc_list = list()\n",
    "va_mean_cv_auroc_list = list()\n",
    "tr_mean_cv_auroc_list = list()\n",
    "\n",
    "model_list = list()\n",
    "tr_bce_list_for_each_C = list()\n",
    "va_bce_list_for_each_C = list()\n",
    "# idx = 0\n",
    "for C in C_grid:\n",
    "\n",
    "    model_F3_list = list()\n",
    "\n",
    "    # Allocate lists for storing BCE metrics\n",
    "    tr_bce_list = list()\n",
    "    va_bce_list = list()\n",
    "    te_bce_list = list()\n",
    "    \n",
    "    tr_auroc_list = list()\n",
    "    va_auroc_list = list()\n",
    "\n",
    "    # idx = idx + 1\n",
    "    for i in range(K):\n",
    "        xtr = x_tr[i]\n",
    "        ytr = y_tr[i]\n",
    "        xva = x_va[i]\n",
    "        yva = y_va[i]\n",
    "\n",
    "        lr_F3 = sklearn.linear_model.LogisticRegression(C = C, penalty = 'l2', solver='lbfgs', max_iter=2000) # TODO fixme\n",
    "        lr_F3.fit(xtr, ytr) # TODO fixme\n",
    "\n",
    "        model_F3_list.append(lr_F3)\n",
    "\n",
    "        yproba1_tr_M = lr_F3.predict_proba(xtr)[:,1] # The probability of predicting class 1 on the training set\n",
    "        yproba1_va_N = lr_F3.predict_proba(xva)[:,1] # The probability of predicting class 1 on the validation set\n",
    "        \n",
    "        \n",
    "        # get auroc score \n",
    "        va_auroc = roc_auc_score(ytr, yproba1_tr_M)\n",
    "        va_auroc = roc_auc_score(yva, yproba1_va_N)\n",
    "        tr_auroc_list.append(va_auroc)\n",
    "        va_auroc_list.append(va_auroc)\n",
    "        \n",
    "        my_tr_bce = calc_mean_binary_cross_entropy_from_probas(ytr, yproba1_tr_M) # TODO fixme\n",
    "        my_va_bce = calc_mean_binary_cross_entropy_from_probas(yva, yproba1_va_N) # TODO fixme\n",
    "        # Save bce for future selection on Models.\n",
    "        tr_bce_list.append(my_tr_bce) \n",
    "        va_bce_list.append(my_va_bce)\n",
    "    \n",
    "    \n",
    "    va_mean_cv_auroc = sum(va_auroc_list) / len(va_auroc_list)\n",
    "    va_mean_cv_auroc_list.append(va_mean_cv_auroc)\n",
    "    \n",
    "    cv_va_auroc_list.append(va_auroc_list)\n",
    "    \n",
    "    tr_mean_cv_auroc = sum(tr_auroc_list) / len(tr_auroc_list)\n",
    "    tr_mean_cv_auroc_list.append(tr_mean_cv_auroc)\n",
    "    \n",
    "    cv_tr_auroc_list.append(tr_auroc_list)\n",
    "    \n",
    "    \n",
    "    tr_bce_list_for_each_C.append(tr_bce_list)\n",
    "    va_bce_list_for_each_C.append(va_bce_list)\n",
    "    \n",
    "    model_list.append(model_F3_list)\n",
    "    \n",
    "    \n",
    "    \n",
    "    \n",
    "    \n",
    "    cv_tr_bce_list.append((sum(tr_bce_list)/len(tr_bce_list)))\n",
    "    cv_va_bce_list.append((sum(va_bce_list)/len(va_bce_list)))\n",
    "    "
   ]
  },
  {
   "cell_type": "code",
   "execution_count": 62,
   "id": "8a9f38c4",
   "metadata": {},
   "outputs": [
    {
     "data": {
      "text/plain": [
       "14"
      ]
     },
     "execution_count": 62,
     "metadata": {},
     "output_type": "execute_result"
    }
   ],
   "source": [
    "best_C_index = np.argmax(va_mean_cv_auroc_list)\n",
    "best_C_index"
   ]
  },
  {
   "cell_type": "code",
   "execution_count": 66,
   "id": "efaa50be",
   "metadata": {},
   "outputs": [
    {
     "data": {
      "text/plain": [
       "0"
      ]
     },
     "execution_count": 66,
     "metadata": {},
     "output_type": "execute_result"
    }
   ],
   "source": [
    "best_fold_in_C = np.argmax(va_mean_cv_auroc_list[best_C_index])\n",
    "best_fold_in_C"
   ]
  },
  {
   "cell_type": "code",
   "execution_count": 67,
   "id": "588a0502",
   "metadata": {},
   "outputs": [],
   "source": [
    "best_C__lr = C_grid[best_C_index]\n",
    "best_lr = model_list[best_C_index][best_fold_in_C]"
   ]
  },
  {
   "cell_type": "code",
   "execution_count": 68,
   "id": "b6df575e",
   "metadata": {},
   "outputs": [
    {
     "data": {
      "image/png": "[encoded data removed]",
      "text/plain": [
       "<Figure size 800x550 with 1 Axes>"
      ]
     },
     "metadata": {},
     "output_type": "display_data"
    }
   ],
   "source": [
    "plt.plot(np.log10(C_grid), cv_tr_bce_list, 'bs-', label='train BCE')\n",
    "plt.plot(np.log10(C_grid), cv_va_bce_list, 'rs-', label='valid BCE')\n",
    "\n",
    "plt.plot(np.log10(C_grid), tr_mean_cv_auroc_list, 'bs-', label='train AUROC')\n",
    "plt.plot(np.log10(C_grid), va_mean_cv_auroc_list, 'ys-', label='valid AUROC')\n",
    "\n",
    "for i in range(len(tr_bce_list_for_each_C)):\n",
    "    for j in range(len(tr_bce_list_for_each_C[0])):\n",
    "        plt.plot(np.log10(C_grid[i]), tr_bce_list_for_each_C[i][j], marker='o', color='blue', markersize = 4)\n",
    "        plt.plot(np.log10(C_grid[i]), va_bce_list_for_each_C[i][j], marker='o', color='red', markersize = 4)\n",
    "        \n",
    "plt.ylabel('error')\n",
    "plt.xlabel(\"$\\log_{10} C$\");\n",
    "plt.legend(bbox_to_anchor=(1.5, 0.5)) # make legend outside plot\n",
    "plt.ylim([0, 1.5]);"
   ]
  },
  {
   "cell_type": "code",
   "execution_count": 69,
   "id": "009b94b9",
   "metadata": {},
   "outputs": [],
   "source": [
    "# print(\"Best model has coefficient values:\")\n",
    "# print(best_lr.coef_)"
   ]
  },
  {
   "cell_type": "code",
   "execution_count": 70,
   "id": "cbb537b6",
   "metadata": {},
   "outputs": [],
   "source": [
    "prng = np.random.RandomState(101)\n",
    "\n",
    "bestlr_yproba1_tr = best_lr.predict_proba(x_tr[best_fold_in_C])[:,1] # TODO fixme\n",
    "bestlr_yproba1_va = best_lr.predict_proba(x_va[best_fold_in_C])[:,1] # TODO fixme"
   ]
  },
  {
   "cell_type": "code",
   "execution_count": 71,
   "id": "dd8eb6f4",
   "metadata": {},
   "outputs": [
    {
     "data": {
      "text/plain": [
       "(241,)"
      ]
     },
     "execution_count": 71,
     "metadata": {},
     "output_type": "execute_result"
    }
   ],
   "source": [
    "bestlr_yproba1_va.shape\n",
    "y_va[best_fold_in_C].shape"
   ]
  },
  {
   "cell_type": "code",
   "execution_count": 72,
   "id": "f6477368",
   "metadata": {
    "scrolled": false
   },
   "outputs": [
    {
     "data": {
      "image/png": "[encoded data removed]",
      "text/plain": [
       "<Figure size 500x500 with 1 Axes>"
      ]
     },
     "metadata": {},
     "output_type": "display_data"
    }
   ],
   "source": [
    "# Follow the instruction of HW2 and produce Figure 1 for your report:\n",
    "plt.subplots(nrows=1, ncols=1, figsize=(5,5));\n",
    "\n",
    "# TODO Use provided data and predictions on the Validation set\n",
    "# Produce the ROC Curve utilizing `sklearn.metrics.roc_curve' within plt defined above.\n",
    "# To start, read the official Document and examples of 'sklearn.metrics.roc_curve'. \n",
    "va_fpr, va_tpr, va_thresholds = sklearn.metrics.roc_curve(y_va[best_fold_in_C], bestlr_yproba1_va)\n",
    "tr_fpr, tr_tpr, tr_thresholds = sklearn.metrics.roc_curve(y_tr[best_fold_in_C], bestlr_yproba1_tr)\n",
    "\n",
    "# Read HW2 instructions carefully for plot style (line type, line color, etc.)\n",
    "\n",
    "plt.plot(tr_fpr, tr_tpr, 'b.-', label = \"Training Set\" )\n",
    "plt.plot(va_fpr, va_tpr, 'r.-', label = \"Validation Set\" )\n",
    "plt.title(\"ROC on Validation Set and Training Set\");\n",
    "plt.xlabel('false positive rate');\n",
    "plt.ylabel('true positive rate');\n",
    "plt.legend(loc='lower right');\n",
    "B = 0.01\n",
    "plt.xlim([0 - B, 1 + B]);\n",
    "plt.ylim([0 - B, 1 + B]);"
   ]
  },
  {
   "cell_type": "markdown",
   "id": "ae5420fd",
   "metadata": {},
   "source": [
    "## Confusion Matrix on the best C/fold"
   ]
  },
  {
   "cell_type": "code",
   "execution_count": 73,
   "id": "d3419d0d",
   "metadata": {},
   "outputs": [],
   "source": [
    "import threshold_selection\n",
    "from confusion_matrix import calc_confusion_matrix_for_probas_and_threshold"
   ]
  },
  {
   "cell_type": "code",
   "execution_count": 74,
   "id": "74b8cc5a",
   "metadata": {},
   "outputs": [
    {
     "name": "stdout",
     "output_type": "stream",
     "text": [
      "[[97 26]\n",
      " [28 90]]\n",
      "chosen thr = 0.5000, tpr = 0.7627, ppv = 0.7759,\n"
     ]
    }
   ],
   "source": [
    "best_thr_default = 0.5\n",
    "\n",
    "print(sklearn.metrics.confusion_matrix(y_va[best_fold_in_C], bestlr_yproba1_va >= best_thr_default))\n",
    "\n",
    "thresh_grid, perf_dict = threshold_selection.compute_perf_metrics_across_thresholds(y_va[best_fold_in_C], bestlr_yproba1_va, [best_thr_default])\n",
    "\n",
    "tpr = perf_dict['tpr'][0]# TODO fixme\n",
    "ppv = perf_dict['ppv'][0] # TODO fixme\n",
    "\n",
    "print(f\"chosen thr = {best_thr_default :.4f}, tpr = {tpr :.4f}, ppv = {ppv :.4f},\")"
   ]
  },
  {
   "cell_type": "markdown",
   "id": "722a94dd",
   "metadata": {},
   "source": [
    "## Area Under ROC Curve"
   ]
  },
  {
   "cell_type": "code",
   "execution_count": 75,
   "id": "3288995a",
   "metadata": {},
   "outputs": [
    {
     "data": {
      "text/plain": [
       "0.8602383905194984"
      ]
     },
     "execution_count": 75,
     "metadata": {},
     "output_type": "execute_result"
    }
   ],
   "source": [
    "roc_auc_score(y_va[best_fold_in_C],bestlr_yproba1_va)"
   ]
  },
  {
   "cell_type": "markdown",
   "id": "42697dd7",
   "metadata": {},
   "source": [
    "## read the test file into vocab matrix"
   ]
  },
  {
   "cell_type": "code",
   "execution_count": 34,
   "id": "d0efecda",
   "metadata": {},
   "outputs": [
    {
     "data": {
      "text/plain": [
       "(600, 2)"
      ]
     },
     "execution_count": 34,
     "metadata": {},
     "output_type": "execute_result"
    }
   ],
   "source": [
    "x_test_df = pd.read_csv(os.path.join(data_dir, 'x_test.csv'))\n",
    "x_test_df.shape"
   ]
  },
  {
   "cell_type": "code",
   "execution_count": 35,
   "id": "62bcdb1b",
   "metadata": {},
   "outputs": [
    {
     "data": {
      "text/plain": [
       "600"
      ]
     },
     "execution_count": 35,
     "metadata": {},
     "output_type": "execute_result"
    }
   ],
   "source": [
    "te_text_list = x_test_df['text'].values.tolist()\n",
    "len(te_text_list)"
   ]
  },
  {
   "cell_type": "code",
   "execution_count": 36,
   "id": "a2880b43",
   "metadata": {},
   "outputs": [
    {
     "data": {
      "text/plain": [
       "<600x383 sparse matrix of type '<class 'numpy.int64'>'\n",
       "\twith 4203 stored elements in Compressed Sparse Row format>"
      ]
     },
     "execution_count": 36,
     "metadata": {},
     "output_type": "execute_result"
    }
   ],
   "source": [
    "vec = CountVectorizer(vocabulary = vocab)\n",
    "t = vec.fit_transform(te_text_list)\n",
    "t"
   ]
  },
  {
   "cell_type": "code",
   "execution_count": 37,
   "id": "63bf130a",
   "metadata": {},
   "outputs": [
    {
     "data": {
      "text/plain": [
       "(600, 383)"
      ]
     },
     "execution_count": 37,
     "metadata": {},
     "output_type": "execute_result"
    }
   ],
   "source": [
    "te_array = t.toarray()\n",
    "te_array.shape"
   ]
  },
  {
   "cell_type": "code",
   "execution_count": 38,
   "id": "e92838f9",
   "metadata": {},
   "outputs": [
    {
     "data": {
      "text/plain": [
       "array([3.62117697e-01, 4.72180984e-01, 2.78409223e-01, 8.65255762e-02,\n",
       "       3.54889566e-01, 1.08060295e-01, 1.57990901e-01, 2.89400522e-01,\n",
       "       2.79734130e-01, 4.33624473e-01, 2.97987867e-01, 5.77069316e-01,\n",
       "       4.87571138e-02, 1.44773050e-01, 1.95076336e-01, 1.34307043e-01,\n",
       "       2.13953540e-02, 1.57378146e-01, 3.96432188e-01, 4.97185700e-01,\n",
       "       3.82591249e-01, 4.41435327e-01, 3.76786838e-01, 3.23295482e-01,\n",
       "       4.13869410e-01, 2.37655858e-01, 2.63386315e-01, 4.41477171e-01,\n",
       "       3.60970960e-01, 2.69489080e-01, 5.33938875e-01, 2.73708130e-01,\n",
       "       5.17281599e-01, 2.52364560e-02, 1.94340706e-01, 6.26292351e-01,\n",
       "       3.74095368e-01, 1.91349321e-01, 4.09070442e-01, 5.17582842e-01,\n",
       "       9.30453240e-02, 3.69846490e-01, 5.32018458e-01, 2.87213335e-01,\n",
       "       1.01586856e-01, 5.78762952e-02, 2.16254771e-01, 1.23482812e-01,\n",
       "       8.82796498e-02, 3.60970960e-01, 4.21110929e-01, 1.63995347e-01,\n",
       "       8.90356371e-01, 3.71454197e-01, 3.81115191e-01, 4.32061269e-01,\n",
       "       1.35723001e-01, 8.54396043e-02, 6.20981740e-01, 1.26313155e-01,\n",
       "       5.78719651e-01, 1.65241091e-01, 4.32061269e-01, 8.82456112e-02,\n",
       "       4.75866540e-02, 5.48861976e-02, 1.10418926e-01, 4.85309380e-01,\n",
       "       1.08571203e-01, 4.11585018e-01, 8.78823178e-02, 4.32061269e-01,\n",
       "       1.89943063e-01, 3.60823529e-02, 2.69624200e-01, 3.72851284e-01,\n",
       "       4.53566052e-01, 4.31756401e-02, 5.32051869e-01, 8.64381183e-02,\n",
       "       2.81158919e-01, 5.27464797e-02, 1.12661660e-01, 3.93262847e-01,\n",
       "       3.65087035e-02, 3.13672706e-01, 1.37353657e-01, 6.74132938e-02,\n",
       "       2.97066901e-01, 8.21966809e-02, 4.32061269e-01, 2.19707284e-01,\n",
       "       3.69911821e-01, 2.20510669e-01, 2.84831552e-01, 3.29249626e-01,\n",
       "       2.95135535e-01, 4.41415094e-01, 9.13677203e-02, 3.38072640e-01,\n",
       "       9.67192743e-01, 6.79139634e-01, 4.72302572e-01, 8.60227655e-01,\n",
       "       3.02223040e-01, 9.64045238e-01, 9.05319607e-01, 9.39117306e-01,\n",
       "       4.25936391e-04, 8.71142158e-02, 8.01631252e-01, 3.19949988e-01,\n",
       "       8.68024084e-01, 5.92415118e-01, 7.22884162e-01, 5.90235188e-01,\n",
       "       6.95078345e-01, 9.04450315e-01, 6.71707517e-01, 4.57420968e-01,\n",
       "       9.33541944e-02, 7.25035170e-01, 8.81513321e-01, 9.24964388e-01,\n",
       "       8.92291487e-01, 9.61887953e-01, 8.20905118e-01, 7.64472528e-01,\n",
       "       9.53109517e-01, 5.87623517e-01, 9.97771879e-01, 6.90014709e-01,\n",
       "       9.25740549e-01, 9.80335657e-01, 9.97322748e-01, 4.51167178e-01,\n",
       "       1.14310157e-01, 8.87433657e-01, 7.82905088e-01, 9.37132137e-01,\n",
       "       9.09921565e-01, 3.21986375e-02, 8.12759359e-01, 8.90785193e-01,\n",
       "       8.09711571e-01, 9.11182044e-01, 8.36211677e-02, 1.01644820e-01,\n",
       "       9.82975222e-01, 8.54566119e-01, 9.99845760e-01, 9.62633237e-01,\n",
       "       7.25035007e-01, 8.79383667e-01, 3.97600240e-01, 6.36153395e-01,\n",
       "       7.13603911e-01, 5.27794572e-01, 8.89825616e-01, 8.14021996e-01,\n",
       "       1.55858649e-01, 5.33520011e-01, 6.30673703e-01, 9.43750645e-01,\n",
       "       8.91805060e-01, 2.75289075e-01, 8.67237568e-01, 4.32616950e-01,\n",
       "       6.88335563e-01, 3.54077397e-01, 5.26060638e-01, 3.92902608e-01,\n",
       "       4.47146088e-01, 6.90098676e-01, 9.39676864e-01, 9.83558158e-01,\n",
       "       4.85000566e-01, 4.26337751e-01, 9.40411039e-01, 6.88442861e-01,\n",
       "       8.92954225e-01, 7.39123843e-02, 6.59734652e-01, 8.62826082e-01,\n",
       "       6.73679945e-01, 9.16102551e-01, 8.82351156e-01, 9.49887694e-01,\n",
       "       1.53618041e-01, 8.54163904e-01, 9.17075275e-01, 7.62441008e-01,\n",
       "       6.00992304e-01, 9.70099936e-01, 8.81974983e-01, 8.85240760e-01,\n",
       "       6.37761060e-01, 6.13495094e-01, 3.67201564e-01, 9.07150822e-01,\n",
       "       1.62662872e-01, 6.87960931e-01, 3.36152050e-01, 2.63936402e-01,\n",
       "       3.08750861e-02, 5.06681144e-01, 1.33236637e-01, 3.10562441e-03,\n",
       "       3.03173263e-01, 6.81921046e-01, 1.30427003e-01, 2.23364154e-01,\n",
       "       1.96919841e-01, 5.11024034e-01, 4.74175205e-01, 4.67732225e-01,\n",
       "       3.26211947e-01, 3.42533850e-01, 2.58863538e-01, 4.73276707e-02,\n",
       "       7.42422222e-02, 1.81152642e-01, 3.54317380e-01, 4.29931900e-01,\n",
       "       4.73625145e-02, 3.13612350e-02, 7.12746749e-02, 4.48478792e-01,\n",
       "       4.45317668e-01, 4.75475847e-01, 3.83842243e-02, 2.67224054e-01,\n",
       "       7.97972402e-01, 2.65758126e-01, 4.15401585e-01, 1.86882751e-01,\n",
       "       8.27716309e-02, 7.06442484e-01, 5.81950362e-01, 2.18047193e-01,\n",
       "       1.20683579e-01, 1.42422619e-01, 6.63112146e-01, 6.73563141e-01,\n",
       "       8.85956074e-01, 7.22278369e-02, 1.88648614e-01, 4.29646315e-02,\n",
       "       1.34114027e-01, 4.74897441e-01, 3.80180899e-01, 6.92204517e-01,\n",
       "       8.22481649e-01, 7.22669435e-02, 6.64231712e-01, 3.74590734e-01,\n",
       "       3.94940725e-01, 2.42829229e-01, 3.35306386e-01, 4.79846901e-01,\n",
       "       4.02939379e-01, 2.10217871e-01, 1.74559465e-01, 9.78537091e-02,\n",
       "       1.22862948e-01, 2.56089578e-01, 2.84511123e-01, 1.13945601e-01,\n",
       "       3.61267392e-02, 1.46353047e-01, 7.18406870e-02, 1.00779393e-01,\n",
       "       4.71020017e-01, 5.71963002e-01, 2.97899833e-01, 2.53822063e-01,\n",
       "       6.17138257e-01, 5.29921582e-01, 4.61589625e-01, 2.00609308e-01,\n",
       "       2.77858466e-01, 4.68425886e-01, 5.53894891e-01, 3.84796990e-01,\n",
       "       8.61993632e-02, 4.44039724e-02, 6.64068099e-01, 1.29538629e-01,\n",
       "       3.93703030e-01, 5.94082568e-01, 2.54324600e-01, 4.68425886e-01,\n",
       "       1.04126429e-01, 8.11984403e-03, 3.65102566e-01, 1.55912024e-02,\n",
       "       8.06781597e-01, 4.68425886e-01, 7.26237627e-02, 8.55735540e-01,\n",
       "       6.34552855e-01, 2.06847611e-01, 8.27649760e-01, 7.04766093e-01,\n",
       "       5.30120688e-01, 9.83558036e-01, 6.29874906e-01, 5.28392573e-01,\n",
       "       3.74371993e-01, 5.41137365e-01, 5.40653800e-01, 4.45317668e-01,\n",
       "       3.87675607e-01, 3.75118934e-01, 4.49957691e-01, 8.15712832e-01,\n",
       "       8.91462082e-02, 8.65371442e-01, 6.12252556e-01, 7.72384514e-01,\n",
       "       8.51475730e-01, 9.97566187e-01, 8.22642848e-01, 4.64187971e-01,\n",
       "       6.09905963e-01, 6.76924518e-01, 9.98852644e-01, 5.06289862e-01,\n",
       "       8.10158018e-01, 4.30640056e-01, 9.95569759e-01, 4.27027626e-01,\n",
       "       4.43339350e-01, 7.80885300e-02, 4.73013287e-01, 9.14476129e-01,\n",
       "       8.71555848e-01, 7.58579194e-01, 6.44680778e-01, 5.32472393e-01,\n",
       "       4.53318348e-01, 7.59414495e-02, 1.83271784e-01, 4.80032357e-01,\n",
       "       9.12981220e-01, 5.96392694e-01, 7.00252961e-01, 6.48403741e-01,\n",
       "       4.37692525e-01, 6.14239896e-01, 5.82633351e-01, 3.51545306e-01,\n",
       "       7.92007055e-01, 7.75478000e-01, 8.07589476e-01, 3.90407856e-01,\n",
       "       9.56361631e-01, 9.48965950e-01, 9.35954440e-01, 9.96876025e-01,\n",
       "       6.35868024e-01, 9.17604255e-01, 5.27241692e-01, 3.20150213e-01,\n",
       "       7.64323260e-01, 7.34604306e-01, 9.34998448e-01, 9.49101030e-01,\n",
       "       3.70731928e-01, 7.86371993e-01, 2.63168705e-01, 6.03159619e-01,\n",
       "       4.00435564e-01, 8.87782708e-01, 5.18964571e-01, 9.33580038e-01,\n",
       "       8.41192663e-01, 8.63196812e-01, 3.76483443e-01, 8.00790053e-01,\n",
       "       7.62111095e-01, 8.77433428e-01, 1.83820028e-01, 9.87254334e-01,\n",
       "       6.32846389e-01, 8.27179226e-01, 4.32585411e-01, 4.32061269e-01,\n",
       "       8.73186857e-01, 7.14813600e-01, 4.80622680e-01, 3.93544769e-01,\n",
       "       8.55010992e-01, 1.18611425e-01, 7.92921318e-02, 9.88959448e-01,\n",
       "       5.04174781e-01, 6.95092561e-01, 1.47140793e-01, 8.75145399e-01,\n",
       "       1.11134258e-01, 2.21311916e-01, 3.95974358e-03, 3.70802306e-01,\n",
       "       3.60822493e-01, 2.46300716e-01, 6.78060025e-02, 7.52558972e-02,\n",
       "       8.34729233e-02, 4.96405096e-01, 6.52241777e-01, 7.57648626e-02,\n",
       "       1.73546884e-01, 2.94463306e-01, 5.44753792e-01, 1.68293716e-01,\n",
       "       4.21110929e-01, 1.77941587e-01, 2.74866781e-01, 3.31718886e-01,\n",
       "       3.45515282e-01, 3.15679583e-01, 3.21424539e-01, 3.10483478e-02,\n",
       "       5.65740666e-01, 5.04093284e-01, 8.33047802e-01, 4.40573536e-01,\n",
       "       5.45178378e-01, 2.71687054e-01, 6.88330305e-02, 3.53655472e-01,\n",
       "       1.58823414e-02, 4.26883368e-01, 1.99046988e-01, 2.05566662e-01,\n",
       "       5.28254376e-01, 5.03666099e-02, 1.42498769e-01, 3.00247305e-01,\n",
       "       8.13440283e-01, 4.13695520e-01, 1.02994110e-01, 8.97634339e-02,\n",
       "       1.13207308e-01, 1.11833369e-01, 4.94840319e-01, 2.39302292e-02,\n",
       "       8.08489610e-01, 5.21531431e-01, 3.27322745e-01, 2.84426834e-01,\n",
       "       6.67044418e-01, 5.67739116e-01, 1.95716169e-01, 6.08020181e-01,\n",
       "       5.09585457e-01, 2.57513819e-01, 3.28371294e-01, 2.88577933e-01,\n",
       "       9.18114040e-02, 1.75575057e-01, 4.12858475e-01, 4.87854057e-01,\n",
       "       4.14617785e-01, 4.45001633e-01, 2.83728480e-01, 4.78208971e-01,\n",
       "       4.32061269e-01, 8.30359742e-01, 5.24505225e-01, 3.25884645e-01,\n",
       "       3.54862777e-01, 1.62578173e-01, 3.07102419e-01, 3.53327018e-01,\n",
       "       2.39404036e-01, 2.99118540e-01, 1.88868448e-01, 2.81253361e-01,\n",
       "       3.46085878e-02, 3.31214823e-01, 2.21895227e-01, 3.08228588e-01,\n",
       "       4.22080064e-01, 4.19879393e-01, 4.86364011e-03, 3.92395329e-01,\n",
       "       6.73079833e-01, 5.30297214e-02, 4.54052265e-01, 2.53540148e-01,\n",
       "       4.18115406e-02, 4.98764766e-01, 4.69725536e-01, 4.11544140e-01,\n",
       "       6.26795951e-02, 1.34272454e-01, 3.17088301e-01, 1.35818507e-01,\n",
       "       9.79488413e-01, 7.60709469e-01, 8.15390545e-01, 2.20614900e-01,\n",
       "       6.33396848e-01, 6.99486260e-01, 8.60546706e-01, 7.86026884e-01,\n",
       "       8.58619826e-01, 3.96619291e-01, 4.42158166e-01, 8.45254603e-01,\n",
       "       4.75635085e-01, 6.26019943e-01, 4.23193083e-01, 8.07301035e-01,\n",
       "       8.04169236e-01, 8.67464125e-01, 6.15957851e-01, 7.75598479e-01,\n",
       "       6.80044905e-01, 7.43154282e-01, 3.95893529e-01, 2.14661059e-01,\n",
       "       5.50355439e-01, 9.84625163e-01, 4.51142830e-01, 6.91396559e-01,\n",
       "       7.00636680e-01, 9.97840850e-01, 4.09537489e-01, 9.04450315e-01,\n",
       "       4.63480925e-01, 7.68714789e-01, 4.17403535e-01, 3.18846335e-01,\n",
       "       4.81923098e-01, 4.38907749e-01, 7.98679917e-01, 9.20755414e-01,\n",
       "       3.00856853e-01, 6.11983213e-01, 9.42691314e-01, 8.39650318e-01,\n",
       "       7.80465420e-01, 8.47718088e-01, 9.27668892e-01, 5.00153301e-01,\n",
       "       9.61854891e-01, 9.93855569e-01, 5.53105939e-01, 4.68005108e-02,\n",
       "       6.70277045e-01, 9.05549792e-01, 8.25469369e-01, 9.04450315e-01,\n",
       "       6.38488633e-01, 7.85345553e-01, 4.49497811e-01, 4.99669518e-01,\n",
       "       6.44127874e-01, 8.31755178e-01, 9.89596095e-01, 9.68927677e-01,\n",
       "       3.40930821e-01, 1.51112482e-01, 2.78481842e-01, 8.76881261e-01,\n",
       "       6.75197442e-01, 4.21045469e-01, 9.00510754e-01, 4.36302885e-01,\n",
       "       3.74216216e-01, 5.20917157e-01, 5.99940970e-01, 4.32061269e-01,\n",
       "       8.07212071e-01, 8.22940895e-01, 7.68124075e-01, 7.47844683e-01,\n",
       "       8.26713337e-01, 3.44309435e-01, 9.36805870e-01, 4.67733594e-01,\n",
       "       7.28610333e-01, 8.92674910e-01, 7.75083832e-01, 8.12193561e-01,\n",
       "       9.02330584e-01, 3.12384943e-01, 2.50076687e-01, 5.50655959e-01,\n",
       "       8.40965019e-01, 1.48539036e-01, 8.02014122e-01, 9.53462149e-01,\n",
       "       8.18764308e-01, 7.79976177e-01, 9.94560643e-01, 8.03381020e-01])"
      ]
     },
     "execution_count": 38,
     "metadata": {},
     "output_type": "execute_result"
    }
   ],
   "source": [
    "y_te_proba = best_lr.predict_proba(te_array)[:,1]\n",
    "y_te_proba"
   ]
  },
  {
   "cell_type": "code",
   "execution_count": 39,
   "id": "964c55ac",
   "metadata": {},
   "outputs": [
    {
     "data": {
      "text/plain": [
       "((600,), 0.10806029487743136)"
      ]
     },
     "execution_count": 39,
     "metadata": {},
     "output_type": "execute_result"
    }
   ],
   "source": [
    "y_te_proba.shape, y_te_proba[5]"
   ]
  },
  {
   "cell_type": "code",
   "execution_count": 40,
   "id": "4a2b6315",
   "metadata": {},
   "outputs": [],
   "source": [
    "# for i in range(y_te_proba.shape[0]):\n",
    "#     if y_te_proba[i] >= 0.5: \n",
    "#         y_te_proba[i] = 1\n",
    "#     else:\n",
    "#         y_te_proba[i] = 0"
   ]
  },
  {
   "cell_type": "code",
   "execution_count": 41,
   "id": "9f5f27c5",
   "metadata": {},
   "outputs": [],
   "source": [
    "# np.savetxt('out5.txt', y_te_proba, delimiter=' ')"
   ]
  },
  {
   "cell_type": "code",
   "execution_count": null,
   "id": "ca1ecd93",
   "metadata": {},
   "outputs": [],
   "source": []
  }
 ],
 "metadata": {
  "interpreter": {
   "hash": "d5603cc4667a52057224efdf5ddcc7de73a3282f447f21696056843efd22823e"
  },
  "kernelspec": {
   "display_name": "Python 3 (ipykernel)",
   "language": "python",
   "name": "python3"
  },
  "language_info": {
   "codemirror_mode": {
    "name": "ipython",
    "version": 3
   },
   "file_extension": ".py",
   "mimetype": "text/x-python",
   "name": "python",
   "nbconvert_exporter": "python",
   "pygments_lexer": "ipython3",
   "version": "3.10.12"
  }
 },
 "nbformat": 4,
 "nbformat_minor": 5
}
