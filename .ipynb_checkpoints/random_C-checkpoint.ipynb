{
 "cells": [
  {
   "cell_type": "code",
   "execution_count": 1,
   "id": "827b0719",
   "metadata": {},
   "outputs": [],
   "source": [
    "import numpy as np\n",
    "import pandas as pd\n",
    "import sklearn.linear_model\n",
    "import sklearn.metrics\n",
    "import os\n",
    "from sklearn.metrics import roc_auc_score"
   ]
  },
  {
   "cell_type": "code",
   "execution_count": 2,
   "id": "fce9f294",
   "metadata": {},
   "outputs": [],
   "source": [
    "# import plotting libraries\n",
    "import matplotlib\n",
    "import matplotlib.pyplot as plt\n",
    "\n",
    "%matplotlib inline\n",
    "plt.style.use('seaborn-v0_8') # pretty matplotlib plots\n"
   ]
  },
  {
   "cell_type": "markdown",
   "id": "378b2437",
   "metadata": {},
   "source": [
    "## Load Data"
   ]
  },
  {
   "cell_type": "code",
   "execution_count": 9,
   "id": "2a734063",
   "metadata": {},
   "outputs": [],
   "source": [
    "data_dir = 'data_reviews'\n",
    "x_train_df = pd.read_csv(os.path.join(data_dir, 'x_train.csv'))\n",
    "y_train_df = pd.read_csv(os.path.join(data_dir, 'y_train.csv'))\n",
    "\n",
    "N, n_cols = x_train_df.shape\n",
    "# print(\"Shape of x_train_df: (%d, %d)\" % (N,n_cols))\n",
    "# print(\"Shape of y_train_df: %s\" % str(y_train_df.shape))\n",
    "# x_train_df"
   ]
  },
  {
   "cell_type": "code",
   "execution_count": 10,
   "id": "67a9b91f",
   "metadata": {},
   "outputs": [],
   "source": [
    "# df to list\n",
    "tr_text_list = x_train_df['text'].values.tolist()"
   ]
  },
  {
   "cell_type": "code",
   "execution_count": 11,
   "id": "5e193540",
   "metadata": {},
   "outputs": [],
   "source": [
    "y_train_list = y_train_df['is_positive_sentiment'].values.tolist()\n"
   ]
  },
  {
   "cell_type": "markdown",
   "id": "59b9b3b8",
   "metadata": {},
   "source": [
    "## Partition sentences into words"
   ]
  },
  {
   "cell_type": "code",
   "execution_count": 12,
   "id": "ef8944c2",
   "metadata": {},
   "outputs": [],
   "source": [
    "from sklearn.feature_extraction.text import CountVectorizer"
   ]
  },
  {
   "cell_type": "code",
   "execution_count": 13,
   "id": "87e5962c",
   "metadata": {},
   "outputs": [],
   "source": [
    "vectorizer = CountVectorizer()"
   ]
  },
  {
   "cell_type": "markdown",
   "id": "b3c8eb6e",
   "metadata": {},
   "source": [
    "### How big is my vocabulary?"
   ]
  },
  {
   "cell_type": "code",
   "execution_count": 14,
   "id": "b78623d6",
   "metadata": {},
   "outputs": [],
   "source": [
    "x = vectorizer.fit_transform(tr_text_list)\n",
    "vocab = vectorizer.get_feature_names_out()\n"
   ]
  },
  {
   "cell_type": "code",
   "execution_count": 15,
   "id": "8682b1ac",
   "metadata": {},
   "outputs": [],
   "source": [
    "x_train_NV = x.toarray()\n",
    "# N is the number of sentences, and V is the number of vocabulary"
   ]
  },
  {
   "cell_type": "code",
   "execution_count": 16,
   "id": "47ec8774",
   "metadata": {},
   "outputs": [],
   "source": [
    "N = x_train_NV.shape[0]\n",
    "V = x_train_NV.shape[1]"
   ]
  },
  {
   "cell_type": "markdown",
   "id": "bd6d4a45",
   "metadata": {},
   "source": [
    "### Get the common and rare"
   ]
  },
  {
   "cell_type": "code",
   "execution_count": 19,
   "id": "6c0f0f60",
   "metadata": {},
   "outputs": [
    {
     "data": {
      "text/plain": [
       "1572"
      ]
     },
     "execution_count": 19,
     "metadata": {},
     "output_type": "execute_result"
    }
   ],
   "source": [
    "x_common = []\n",
    "\n",
    "x_col_sum = np.sum(x_train_NV, axis = 0)\n",
    "\n",
    "np.max(x_col_sum)"
   ]
  },
  {
   "cell_type": "code",
   "execution_count": 20,
   "id": "39da2e7a",
   "metadata": {},
   "outputs": [],
   "source": [
    "# x_col_sum.shape, x_col_sum[2701]"
   ]
  },
  {
   "cell_type": "code",
   "execution_count": 21,
   "id": "d6e30036",
   "metadata": {},
   "outputs": [],
   "source": [
    "x_common = x_col_sum > N/2 # happens half of the time \n",
    "x_common_V = [int(x) for x in x_common]\n",
    "x_common_V = np.array(x_common_V)"
   ]
  },
  {
   "cell_type": "code",
   "execution_count": 22,
   "id": "91d21ea5",
   "metadata": {},
   "outputs": [],
   "source": [
    "x_rare = x_col_sum < 10\n",
    "x_rare_V = [int(x) for x in x_rare]\n",
    "x_rare_V = np.array(x_rare_V)"
   ]
  },
  {
   "cell_type": "code",
   "execution_count": 356,
   "id": "01a9ef81",
   "metadata": {},
   "outputs": [],
   "source": [
    "# x_common_V.reshape(V, 1)"
   ]
  },
  {
   "cell_type": "code",
   "execution_count": 25,
   "id": "33605ab8",
   "metadata": {},
   "outputs": [],
   "source": [
    "x_common = x_train_NV * x_common_V \n",
    "x_rare = x_train_NV * x_rare_V"
   ]
  },
  {
   "cell_type": "markdown",
   "id": "3b273273",
   "metadata": {},
   "source": [
    "### Get Normal Vocab"
   ]
  },
  {
   "cell_type": "code",
   "execution_count": 26,
   "id": "1721280f",
   "metadata": {},
   "outputs": [],
   "source": [
    "x_normal = x_train_NV * (1 - x_common_V) * (1 - x_rare_V)"
   ]
  },
  {
   "cell_type": "code",
   "execution_count": 27,
   "id": "81366d5b",
   "metadata": {},
   "outputs": [],
   "source": [
    "y_train_list = np.array(y_train_list)"
   ]
  },
  {
   "cell_type": "code",
   "execution_count": 33,
   "id": "668a7c72",
   "metadata": {},
   "outputs": [],
   "source": [
    "%run performance_metrics.py\n",
    "%run cross_validation.py"
   ]
  },
  {
   "cell_type": "code",
   "execution_count": 34,
   "id": "261ac303",
   "metadata": {},
   "outputs": [],
   "source": [
    "M = 2\n",
    "\n",
    "x_tr_M2 = np.random.randint(2, size=10).reshape(-1, 1)\n",
    "x_va_N2 = np.random.randint(2, size=10).reshape(-1, 1)\n",
    "y_tr_M = np.random.randint(2, size=10)\n",
    "y_va_N = np.random.randint(2, size=10)"
   ]
  },
  {
   "cell_type": "markdown",
   "id": "b67d8450",
   "metadata": {},
   "source": [
    "## Cross Validation"
   ]
  },
  {
   "cell_type": "code",
   "execution_count": 35,
   "id": "66fd228b",
   "metadata": {},
   "outputs": [],
   "source": [
    "%run binary_metrics.py\n",
    "%run proba_metrics.py"
   ]
  },
  {
   "cell_type": "code",
   "execution_count": 36,
   "id": "8b8ff466",
   "metadata": {},
   "outputs": [
    {
     "data": {
      "text/plain": [
       "(1919, 481)"
      ]
     },
     "execution_count": 36,
     "metadata": {},
     "output_type": "execute_result"
    }
   ],
   "source": [
    "K = 5 # num folds of CV\n",
    "random_state = 1234\n",
    "\n",
    "train_error_per_fold = np.zeros(K, dtype=np.float32)\n",
    "test_error_per_fold = np.zeros(K, dtype=np.float32)\n",
    "\n",
    "N = x_normal.shape[0]\n",
    "# TODO define the folds here by calling your function\n",
    "# e.g. ... = make_train_and_test_row_ids_for_n_fold_cv(...)\n",
    "train_ids, test_ids = make_train_and_test_row_ids_for_n_fold_cv(\n",
    "    N, K, random_state)\n",
    "\n",
    "len(train_ids[0]), len(test_ids[0])"
   ]
  },
  {
   "cell_type": "code",
   "execution_count": 37,
   "id": "2961eec4",
   "metadata": {},
   "outputs": [],
   "source": [
    "y_list = y_train_list"
   ]
  },
  {
   "cell_type": "markdown",
   "id": "9e6e3971",
   "metadata": {},
   "source": [
    "## normalize the data"
   ]
  },
  {
   "cell_type": "code",
   "execution_count": 43,
   "id": "52fc9c3f",
   "metadata": {},
   "outputs": [],
   "source": [
    "# partition the data into train and test\n",
    "\n",
    "x_tr, y_tr = list(), list()\n",
    "y_va, x_va = list(), list()\n",
    "\n",
    "\n",
    "for i in range(len(train_ids)):\n",
    "    x_tr.append(x_normal[train_ids[i]])\n",
    "    y_tr.append(y_list[train_ids[i]])\n",
    "\n",
    "for i in range(len(test_ids)):\n",
    "    x_va.append(x_normal[test_ids[i]])\n",
    "    y_va.append(y_list[test_ids[i]])\n"
   ]
  },
  {
   "cell_type": "code",
   "execution_count": 44,
   "id": "107fbf3e",
   "metadata": {},
   "outputs": [],
   "source": [
    "C_grid = np.logspace(-9, 6, 31)"
   ]
  },
  {
   "cell_type": "code",
   "execution_count": 47,
   "id": "f098c9ee",
   "metadata": {},
   "outputs": [],
   "source": [
    "cv_tr_bce_list = list()\n",
    "cv_va_bce_list = list()\n",
    "cv_te_bce_list = list()\n",
    "\n",
    "model_list = list()\n",
    "tr_bce_list_for_each_C = list()\n",
    "va_bce_list_for_each_C = list()\n",
    "# idx = 0\n",
    "for C in C_grid:\n",
    "\n",
    "    model_F3_list = list()\n",
    "\n",
    "    # Allocate lists for storing BCE metrics\n",
    "    tr_bce_list = list()\n",
    "    va_bce_list = list()\n",
    "    te_bce_list = list()\n",
    "\n",
    "    # Allocate lists for storing ERROR RATE metrics\n",
    "    tr_err_list = list()\n",
    "    va_err_list = list()\n",
    "    te_err_list = list()\n",
    "\n",
    "    # idx = idx + 1\n",
    "    for i in range(K):\n",
    "        xtr = x_tr[i]\n",
    "        ytr = y_tr[i]\n",
    "        xva = x_va[i]\n",
    "        yva = y_va[i]\n",
    "\n",
    "        lr_F3 = sklearn.linear_model.LogisticRegression(C = C, penalty = 'l2', solver='lbfgs', max_iter=2000) # TODO fixme\n",
    "        lr_F3.fit(xtr, ytr) # TODO fixme\n",
    "\n",
    "        model_F3_list.append(lr_F3)\n",
    "\n",
    "        yproba1_tr_M = lr_F3.predict_proba(xtr)[:,1] # The probability of predicting class 1 on the training set\n",
    "        yproba1_va_N = lr_F3.predict_proba(xva)[:,1] # The probability of predicting class 1 on the validation set\n",
    "\n",
    "        # Compute error rate aka zero-one loss\n",
    "        my_tr_err = sklearn.metrics.zero_one_loss(ytr, yproba1_tr_M >= 0.5)\n",
    "        my_va_err = sklearn.metrics.zero_one_loss(yva, yproba1_va_N >= 0.5)\n",
    "        tr_err_list.append(my_tr_err)\n",
    "        va_err_list.append(my_va_err)\n",
    "\n",
    "        # TODO: using the calc_mean_binary_cross_entropy_from_probas() function from above:\n",
    "        # Part c: calculate the binary cross entropy (bce) on the training set\n",
    "        # Part d: calculate the binary cross entropy (bce) on the validation set\n",
    "        my_tr_bce = calc_mean_binary_cross_entropy_from_probas(ytr, yproba1_tr_M) # TODO fixme\n",
    "        my_va_bce = calc_mean_binary_cross_entropy_from_probas(yva, yproba1_va_N) # TODO fixme\n",
    "        # Save bce for future selection on Models.\n",
    "        tr_bce_list.append(my_tr_bce) \n",
    "        va_bce_list.append(my_va_bce)\n",
    "    \n",
    "    tr_bce_list_for_each_C.append(tr_bce_list)\n",
    "    va_bce_list_for_each_C.append(va_bce_list)\n",
    "    \n",
    "    model_list.append(model_F3_list)\n",
    "    \n",
    "    # best_C_idx = np.argmin(va_bce_list)\n",
    "    # best_C__lrF3 = C_grid[best_C_idx]\n",
    "    \n",
    "    cv_tr_bce_list.append((sum(tr_bce_list)/len(tr_bce_list)))\n",
    "    cv_va_bce_list.append((sum(va_bce_list)/len(va_bce_list)))\n",
    "    \n"
   ]
  },
  {
   "cell_type": "code",
   "execution_count": 48,
   "id": "8a9f38c4",
   "metadata": {},
   "outputs": [],
   "source": [
    "best_C_index = np.argmin(cv_va_bce_list)"
   ]
  },
  {
   "cell_type": "code",
   "execution_count": 49,
   "id": "efaa50be",
   "metadata": {},
   "outputs": [],
   "source": [
    "best_fold_in_C = np.argmin(va_bce_list_for_each_C[best_C_index])"
   ]
  },
  {
   "cell_type": "code",
   "execution_count": 50,
   "id": "588a0502",
   "metadata": {},
   "outputs": [],
   "source": [
    "best_C__lr = C_grid[best_C_index]\n",
    "best_lr = model_list[best_C_index][best_fold_in_C]"
   ]
  },
  {
   "cell_type": "code",
   "execution_count": 51,
   "id": "b6df575e",
   "metadata": {},
   "outputs": [
    {
     "data": {
      "image/png": "[encoded data removed]",
      "text/plain": [
       "<Figure size 800x550 with 1 Axes>"
      ]
     },
     "metadata": {},
     "output_type": "display_data"
    }
   ],
   "source": [
    "plt.plot(np.log10(C_grid), cv_tr_bce_list, 'bs-', label='train BCE')\n",
    "plt.plot(np.log10(C_grid), cv_va_bce_list, 'rs-', label='valid BCE')\n",
    "\n",
    "# plt.plot(np.log10(C_grid), tr_err_list, 'b:', label='train err')\n",
    "# plt.plot(np.log10(C_grid), va_err_list, 'r:', label='valid err')\n",
    "\n",
    "plt.ylabel('error')\n",
    "plt.xlabel(\"$\\log_{10} C$\");\n",
    "plt.legend(bbox_to_anchor=(1.5, 0.5)) # make legend outside plot\n",
    "plt.ylim([0, 2]);"
   ]
  },
  {
   "cell_type": "code",
   "execution_count": 52,
   "id": "009b94b9",
   "metadata": {},
   "outputs": [
    {
     "name": "stdout",
     "output_type": "stream",
     "text": [
      "Best model has coefficient values:\n",
      "[[0.         1.01607743 0.         ... 0.         0.         0.        ]]\n"
     ]
    }
   ],
   "source": [
    "print(\"Best model has coefficient values:\")\n",
    "print(best_lr.coef_)"
   ]
  },
  {
   "cell_type": "code",
   "execution_count": 53,
   "id": "cbb537b6",
   "metadata": {},
   "outputs": [],
   "source": [
    "prng = np.random.RandomState(101)\n",
    "\n",
    "bestlr_yproba1_tr = best_lr.predict_proba(x_tr[best_fold_in_C])[:,1] # TODO fixme\n",
    "bestlr_yproba1_va = best_lr.predict_proba(x_va[best_fold_in_C])[:,1] # TODO fixme"
   ]
  },
  {
   "cell_type": "code",
   "execution_count": 54,
   "id": "dd8eb6f4",
   "metadata": {},
   "outputs": [],
   "source": [
    "# bestlr_yproba1_va.shape\n",
    "# y_va[best_fold_in_C].shape"
   ]
  },
  {
   "cell_type": "code",
   "execution_count": 55,
   "id": "f6477368",
   "metadata": {
    "scrolled": false
   },
   "outputs": [
    {
     "data": {
      "image/png": "[encoded data removed]",
      "text/plain": [
       "<Figure size 500x500 with 1 Axes>"
      ]
     },
     "metadata": {},
     "output_type": "display_data"
    }
   ],
   "source": [
    "# Follow the instruction of HW2 and produce Figure 1 for your report:\n",
    "plt.subplots(nrows=1, ncols=1, figsize=(5,5));\n",
    "\n",
    "# TODO Use provided data and predictions on the Validation set\n",
    "# Produce the ROC Curve utilizing `sklearn.metrics.roc_curve' within plt defined above.\n",
    "# To start, read the official Document and examples of 'sklearn.metrics.roc_curve'. \n",
    "va_fpr, va_tpr, va_thresholds = sklearn.metrics.roc_curve(y_va[best_fold_in_C], bestlr_yproba1_va)\n",
    "tr_fpr, tr_tpr, tr_thresholds = sklearn.metrics.roc_curve(y_tr[best_fold_in_C], bestlr_yproba1_tr)\n",
    "\n",
    "# Read HW2 instructions carefully for plot style (line type, line color, etc.)\n",
    "\n",
    "plt.plot(tr_fpr, tr_tpr, 'b.-', label = \"Training Set\" )\n",
    "plt.plot(va_fpr, va_tpr, 'r.-', label = \"Validation Set\" )\n",
    "plt.title(\"ROC on Validation Set and Training Set\");\n",
    "plt.xlabel('false positive rate');\n",
    "plt.ylabel('true positive rate');\n",
    "plt.legend(loc='lower right');\n",
    "B = 0.01\n",
    "plt.xlim([0 - B, 1 + B]);\n",
    "plt.ylim([0 - B, 1 + B]);"
   ]
  },
  {
   "cell_type": "markdown",
   "id": "ae5420fd",
   "metadata": {},
   "source": [
    "## Confusion Matrix on the best C/fold"
   ]
  },
  {
   "cell_type": "code",
   "execution_count": 56,
   "id": "d3419d0d",
   "metadata": {},
   "outputs": [],
   "source": [
    "import threshold_selection\n",
    "from confusion_matrix import calc_confusion_matrix_for_probas_and_threshold"
   ]
  },
  {
   "cell_type": "code",
   "execution_count": 57,
   "id": "74b8cc5a",
   "metadata": {},
   "outputs": [
    {
     "name": "stdout",
     "output_type": "stream",
     "text": [
      "[[187  60]\n",
      " [ 50 184]]\n",
      "chosen thr = 0.5000, tpr = 0.7863, ppv = 0.7541,\n"
     ]
    }
   ],
   "source": [
    "best_thr_default = 0.5\n",
    "\n",
    "print(sklearn.metrics.confusion_matrix(y_va[best_fold_in_C], bestlr_yproba1_va >= best_thr_default))\n",
    "\n",
    "thresh_grid, perf_dict = threshold_selection.compute_perf_metrics_across_thresholds(y_va[best_fold_in_C], bestlr_yproba1_va, [best_thr_default])\n",
    "\n",
    "tpr = perf_dict['tpr'][0]# TODO fixme\n",
    "ppv = perf_dict['ppv'][0] # TODO fixme\n",
    "\n",
    "print(f\"chosen thr = {best_thr_default :.4f}, tpr = {tpr :.4f}, ppv = {ppv :.4f},\")"
   ]
  },
  {
   "cell_type": "markdown",
   "id": "722a94dd",
   "metadata": {},
   "source": [
    "## Area Under ROC Curve"
   ]
  },
  {
   "cell_type": "code",
   "execution_count": 58,
   "id": "3288995a",
   "metadata": {},
   "outputs": [
    {
     "data": {
      "text/plain": [
       "0.859688157071888"
      ]
     },
     "execution_count": 58,
     "metadata": {},
     "output_type": "execute_result"
    }
   ],
   "source": [
    "roc_auc_score(y_va[best_fold_in_C],bestlr_yproba1_va, max_fpr = 0.98)"
   ]
  },
  {
   "cell_type": "markdown",
   "id": "42697dd7",
   "metadata": {},
   "source": [
    "## read the test file into vocab matrix"
   ]
  },
  {
   "cell_type": "code",
   "execution_count": 239,
   "id": "d0efecda",
   "metadata": {},
   "outputs": [
    {
     "data": {
      "text/plain": [
       "(600, 2)"
      ]
     },
     "execution_count": 391,
     "metadata": {},
     "output_type": "execute_result"
    }
   ],
   "source": [
    "x_test_df = pd.read_csv(os.path.join(data_dir, 'x_test.csv'))\n",
    "x_test_df.shape"
   ]
  },
  {
   "cell_type": "code",
   "execution_count": 253,
   "id": "62bcdb1b",
   "metadata": {},
   "outputs": [
    {
     "data": {
      "text/plain": [
       "600"
      ]
     },
     "execution_count": 392,
     "metadata": {},
     "output_type": "execute_result"
    }
   ],
   "source": [
    "te_text_list = x_test_df['text'].values.tolist()\n",
    "len(te_text_list)"
   ]
  },
  {
   "cell_type": "code",
   "execution_count": 254,
   "id": "a2880b43",
   "metadata": {},
   "outputs": [
    {
     "data": {
      "text/plain": [
       "<600x4510 sparse matrix of type '<class 'numpy.int64'>'\n",
       "\twith 5542 stored elements in Compressed Sparse Row format>"
      ]
     },
     "execution_count": 393,
     "metadata": {},
     "output_type": "execute_result"
    }
   ],
   "source": [
    "vec = CountVectorizer(vocabulary = vocab)\n",
    "t = vec.fit_transform(te_text_list)\n",
    "t"
   ]
  },
  {
   "cell_type": "code",
   "execution_count": 259,
   "id": "63bf130a",
   "metadata": {},
   "outputs": [
    {
     "data": {
      "text/plain": [
       "(600, 4510)"
      ]
     },
     "execution_count": 394,
     "metadata": {},
     "output_type": "execute_result"
    }
   ],
   "source": [
    "te_array = t.toarray()\n",
    "te_array.shape"
   ]
  },
  {
   "cell_type": "code",
   "execution_count": 281,
   "id": "e92838f9",
   "metadata": {},
   "outputs": [
    {
     "data": {
      "text/plain": [
       "array([0.50779202, 0.39742623, 0.44536897, 0.10652286, 0.23843902,\n",
       "       0.13994524, 0.18041416, 0.27592304, 0.24653057, 0.63175452,\n",
       "       0.53356158, 0.61515303, 0.13516778, 0.19477432, 0.31248281,\n",
       "       0.14921113, 0.0170364 , 0.12270964, 0.42113813, 0.31062989,\n",
       "       0.38617562, 0.47657294, 0.16215187, 0.29436475, 0.51246814,\n",
       "       0.32391048, 0.35852866, 0.465141  , 0.21279012, 0.29581326,\n",
       "       0.57530431, 0.36343285, 0.47282724, 0.01244505, 0.32220981,\n",
       "       0.5044506 , 0.46608568, 0.14366567, 0.38573758, 0.55945874,\n",
       "       0.1229296 , 0.24658427, 0.48826739, 0.35092715, 0.30227317,\n",
       "       0.03451418, 0.17541125, 0.08743971, 0.13691534, 0.21279012,\n",
       "       0.49161545, 0.16889505, 0.86101568, 0.37628043, 0.36994705,\n",
       "       0.41801247, 0.16672854, 0.07007077, 0.6142836 , 0.08342933,\n",
       "       0.40885525, 0.21013796, 0.41801247, 0.15673439, 0.14361642,\n",
       "       0.05261054, 0.1126216 , 0.48200288, 0.15105205, 0.57270144,\n",
       "       0.06642186, 0.41801247, 0.14832477, 0.04675835, 0.23412795,\n",
       "       0.49622955, 0.44466835, 0.05206224, 0.67600793, 0.05901799,\n",
       "       0.19316694, 0.03119258, 0.06065947, 0.50431894, 0.01702203,\n",
       "       0.38339149, 0.14262357, 0.06824623, 0.24641472, 0.07454927,\n",
       "       0.41801247, 0.17734562, 0.35423416, 0.25062307, 0.38672159,\n",
       "       0.29687152, 0.2628218 , 0.32372341, 0.18998319, 0.25131156,\n",
       "       0.96577191, 0.44301835, 0.44542868, 0.92445145, 0.23790047,\n",
       "       0.96458849, 0.82645537, 0.92819183, 0.00101292, 0.2841291 ,\n",
       "       0.873017  , 0.41650275, 0.87896986, 0.34332828, 0.68653511,\n",
       "       0.45618083, 0.8055451 , 0.91385976, 0.63707574, 0.43138641,\n",
       "       0.11400618, 0.65603148, 0.89787031, 0.92473086, 0.91132074,\n",
       "       0.95831497, 0.81158844, 0.71509482, 0.9494328 , 0.53050465,\n",
       "       0.99466075, 0.85630566, 0.8002211 , 0.98591785, 0.99348449,\n",
       "       0.57292684, 0.15476924, 0.92266136, 0.78912869, 0.97985253,\n",
       "       0.91866063, 0.1067777 , 0.76672161, 0.9264945 , 0.77128104,\n",
       "       0.83360055, 0.07610867, 0.02667165, 0.98789281, 0.84684985,\n",
       "       0.99995914, 0.98671562, 0.93099331, 0.80038186, 0.46143564,\n",
       "       0.76270713, 0.72182069, 0.54042309, 0.8024326 , 0.78179494,\n",
       "       0.28845224, 0.46970657, 0.58354721, 0.9611001 , 0.90961537,\n",
       "       0.39489492, 0.85430095, 0.28750222, 0.732538  , 0.34226997,\n",
       "       0.37655865, 0.42520945, 0.42149453, 0.64961415, 0.90039619,\n",
       "       0.99770326, 0.68524847, 0.44263815, 0.94585194, 0.73044805,\n",
       "       0.93175211, 0.04376939, 0.55616733, 0.87522051, 0.78380955,\n",
       "       0.94703133, 0.89363668, 0.97448422, 0.1107827 , 0.86644148,\n",
       "       0.91520826, 0.74129637, 0.6001239 , 0.96770783, 0.87155874,\n",
       "       0.83564175, 0.39884313, 0.54471962, 0.27964038, 0.87863412,\n",
       "       0.09977262, 0.59648022, 0.38382732, 0.39867633, 0.02868446,\n",
       "       0.20522884, 0.03784985, 0.00399641, 0.22002593, 0.6493958 ,\n",
       "       0.18571561, 0.11056584, 0.21371842, 0.52471272, 0.39067677,\n",
       "       0.49743887, 0.4152892 , 0.4965733 , 0.27439386, 0.15424413,\n",
       "       0.00980513, 0.19879944, 0.23365713, 0.24977435, 0.05433674,\n",
       "       0.0221195 , 0.2957827 , 0.54191155, 0.43138641, 0.47864342,\n",
       "       0.01998556, 0.34447298, 0.80067068, 0.30708904, 0.42737236,\n",
       "       0.14455633, 0.10470209, 0.59239977, 0.54445623, 0.27756169,\n",
       "       0.15187836, 0.13538047, 0.59845687, 0.73058312, 0.89871344,\n",
       "       0.05892358, 0.21529214, 0.11834055, 0.09016087, 0.48069927,\n",
       "       0.51446462, 0.72940287, 0.77556535, 0.05876353, 0.66183791,\n",
       "       0.14305578, 0.42398112, 0.15813922, 0.28114964, 0.41285967,\n",
       "       0.40933128, 0.26352573, 0.30402619, 0.13694063, 0.15950468,\n",
       "       0.18660752, 0.28318279, 0.13775975, 0.03807765, 0.12044155,\n",
       "       0.08646687, 0.07179134, 0.34644238, 0.63228364, 0.16113745,\n",
       "       0.53580229, 0.54445623, 0.55608894, 0.56414378, 0.1097964 ,\n",
       "       0.26348094, 0.47935574, 0.48637635, 0.49477358, 0.07904104,\n",
       "       0.04156539, 0.61203307, 0.07189276, 0.28745788, 0.52181985,\n",
       "       0.37047529, 0.47935574, 0.16776211, 0.00407999, 0.35163024,\n",
       "       0.01343978, 0.85754606, 0.47935574, 0.23011087, 0.29206245,\n",
       "       0.59828987, 0.28881046, 0.71201771, 0.70072021, 0.47119398,\n",
       "       0.96545966, 0.56885384, 0.65484754, 0.17759061, 0.44705308,\n",
       "       0.70950357, 0.43138641, 0.13217902, 0.17873657, 0.41725692,\n",
       "       0.75584103, 0.34215567, 0.89657077, 0.60433118, 0.78143763,\n",
       "       0.91963465, 0.99511944, 0.72394502, 0.42519321, 0.56527346,\n",
       "       0.62395459, 0.99937485, 0.36615017, 0.83360627, 0.43245737,\n",
       "       0.99787528, 0.48780958, 0.57701621, 0.02836257, 0.48608165,\n",
       "       0.6269987 , 0.90446814, 0.88175314, 0.70322284, 0.47437019,\n",
       "       0.24065691, 0.35676102, 0.46762062, 0.48076008, 0.92257398,\n",
       "       0.64918488, 0.36548497, 0.80565126, 0.04836035, 0.65654955,\n",
       "       0.47167562, 0.13161641, 0.75788475, 0.73959084, 0.89933402,\n",
       "       0.35749381, 0.86285809, 0.88391513, 0.96434552, 0.95776773,\n",
       "       0.36208925, 0.86198463, 0.56862813, 0.55407104, 0.81097709,\n",
       "       0.76240167, 0.73250353, 0.94205835, 0.33905586, 0.60651402,\n",
       "       0.27197532, 0.67054522, 0.41908209, 0.93770764, 0.44691644,\n",
       "       0.90607428, 0.84950294, 0.75042851, 0.13863456, 0.65575756,\n",
       "       0.56878107, 0.85209798, 0.52067067, 0.97363377, 0.67813052,\n",
       "       0.71655178, 0.3659928 , 0.38655173, 0.8696791 , 0.77808917,\n",
       "       0.38969767, 0.31516645, 0.92265543, 0.00436786, 0.0248925 ,\n",
       "       0.99324521, 0.37243248, 0.72639846, 0.20149706, 0.88453342,\n",
       "       0.11494229, 0.19838534, 0.00735742, 0.15675597, 0.22651652,\n",
       "       0.0950979 , 0.09327548, 0.03458463, 0.15608847, 0.47057223,\n",
       "       0.6240062 , 0.05522777, 0.12007592, 0.34765683, 0.37415412,\n",
       "       0.16669018, 0.49161545, 0.26791382, 0.1013809 , 0.27532379,\n",
       "       0.30043256, 0.14263431, 0.39910591, 0.00640548, 0.6889433 ,\n",
       "       0.47689319, 0.69959515, 0.31708071, 0.68208958, 0.34659544,\n",
       "       0.08008398, 0.44561377, 0.01008801, 0.43648302, 0.16533119,\n",
       "       0.07516008, 0.50103786, 0.15010775, 0.11188588, 0.43375119,\n",
       "       0.92950244, 0.29043298, 0.08830091, 0.09740577, 0.11159181,\n",
       "       0.07951876, 0.4169033 , 0.00538919, 0.83859446, 0.67978499,\n",
       "       0.4527926 , 0.34466852, 0.54042056, 0.52808835, 0.33037788,\n",
       "       0.68296248, 0.27484995, 0.40222875, 0.32688315, 0.30790668,\n",
       "       0.16571398, 0.12784867, 0.40626793, 0.40645307, 0.31131883,\n",
       "       0.4159507 , 0.31599375, 0.38828554, 0.41801247, 0.77037518,\n",
       "       0.58641857, 0.28867921, 0.24729466, 0.1505925 , 0.18672238,\n",
       "       0.28712389, 0.40805784, 0.19226099, 0.17342058, 0.46952887,\n",
       "       0.13146283, 0.47135152, 0.28721792, 0.14910749, 0.53212322,\n",
       "       0.28116836, 0.00553226, 0.38927965, 0.62634271, 0.12967255,\n",
       "       0.49996304, 0.33018527, 0.079263  , 0.49568043, 0.62369589,\n",
       "       0.39400268, 0.1095193 , 0.21789706, 0.2165754 , 0.09051529,\n",
       "       0.98568238, 0.77002617, 0.76750328, 0.13925927, 0.62780362,\n",
       "       0.80001423, 0.91359265, 0.60972776, 0.8759699 , 0.37757071,\n",
       "       0.39810547, 0.94006118, 0.79726306, 0.43142514, 0.51608456,\n",
       "       0.78933275, 0.78553518, 0.90902974, 0.77011396, 0.68402163,\n",
       "       0.82661559, 0.69015741, 0.55169944, 0.30483921, 0.56368922,\n",
       "       0.98277816, 0.2544847 , 0.67258527, 0.73829078, 0.9988377 ,\n",
       "       0.32550337, 0.91385976, 0.46930689, 0.89426169, 0.56947997,\n",
       "       0.34283212, 0.48111491, 0.28964633, 0.73820188, 0.92624438,\n",
       "       0.55059905, 0.61522139, 0.95677454, 0.85600266, 0.74501711,\n",
       "       0.71683013, 0.94569298, 0.51439251, 0.97420728, 0.98969064,\n",
       "       0.4742314 , 0.01704199, 0.31548317, 0.92432833, 0.89822772,\n",
       "       0.91385976, 0.57913367, 0.77733765, 0.41384448, 0.63780775,\n",
       "       0.61192726, 0.84990278, 0.99793054, 0.96359848, 0.18204129,\n",
       "       0.08762724, 0.19761034, 0.93335068, 0.77127515, 0.42755728,\n",
       "       0.93456946, 0.34878318, 0.42204356, 0.40376556, 0.4877616 ,\n",
       "       0.41801247, 0.74657704, 0.78110655, 0.75490482, 0.61746003,\n",
       "       0.84434512, 0.37021485, 0.90336331, 0.51181758, 0.68156008,\n",
       "       0.93797738, 0.81693923, 0.82796552, 0.91534871, 0.55505218,\n",
       "       0.14178762, 0.41341656, 0.84368543, 0.39372971, 0.7918325 ,\n",
       "       0.94469328, 0.90886784, 0.77878871, 0.99692563, 0.79264797])"
      ]
     },
     "execution_count": 281,
     "metadata": {},
     "output_type": "execute_result"
    }
   ],
   "source": [
    "y_te_proba = best_lr.predict_proba(te_array)[:,1]\n",
    "y_te_proba"
   ]
  },
  {
   "cell_type": "code",
   "execution_count": 409,
   "id": "964c55ac",
   "metadata": {},
   "outputs": [
    {
     "data": {
      "text/plain": [
       "((600,), 0.13994524427932636)"
      ]
     },
     "execution_count": 409,
     "metadata": {},
     "output_type": "execute_result"
    }
   ],
   "source": [
    "y_te_proba.shape, y_te_proba[5]"
   ]
  },
  {
   "cell_type": "code",
   "execution_count": null,
   "id": "4a2b6315",
   "metadata": {},
   "outputs": [],
   "source": [
    "for i in range(y_te_proba.shape[0]):\n",
    "    if y_te_proba[i] >= 0.5: \n",
    "        y_te_proba[i] = 1\n",
    "    else:\n",
    "        y_te_proba[i] = 0"
   ]
  },
  {
   "cell_type": "code",
   "execution_count": null,
   "id": "9f5f27c5",
   "metadata": {},
   "outputs": [],
   "source": [
    "np.savetxt('out4.txt', y_te_proba, delimiter=' ', fmt='% 3d')\n"
   ]
  },
  {
   "cell_type": "code",
   "execution_count": null,
   "id": "ca1ecd93",
   "metadata": {},
   "outputs": [],
   "source": []
  },
  {
   "cell_type": "code",
   "execution_count": null,
   "id": "4497a929",
   "metadata": {},
   "outputs": [],
   "source": []
  },
  {
   "cell_type": "code",
   "execution_count": null,
   "id": "3911152e",
   "metadata": {},
   "outputs": [],
   "source": []
  },
  {
   "cell_type": "code",
   "execution_count": null,
   "id": "9e1a60bf",
   "metadata": {},
   "outputs": [],
   "source": []
  },
  {
   "cell_type": "code",
   "execution_count": null,
   "id": "5028f54a",
   "metadata": {},
   "outputs": [],
   "source": [
    "# # remove punctuation in the text\n",
    "# def rm_punc(text_list):\n",
    "#     puncs = '!@#$%^&*()_+-={}[]:;|<>,.?/\"\\''\n",
    "#     clean_text_list = []\n",
    "#     for text in text_list:\n",
    "#         clean_text = \"\"\n",
    "#         for char in text:\n",
    "#             if char not in puncs:\n",
    "#                 clean_text += char.lower()\n",
    "#         clean_text_list.append(clean_text)\n",
    "#     return clean_text_list\n",
    "\n",
    "# clean_tr_text = rm_punc(tr_text_list)\n",
    "# clean_tr_text[0]"
   ]
  },
  {
   "cell_type": "code",
   "execution_count": null,
   "id": "e6806af7",
   "metadata": {},
   "outputs": [],
   "source": [
    "# # partition the data\n",
    "# words_list = []\n",
    "# for text in clean_tr_text:\n",
    "#     words_list.append(text.split())\n",
    "    \n",
    "# words_list[0]"
   ]
  },
  {
   "cell_type": "code",
   "execution_count": null,
   "id": "10a7ce66",
   "metadata": {},
   "outputs": [],
   "source": []
  },
  {
   "cell_type": "code",
   "execution_count": null,
   "id": "d269ccb6",
   "metadata": {},
   "outputs": [],
   "source": []
  }
 ],
 "metadata": {
  "interpreter": {
   "hash": "d5603cc4667a52057224efdf5ddcc7de73a3282f447f21696056843efd22823e"
  },
  "kernelspec": {
   "display_name": "Python 3 (ipykernel)",
   "language": "python",
   "name": "python3"
  },
  "language_info": {
   "codemirror_mode": {
    "name": "ipython",
    "version": 3
   },
   "file_extension": ".py",
   "mimetype": "text/x-python",
   "name": "python",
   "nbconvert_exporter": "python",
   "pygments_lexer": "ipython3",
   "version": "3.10.12"
  }
 },
 "nbformat": 4,
 "nbformat_minor": 5
}
