{
 "cells": [
  {
   "cell_type": "code",
   "execution_count": 1,
   "id": "827b0719",
   "metadata": {},
   "outputs": [
    {
     "name": "stdout",
     "output_type": "stream",
     "text": [
      "Intel MKL WARNING: Support of Intel(R) Streaming SIMD Extensions 4.2 (Intel(R) SSE4.2) enabled only processors has been deprecated. Intel oneAPI Math Kernel Library 2025.0 will require Intel(R) Advanced Vector Extensions (Intel(R) AVX) instructions.\n",
      "Intel MKL WARNING: Support of Intel(R) Streaming SIMD Extensions 4.2 (Intel(R) SSE4.2) enabled only processors has been deprecated. Intel oneAPI Math Kernel Library 2025.0 will require Intel(R) Advanced Vector Extensions (Intel(R) AVX) instructions.\n"
     ]
    }
   ],
   "source": [
    "import numpy as np\n",
    "import pandas as pd\n",
    "import sklearn.linear_model\n",
    "import sklearn.metrics\n",
    "import os\n",
    "from sklearn.metrics import roc_auc_score"
   ]
  },
  {
   "cell_type": "code",
   "execution_count": 2,
   "id": "fce9f294",
   "metadata": {},
   "outputs": [],
   "source": [
    "# import plotting libraries\n",
    "import matplotlib\n",
    "import matplotlib.pyplot as plt\n",
    "\n",
    "%matplotlib inline\n",
    "plt.style.use('seaborn-v0_8') # pretty matplotlib plots\n"
   ]
  },
  {
   "cell_type": "markdown",
   "id": "378b2437",
   "metadata": {},
   "source": [
    "## Load Data"
   ]
  },
  {
   "cell_type": "code",
   "execution_count": 3,
   "id": "2a734063",
   "metadata": {},
   "outputs": [
    {
     "name": "stdout",
     "output_type": "stream",
     "text": [
      "Shape of x_train_df: (2400, 2)\n",
      "Shape of y_train_df: (2400, 1)\n"
     ]
    },
    {
     "data": {
      "text/html": [
       "<div>\n",
       "<style scoped>\n",
       "    .dataframe tbody tr th:only-of-type {\n",
       "        vertical-align: middle;\n",
       "    }\n",
       "\n",
       "    .dataframe tbody tr th {\n",
       "        vertical-align: top;\n",
       "    }\n",
       "\n",
       "    .dataframe thead th {\n",
       "        text-align: right;\n",
       "    }\n",
       "</style>\n",
       "<table border=\"1\" class=\"dataframe\">\n",
       "  <thead>\n",
       "    <tr style=\"text-align: right;\">\n",
       "      <th></th>\n",
       "      <th>website_name</th>\n",
       "      <th>text</th>\n",
       "    </tr>\n",
       "  </thead>\n",
       "  <tbody>\n",
       "    <tr>\n",
       "      <th>0</th>\n",
       "      <td>amazon</td>\n",
       "      <td>Oh and I forgot to also mention the weird colo...</td>\n",
       "    </tr>\n",
       "    <tr>\n",
       "      <th>1</th>\n",
       "      <td>amazon</td>\n",
       "      <td>THAT one didn't work either.</td>\n",
       "    </tr>\n",
       "    <tr>\n",
       "      <th>2</th>\n",
       "      <td>amazon</td>\n",
       "      <td>Waste of 13 bucks.</td>\n",
       "    </tr>\n",
       "    <tr>\n",
       "      <th>3</th>\n",
       "      <td>amazon</td>\n",
       "      <td>Product is useless, since it does not have eno...</td>\n",
       "    </tr>\n",
       "    <tr>\n",
       "      <th>4</th>\n",
       "      <td>amazon</td>\n",
       "      <td>None of the three sizes they sent with the hea...</td>\n",
       "    </tr>\n",
       "    <tr>\n",
       "      <th>...</th>\n",
       "      <td>...</td>\n",
       "      <td>...</td>\n",
       "    </tr>\n",
       "    <tr>\n",
       "      <th>2395</th>\n",
       "      <td>yelp</td>\n",
       "      <td>The sweet potato fries were very good and seas...</td>\n",
       "    </tr>\n",
       "    <tr>\n",
       "      <th>2396</th>\n",
       "      <td>yelp</td>\n",
       "      <td>I could eat their bruschetta all day it is dev...</td>\n",
       "    </tr>\n",
       "    <tr>\n",
       "      <th>2397</th>\n",
       "      <td>yelp</td>\n",
       "      <td>Ambience is perfect.</td>\n",
       "    </tr>\n",
       "    <tr>\n",
       "      <th>2398</th>\n",
       "      <td>yelp</td>\n",
       "      <td>We ordered the duck rare and it was pink and t...</td>\n",
       "    </tr>\n",
       "    <tr>\n",
       "      <th>2399</th>\n",
       "      <td>yelp</td>\n",
       "      <td>Service was good and the company was better!</td>\n",
       "    </tr>\n",
       "  </tbody>\n",
       "</table>\n",
       "<p>2400 rows × 2 columns</p>\n",
       "</div>"
      ],
      "text/plain": [
       "     website_name                                               text\n",
       "0          amazon  Oh and I forgot to also mention the weird colo...\n",
       "1          amazon                       THAT one didn't work either.\n",
       "2          amazon                                 Waste of 13 bucks.\n",
       "3          amazon  Product is useless, since it does not have eno...\n",
       "4          amazon  None of the three sizes they sent with the hea...\n",
       "...           ...                                                ...\n",
       "2395         yelp  The sweet potato fries were very good and seas...\n",
       "2396         yelp  I could eat their bruschetta all day it is dev...\n",
       "2397         yelp                               Ambience is perfect.\n",
       "2398         yelp  We ordered the duck rare and it was pink and t...\n",
       "2399         yelp       Service was good and the company was better!\n",
       "\n",
       "[2400 rows x 2 columns]"
      ]
     },
     "execution_count": 3,
     "metadata": {},
     "output_type": "execute_result"
    }
   ],
   "source": [
    "data_dir = 'data_reviews'\n",
    "x_train_df = pd.read_csv(os.path.join(data_dir, 'x_train.csv'))\n",
    "y_train_df = pd.read_csv(os.path.join(data_dir, 'y_train.csv'))\n",
    "\n",
    "N, n_cols = x_train_df.shape\n",
    "print(\"Shape of x_train_df: (%d, %d)\" % (N,n_cols))\n",
    "print(\"Shape of y_train_df: %s\" % str(y_train_df.shape))\n",
    "x_train_df"
   ]
  },
  {
   "cell_type": "code",
   "execution_count": 4,
   "id": "67a9b91f",
   "metadata": {},
   "outputs": [],
   "source": [
    "# df to list\n",
    "tr_text_list = x_train_df['text'].values.tolist()"
   ]
  },
  {
   "cell_type": "code",
   "execution_count": 5,
   "id": "5e193540",
   "metadata": {},
   "outputs": [
    {
     "data": {
      "text/plain": [
       "2400"
      ]
     },
     "execution_count": 5,
     "metadata": {},
     "output_type": "execute_result"
    }
   ],
   "source": [
    "y_train_list = y_train_df['is_positive_sentiment'].values.tolist()\n",
    "len(y_train_list)"
   ]
  },
  {
   "cell_type": "code",
   "execution_count": 6,
   "id": "a651849b",
   "metadata": {},
   "outputs": [
    {
     "data": {
      "text/plain": [
       "2400"
      ]
     },
     "execution_count": 6,
     "metadata": {},
     "output_type": "execute_result"
    }
   ],
   "source": [
    "len(y_train_list)"
   ]
  },
  {
   "cell_type": "markdown",
   "id": "59b9b3b8",
   "metadata": {},
   "source": [
    "## Partition sentences into words"
   ]
  },
  {
   "cell_type": "code",
   "execution_count": 7,
   "id": "ef8944c2",
   "metadata": {},
   "outputs": [],
   "source": [
    "from sklearn.feature_extraction.text import CountVectorizer"
   ]
  },
  {
   "cell_type": "code",
   "execution_count": 8,
   "id": "87e5962c",
   "metadata": {},
   "outputs": [],
   "source": [
    "vectorizer = CountVectorizer( max_df= 0.5, min_df=10)"
   ]
  },
  {
   "cell_type": "markdown",
   "id": "b3c8eb6e",
   "metadata": {},
   "source": [
    "### How big is my vocabulary?"
   ]
  },
  {
   "cell_type": "code",
   "execution_count": 9,
   "id": "b78623d6",
   "metadata": {},
   "outputs": [
    {
     "data": {
      "text/plain": [
       "383"
      ]
     },
     "execution_count": 9,
     "metadata": {},
     "output_type": "execute_result"
    }
   ],
   "source": [
    "x = vectorizer.fit_transform(tr_text_list)\n",
    "vocab = vectorizer.get_feature_names_out()\n",
    "vocab.shape[0]"
   ]
  },
  {
   "cell_type": "code",
   "execution_count": 10,
   "id": "8682b1ac",
   "metadata": {},
   "outputs": [
    {
     "data": {
      "text/plain": [
       "(2400, 383)"
      ]
     },
     "execution_count": 10,
     "metadata": {},
     "output_type": "execute_result"
    }
   ],
   "source": [
    "x_train_NV = x.toarray()\n",
    "x_train_NV.shape # N is the number of sentences, and V is the number of vocabulary"
   ]
  },
  {
   "cell_type": "code",
   "execution_count": 11,
   "id": "47ec8774",
   "metadata": {
    "scrolled": true
   },
   "outputs": [
    {
     "data": {
      "text/plain": [
       "(2400, 383)"
      ]
     },
     "execution_count": 11,
     "metadata": {},
     "output_type": "execute_result"
    }
   ],
   "source": [
    "N = x_train_NV.shape[0]\n",
    "V = x_train_NV.shape[1]\n",
    "N,V"
   ]
  },
  {
   "cell_type": "markdown",
   "id": "3b273273",
   "metadata": {},
   "source": [
    "### Get Normal"
   ]
  },
  {
   "cell_type": "code",
   "execution_count": 12,
   "id": "1721280f",
   "metadata": {},
   "outputs": [],
   "source": [
    "x_normal = x_train_NV"
   ]
  },
  {
   "cell_type": "code",
   "execution_count": 13,
   "id": "81366d5b",
   "metadata": {},
   "outputs": [],
   "source": [
    "y_train_list = np.array(y_train_list)"
   ]
  },
  {
   "cell_type": "code",
   "execution_count": 14,
   "id": "668a7c72",
   "metadata": {},
   "outputs": [],
   "source": [
    "%run performance_metrics.py\n",
    "%run cross_validation.py"
   ]
  },
  {
   "cell_type": "code",
   "execution_count": 15,
   "id": "261ac303",
   "metadata": {},
   "outputs": [],
   "source": [
    "M = 2\n",
    "\n",
    "x_tr_M2 = np.random.randint(2, size=10).reshape(-1, 1)\n",
    "x_va_N2 = np.random.randint(2, size=10).reshape(-1, 1)\n",
    "y_tr_M = np.random.randint(2, size=10)\n",
    "y_va_N = np.random.randint(2, size=10)"
   ]
  },
  {
   "cell_type": "markdown",
   "id": "b67d8450",
   "metadata": {},
   "source": [
    "## Cross Validation"
   ]
  },
  {
   "cell_type": "code",
   "execution_count": 16,
   "id": "66fd228b",
   "metadata": {},
   "outputs": [],
   "source": [
    "%run binary_metrics.py\n",
    "%run proba_metrics.py"
   ]
  },
  {
   "cell_type": "code",
   "execution_count": 17,
   "id": "8b8ff466",
   "metadata": {},
   "outputs": [
    {
     "data": {
      "text/plain": [
       "(2159, 241)"
      ]
     },
     "execution_count": 17,
     "metadata": {},
     "output_type": "execute_result"
    }
   ],
   "source": [
    "K = 10 # num folds of CV\n",
    "random_state = 1234\n",
    "\n",
    "train_error_per_fold = np.zeros(K, dtype=np.float32)\n",
    "test_error_per_fold = np.zeros(K, dtype=np.float32)\n",
    "\n",
    "N = x_normal.shape[0]\n",
    "# TODO define the folds here by calling your function\n",
    "# e.g. ... = make_train_and_test_row_ids_for_n_fold_cv(...)\n",
    "train_ids, test_ids = make_train_and_test_row_ids_for_n_fold_cv(\n",
    "    N, K, random_state)\n",
    "\n",
    "len(train_ids[0]), len(test_ids[0])"
   ]
  },
  {
   "cell_type": "code",
   "execution_count": 18,
   "id": "2961eec4",
   "metadata": {},
   "outputs": [],
   "source": [
    "y_list = y_train_list"
   ]
  },
  {
   "cell_type": "markdown",
   "id": "9e6e3971",
   "metadata": {},
   "source": [
    "## normalize the data"
   ]
  },
  {
   "cell_type": "code",
   "execution_count": 19,
   "id": "52fc9c3f",
   "metadata": {},
   "outputs": [],
   "source": [
    "# partition the data into train and test\n",
    "\n",
    "x_tr, y_tr = list(), list()\n",
    "y_va, x_va = list(), list()\n",
    "\n",
    "\n",
    "for i in range(len(train_ids)):\n",
    "    x_tr.append(x_normal[train_ids[i]])\n",
    "    y_tr.append(y_list[train_ids[i]])\n",
    "\n",
    "for i in range(len(test_ids)):\n",
    "    x_va.append(x_normal[test_ids[i]])\n",
    "    y_va.append(y_list[test_ids[i]])\n",
    "\n",
    "\n",
    "# len(x_tr[0])"
   ]
  },
  {
   "cell_type": "code",
   "execution_count": 20,
   "id": "107fbf3e",
   "metadata": {},
   "outputs": [],
   "source": [
    "C_grid = np.logspace(-4, 4, 30)"
   ]
  },
  {
   "cell_type": "code",
   "execution_count": 21,
   "id": "6abd8fc6",
   "metadata": {},
   "outputs": [
    {
     "data": {
      "text/plain": [
       "10"
      ]
     },
     "execution_count": 21,
     "metadata": {},
     "output_type": "execute_result"
    }
   ],
   "source": [
    "K"
   ]
  },
  {
   "cell_type": "code",
   "execution_count": 22,
   "id": "f098c9ee",
   "metadata": {},
   "outputs": [],
   "source": [
    "cv_tr_bce_list = list()\n",
    "cv_va_bce_list = list()\n",
    "cv_te_bce_list = list()\n",
    "\n",
    "\n",
    "\n",
    "cv_va_auroc_list = list()\n",
    "cv_tr_auroc_list = list()\n",
    "va_mean_cv_auroc_list = list()\n",
    "tr_mean_cv_auroc_list = list()\n",
    "\n",
    "model_list = list()\n",
    "tr_bce_list_for_each_C = list()\n",
    "va_bce_list_for_each_C = list()\n",
    "# idx = 0\n",
    "for C in C_grid:\n",
    "\n",
    "    model_F3_list = list()\n",
    "\n",
    "    # Allocate lists for storing BCE metrics\n",
    "    tr_bce_list = list()\n",
    "    va_bce_list = list()\n",
    "    te_bce_list = list()\n",
    "    \n",
    "    tr_auroc_list = list()\n",
    "    va_auroc_list = list()\n",
    "\n",
    "    # idx = idx + 1\n",
    "    for i in range(K):\n",
    "        xtr = x_tr[i]\n",
    "        ytr = y_tr[i]\n",
    "        xva = x_va[i]\n",
    "        yva = y_va[i]\n",
    "\n",
    "        lr_F3 = sklearn.linear_model.LogisticRegression(C = C, penalty = 'l2', solver='lbfgs', max_iter=2000) # TODO fixme\n",
    "        lr_F3.fit(xtr, ytr) # TODO fixme\n",
    "\n",
    "        model_F3_list.append(lr_F3)\n",
    "\n",
    "        yproba1_tr_M = lr_F3.predict_proba(xtr)[:,1] # The probability of predicting class 1 on the training set\n",
    "        yproba1_va_N = lr_F3.predict_proba(xva)[:,1] # The probability of predicting class 1 on the validation set\n",
    "        \n",
    "        \n",
    "        # get auroc score \n",
    "        va_auroc = roc_auc_score(ytr, yproba1_tr_M)\n",
    "        va_auroc = roc_auc_score(yva, yproba1_va_N)\n",
    "        tr_auroc_list.append(va_auroc)\n",
    "        va_auroc_list.append(va_auroc)\n",
    "        \n",
    "        my_tr_bce = calc_mean_binary_cross_entropy_from_probas(ytr, yproba1_tr_M) # TODO fixme\n",
    "        my_va_bce = calc_mean_binary_cross_entropy_from_probas(yva, yproba1_va_N) # TODO fixme\n",
    "        # Save bce for future selection on Models.\n",
    "        tr_bce_list.append(my_tr_bce) \n",
    "        va_bce_list.append(my_va_bce)\n",
    "    \n",
    "    \n",
    "    va_mean_cv_auroc = sum(va_auroc_list) / len(va_auroc_list)\n",
    "    va_mean_cv_auroc_list.append(va_mean_cv_auroc)\n",
    "    \n",
    "    cv_va_auroc_list.append(va_auroc_list)\n",
    "    \n",
    "    tr_mean_cv_auroc = sum(tr_auroc_list) / len(tr_auroc_list)\n",
    "    tr_mean_cv_auroc_list.append(tr_mean_cv_auroc)\n",
    "    \n",
    "    cv_tr_auroc_list.append(tr_auroc_list)\n",
    "    \n",
    "    \n",
    "    tr_bce_list_for_each_C.append(tr_bce_list)\n",
    "    va_bce_list_for_each_C.append(va_bce_list)\n",
    "    \n",
    "    model_list.append(model_F3_list)\n",
    "    \n",
    "    \n",
    "    \n",
    "    \n",
    "    \n",
    "    cv_tr_bce_list.append((sum(tr_bce_list)/len(tr_bce_list)))\n",
    "    cv_va_bce_list.append((sum(va_bce_list)/len(va_bce_list)))\n",
    "    "
   ]
  },
  {
   "cell_type": "code",
<<<<<<< HEAD
   "execution_count": 23,
=======
   "execution_count": 77,
>>>>>>> 611be6204757f790df5d26aaa1e09d9da08f028c
   "id": "8a9f38c4",
   "metadata": {},
   "outputs": [
    {
     "data": {
      "text/plain": [
       "14"
      ]
     },
<<<<<<< HEAD
     "execution_count": 23,
=======
     "execution_count": 77,
>>>>>>> 611be6204757f790df5d26aaa1e09d9da08f028c
     "metadata": {},
     "output_type": "execute_result"
    }
   ],
   "source": [
    "best_C_index = np.argmax(va_mean_cv_auroc_list)\n",
    "best_C_index"
   ]
  },
  {
   "cell_type": "code",
<<<<<<< HEAD
   "execution_count": 24,
=======
   "execution_count": 78,
>>>>>>> 611be6204757f790df5d26aaa1e09d9da08f028c
   "id": "efaa50be",
   "metadata": {},
   "outputs": [
    {
     "data": {
      "text/plain": [
       "9"
      ]
     },
<<<<<<< HEAD
     "execution_count": 24,
=======
     "execution_count": 78,
>>>>>>> 611be6204757f790df5d26aaa1e09d9da08f028c
     "metadata": {},
     "output_type": "execute_result"
    }
   ],
   "source": [
    "best_fold_in_C = np.argmax(cv_va_auroc_list[best_C_index])\n",
    "best_fold_in_C"
   ]
  },
  {
   "cell_type": "code",
<<<<<<< HEAD
   "execution_count": 25,
=======
   "execution_count": 79,
>>>>>>> 611be6204757f790df5d26aaa1e09d9da08f028c
   "id": "588a0502",
   "metadata": {},
   "outputs": [],
   "source": [
    "best_C__lr = C_grid[best_C_index]\n",
    "best_lr = model_list[best_C_index][best_fold_in_C]"
   ]
  },
  {
   "cell_type": "code",
<<<<<<< HEAD
   "execution_count": 26,
=======
   "execution_count": 80,
>>>>>>> 611be6204757f790df5d26aaa1e09d9da08f028c
   "id": "b6df575e",
   "metadata": {},
   "outputs": [
    {
     "data": {
      "image/png": "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",
      "text/plain": [
       "<Figure size 800x550 with 1 Axes>"
      ]
     },
     "metadata": {},
     "output_type": "display_data"
    }
   ],
   "source": [
    "plt.plot(np.log10(C_grid), cv_tr_bce_list, 'bs-', label='train BCE')\n",
    "plt.plot(np.log10(C_grid), cv_va_bce_list, 'rs-', label='valid BCE')\n",
    "\n",
    "plt.plot(np.log10(C_grid), tr_mean_cv_auroc_list, 'bs-', label='train AUROC')\n",
    "plt.plot(np.log10(C_grid), va_mean_cv_auroc_list, 'ys-', label='valid AUROC')\n",
    "\n",
    "for i in range(len(tr_bce_list_for_each_C)):\n",
    "    for j in range(len(tr_bce_list_for_each_C[0])):\n",
    "        plt.plot(np.log10(C_grid[i]), tr_bce_list_for_each_C[i][j], marker='o', color='blue', markersize = 4)\n",
    "        plt.plot(np.log10(C_grid[i]), va_bce_list_for_each_C[i][j], marker='o', color='red', markersize = 4)\n",
    "        \n",
    "plt.ylabel('error')\n",
    "plt.xlabel(\"$\\log_{10} C$\");\n",
    "plt.legend(bbox_to_anchor=(1.5, 0.5)) # make legend outside plot\n",
    "plt.ylim([0, 1.5]);"
   ]
  },
  {
   "cell_type": "code",
<<<<<<< HEAD
   "execution_count": 27,
=======
   "execution_count": 81,
>>>>>>> 611be6204757f790df5d26aaa1e09d9da08f028c
   "id": "009b94b9",
   "metadata": {},
   "outputs": [],
   "source": [
    "# print(\"Best model has coefficient values:\")\n",
    "# print(best_lr.coef_)"
   ]
  },
  {
   "cell_type": "code",
<<<<<<< HEAD
   "execution_count": 28,
=======
   "execution_count": 82,
>>>>>>> 611be6204757f790df5d26aaa1e09d9da08f028c
   "id": "cbb537b6",
   "metadata": {},
   "outputs": [],
   "source": [
    "prng = np.random.RandomState(101)\n",
    "\n",
    "bestlr_yproba1_tr = best_lr.predict_proba(x_tr[best_fold_in_C])[:,1] # TODO fixme\n",
    "bestlr_yproba1_va = best_lr.predict_proba(x_va[best_fold_in_C])[:,1] # TODO fixme"
   ]
  },
  {
   "cell_type": "code",
<<<<<<< HEAD
   "execution_count": 29,
=======
   "execution_count": 83,
>>>>>>> 611be6204757f790df5d26aaa1e09d9da08f028c
   "id": "dd8eb6f4",
   "metadata": {},
   "outputs": [
    {
     "data": {
      "text/plain": [
       "(231,)"
      ]
     },
<<<<<<< HEAD
     "execution_count": 29,
=======
     "execution_count": 83,
>>>>>>> 611be6204757f790df5d26aaa1e09d9da08f028c
     "metadata": {},
     "output_type": "execute_result"
    }
   ],
   "source": [
    "bestlr_yproba1_va.shape\n",
    "y_va[best_fold_in_C].shape"
   ]
  },
  {
   "cell_type": "code",
<<<<<<< HEAD
   "execution_count": 30,
=======
   "execution_count": 84,
>>>>>>> 611be6204757f790df5d26aaa1e09d9da08f028c
   "id": "f6477368",
   "metadata": {
    "scrolled": false
   },
   "outputs": [
    {
     "data": {
      "image/png": "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",
      "text/plain": [
       "<Figure size 500x500 with 1 Axes>"
      ]
     },
     "metadata": {},
     "output_type": "display_data"
    }
   ],
   "source": [
    "# Follow the instruction of HW2 and produce Figure 1 for your report:\n",
    "plt.subplots(nrows=1, ncols=1, figsize=(5,5));\n",
    "\n",
    "# TODO Use provided data and predictions on the Validation set\n",
    "# Produce the ROC Curve utilizing `sklearn.metrics.roc_curve' within plt defined above.\n",
    "# To start, read the official Document and examples of 'sklearn.metrics.roc_curve'. \n",
    "va_fpr, va_tpr, va_thresholds = sklearn.metrics.roc_curve(y_va[best_fold_in_C], bestlr_yproba1_va)\n",
    "tr_fpr, tr_tpr, tr_thresholds = sklearn.metrics.roc_curve(y_tr[best_fold_in_C], bestlr_yproba1_tr)\n",
    "\n",
    "# Read HW2 instructions carefully for plot style (line type, line color, etc.)\n",
    "\n",
    "plt.plot(tr_fpr, tr_tpr, 'b.-', label = \"Training Set\" )\n",
    "plt.plot(va_fpr, va_tpr, 'r.-', label = \"Validation Set\" )\n",
    "plt.title(\"ROC on Validation Set and Training Set\");\n",
    "plt.xlabel('false positive rate');\n",
    "plt.ylabel('true positive rate');\n",
    "plt.legend(loc='lower right');\n",
    "B = 0.01\n",
    "plt.xlim([0 - B, 1 + B]);\n",
    "plt.ylim([0 - B, 1 + B]);"
   ]
  },
  {
   "cell_type": "markdown",
   "id": "ae5420fd",
   "metadata": {},
   "source": [
    "## Confusion Matrix on the best C/fold"
   ]
  },
  {
   "cell_type": "code",
<<<<<<< HEAD
   "execution_count": 31,
=======
   "execution_count": 85,
>>>>>>> 611be6204757f790df5d26aaa1e09d9da08f028c
   "id": "d3419d0d",
   "metadata": {},
   "outputs": [],
   "source": [
    "import threshold_selection\n",
    "from confusion_matrix import calc_confusion_matrix_for_probas_and_threshold"
   ]
  },
  {
   "cell_type": "code",
<<<<<<< HEAD
   "execution_count": 32,
=======
   "execution_count": 86,
>>>>>>> 611be6204757f790df5d26aaa1e09d9da08f028c
   "id": "74b8cc5a",
   "metadata": {},
   "outputs": [
    {
     "name": "stdout",
     "output_type": "stream",
     "text": [
      "[[93 16]\n",
      " [23 99]]\n",
      "chosen thr = 0.5000, tpr = 0.8115, ppv = 0.8609,\n"
     ]
    }
   ],
   "source": [
    "best_thr_default = 0.5\n",
    "\n",
    "print(sklearn.metrics.confusion_matrix(y_va[best_fold_in_C], bestlr_yproba1_va >= best_thr_default))\n",
    "\n",
    "thresh_grid, perf_dict = threshold_selection.compute_perf_metrics_across_thresholds(y_va[best_fold_in_C], bestlr_yproba1_va, [best_thr_default])\n",
    "\n",
    "tpr = perf_dict['tpr'][0]# TODO fixme\n",
    "ppv = perf_dict['ppv'][0] # TODO fixme\n",
    "\n",
    "print(f\"chosen thr = {best_thr_default :.4f}, tpr = {tpr :.4f}, ppv = {ppv :.4f},\")"
   ]
  },
  {
   "cell_type": "markdown",
   "id": "722a94dd",
   "metadata": {},
   "source": [
    "## Area Under ROC Curve"
   ]
  },
  {
   "cell_type": "code",
<<<<<<< HEAD
   "execution_count": 33,
=======
   "execution_count": 87,
>>>>>>> 611be6204757f790df5d26aaa1e09d9da08f028c
   "id": "3288995a",
   "metadata": {},
   "outputs": [
    {
     "data": {
      "text/plain": [
       "0.9075048879530756"
      ]
     },
<<<<<<< HEAD
     "execution_count": 33,
=======
     "execution_count": 87,
>>>>>>> 611be6204757f790df5d26aaa1e09d9da08f028c
     "metadata": {},
     "output_type": "execute_result"
    }
   ],
   "source": [
    "roc_auc_score(y_va[best_fold_in_C],bestlr_yproba1_va)"
   ]
  },
  {
   "cell_type": "markdown",
   "id": "42697dd7",
   "metadata": {},
   "source": [
    "## read the test file into vocab matrix"
   ]
  },
  {
   "cell_type": "code",
   "execution_count": 34,
   "id": "d0efecda",
   "metadata": {},
   "outputs": [
    {
     "data": {
      "text/plain": [
       "(600, 2)"
      ]
     },
     "execution_count": 34,
     "metadata": {},
     "output_type": "execute_result"
    }
   ],
   "source": [
    "x_test_df = pd.read_csv(os.path.join(data_dir, 'x_test.csv'))\n",
    "x_test_df.shape"
   ]
  },
  {
   "cell_type": "code",
   "execution_count": 35,
   "id": "62bcdb1b",
   "metadata": {},
   "outputs": [
    {
     "data": {
      "text/plain": [
       "600"
      ]
     },
     "execution_count": 35,
     "metadata": {},
     "output_type": "execute_result"
    }
   ],
   "source": [
    "te_text_list = x_test_df['text'].values.tolist()\n",
    "len(te_text_list)"
   ]
  },
  {
   "cell_type": "code",
   "execution_count": 36,
   "id": "a2880b43",
   "metadata": {},
   "outputs": [
    {
     "data": {
      "text/plain": [
       "<600x383 sparse matrix of type '<class 'numpy.int64'>'\n",
       "\twith 4203 stored elements in Compressed Sparse Row format>"
      ]
     },
     "execution_count": 36,
     "metadata": {},
     "output_type": "execute_result"
    }
   ],
   "source": [
    "vec = CountVectorizer(vocabulary = vocab)\n",
    "t = vec.fit_transform(te_text_list)\n",
    "t"
   ]
  },
  {
   "cell_type": "code",
   "execution_count": 37,
   "id": "63bf130a",
   "metadata": {},
   "outputs": [
    {
     "data": {
      "text/plain": [
       "(600, 383)"
      ]
     },
     "execution_count": 37,
     "metadata": {},
     "output_type": "execute_result"
    }
   ],
   "source": [
    "te_array = t.toarray()\n",
    "te_array.shape"
   ]
  },
  {
   "cell_type": "code",
   "execution_count": 38,
   "id": "e92838f9",
   "metadata": {},
   "outputs": [
    {
     "data": {
      "text/plain": [
       "array([3.62117697e-01, 4.72180984e-01, 2.78409223e-01, 8.65255762e-02,\n",
       "       3.54889566e-01, 1.08060295e-01, 1.57990901e-01, 2.89400522e-01,\n",
       "       2.79734130e-01, 4.33624473e-01, 2.97987867e-01, 5.77069316e-01,\n",
       "       4.87571138e-02, 1.44773050e-01, 1.95076336e-01, 1.34307043e-01,\n",
       "       2.13953540e-02, 1.57378146e-01, 3.96432188e-01, 4.97185700e-01,\n",
       "       3.82591249e-01, 4.41435327e-01, 3.76786838e-01, 3.23295482e-01,\n",
       "       4.13869410e-01, 2.37655858e-01, 2.63386315e-01, 4.41477171e-01,\n",
       "       3.60970960e-01, 2.69489080e-01, 5.33938875e-01, 2.73708130e-01,\n",
       "       5.17281599e-01, 2.52364560e-02, 1.94340706e-01, 6.26292351e-01,\n",
       "       3.74095368e-01, 1.91349321e-01, 4.09070442e-01, 5.17582842e-01,\n",
       "       9.30453240e-02, 3.69846490e-01, 5.32018458e-01, 2.87213335e-01,\n",
       "       1.01586856e-01, 5.78762952e-02, 2.16254771e-01, 1.23482812e-01,\n",
       "       8.82796498e-02, 3.60970960e-01, 4.21110929e-01, 1.63995347e-01,\n",
       "       8.90356371e-01, 3.71454197e-01, 3.81115191e-01, 4.32061269e-01,\n",
       "       1.35723001e-01, 8.54396043e-02, 6.20981740e-01, 1.26313155e-01,\n",
       "       5.78719651e-01, 1.65241091e-01, 4.32061269e-01, 8.82456112e-02,\n",
       "       4.75866540e-02, 5.48861976e-02, 1.10418926e-01, 4.85309380e-01,\n",
       "       1.08571203e-01, 4.11585018e-01, 8.78823178e-02, 4.32061269e-01,\n",
       "       1.89943063e-01, 3.60823529e-02, 2.69624200e-01, 3.72851284e-01,\n",
       "       4.53566052e-01, 4.31756401e-02, 5.32051869e-01, 8.64381183e-02,\n",
       "       2.81158919e-01, 5.27464797e-02, 1.12661660e-01, 3.93262847e-01,\n",
       "       3.65087035e-02, 3.13672706e-01, 1.37353657e-01, 6.74132938e-02,\n",
       "       2.97066901e-01, 8.21966809e-02, 4.32061269e-01, 2.19707284e-01,\n",
       "       3.69911821e-01, 2.20510669e-01, 2.84831552e-01, 3.29249626e-01,\n",
       "       2.95135535e-01, 4.41415094e-01, 9.13677203e-02, 3.38072640e-01,\n",
       "       9.67192743e-01, 6.79139634e-01, 4.72302572e-01, 8.60227655e-01,\n",
       "       3.02223040e-01, 9.64045238e-01, 9.05319607e-01, 9.39117306e-01,\n",
       "       4.25936391e-04, 8.71142158e-02, 8.01631252e-01, 3.19949988e-01,\n",
       "       8.68024084e-01, 5.92415118e-01, 7.22884162e-01, 5.90235188e-01,\n",
       "       6.95078345e-01, 9.04450315e-01, 6.71707517e-01, 4.57420968e-01,\n",
       "       9.33541944e-02, 7.25035170e-01, 8.81513321e-01, 9.24964388e-01,\n",
       "       8.92291487e-01, 9.61887953e-01, 8.20905118e-01, 7.64472528e-01,\n",
       "       9.53109517e-01, 5.87623517e-01, 9.97771879e-01, 6.90014709e-01,\n",
       "       9.25740549e-01, 9.80335657e-01, 9.97322748e-01, 4.51167178e-01,\n",
       "       1.14310157e-01, 8.87433657e-01, 7.82905088e-01, 9.37132137e-01,\n",
       "       9.09921565e-01, 3.21986375e-02, 8.12759359e-01, 8.90785193e-01,\n",
       "       8.09711571e-01, 9.11182044e-01, 8.36211677e-02, 1.01644820e-01,\n",
       "       9.82975222e-01, 8.54566119e-01, 9.99845760e-01, 9.62633237e-01,\n",
       "       7.25035007e-01, 8.79383667e-01, 3.97600240e-01, 6.36153395e-01,\n",
       "       7.13603911e-01, 5.27794572e-01, 8.89825616e-01, 8.14021996e-01,\n",
       "       1.55858649e-01, 5.33520011e-01, 6.30673703e-01, 9.43750645e-01,\n",
       "       8.91805060e-01, 2.75289075e-01, 8.67237568e-01, 4.32616950e-01,\n",
       "       6.88335563e-01, 3.54077397e-01, 5.26060638e-01, 3.92902608e-01,\n",
       "       4.47146088e-01, 6.90098676e-01, 9.39676864e-01, 9.83558158e-01,\n",
       "       4.85000566e-01, 4.26337751e-01, 9.40411039e-01, 6.88442861e-01,\n",
       "       8.92954225e-01, 7.39123843e-02, 6.59734652e-01, 8.62826082e-01,\n",
       "       6.73679945e-01, 9.16102551e-01, 8.82351156e-01, 9.49887694e-01,\n",
       "       1.53618041e-01, 8.54163904e-01, 9.17075275e-01, 7.62441008e-01,\n",
       "       6.00992304e-01, 9.70099936e-01, 8.81974983e-01, 8.85240760e-01,\n",
       "       6.37761060e-01, 6.13495094e-01, 3.67201564e-01, 9.07150822e-01,\n",
       "       1.62662872e-01, 6.87960931e-01, 3.36152050e-01, 2.63936402e-01,\n",
       "       3.08750861e-02, 5.06681144e-01, 1.33236637e-01, 3.10562441e-03,\n",
       "       3.03173263e-01, 6.81921046e-01, 1.30427003e-01, 2.23364154e-01,\n",
       "       1.96919841e-01, 5.11024034e-01, 4.74175205e-01, 4.67732225e-01,\n",
       "       3.26211947e-01, 3.42533850e-01, 2.58863538e-01, 4.73276707e-02,\n",
       "       7.42422222e-02, 1.81152642e-01, 3.54317380e-01, 4.29931900e-01,\n",
       "       4.73625145e-02, 3.13612350e-02, 7.12746749e-02, 4.48478792e-01,\n",
       "       4.45317668e-01, 4.75475847e-01, 3.83842243e-02, 2.67224054e-01,\n",
       "       7.97972402e-01, 2.65758126e-01, 4.15401585e-01, 1.86882751e-01,\n",
       "       8.27716309e-02, 7.06442484e-01, 5.81950362e-01, 2.18047193e-01,\n",
       "       1.20683579e-01, 1.42422619e-01, 6.63112146e-01, 6.73563141e-01,\n",
       "       8.85956074e-01, 7.22278369e-02, 1.88648614e-01, 4.29646315e-02,\n",
       "       1.34114027e-01, 4.74897441e-01, 3.80180899e-01, 6.92204517e-01,\n",
       "       8.22481649e-01, 7.22669435e-02, 6.64231712e-01, 3.74590734e-01,\n",
       "       3.94940725e-01, 2.42829229e-01, 3.35306386e-01, 4.79846901e-01,\n",
       "       4.02939379e-01, 2.10217871e-01, 1.74559465e-01, 9.78537090e-02,\n",
       "       1.22862948e-01, 2.56089578e-01, 2.84511123e-01, 1.13945601e-01,\n",
       "       3.61267392e-02, 1.46353047e-01, 7.18406870e-02, 1.00779393e-01,\n",
       "       4.71020017e-01, 5.71963002e-01, 2.97899833e-01, 2.53822063e-01,\n",
       "       6.17138257e-01, 5.29921582e-01, 4.61589625e-01, 2.00609308e-01,\n",
       "       2.77858466e-01, 4.68425886e-01, 5.53894891e-01, 3.84796990e-01,\n",
       "       8.61993632e-02, 4.44039724e-02, 6.64068099e-01, 1.29538629e-01,\n",
       "       3.93703030e-01, 5.94082568e-01, 2.54324600e-01, 4.68425886e-01,\n",
       "       1.04126429e-01, 8.11984403e-03, 3.65102566e-01, 1.55912024e-02,\n",
       "       8.06781597e-01, 4.68425886e-01, 7.26237627e-02, 8.55735540e-01,\n",
       "       6.34552855e-01, 2.06847611e-01, 8.27649760e-01, 7.04766093e-01,\n",
       "       5.30120688e-01, 9.83558036e-01, 6.29874906e-01, 5.28392573e-01,\n",
       "       3.74371993e-01, 5.41137365e-01, 5.40653800e-01, 4.45317668e-01,\n",
       "       3.87675607e-01, 3.75118934e-01, 4.49957691e-01, 8.15712832e-01,\n",
       "       8.91462082e-02, 8.65371442e-01, 6.12252556e-01, 7.72384514e-01,\n",
       "       8.51475730e-01, 9.97566187e-01, 8.22642848e-01, 4.64187971e-01,\n",
       "       6.09905963e-01, 6.76924518e-01, 9.98852644e-01, 5.06289862e-01,\n",
       "       8.10158018e-01, 4.30640056e-01, 9.95569759e-01, 4.27027626e-01,\n",
       "       4.43339350e-01, 7.80885300e-02, 4.73013287e-01, 9.14476129e-01,\n",
       "       8.71555848e-01, 7.58579194e-01, 6.44680778e-01, 5.32472393e-01,\n",
       "       4.53318348e-01, 7.59414495e-02, 1.83271784e-01, 4.80032357e-01,\n",
       "       9.12981220e-01, 5.96392694e-01, 7.00252961e-01, 6.48403741e-01,\n",
       "       4.37692525e-01, 6.14239896e-01, 5.82633351e-01, 3.51545306e-01,\n",
       "       7.92007055e-01, 7.75478000e-01, 8.07589476e-01, 3.90407856e-01,\n",
       "       9.56361631e-01, 9.48965950e-01, 9.35954440e-01, 9.96876025e-01,\n",
       "       6.35868024e-01, 9.17604255e-01, 5.27241692e-01, 3.20150213e-01,\n",
       "       7.64323260e-01, 7.34604306e-01, 9.34998448e-01, 9.49101030e-01,\n",
       "       3.70731928e-01, 7.86371993e-01, 2.63168705e-01, 6.03159619e-01,\n",
       "       4.00435564e-01, 8.87782708e-01, 5.18964571e-01, 9.33580038e-01,\n",
       "       8.41192663e-01, 8.63196812e-01, 3.76483443e-01, 8.00790053e-01,\n",
       "       7.62111095e-01, 8.77433428e-01, 1.83820028e-01, 9.87254334e-01,\n",
       "       6.32846389e-01, 8.27179226e-01, 4.32585411e-01, 4.32061269e-01,\n",
       "       8.73186857e-01, 7.14813600e-01, 4.80622680e-01, 3.93544769e-01,\n",
       "       8.55010992e-01, 1.18611425e-01, 7.92921318e-02, 9.88959448e-01,\n",
       "       5.04174781e-01, 6.95092561e-01, 1.47140793e-01, 8.75145399e-01,\n",
       "       1.11134258e-01, 2.21311916e-01, 3.95974358e-03, 3.70802306e-01,\n",
       "       3.60822493e-01, 2.46300716e-01, 6.78060025e-02, 7.52558972e-02,\n",
       "       8.34729233e-02, 4.96405096e-01, 6.52241777e-01, 7.57648626e-02,\n",
       "       1.73546884e-01, 2.94463306e-01, 5.44753792e-01, 1.68293716e-01,\n",
       "       4.21110929e-01, 1.77941587e-01, 2.74866781e-01, 3.31718886e-01,\n",
       "       3.45515282e-01, 3.15679583e-01, 3.21424539e-01, 3.10483478e-02,\n",
       "       5.65740666e-01, 5.04093284e-01, 8.33047802e-01, 4.40573536e-01,\n",
       "       5.45178378e-01, 2.71687054e-01, 6.88330305e-02, 3.53655472e-01,\n",
       "       1.58823414e-02, 4.26883368e-01, 1.99046988e-01, 2.05566662e-01,\n",
       "       5.28254376e-01, 5.03666099e-02, 1.42498769e-01, 3.00247305e-01,\n",
       "       8.13440283e-01, 4.13695520e-01, 1.02994110e-01, 8.97634339e-02,\n",
       "       1.13207308e-01, 1.11833369e-01, 4.94840319e-01, 2.39302292e-02,\n",
       "       8.08489610e-01, 5.21531431e-01, 3.27322745e-01, 2.84426834e-01,\n",
       "       6.67044418e-01, 5.67739116e-01, 1.95716169e-01, 6.08020181e-01,\n",
       "       5.09585457e-01, 2.57513819e-01, 3.28371294e-01, 2.88577933e-01,\n",
       "       9.18114040e-02, 1.75575057e-01, 4.12858475e-01, 4.87854057e-01,\n",
       "       4.14617785e-01, 4.45001633e-01, 2.83728480e-01, 4.78208971e-01,\n",
       "       4.32061269e-01, 8.30359742e-01, 5.24505225e-01, 3.25884645e-01,\n",
       "       3.54862777e-01, 1.62578173e-01, 3.07102419e-01, 3.53327018e-01,\n",
       "       2.39404036e-01, 2.99118540e-01, 1.88868448e-01, 2.81253361e-01,\n",
       "       3.46085878e-02, 3.31214823e-01, 2.21895227e-01, 3.08228588e-01,\n",
       "       4.22080064e-01, 4.19879393e-01, 4.86364011e-03, 3.92395329e-01,\n",
       "       6.73079833e-01, 5.30297214e-02, 4.54052265e-01, 2.53540148e-01,\n",
       "       4.18115406e-02, 4.98764766e-01, 4.69725536e-01, 4.11544140e-01,\n",
       "       6.26795951e-02, 1.34272454e-01, 3.17088301e-01, 1.35818507e-01,\n",
       "       9.79488413e-01, 7.60709469e-01, 8.15390545e-01, 2.20614900e-01,\n",
       "       6.33396848e-01, 6.99486260e-01, 8.60546706e-01, 7.86026884e-01,\n",
       "       8.58619826e-01, 3.96619291e-01, 4.42158166e-01, 8.45254603e-01,\n",
       "       4.75635085e-01, 6.26019943e-01, 4.23193083e-01, 8.07301035e-01,\n",
       "       8.04169236e-01, 8.67464125e-01, 6.15957851e-01, 7.75598479e-01,\n",
       "       6.80044905e-01, 7.43154282e-01, 3.95893529e-01, 2.14661059e-01,\n",
       "       5.50355439e-01, 9.84625163e-01, 4.51142830e-01, 6.91396559e-01,\n",
       "       7.00636680e-01, 9.97840850e-01, 4.09537489e-01, 9.04450315e-01,\n",
       "       4.63480925e-01, 7.68714789e-01, 4.17403535e-01, 3.18846335e-01,\n",
       "       4.81923098e-01, 4.38907749e-01, 7.98679917e-01, 9.20755414e-01,\n",
       "       3.00856853e-01, 6.11983213e-01, 9.42691314e-01, 8.39650318e-01,\n",
       "       7.80465420e-01, 8.47718088e-01, 9.27668892e-01, 5.00153301e-01,\n",
       "       9.61854891e-01, 9.93855569e-01, 5.53105939e-01, 4.68005108e-02,\n",
       "       6.70277045e-01, 9.05549792e-01, 8.25469369e-01, 9.04450315e-01,\n",
       "       6.38488633e-01, 7.85345553e-01, 4.49497811e-01, 4.99669518e-01,\n",
       "       6.44127874e-01, 8.31755178e-01, 9.89596095e-01, 9.68927677e-01,\n",
       "       3.40930821e-01, 1.51112482e-01, 2.78481842e-01, 8.76881261e-01,\n",
       "       6.75197442e-01, 4.21045469e-01, 9.00510754e-01, 4.36302885e-01,\n",
       "       3.74216216e-01, 5.20917157e-01, 5.99940970e-01, 4.32061269e-01,\n",
       "       8.07212071e-01, 8.22940895e-01, 7.68124075e-01, 7.47844683e-01,\n",
       "       8.26713337e-01, 3.44309435e-01, 9.36805870e-01, 4.67733594e-01,\n",
       "       7.28610333e-01, 8.92674910e-01, 7.75083832e-01, 8.12193561e-01,\n",
       "       9.02330584e-01, 3.12384943e-01, 2.50076687e-01, 5.50655959e-01,\n",
       "       8.40965019e-01, 1.48539036e-01, 8.02014122e-01, 9.53462149e-01,\n",
       "       8.18764308e-01, 7.79976177e-01, 9.94560643e-01, 8.03381020e-01])"
      ]
     },
     "execution_count": 38,
     "metadata": {},
     "output_type": "execute_result"
    }
   ],
   "source": [
    "y_te_proba = best_lr.predict_proba(te_array)[:,1]\n",
    "y_te_proba"
   ]
  },
  {
   "cell_type": "code",
   "execution_count": 39,
   "id": "964c55ac",
   "metadata": {},
   "outputs": [
    {
     "data": {
      "text/plain": [
       "((600,), 0.1080602948774395)"
      ]
     },
     "execution_count": 39,
     "metadata": {},
     "output_type": "execute_result"
    }
   ],
   "source": [
    "y_te_proba.shape, y_te_proba[5]"
   ]
  },
  {
   "cell_type": "code",
   "execution_count": 40,
   "id": "4a2b6315",
   "metadata": {},
   "outputs": [],
   "source": [
    "# for i in range(y_te_proba.shape[0]):\n",
    "#     if y_te_proba[i] >= 0.5: \n",
    "#         y_te_proba[i] = 1\n",
    "#     else:\n",
    "#         y_te_proba[i] = 0"
   ]
  },
  {
   "cell_type": "code",
   "execution_count": 42,
   "id": "9f5f27c5",
   "metadata": {},
   "outputs": [],
   "source": [
    "np.savetxt('out5.txt', y_te_proba, delimiter=' ')"
   ]
  },
  {
   "cell_type": "code",
   "execution_count": null,
   "id": "ca1ecd93",
   "metadata": {},
   "outputs": [],
   "source": []
  }
 ],
 "metadata": {
  "interpreter": {
   "hash": "d5603cc4667a52057224efdf5ddcc7de73a3282f447f21696056843efd22823e"
  },
  "kernelspec": {
   "display_name": "Python 3 (ipykernel)",
   "language": "python",
   "name": "python3"
  },
  "language_info": {
   "codemirror_mode": {
    "name": "ipython",
    "version": 3
   },
   "file_extension": ".py",
   "mimetype": "text/x-python",
   "name": "python",
   "nbconvert_exporter": "python",
   "pygments_lexer": "ipython3",
   "version": "3.10.12"
  }
 },
 "nbformat": 4,
 "nbformat_minor": 5
}
